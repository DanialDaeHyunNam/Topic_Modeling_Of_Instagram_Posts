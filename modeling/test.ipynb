{
 "cells": [
  {
   "cell_type": "code",
   "execution_count": 78,
   "metadata": {},
   "outputs": [],
   "source": [
    "from IPython.display import display, Markdown\n",
    "import pickle\n",
    "import private_function as pf\n",
    "from sklearn.feature_extraction.text import TfidfVectorizer\n",
    "from sklearn.decomposition import LatentDirichletAllocation\n",
    "\n",
    "# Pretty display for notebooks\n",
    "%matplotlib inline\n",
    "\n",
    "# Ignore the warnings\n",
    "import warnings\n",
    "warnings.filterwarnings('ignore')\n",
    "\n",
    "import gmaps\n",
    "gmaps_api = pickle.load(open(\"./gmaps_api.pkl\", \"rb\"))\n",
    "gmaps.configure(api_key=gmaps_api)"
   ]
  },
  {
   "cell_type": "code",
   "execution_count": 61,
   "metadata": {},
   "outputs": [],
   "source": [
    "def __getDfWithLoaction(df):\n",
    "    # taken_at_timestamp is a unix timestamp - we add a column for the date-time\n",
    "    time = '2018-01-01'\n",
    "    df['taken_at_timestamp'] = df['taken_at_timestamp'].astype(int)\n",
    "    df['time'] = pd.to_datetime(df['taken_at_timestamp'], unit='s')\n",
    "    filtered = df[df['loc_id']!=0]\n",
    "    filtered = filtered.sort_values(by=['time'], ascending=False)\n",
    "    filtered = filtered[(filtered['time'] > time)]\n",
    "    return filtered\n",
    "\n",
    "def __makePopUpList(df):\n",
    "    result = []\n",
    "    for idx in range(len(df)):\n",
    "        df_ = df.iloc[idx]\n",
    "        result.append({\n",
    "          \"owner_name\" : df_.owner_name,\n",
    "          \"is_video\" : df_.is_video,\n",
    "          \"likes\" : df_.likes,\n",
    "          \"time\" : df_.time,\n",
    "          \"loc_name\" : df_.loc_name,\n",
    "          \"location\" : (df_.loc_lat, df_.loc_lon),\n",
    "          \"comment_cnt\" : df_.comment_cnt,\n",
    "          \"video_view_count\" : df_.video_view_count,\n",
    "          \"caption\" : df_.caption,\n",
    "          \"tags\" : (\"#\" + \"#\".join(df_.tags)) if df_.tags_cnt != 0 else None,\n",
    "        })\n",
    "    return result\n",
    "\n",
    "def drawMarkerOnMap(df):\n",
    "    df_ = __getDfWithLoaction(df)\n",
    "    popUpList = __makePopUpList(df_)\n",
    "    post_locations = [post['location'] for post in popUpList]\n",
    "\n",
    "    info_box_template = \"\"\"\n",
    "    <dl>\n",
    "    <dt>User</dt><dd>{owner_name}</dd>\n",
    "    <dt>Is_Video</dt><dd>{is_video}</dd>\n",
    "    <dt>Likes</dt><dd>{likes}</dd>\n",
    "    <dt>Time</dt><dd>{time}</dd>\n",
    "    <dt>Location Name</dt><dd>{loc_name}</dd>\n",
    "    <dt>Comment Count</dt><dd>{comment_cnt}</dd>\n",
    "    <dt>View</dt><dd>{video_view_count}</dd>\n",
    "    <dt>Tags</dt><dd>{tags}</dd>\n",
    "    </dl>\n",
    "    \"\"\"\n",
    "    post_info = [info_box_template.format(**post) for post in popUpList]\n",
    "    marker_layer = gmaps.marker_layer(post_locations, info_box_content=post_info)\n",
    "    fig = gmaps.figure(center=(37.532600, 127.024612), zoom_level=10)\n",
    "    fig.add_layer(marker_layer)\n",
    "    \n",
    "    print(len(post_info))\n",
    "    return fig"
   ]
  },
  {
   "cell_type": "code",
   "execution_count": 2,
   "metadata": {
    "collapsed": true
   },
   "outputs": [
    {
     "data": {
      "text/markdown": [
       "['직장인', '럽스타그램', '서울맛집', '먹스타그램', '친스타그램', '여행', '일상', '셀스타그램']"
      ],
      "text/plain": [
       "<IPython.core.display.Markdown object>"
      ]
     },
     "metadata": {},
     "output_type": "display_data"
    },
    {
     "data": {
      "text/markdown": [
       "['seoul']"
      ],
      "text/plain": [
       "<IPython.core.display.Markdown object>"
      ]
     },
     "metadata": {},
     "output_type": "display_data"
    },
    {
     "data": {
      "text/markdown": [
       "job.csv : 2213"
      ],
      "text/plain": [
       "<IPython.core.display.Markdown object>"
      ]
     },
     "metadata": {},
     "output_type": "display_data"
    },
    {
     "data": {
      "text/markdown": [
       "insta_new_5.csv : 2136"
      ],
      "text/plain": [
       "<IPython.core.display.Markdown object>"
      ]
     },
     "metadata": {},
     "output_type": "display_data"
    },
    {
     "data": {
      "text/markdown": [
       "insta_new_4.csv : 2148"
      ],
      "text/plain": [
       "<IPython.core.display.Markdown object>"
      ]
     },
     "metadata": {},
     "output_type": "display_data"
    },
    {
     "data": {
      "text/markdown": [
       "insta_new_3.csv : 2172"
      ],
      "text/plain": [
       "<IPython.core.display.Markdown object>"
      ]
     },
     "metadata": {},
     "output_type": "display_data"
    },
    {
     "data": {
      "text/markdown": [
       "insta_new_2.csv : 465"
      ],
      "text/plain": [
       "<IPython.core.display.Markdown object>"
      ]
     },
     "metadata": {},
     "output_type": "display_data"
    },
    {
     "data": {
      "text/markdown": [
       "insta_new_1.csv : 2029"
      ],
      "text/plain": [
       "<IPython.core.display.Markdown object>"
      ]
     },
     "metadata": {},
     "output_type": "display_data"
    },
    {
     "data": {
      "text/markdown": [
       "insta_new.csv : 2203"
      ],
      "text/plain": [
       "<IPython.core.display.Markdown object>"
      ]
     },
     "metadata": {},
     "output_type": "display_data"
    },
    {
     "data": {
      "text/markdown": [
       "insta_train.csv : 5"
      ],
      "text/plain": [
       "<IPython.core.display.Markdown object>"
      ]
     },
     "metadata": {},
     "output_type": "display_data"
    },
    {
     "data": {
      "text/markdown": [
       "insta_food_1.csv : 2217"
      ],
      "text/plain": [
       "<IPython.core.display.Markdown object>"
      ]
     },
     "metadata": {},
     "output_type": "display_data"
    },
    {
     "data": {
      "text/markdown": [
       "insta_food.csv : 1911"
      ],
      "text/plain": [
       "<IPython.core.display.Markdown object>"
      ]
     },
     "metadata": {},
     "output_type": "display_data"
    },
    {
     "data": {
      "text/markdown": [
       "food.csv : 1986"
      ],
      "text/plain": [
       "<IPython.core.display.Markdown object>"
      ]
     },
     "metadata": {},
     "output_type": "display_data"
    },
    {
     "data": {
      "text/markdown": [
       "beer.csv : 1970"
      ],
      "text/plain": [
       "<IPython.core.display.Markdown object>"
      ]
     },
     "metadata": {},
     "output_type": "display_data"
    },
    {
     "data": {
      "text/markdown": [
       "food_1.csv : 2068"
      ],
      "text/plain": [
       "<IPython.core.display.Markdown object>"
      ]
     },
     "metadata": {},
     "output_type": "display_data"
    },
    {
     "data": {
      "text/markdown": [
       "food_2.csv : 2089"
      ],
      "text/plain": [
       "<IPython.core.display.Markdown object>"
      ]
     },
     "metadata": {},
     "output_type": "display_data"
    },
    {
     "data": {
      "text/markdown": [
       "friend.csv : 1888"
      ],
      "text/plain": [
       "<IPython.core.display.Markdown object>"
      ]
     },
     "metadata": {},
     "output_type": "display_data"
    },
    {
     "data": {
      "text/markdown": [
       "trip_1.csv : 1145"
      ],
      "text/plain": [
       "<IPython.core.display.Markdown object>"
      ]
     },
     "metadata": {},
     "output_type": "display_data"
    },
    {
     "data": {
      "text/markdown": [
       "trip.csv : 2533"
      ],
      "text/plain": [
       "<IPython.core.display.Markdown object>"
      ]
     },
     "metadata": {},
     "output_type": "display_data"
    },
    {
     "data": {
      "text/markdown": [
       "daily.csv : 2195"
      ],
      "text/plain": [
       "<IPython.core.display.Markdown object>"
      ]
     },
     "metadata": {},
     "output_type": "display_data"
    },
    {
     "data": {
      "text/markdown": [
       "daily_2.csv : 785"
      ],
      "text/plain": [
       "<IPython.core.display.Markdown object>"
      ]
     },
     "metadata": {},
     "output_type": "display_data"
    },
    {
     "data": {
      "text/markdown": [
       "daily_1.csv : 2312"
      ],
      "text/plain": [
       "<IPython.core.display.Markdown object>"
      ]
     },
     "metadata": {},
     "output_type": "display_data"
    },
    {
     "data": {
      "text/markdown": [
       "selfie.csv : 2156"
      ],
      "text/plain": [
       "<IPython.core.display.Markdown object>"
      ]
     },
     "metadata": {},
     "output_type": "display_data"
    },
    {
     "data": {
      "text/markdown": [
       "seongnam.csv : 960"
      ],
      "text/plain": [
       "<IPython.core.display.Markdown object>"
      ]
     },
     "metadata": {},
     "output_type": "display_data"
    },
    {
     "data": {
      "text/markdown": [
       "seoul_2.csv : 19"
      ],
      "text/plain": [
       "<IPython.core.display.Markdown object>"
      ]
     },
     "metadata": {},
     "output_type": "display_data"
    },
    {
     "data": {
      "text/markdown": [
       "seoul_1.csv : 960"
      ],
      "text/plain": [
       "<IPython.core.display.Markdown object>"
      ]
     },
     "metadata": {},
     "output_type": "display_data"
    },
    {
     "data": {
      "text/markdown": [
       "incheon.csv : 960"
      ],
      "text/plain": [
       "<IPython.core.display.Markdown object>"
      ]
     },
     "metadata": {},
     "output_type": "display_data"
    },
    {
     "data": {
      "text/markdown": [
       "seoul.csv : 880"
      ],
      "text/plain": [
       "<IPython.core.display.Markdown object>"
      ]
     },
     "metadata": {},
     "output_type": "display_data"
    },
    {
     "data": {
      "text/markdown": [
       "yongin.csv : 960"
      ],
      "text/plain": [
       "<IPython.core.display.Markdown object>"
      ]
     },
     "metadata": {},
     "output_type": "display_data"
    },
    {
     "data": {
      "text/markdown": [
       "gyeonggido.csv : 960"
      ],
      "text/plain": [
       "<IPython.core.display.Markdown object>"
      ]
     },
     "metadata": {},
     "output_type": "display_data"
    },
    {
     "name": "stdout",
     "output_type": "stream",
     "text": [
      "28\n"
     ]
    }
   ],
   "source": [
    "df_li = pf.getAllDataFrame()"
   ]
  },
  {
   "cell_type": "code",
   "execution_count": 3,
   "metadata": {
    "collapsed": true
   },
   "outputs": [
    {
     "name": "stdout",
     "output_type": "stream",
     "text": [
      "Df list length : 28\n",
      "Df length changes after concat (if 0 means all datas are unique) : 0\n",
      "Df length changes after concat (if 0 means all datas are unique) : 0\n",
      "Df length changes after concat (if 0 means all datas are unique) : 1095\n",
      "Df length changes after concat (if 0 means all datas are unique) : 411\n",
      "Df length changes after concat (if 0 means all datas are unique) : 54\n",
      "Df length changes after concat (if 0 means all datas are unique) : 131\n",
      "Df length changes after concat (if 0 means all datas are unique) : 0\n",
      "Df length changes after concat (if 0 means all datas are unique) : 35\n",
      "Df length changes after concat (if 0 means all datas are unique) : 16\n",
      "Df length changes after concat (if 0 means all datas are unique) : 75\n",
      "Df length changes after concat (if 0 means all datas are unique) : 11\n",
      "Df length changes after concat (if 0 means all datas are unique) : 42\n",
      "Df length changes after concat (if 0 means all datas are unique) : 358\n",
      "Df length changes after concat (if 0 means all datas are unique) : 176\n",
      "Df length changes after concat (if 0 means all datas are unique) : 15\n",
      "Df length changes after concat (if 0 means all datas are unique) : 0\n",
      "Df length changes after concat (if 0 means all datas are unique) : 54\n",
      "Df length changes after concat (if 0 means all datas are unique) : 20\n",
      "Df length changes after concat (if 0 means all datas are unique) : 304\n",
      "Df length changes after concat (if 0 means all datas are unique) : 284\n",
      "Df length changes after concat (if 0 means all datas are unique) : 0\n",
      "Df length changes after concat (if 0 means all datas are unique) : 0\n",
      "Df length changes after concat (if 0 means all datas are unique) : 1\n",
      "Df length changes after concat (if 0 means all datas are unique) : 1\n",
      "Df length changes after concat (if 0 means all datas are unique) : 1\n",
      "Df length changes after concat (if 0 means all datas are unique) : 0\n",
      "Df length changes after concat (if 0 means all datas are unique) : 1\n",
      "df_train shape : (41240, 15)\n"
     ]
    }
   ],
   "source": [
    "df_train = pf.makeOneTrainDf(df_li)"
   ]
  },
  {
   "cell_type": "code",
   "execution_count": 4,
   "metadata": {},
   "outputs": [],
   "source": [
    "train = pf.make_df_i_want(df_train)"
   ]
  },
  {
   "cell_type": "code",
   "execution_count": 5,
   "metadata": {},
   "outputs": [],
   "source": [
    "counter = pf.get_counter(train)"
   ]
  },
  {
   "cell_type": "code",
   "execution_count": 6,
   "metadata": {
    "collapsed": true
   },
   "outputs": [
    {
     "data": {
      "text/plain": [
       "[('', 3645),\n",
       " ('일상', 957),\n",
       " ('럽스타그램', 647),\n",
       " ('소통', 528),\n",
       " ('데일리', 487),\n",
       " ('먹스타그램', 482),\n",
       " ('daily', 443),\n",
       " ('좋아요', 438),\n",
       " ('맞팔', 376),\n",
       " ('셀스타그램', 364),\n",
       " ('남친이랑', 353),\n",
       " ('셀카', 344),\n",
       " ('선팔', 275),\n",
       " ('셀피', 265),\n",
       " ('일상스타그램', 265),\n",
       " ('먹방', 253),\n",
       " ('selfie', 248),\n",
       " ('팔로우', 239),\n",
       " ('맛스타그램', 236),\n",
       " ('데이트', 231),\n",
       " ('ootd', 200),\n",
       " ('인친', 184),\n",
       " ('직장인', 176),\n",
       " ('얼스타그램', 175),\n",
       " ('f4f', 172),\n",
       " ('럽스타', 168),\n",
       " ('선팔하면맞팔', 163),\n",
       " ('여행', 161),\n",
       " ('사랑해', 161),\n",
       " ('인스타그램', 150),\n",
       " ('instagood', 149),\n",
       " ('좋아요반사', 143),\n",
       " ('오오티디', 137),\n",
       " ('맥주스타그램', 133),\n",
       " ('맛집', 132),\n",
       " ('instagram', 130),\n",
       " ('데일리룩', 125),\n",
       " ('instadaily', 113),\n",
       " ('selca', 108),\n",
       " ('카페', 105),\n",
       " ('여행스타그램', 101),\n",
       " ('사진', 100),\n",
       " ('부산', 97),\n",
       " ('l4l', 92),\n",
       " ('친스타그램', 87),\n",
       " ('맥주', 87),\n",
       " ('follow', 86),\n",
       " ('소통해요', 86),\n",
       " ('여행에미치다', 86),\n",
       " ('fff', 86),\n",
       " ('술스타그램', 84),\n",
       " ('커플', 82),\n",
       " ('육아스타그램', 81),\n",
       " ('서울', 80),\n",
       " ('인스타', 78),\n",
       " ('첫줄', 76),\n",
       " ('love', 75),\n",
       " ('서울맛집', 75),\n",
       " ('데일리그램', 74),\n",
       " ('육아', 74),\n",
       " ('여', 71),\n",
       " ('육아소통', 70),\n",
       " ('맘스타그램', 70),\n",
       " ('dailylook', 68),\n",
       " ('food', 66),\n",
       " ('주말', 62),\n",
       " ('행복', 62),\n",
       " ('먹스타', 61),\n",
       " ('점심', 60),\n",
       " ('cafe', 60),\n",
       " ('대구', 59),\n",
       " ('감성', 59),\n",
       " ('도치맘', 59),\n",
       " ('instafood', 57),\n",
       " ('육아맘', 55),\n",
       " ('likeforfollow', 54),\n",
       " ('패션', 53),\n",
       " ('홍대', 53),\n",
       " ('커피', 52),\n",
       " ('맞팔해요', 52),\n",
       " ('instalike', 51),\n",
       " ('불금', 49),\n",
       " ('존맛탱', 49),\n",
       " ('카페스타그램', 49),\n",
       " ('다이어트', 49),\n",
       " ('딸스타그램', 48),\n",
       " ('휴가', 47),\n",
       " ('멍스타그램', 47),\n",
       " ('travel', 46),\n",
       " ('디저트', 45),\n",
       " ('친구', 44),\n",
       " ('금요일', 44),\n",
       " ('댓글', 44),\n",
       " ('셀기꾼', 44),\n",
       " ('오늘', 44),\n",
       " ('남자친구', 43),\n",
       " ('반려견', 43),\n",
       " ('00', 43),\n",
       " ('해운대', 43),\n",
       " ('like4like', 42),\n",
       " ('맛있다', 40),\n",
       " ('존맛', 40),\n",
       " ('힐링', 40),\n",
       " ('99', 40),\n",
       " ('광주', 40),\n",
       " ('선팔맞팔', 40),\n",
       " ('일상그램', 39),\n",
       " ('아들맘', 38),\n",
       " ('아이폰', 38),\n",
       " ('냠냠', 38),\n",
       " ('선물', 37),\n",
       " ('여름', 37),\n",
       " ('아들스타그램', 36),\n",
       " ('영화', 36),\n",
       " ('좋반', 35),\n",
       " ('맛스타', 35),\n",
       " ('강남', 35),\n",
       " ('사진스타그램', 35),\n",
       " ('like', 35),\n",
       " ('인스타베이비', 35),\n",
       " ('followme', 35),\n",
       " ('beer', 35),\n",
       " ('요리', 34),\n",
       " ('옷스타그램', 34),\n",
       " ('jmt', 34),\n",
       " ('세젤귀', 34),\n",
       " ('photo', 34),\n",
       " ('커플스타그램', 34),\n",
       " ('개스타그램', 34),\n",
       " ('강아지', 33),\n",
       " ('인친환영', 33),\n",
       " ('저녁', 33),\n",
       " ('마카롱', 32),\n",
       " ('운동', 32),\n",
       " ('댕댕이', 32),\n",
       " ('애스타그램', 32),\n",
       " ('lfl', 32),\n",
       " ('맛점', 31),\n",
       " ('가을', 31),\n",
       " ('젊줌마', 31),\n",
       " ('먹부림', 31),\n",
       " ('팔로미', 31),\n",
       " ('korea', 31),\n",
       " ('cute', 31),\n",
       " ('팔로워', 30),\n",
       " ('고마워', 30),\n",
       " ('요리스타그램', 29),\n",
       " ('직딩', 29),\n",
       " ('일본', 29),\n",
       " ('selstagram', 29),\n",
       " ('술', 29),\n",
       " ('life', 29),\n",
       " ('부부스타그램', 29),\n",
       " ('서면', 29),\n",
       " ('화요일', 29),\n",
       " ('20', 29),\n",
       " ('비오는날', 28),\n",
       " ('럽', 28),\n",
       " ('날씨', 28),\n",
       " ('휴무', 28),\n",
       " ('foodstagram', 28),\n",
       " ('사랑', 28),\n",
       " ('명동', 28),\n",
       " ('고양이', 28),\n",
       " ('me', 28),\n",
       " ('스타벅스', 27),\n",
       " ('인천', 27),\n",
       " ('대전', 27),\n",
       " ('대학생', 27),\n",
       " ('먹방스타그램', 27),\n",
       " ('연애', 27),\n",
       " ('셀카그램', 26),\n",
       " ('아들', 26),\n",
       " ('맛있다그램', 26),\n",
       " ('비', 26),\n",
       " ('coffee', 26),\n",
       " ('셀스타', 26),\n",
       " ('제주도', 26),\n",
       " ('ㅋㅋㅋ', 26),\n",
       " ('baby', 26),\n",
       " ('연애중', 26),\n",
       " ('맞팔환영', 26),\n",
       " ('직장인스타그램', 25),\n",
       " ('내사랑', 25),\n",
       " ('dog', 25),\n",
       " ('신혼', 25),\n",
       " ('소통환영', 25),\n",
       " ('인스타데일리', 24),\n",
       " ('평일', 24),\n",
       " ('팔로우미', 24),\n",
       " ('청주', 24),\n",
       " ('foodie', 24),\n",
       " ('여름휴가', 24),\n",
       " ('베이비스타그램', 24),\n",
       " ('거울샷', 24),\n",
       " ('치킨', 24),\n",
       " ('삼겹살', 23),\n",
       " ('운동하는여자', 23),\n",
       " ('남친', 23),\n",
       " ('옥수동', 23),\n",
       " ('팔로잉', 22),\n",
       " ('육아일기', 22),\n",
       " ('insta', 22),\n",
       " ('또', 22),\n",
       " ('instalove', 22),\n",
       " ('이태원', 22),\n",
       " ('뷰티', 22),\n",
       " ('신혼부부', 22),\n",
       " ('세젤예', 22),\n",
       " ('다렉', 22),\n",
       " ('스노우', 22),\n",
       " ('하늘', 21),\n",
       " ('딸맘', 21),\n",
       " ('JMT', 21),\n",
       " ('커피스타그램', 21),\n",
       " ('부부', 21),\n",
       " ('trip', 21),\n",
       " ('기록', 21),\n",
       " ('instamood', 21),\n",
       " ('맥스타그램', 21),\n",
       " ('일상기록', 20),\n",
       " ('고기', 20),\n",
       " ('puppy', 20),\n",
       " ('워킹맘', 20),\n",
       " ('아기스타그램', 20),\n",
       " ('딸바보', 20),\n",
       " ('견스타그램', 20),\n",
       " ('아기', 20),\n",
       " ('likeforlikes', 20),\n",
       " ('서울디저트맛집', 20),\n",
       " ('굿', 19),\n",
       " ('화이팅', 19),\n",
       " ('줌마그램', 19),\n",
       " ('학생', 19),\n",
       " ('happy', 19),\n",
       " ('피드', 19),\n",
       " ('fashion', 19),\n",
       " ('follower', 19),\n",
       " ('간식', 19),\n",
       " ('운동하는남자', 19),\n",
       " ('토요일', 19),\n",
       " ('육아일상', 19),\n",
       " ('베이비', 19),\n",
       " ('다이렉트', 19),\n",
       " ('dogstagram', 19),\n",
       " ('수제맥주', 19),\n",
       " ('푸드스타그램', 18),\n",
       " ('한남동', 18),\n",
       " ('취미', 18),\n",
       " ('추천', 18),\n",
       " ('퇴근', 18),\n",
       " ('가족', 18),\n",
       " ('아침', 18),\n",
       " ('헬스타그램', 18),\n",
       " ('야식', 18),\n",
       " ('귀요미', 18),\n",
       " ('독스타그램', 18),\n",
       " ('01', 18),\n",
       " ('일스타그램', 17),\n",
       " ('출근', 17),\n",
       " ('인스타푸드', 17),\n",
       " ('수원', 17),\n",
       " ('빵', 17),\n",
       " ('수요일', 17),\n",
       " ('행복해', 17),\n",
       " ('베이비그램', 17),\n",
       " ('광안리', 17),\n",
       " ('아들바보', 17),\n",
       " ('연애스타그램', 17),\n",
       " ('02', 17),\n",
       " ('꿀잼', 17),\n",
       " ('쿡스타그램', 17),\n",
       " ('냥스타그램', 17),\n",
       " ('소통그램', 16),\n",
       " ('주부스타그램', 16),\n",
       " ('추억', 16),\n",
       " ('좋아', 16),\n",
       " ('22', 16),\n",
       " ('치맥', 16),\n",
       " ('밥스타그램', 16),\n",
       " ('빵스타그램', 16),\n",
       " ('쇼핑', 16),\n",
       " ('dessert', 16),\n",
       " ('스타일', 16),\n",
       " ('기념일', 16),\n",
       " ('마카롱맛집', 16),\n",
       " ('여자친구', 16),\n",
       " ('제주', 16),\n",
       " ('19', 16),\n",
       " ('펫스타그램', 16),\n",
       " ('seoul', 16),\n",
       " ('nature', 16),\n",
       " ('귀여워', 16),\n",
       " ('점심시간', 15),\n",
       " ('음식', 15),\n",
       " ('카페투어', 15),\n",
       " ('자연눈썹', 15),\n",
       " ('today', 15),\n",
       " ('follow4follow', 15),\n",
       " ('얼스타', 15),\n",
       " ('집스타그램', 15),\n",
       " ('소확행', 15),\n",
       " ('천안', 15),\n",
       " ('최고', 15),\n",
       " ('바다', 15),\n",
       " ('딸', 15),\n",
       " ('커플룩', 15),\n",
       " ('내새끼', 15),\n",
       " ('라떼', 15),\n",
       " ('생일', 15),\n",
       " ('followers', 15),\n",
       " ('울산', 15),\n",
       " ('photography', 15),\n",
       " ('선팔환영', 15),\n",
       " ('모델', 15),\n",
       " ('craftbeer', 15),\n",
       " ('ビール', 15),\n",
       " ('인친해요', 14),\n",
       " ('홈쿡', 14),\n",
       " ('파스타', 14),\n",
       " ('foodporn', 14),\n",
       " ('환영', 14),\n",
       " ('반영구수강', 14),\n",
       " ('98', 14),\n",
       " ('우정스타그램', 14),\n",
       " ('follow4like', 14),\n",
       " ('집밥', 14),\n",
       " ('헬스', 14),\n",
       " ('부산맛집', 14),\n",
       " ('결혼', 14),\n",
       " ('고3', 14),\n",
       " ('물놀이', 14),\n",
       " ('f4follow', 14),\n",
       " ('예비맘', 14),\n",
       " ('오랜만에', 14),\n",
       " ('나들이', 14),\n",
       " ('pet', 14),\n",
       " ('아이스커피', 14),\n",
       " ('한국', 14),\n",
       " ('여행그램', 14),\n",
       " ('학교', 14),\n",
       " ('dailypic', 14),\n",
       " ('밥', 14),\n",
       " ('스벅', 14),\n",
       " ('인스타독', 13),\n",
       " ('음식스타그램', 13),\n",
       " ('옷', 13),\n",
       " ('21', 13),\n",
       " ('yummy', 13),\n",
       " ('보고싶다', 13),\n",
       " ('꽃', 13),\n",
       " ('산책', 13),\n",
       " ('운동스타그램', 13),\n",
       " ('오늘도', 13),\n",
       " ('공유', 13),\n",
       " ('분위기', 13),\n",
       " ('멍멍이', 13),\n",
       " ('lovestagram', 13),\n",
       " ('꿀맛', 13),\n",
       " ('대핫', 13),\n",
       " ('소주', 13),\n",
       " ('like4likes', 13),\n",
       " ('육아그램', 13),\n",
       " ('likeforlike', 13),\n",
       " ('성동구', 13),\n",
       " ('수다', 13),\n",
       " ('beerstagram', 13),\n",
       " ('맥덕', 13),\n",
       " ('혼술', 13),\n",
       " ('남', 13),\n",
       " ('점심메뉴', 12),\n",
       " ('가을신상', 12),\n",
       " ('투잡', 12),\n",
       " ('감사합니다', 12),\n",
       " ('하루', 12),\n",
       " ('date', 12),\n",
       " ('iphone', 12),\n",
       " ('네일', 12),\n",
       " ('반영구', 12),\n",
       " ('창원', 12),\n",
       " ('안녕', 12),\n",
       " ('글귀', 12),\n",
       " ('동성로', 12),\n",
       " ('축구', 12),\n",
       " ('또먹고싶다', 12),\n",
       " ('언팔싫어요', 12),\n",
       " ('풍경', 12),\n",
       " ('가로수길', 12),\n",
       " ('art', 12),\n",
       " ('엄마', 12),\n",
       " ('몸스타그램', 12),\n",
       " ('아기모델', 12),\n",
       " ('원숭이띠아기', 12),\n",
       " ('고등학생', 12),\n",
       " ('좋튀', 12),\n",
       " ('포메라니안', 12),\n",
       " ('17', 12),\n",
       " ('소맥', 12),\n",
       " ('대만', 12),\n",
       " ('옥수동디저트', 12),\n",
       " ('옥수디저트', 12),\n",
       " ('옥수마카롱', 12),\n",
       " ('옥수동마카롱', 12),\n",
       " ('ozsoven', 12),\n",
       " ('오즈의오븐', 12),\n",
       " ('디저트샵', 12),\n",
       " ('성동마카롱', 12),\n",
       " ('성동구마카롱', 12),\n",
       " ('성동구맛집', 12),\n",
       " ('옥수동맛집', 12),\n",
       " ('서울마카롱맛집', 12),\n",
       " ('bangkok', 12),\n",
       " ('dorators', 12),\n",
       " ('dhuratadora', 12),\n",
       " ('아이스라떼', 12),\n",
       " ('아이스', 12),\n",
       " ('스테이크', 11),\n",
       " ('신난다', 11),\n",
       " ('눈썹문신', 11),\n",
       " ('맛집추천', 11),\n",
       " ('불토', 11),\n",
       " ('가족스타그램', 11),\n",
       " ('욜로', 11),\n",
       " ('감성사진', 11),\n",
       " ('lovely', 11),\n",
       " ('전신샷', 11),\n",
       " ('초밥', 11),\n",
       " ('ㅠㅠ', 11),\n",
       " ('instaphoto', 11),\n",
       " ('사랑해요', 11),\n",
       " ('고마워요', 11),\n",
       " ('곰신스타그램', 11),\n",
       " ('커플사진', 11),\n",
       " ('사랑꾼', 11),\n",
       " ('떡볶이', 11),\n",
       " ('개강', 11),\n",
       " ('마켓', 11),\n",
       " ('오사카', 11),\n",
       " ('더워', 11),\n",
       " ('셀피그램', 11),\n",
       " ('18', 11),\n",
       " ('instadog', 11),\n",
       " ('워터파크', 11),\n",
       " ('韓国', 11),\n",
       " ('펜션', 11),\n",
       " ('덥다', 11),\n",
       " ('팀호완', 11),\n",
       " ('가즈아', 11),\n",
       " ('피자', 11),\n",
       " ('새벽', 11),\n",
       " ('travelholic', 11),\n",
       " ('인테리어', 11),\n",
       " ('패션스타그램', 11),\n",
       " ('푸들', 11),\n",
       " ('케이크', 11),\n",
       " ('크래프트비어', 11),\n",
       " ('크래프트맥주', 11),\n",
       " ('푸드', 10),\n",
       " ('브런치', 10),\n",
       " ('brunch', 10),\n",
       " ('회사', 10),\n",
       " ('퇴근후', 10),\n",
       " ('스트레스', 10),\n",
       " ('부평', 10),\n",
       " ('새댁', 10),\n",
       " ('빵순이', 10),\n",
       " ('데일리스타그램', 10),\n",
       " ('라멘', 10),\n",
       " ('오빠랑', 10),\n",
       " ('성남', 10),\n",
       " ('곰신', 10),\n",
       " ('닭띠맘', 10),\n",
       " ('데이트코스', 10),\n",
       " ('우리', 10),\n",
       " ('육아기록', 10),\n",
       " ('등원룩', 10),\n",
       " ('해외여행', 10),\n",
       " ('couple', 10),\n",
       " ('photooftheday', 10),\n",
       " ('새우', 10),\n",
       " ('이쁘다', 10),\n",
       " ('어제', 10),\n",
       " ('summer', 10),\n",
       " ('남매맘', 10),\n",
       " ('남자', 10),\n",
       " ('맛집스타그램', 10),\n",
       " ('안주', 10),\n",
       " ('포천카페', 10),\n",
       " ('태국', 10),\n",
       " ('용인', 10),\n",
       " ('타이완', 10),\n",
       " ('대만맛집', 10),\n",
       " ('타이페이', 10),\n",
       " ('코디', 9),\n",
       " ('동영상', 9),\n",
       " ('반영구아카데미', 9),\n",
       " ('애견', 9),\n",
       " ('한강', 9),\n",
       " ('육아중', 9),\n",
       " ('책스타그램', 9),\n",
       " ('북스타그램', 9),\n",
       " ('먹자', 9),\n",
       " ('너랑', 9),\n",
       " ('첫줄안녕', 9),\n",
       " ('일산', 9),\n",
       " ('저녁메뉴', 9),\n",
       " ('함께', 9),\n",
       " ('행복하자', 9),\n",
       " ('힐링여행', 9),\n",
       " ('interiordesign', 9),\n",
       " ('피곤', 9),\n",
       " ('예신', 9),\n",
       " ('핫플레이스', 9),\n",
       " ('커플샷', 9),\n",
       " ('장거리연애', 9),\n",
       " ('전주', 9),\n",
       " ('사랑둥이', 9),\n",
       " ('커플티', 9),\n",
       " ('야경', 9),\n",
       " ('일상룩', 9),\n",
       " ('웨딩촬영', 9),\n",
       " ('오늘의훈녀', 9),\n",
       " ('신혼스타그램', 9),\n",
       " ('임산부', 9),\n",
       " ('만두', 9),\n",
       " ('초보맘', 9),\n",
       " ('쌀국수', 9),\n",
       " ('100일', 9),\n",
       " ('dailygram', 9),\n",
       " ('아웃핏', 9),\n",
       " ('좋아요테러', 9),\n",
       " ('포천여행', 9),\n",
       " ('드라이브', 9),\n",
       " ('설빙', 9),\n",
       " ('고딩', 9),\n",
       " ('해쨍쨍', 9),\n",
       " ('목요일', 9),\n",
       " ('끝', 9),\n",
       " ('송정', 9),\n",
       " ('일본여행', 9),\n",
       " ('운스타그램', 9),\n",
       " ('followforfollowback', 9),\n",
       " ('맛집탐방', 9),\n",
       " ('미용인', 9),\n",
       " ('동탄', 9),\n",
       " ('아시안게임', 9),\n",
       " ('촬영', 9),\n",
       " ('BEER', 9),\n",
       " ('hotel', 9),\n",
       " ('interior', 9),\n",
       " ('지우펀', 9),\n",
       " ('지옥펀', 9),\n",
       " ('야류', 9),\n",
       " ('스린야시장', 9),\n",
       " ('스펀', 9),\n",
       " ('스펀천등', 9),\n",
       " ('스펀풍등', 9),\n",
       " ('홍등', 9),\n",
       " ('센과치히로의행방불명', 9),\n",
       " ('딤섬', 9),\n",
       " ('딘타이펑', 9),\n",
       " ('마라훠궈', 9),\n",
       " ('닭날개볶음밥', 9),\n",
       " ('타오위안공항', 9),\n",
       " ('갬성', 8),\n",
       " ('오후', 8),\n",
       " ('독서', 8),\n",
       " ('뷰티샵', 8),\n",
       " ('outfit', 8),\n",
       " ('분당', 8),\n",
       " ('패키지', 8),\n",
       " ('오늘은', 8),\n",
       " ('97', 8),\n",
       " ('출근길', 8),\n",
       " ('일기', 8),\n",
       " ('밥순이', 8),\n",
       " ('오늘날씨', 8),\n",
       " ('girl', 8),\n",
       " ('타투', 8),\n",
       " ('루프탑', 8),\n",
       " ('오늘뭐먹지', 8),\n",
       " ('아이스크림', 8),\n",
       " ('스시', 8),\n",
       " ('연어', 8),\n",
       " ('일러스트', 8),\n",
       " ('신림', 8),\n",
       " ('신촌', 8),\n",
       " ('셀', 8),\n",
       " ('예쁜카페', 8),\n",
       " ('instababy', 8),\n",
       " ('jeju', 8),\n",
       " ('제주여행', 8),\n",
       " ('구름', 8),\n",
       " ('아들그램', 8),\n",
       " ('돈까스', 8),\n",
       " ('닭띠아기', 8),\n",
       " ('와인', 8),\n",
       " ('군인', 8),\n",
       " ('travelgram', 8),\n",
       " ('개띠맘', 8),\n",
       " ('고1', 8),\n",
       " ('고2', 8),\n",
       " ('20180829', 8),\n",
       " ('비숑프리제', 8),\n",
       " ('컾스타그램', 8),\n",
       " ('맥도날드', 8),\n",
       " ('웨딩', 8),\n",
       " ('노래방', 8),\n",
       " ('블로그마켓', 8),\n",
       " ('존잼', 8),\n",
       " ('포천아트밸리', 8),\n",
       " ('허브아일랜드', 8),\n",
       " ('그래도', 8),\n",
       " ('반사', 8),\n",
       " ('movie', 8),\n",
       " ('인생샷', 8),\n",
       " ('라면', 8),\n",
       " ('4박5일', 8),\n",
       " ('인스타사이즈', 8),\n",
       " ('폭우', 8),\n",
       " ('팔로우환영', 8),\n",
       " ('미소', 8),\n",
       " ('하트', 8),\n",
       " ('흔녀', 8),\n",
       " ('뷰티스타그램', 8),\n",
       " ('식사', 8),\n",
       " ('황금개띠맘', 8),\n",
       " ('diet', 8),\n",
       " ('いいね返し', 8),\n",
       " ('근무시간', 8),\n",
       " ('옥수역', 8),\n",
       " ('옥수역근처', 8),\n",
       " ('중구', 8),\n",
       " ('중구마카롱', 8),\n",
       " ('낮술', 8),\n",
       " ('인스타일상', 8),\n",
       " ('방콕', 8),\n",
       " ('sweet', 8),\n",
       " ('travelphotography', 8),\n",
       " ('cafetour', 8),\n",
       " ('hotelphotography', 8),\n",
       " ('instahotel', 8),\n",
       " ('the_beduino', 8),\n",
       " ('맞팔선팔', 7),\n",
       " ('부업', 7),\n",
       " ('감동', 7),\n",
       " ('일요일', 7),\n",
       " ('delicious', 7),\n",
       " ('캠핑', 7),\n",
       " ('휴식', 7),\n",
       " ('art눈썹', 7),\n",
       " ('art헤어라인', 7),\n",
       " ('눈썹반영구', 7),\n",
       " ('강남눈썹문신', 7),\n",
       " ('강남반영구', 7),\n",
       " ('돼지', 7),\n",
       " ('강아지그램', 7),\n",
       " ('맥주한잔', 7),\n",
       " ('스무살', 7),\n",
       " ('힘내자', 7),\n",
       " ('카페탐방', 7),\n",
       " ('아메리카노', 7),\n",
       " ('데이트룩', 7),\n",
       " ('lunch', 7),\n",
       " ('제주도여행', 7),\n",
       " ('의정부', 7),\n",
       " ('노래', 7),\n",
       " ('beauty', 7),\n",
       " ('볶음밥', 7),\n",
       " ('대전맛집', 7),\n",
       " ('예랑', 7),\n",
       " ('주부', 7),\n",
       " ('Repost', 7),\n",
       " ('신사', 7),\n",
       " ('이벤트', 7),\n",
       " ('instasize', 7),\n",
       " ('줌마스타그램', 7),\n",
       " ('연인', 7),\n",
       " ('생각', 7),\n",
       " ('남포동', 7),\n",
       " ('훈남', 7),\n",
       " ('목포', 7),\n",
       " ('스냅', 7),\n",
       " ('육아맘일상', 7),\n",
       " ('독박육아', 7),\n",
       " ('luv', 7),\n",
       " ('엄마랑', 7),\n",
       " ('ㅋㅋㅋㅋ', 7),\n",
       " ('양꼬치', 7),\n",
       " ('아기옷', 7),\n",
       " ('커플그램', 7),\n",
       " ('인스타라이프', 7),\n",
       " ('비키니', 7),\n",
       " ('너의결혼식', 7),\n",
       " ('근준아', 7),\n",
       " ('cgv', 7),\n",
       " ('목격자', 7),\n",
       " ('여고생', 7),\n",
       " ('홍대카페', 7),\n",
       " ('1박2일', 7),\n",
       " ('강원도', 7),\n",
       " ('베트남', 7),\n",
       " ('강릉', 7),\n",
       " ('00년생', 7),\n",
       " ('송정해수욕장', 7),\n",
       " ('송정펜션', 7),\n",
       " ('카라반펜션', 7),\n",
       " ('밤', 7),\n",
       " ('같이', 7),\n",
       " ('예쁘다', 7),\n",
       " ('꾸욱', 7),\n",
       " ('집', 7),\n",
       " ('나', 7),\n",
       " ('부산대', 7),\n",
       " ('japan', 7),\n",
       " ('하', 7),\n",
       " ('부산카페', 7),\n",
       " ('댕댕이그램', 7),\n",
       " ('여행기록', 7),\n",
       " ('부천', 7),\n",
       " ('우정', 7),\n",
       " ('얼굴', 7),\n",
       " ('생일선물', 7),\n",
       " ('과일', 7),\n",
       " ('다이어터', 7),\n",
       " ('following', 7),\n",
       " ('남매', 7),\n",
       " ('안주스타그램', 7),\n",
       " ('bread', 7),\n",
       " ('식단', 7),\n",
       " ('선팔하면맞팔가요', 7),\n",
       " ('샌드위치', 7),\n",
       " ('찍스타그램', 7),\n",
       " ('홈카페', 7),\n",
       " ('카페추천', 7),\n",
       " ('f', 7),\n",
       " ('cake', 7),\n",
       " ('혼술스타그램', 7),\n",
       " ('혼맥', 7),\n",
       " ('대한민국', 7),\n",
       " ('온더테이블', 7),\n",
       " ('선팔해요', 7),\n",
       " ('콘파이', 7),\n",
       " ('bts', 7),\n",
       " ('봄', 7),\n",
       " ('머리', 7),\n",
       " ('natural', 7),\n",
       " ('yolo', 6),\n",
       " ('원피스', 6),\n",
       " ('아지트샵', 6),\n",
       " ('국내여행', 6),\n",
       " ('cooking', 6),\n",
       " ('홍대눈썹문신', 6),\n",
       " ('아이라인문신', 6),\n",
       " ('강남왁싱', 6),\n",
       " ('반영구교육', 6),\n",
       " ('강남남자', 6),\n",
       " ('강남자연눈썹', 6),\n",
       " ('일상소통', 6),\n",
       " ('회사원', 6),\n",
       " ('경기도', 6),\n",
       " ('북구', 6),\n",
       " ('followforfollow', 6),\n",
       " ('구미', 6),\n",
       " ('블로그', 6),\n",
       " ('23', 6),\n",
       " ('문화생활', 6),\n",
       " ('8월', 6),\n",
       " ('여수', 6),\n",
       " ('메이크업', 6),\n",
       " ('곱창', 6),\n",
       " ('사랑하는', 6),\n",
       " ('귀염둥이', 6),\n",
       " ('아빠와딸', 6),\n",
       " ('예쁜아기', 6),\n",
       " ('여성의류', 6),\n",
       " ('4살', 6),\n",
       " ('방탄소년단', 6),\n",
       " ('좋다', 6),\n",
       " ('시밀러룩', 6),\n",
       " ('셀카놀이', 6),\n",
       " ('딸램', 6),\n",
       " ('결혼준비', 6),\n",
       " ('맞팔은댓글', 6),\n",
       " ('홈스타그램', 6),\n",
       " ('투썸플레이스', 6),\n",
       " ('상무지구', 6),\n",
       " ('황금개띠', 6),\n",
       " ('단발', 6),\n",
       " ('강화도', 6),\n",
       " ('짱', 6),\n",
       " ('알콩달콩', 6),\n",
       " ('우동', 6),\n",
       " ('수영장', 6),\n",
       " ('방학', 6),\n",
       " ('후식', 6),\n",
       " ('수영복', 6),\n",
       " ('데이트그램', 6),\n",
       " ('19살', 6),\n",
       " ('2018', 6),\n",
       " ('연남동', 6),\n",
       " ('우리집', 6),\n",
       " ('커플템', 6),\n",
       " ('칼국수', 6),\n",
       " ('한잔', 6),\n",
       " ('이천', 6),\n",
       " ('보고싶어', 6),\n",
       " ('다낭', 6),\n",
       " ('햄버거', 6),\n",
       " ('차', 6),\n",
       " ('둘째', 6),\n",
       " ('health', 6),\n",
       " ('좋아요그램', 6),\n",
       " ('디뮤지엄', 6),\n",
       " ('핵맛', 6),\n",
       " ('2018년', 6),\n",
       " ('치킨스타그램', 6),\n",
       " ('키즈카페', 6),\n",
       " ('유럽여행', 6),\n",
       " ('flf', 6),\n",
       " ('등원샷', 6),\n",
       " ('어린이집', 6),\n",
       " ('오키나와', 6),\n",
       " ('뜨개질', 6),\n",
       " ('gym', 6),\n",
       " ('캣스타그램', 6),\n",
       " ('맛집투어', 6),\n",
       " ('dining', 6),\n",
       " ('foodsta', 6),\n",
       " ('초코', 6),\n",
       " ('likes', 6),\n",
       " ('잠실맛집', 6),\n",
       " ('갈비', 6),\n",
       " ('포천이동갈비', 6),\n",
       " ('이동갈비맛집', 6),\n",
       " ('포천맛집', 6),\n",
       " ('이동갈비', 6),\n",
       " ('포천', 6),\n",
       " ('천호역참치', 6),\n",
       " ('해시태그', 6),\n",
       " ('korean', 6),\n",
       " ('살롱순라', 6),\n",
       " ('비어스타그램', 6),\n",
       " ('クラフトビール', 6),\n",
       " ('세계맥주', 6),\n",
       " ('방콕여행', 6),\n",
       " ('루비투어', 6),\n",
       " ('rubytour', 6),\n",
       " ('행복한만남이있는즐거운여행', 6),\n",
       " ('행만즐', 6),\n",
       " ('떠나자어디든', 6),\n",
       " ('여행일기', 6),\n",
       " ('model', 6),\n",
       " ('beawesome', 6),\n",
       " ('лайктайм', 6),\n",
       " ('подписказаподписку', 6),\n",
       " ('взаимныеподпискиилайки', 6),\n",
       " ('взаимныелайки', 6),\n",
       " ('petstagram', 6),\n",
       " ('sky', 6),\n",
       " ('wildliveplanet', 6),\n",
       " ('맛있어', 5),\n",
       " ('등산', 5),\n",
       " ('산', 5),\n",
       " ('스파게티', 5),\n",
       " ('여유', 5),\n",
       " ('cook', 5),\n",
       " ('마지막', 5),\n",
       " ('감사', 5),\n",
       " ('합정', 5),\n",
       " ('티라미수', 5),\n",
       " ('퇴근하고싶다', 5),\n",
       " ('원데이클래스', 5),\n",
       " ('드로잉', 5),\n",
       " ('속눈썹', 5),\n",
       " ('카메라', 5),\n",
       " ('졸귀탱', 5),\n",
       " ('starbucks', 5),\n",
       " ('당충전', 5),\n",
       " ('대박', 5),\n",
       " ('회식', 5),\n",
       " ('배우', 5),\n",
       " ('공연', 5),\n",
       " ('강남역', 5),\n",
       " ('20180831', 5),\n",
       " ('핸드메이드', 5),\n",
       " ('가방', 5),\n",
       " ('아치눈썹', 5),\n",
       " ('아이라인', 5),\n",
       " ('애견호텔', 5),\n",
       " ('순천', 5),\n",
       " ('daliy', 5),\n",
       " ('소고기', 5),\n",
       " ('점심스타그램', 5),\n",
       " ('마지막날', 5),\n",
       " ('진짜', 5),\n",
       " ('집들이', 5),\n",
       " ('드롭귀걸이', 5),\n",
       " ('DM', 5),\n",
       " ('음악', 5),\n",
       " ('글', 5),\n",
       " ('사랑스러워', 5),\n",
       " ('대구맘', 5),\n",
       " ('나는', 5),\n",
       " ('간식스타그램', 5),\n",
       " ('ㅎㅎ', 5),\n",
       " ('인스타키즈', 5),\n",
       " ('이쁜아기', 5),\n",
       " ('애엄마', 5),\n",
       " ('차돌박이', 5),\n",
       " ('알바', 5),\n",
       " ('맛있당', 5),\n",
       " ('인천맘', 5),\n",
       " ('애둘맘', 5),\n",
       " ('마산', 5),\n",
       " ('20살', 5),\n",
       " ('23개월아기', 5),\n",
       " ('엄마와딸', 5),\n",
       " ('샐러드', 5),\n",
       " ('남편', 5),\n",
       " ('자매', 5),\n",
       " ('청말띠', 5),\n",
       " ('육아공유', 5),\n",
       " ('포토존', 5),\n",
       " ('가족여행', 5),\n",
       " ('계곡', 5),\n",
       " ('비숑', 5),\n",
       " ('짬뽕', 5),\n",
       " ('동갑내기', 5),\n",
       " ('와플', 5),\n",
       " ('like4follow', 5),\n",
       " ('아기패션', 5),\n",
       " ('커플링', 5),\n",
       " ('주문케이크', 5),\n",
       " ('with', 5),\n",
       " ('롯데월드', 5),\n",
       " ('메가박스', 5),\n",
       " ('개꿀', 5),\n",
       " ('분위기깡패', 5),\n",
       " ('춘천', 5),\n",
       " ('닭갈비', 5),\n",
       " ('내가', 5),\n",
       " ('사진찍기', 5),\n",
       " ('압구정', 5),\n",
       " ('사실', 5),\n",
       " ('파주', 5),\n",
       " ('근데', 5),\n",
       " ('selfies', 5),\n",
       " ('회', 5),\n",
       " ('동생이랑', 5),\n",
       " ('코노', 5),\n",
       " ('뒷북', 5),\n",
       " ('친구랑', 5),\n",
       " ('맘스터치', 5),\n",
       " ('핑크', 5),\n",
       " ('200일', 5),\n",
       " ('이제', 5),\n",
       " ('거제도', 5),\n",
       " ('목살', 5),\n",
       " ('초복', 5),\n",
       " ('술안주', 5),\n",
       " ('16', 5),\n",
       " ('21살', 5),\n",
       " ('대만여행', 5),\n",
       " ('여행중', 5),\n",
       " ('대구맛집', 5),\n",
       " ('맞팔100', 5),\n",
       " ('귀엽다', 5),\n",
       " ('항상', 5),\n",
       " ('오빠', 5),\n",
       " ('rain', 5),\n",
       " ('졸잼', 5),\n",
       " ('롯데시네마', 5),\n",
       " ('기분전환', 5),\n",
       " ('instapic', 5),\n",
       " ('미용', 5),\n",
       " ('찰칵', 5),\n",
       " ('서울여행', 5),\n",
       " ('첫', 5),\n",
       " ('후쿠오카', 5),\n",
       " ('내꺼', 5),\n",
       " ('안산', 5),\n",
       " ('가평', 5),\n",
       " ('건대', 5),\n",
       " ('사상', 5),\n",
       " ('도쿄', 5),\n",
       " ('03', 5),\n",
       " ('맞팔댓글', 5),\n",
       " ('공작', 5),\n",
       " ('영통', 5),\n",
       " ('인계동', 5),\n",
       " ('괌', 5),\n",
       " ('복숭아', 5),\n",
       " ('아기천사', 5),\n",
       " ('서울카페', 5),\n",
       " ('말티즈', 5),\n",
       " ('family', 5),\n",
       " ('포항', 5),\n",
       " ('나이키', 5),\n",
       " ('텀블러', 5),\n",
       " ...]"
      ]
     },
     "execution_count": 6,
     "metadata": {},
     "output_type": "execute_result"
    }
   ],
   "source": [
    "counter.most_common()"
   ]
  },
  {
   "cell_type": "code",
   "execution_count": 7,
   "metadata": {
    "scrolled": true
   },
   "outputs": [
    {
     "data": {
      "text/plain": [
       "45473"
      ]
     },
     "execution_count": 7,
     "metadata": {},
     "output_type": "execute_result"
    }
   ],
   "source": [
    "tag_count = 0\n",
    "for tup in counter.most_common():\n",
    "    tag_count += tup[1]\n",
    "tag_count"
   ]
  },
  {
   "cell_type": "code",
   "execution_count": 8,
   "metadata": {},
   "outputs": [
    {
     "data": {
      "text/plain": [
       "13962"
      ]
     },
     "execution_count": 8,
     "metadata": {},
     "output_type": "execute_result"
    }
   ],
   "source": [
    "len(counter)"
   ]
  },
  {
   "cell_type": "code",
   "execution_count": 9,
   "metadata": {},
   "outputs": [],
   "source": [
    "frequentTags = [tag[0] for tag in counter.most_common()]"
   ]
  },
  {
   "cell_type": "code",
   "execution_count": 10,
   "metadata": {},
   "outputs": [],
   "source": [
    "frequency = [tag[1] for tag in counter.most_common()]"
   ]
  },
  {
   "cell_type": "code",
   "execution_count": 11,
   "metadata": {},
   "outputs": [],
   "source": [
    "y_pos = np.arange(len(frequentTags))"
   ]
  },
  {
   "cell_type": "code",
   "execution_count": 12,
   "metadata": {},
   "outputs": [
    {
     "data": {
      "text/plain": [
       "13962"
      ]
     },
     "execution_count": 12,
     "metadata": {},
     "output_type": "execute_result"
    }
   ],
   "source": [
    "len(y_pos)"
   ]
  },
  {
   "cell_type": "code",
   "execution_count": 13,
   "metadata": {},
   "outputs": [],
   "source": [
    "train0 = train[\"tags_str\"].values"
   ]
  },
  {
   "cell_type": "code",
   "execution_count": 15,
   "metadata": {},
   "outputs": [],
   "source": [
    "train[\"duplicated_tag\"] = train.tags.apply(lambda a: 1 if len(a) != len(set(a)) else 0) "
   ]
  },
  {
   "cell_type": "code",
   "execution_count": 16,
   "metadata": {},
   "outputs": [],
   "source": [
    "train_0 = train[train[\"duplicated_tag\"] != 1][\"tags_str\"].values"
   ]
  },
  {
   "cell_type": "code",
   "execution_count": 74,
   "metadata": {},
   "outputs": [],
   "source": [
    "duplicated_train = train[train[\"duplicated_tag\"] == 1]"
   ]
  },
  {
   "cell_type": "code",
   "execution_count": 77,
   "metadata": {},
   "outputs": [
    {
     "data": {
      "text/html": [
       "<div>\n",
       "<style scoped>\n",
       "    .dataframe tbody tr th:only-of-type {\n",
       "        vertical-align: middle;\n",
       "    }\n",
       "\n",
       "    .dataframe tbody tr th {\n",
       "        vertical-align: top;\n",
       "    }\n",
       "\n",
       "    .dataframe thead th {\n",
       "        text-align: right;\n",
       "    }\n",
       "</style>\n",
       "<table border=\"1\" class=\"dataframe\">\n",
       "  <thead>\n",
       "    <tr style=\"text-align: right;\">\n",
       "      <th></th>\n",
       "      <th>caption</th>\n",
       "      <th>comment_cnt</th>\n",
       "      <th>first_comment</th>\n",
       "      <th>id</th>\n",
       "      <th>is_video</th>\n",
       "      <th>likes</th>\n",
       "      <th>loc_id</th>\n",
       "      <th>loc_lat</th>\n",
       "      <th>loc_lon</th>\n",
       "      <th>loc_name</th>\n",
       "      <th>...</th>\n",
       "      <th>owner_name</th>\n",
       "      <th>shortcode</th>\n",
       "      <th>taken_at_timestamp</th>\n",
       "      <th>video_view_count</th>\n",
       "      <th>tags</th>\n",
       "      <th>tags_cnt</th>\n",
       "      <th>caption_only</th>\n",
       "      <th>tags_str</th>\n",
       "      <th>duplicated_tag</th>\n",
       "      <th>time</th>\n",
       "    </tr>\n",
       "  </thead>\n",
       "  <tbody>\n",
       "    <tr>\n",
       "      <th>29</th>\n",
       "      <td>매운맛중독\\n.\\n.\\n.\\n#칠성포차 #마약찜닭 #응암오거리 #사라다 #먹스타그램...</td>\n",
       "      <td>1.0</td>\n",
       "      <td>#f4f#l4l#데일리#일상#좋아요#선팔#맞팔#팔로잉#팔로우#소통#팔로우#좋반#좋아...</td>\n",
       "      <td>1857799406611505102</td>\n",
       "      <td>False</td>\n",
       "      <td>17.0</td>\n",
       "      <td>236696750</td>\n",
       "      <td>37.584319</td>\n",
       "      <td>126.916065</td>\n",
       "      <td>서울시 은평구</td>\n",
       "      <td>...</td>\n",
       "      <td>jjuuba_bba</td>\n",
       "      <td>BnIOrefAp_O</td>\n",
       "      <td>1535686969</td>\n",
       "      <td>0.0</td>\n",
       "      <td>[칠성포차, 마약찜닭, 응암오거리, 사라다, 먹스타그램, 술스타그램, 매운맛중독, ...</td>\n",
       "      <td>25</td>\n",
       "      <td>매운맛중독마약찜닭응암오거리사라다먹스타그램술스타그램매운맛중독맛집술집</td>\n",
       "      <td>칠성포차 마약찜닭 응암오거리 사라다 먹스타그램 술스타그램 매운맛중독 맛집 술집 f4...</td>\n",
       "      <td>1</td>\n",
       "      <td>2018-08-31 03:42:49</td>\n",
       "    </tr>\n",
       "    <tr>\n",
       "      <th>33</th>\n",
       "      <td>👉🏻옆으로 넘겨서 봐주세요!\\n.\\n✨8월 31일까지 피어싱,주얼리 10% 할인\\n...</td>\n",
       "      <td>1.0</td>\n",
       "      <td>#맞팔해요#소통스타그램#인스타데일리#일상#일상소통#직장인룩#오피스룩#출근룩#직장인#...</td>\n",
       "      <td>1856574252839224506</td>\n",
       "      <td>False</td>\n",
       "      <td>4.0</td>\n",
       "      <td>0</td>\n",
       "      <td>0.000000</td>\n",
       "      <td>0.000000</td>\n",
       "      <td>NaN</td>\n",
       "      <td>...</td>\n",
       "      <td>a.things_official</td>\n",
       "      <td>BnD4HJHnkS6</td>\n",
       "      <td>1535540919</td>\n",
       "      <td>0.0</td>\n",
       "      <td>[맞팔해요, 소통스타그램, 인스타데일리, 일상, 일상소통, 직장인룩, 오피스룩, 출...</td>\n",
       "      <td>29</td>\n",
       "      <td>옆으로 넘겨서 봐주세요! . ✨8월 31일까지 피어싱,주얼리 10% 할인 ✨의류 잡...</td>\n",
       "      <td>맞팔해요 소통스타그램 인스타데일리 일상 일상소통 직장인룩 오피스룩 출근룩 직장인 선...</td>\n",
       "      <td>1</td>\n",
       "      <td>2018-08-29 11:08:39</td>\n",
       "    </tr>\n",
       "    <tr>\n",
       "      <th>44</th>\n",
       "      <td>5주간의 1인 경영 수업을 들으며,\\n참 아직도 난 멀었구나 라는 생각이 들었다.\\...</td>\n",
       "      <td>1.0</td>\n",
       "      <td>#셀피 #인스타 #인스타그램 #인스타데일리 #데일리 #데일리그램 #daily #일상...</td>\n",
       "      <td>1857893165093334700</td>\n",
       "      <td>False</td>\n",
       "      <td>15.0</td>\n",
       "      <td>0</td>\n",
       "      <td>0.000000</td>\n",
       "      <td>0.000000</td>\n",
       "      <td>NaN</td>\n",
       "      <td>...</td>\n",
       "      <td>miracle_yu_sim</td>\n",
       "      <td>BnIj_14A66s</td>\n",
       "      <td>1535698145</td>\n",
       "      <td>0.0</td>\n",
       "      <td>[셀피, 인스타, 인스타그램, 인스타데일리, 데일리, 데일리그램, daily, 일상...</td>\n",
       "      <td>32</td>\n",
       "      <td>5주간의 1인 경영 수업을 들으며, 참 아직도 난 멀었구나 라는 생각이 들었다. 수...</td>\n",
       "      <td>셀피 인스타 인스타그램 인스타데일리 데일리 데일리그램 daily 일상 소통 일상그램...</td>\n",
       "      <td>1</td>\n",
       "      <td>2018-08-31 06:49:05</td>\n",
       "    </tr>\n",
       "    <tr>\n",
       "      <th>46</th>\n",
       "      <td>#20180831\\n엄마 나도 칼퇴하고싶어..😣😭</td>\n",
       "      <td>3.0</td>\n",
       "      <td>#회사원 #직장인 #대구 #휴무 #출근 #동성로 #회사 #사무실 #직딩 #주말 #불...</td>\n",
       "      <td>1857888664059646099</td>\n",
       "      <td>False</td>\n",
       "      <td>30.0</td>\n",
       "      <td>0</td>\n",
       "      <td>0.000000</td>\n",
       "      <td>0.000000</td>\n",
       "      <td>NaN</td>\n",
       "      <td>...</td>\n",
       "      <td>ha__yeongg</td>\n",
       "      <td>BnIi-V9gBCT</td>\n",
       "      <td>1535697609</td>\n",
       "      <td>0.0</td>\n",
       "      <td>[20180831, 회사원, 직장인, 대구, 휴무, 출근, 동성로, 회사, 사무실,...</td>\n",
       "      <td>28</td>\n",
       "      <td>엄마나도칼퇴하고싶어</td>\n",
       "      <td>20180831 회사원 직장인 대구 휴무 출근 동성로 회사 사무실 직딩 주말 불금 ...</td>\n",
       "      <td>1</td>\n",
       "      <td>2018-08-31 06:40:09</td>\n",
       "    </tr>\n",
       "    <tr>\n",
       "      <th>47</th>\n",
       "      <td>B6/8/31\\n사이즈18.9cm 🎉안녕하세요 럭스갤러리 입니다^^ 언제나 최고의품...</td>\n",
       "      <td>2.0</td>\n",
       "      <td>NaN</td>\n",
       "      <td>1857893332034981244</td>\n",
       "      <td>False</td>\n",
       "      <td>23.0</td>\n",
       "      <td>0</td>\n",
       "      <td>0.000000</td>\n",
       "      <td>0.000000</td>\n",
       "      <td>NaN</td>\n",
       "      <td>...</td>\n",
       "      <td>lux__gallery2</td>\n",
       "      <td>BnIkCRWgw18</td>\n",
       "      <td>1535698165</td>\n",
       "      <td>0.0</td>\n",
       "      <td>[daily, 강남, 데일리, 패션스타그램, 패션, 음식, 먹방, 맞팔, 연남동, ...</td>\n",
       "      <td>31</td>\n",
       "      <td>B6831사이즈189cm안녕하세요럭스갤러리입니다언제나최고의품질하이퀄리티를약속드립니다...</td>\n",
       "      <td>daily 강남 데일리 패션스타그램 패션 음식 먹방 맞팔 연남동 강남 가로수길 맘스...</td>\n",
       "      <td>1</td>\n",
       "      <td>2018-08-31 06:49:25</td>\n",
       "    </tr>\n",
       "  </tbody>\n",
       "</table>\n",
       "<p>5 rows × 21 columns</p>\n",
       "</div>"
      ],
      "text/plain": [
       "                                              caption  comment_cnt  \\\n",
       "29  매운맛중독\\n.\\n.\\n.\\n#칠성포차 #마약찜닭 #응암오거리 #사라다 #먹스타그램...          1.0   \n",
       "33  👉🏻옆으로 넘겨서 봐주세요!\\n.\\n✨8월 31일까지 피어싱,주얼리 10% 할인\\n...          1.0   \n",
       "44  5주간의 1인 경영 수업을 들으며,\\n참 아직도 난 멀었구나 라는 생각이 들었다.\\...          1.0   \n",
       "46                        #20180831\\n엄마 나도 칼퇴하고싶어..😣😭          3.0   \n",
       "47  B6/8/31\\n사이즈18.9cm 🎉안녕하세요 럭스갤러리 입니다^^ 언제나 최고의품...          2.0   \n",
       "\n",
       "                                        first_comment                   id  \\\n",
       "29  #f4f#l4l#데일리#일상#좋아요#선팔#맞팔#팔로잉#팔로우#소통#팔로우#좋반#좋아...  1857799406611505102   \n",
       "33  #맞팔해요#소통스타그램#인스타데일리#일상#일상소통#직장인룩#오피스룩#출근룩#직장인#...  1856574252839224506   \n",
       "44  #셀피 #인스타 #인스타그램 #인스타데일리 #데일리 #데일리그램 #daily #일상...  1857893165093334700   \n",
       "46  #회사원 #직장인 #대구 #휴무 #출근 #동성로 #회사 #사무실 #직딩 #주말 #불...  1857888664059646099   \n",
       "47                                                NaN  1857893332034981244   \n",
       "\n",
       "   is_video  likes     loc_id    loc_lat     loc_lon loc_name  \\\n",
       "29    False   17.0  236696750  37.584319  126.916065  서울시 은평구   \n",
       "33    False    4.0          0   0.000000    0.000000      NaN   \n",
       "44    False   15.0          0   0.000000    0.000000      NaN   \n",
       "46    False   30.0          0   0.000000    0.000000      NaN   \n",
       "47    False   23.0          0   0.000000    0.000000      NaN   \n",
       "\n",
       "           ...                 owner_name    shortcode taken_at_timestamp  \\\n",
       "29         ...                 jjuuba_bba  BnIOrefAp_O         1535686969   \n",
       "33         ...          a.things_official  BnD4HJHnkS6         1535540919   \n",
       "44         ...             miracle_yu_sim  BnIj_14A66s         1535698145   \n",
       "46         ...                 ha__yeongg  BnIi-V9gBCT         1535697609   \n",
       "47         ...              lux__gallery2  BnIkCRWgw18         1535698165   \n",
       "\n",
       "    video_view_count                                               tags  \\\n",
       "29               0.0  [칠성포차, 마약찜닭, 응암오거리, 사라다, 먹스타그램, 술스타그램, 매운맛중독, ...   \n",
       "33               0.0  [맞팔해요, 소통스타그램, 인스타데일리, 일상, 일상소통, 직장인룩, 오피스룩, 출...   \n",
       "44               0.0  [셀피, 인스타, 인스타그램, 인스타데일리, 데일리, 데일리그램, daily, 일상...   \n",
       "46               0.0  [20180831, 회사원, 직장인, 대구, 휴무, 출근, 동성로, 회사, 사무실,...   \n",
       "47               0.0  [daily, 강남, 데일리, 패션스타그램, 패션, 음식, 먹방, 맞팔, 연남동, ...   \n",
       "\n",
       "   tags_cnt                                       caption_only  \\\n",
       "29       25               매운맛중독마약찜닭응암오거리사라다먹스타그램술스타그램매운맛중독맛집술집   \n",
       "33       29  옆으로 넘겨서 봐주세요! . ✨8월 31일까지 피어싱,주얼리 10% 할인 ✨의류 잡...   \n",
       "44       32  5주간의 1인 경영 수업을 들으며, 참 아직도 난 멀었구나 라는 생각이 들었다. 수...   \n",
       "46       28                                         엄마나도칼퇴하고싶어   \n",
       "47       31  B6831사이즈189cm안녕하세요럭스갤러리입니다언제나최고의품질하이퀄리티를약속드립니다...   \n",
       "\n",
       "                                             tags_str duplicated_tag  \\\n",
       "29  칠성포차 마약찜닭 응암오거리 사라다 먹스타그램 술스타그램 매운맛중독 맛집 술집 f4...              1   \n",
       "33  맞팔해요 소통스타그램 인스타데일리 일상 일상소통 직장인룩 오피스룩 출근룩 직장인 선...              1   \n",
       "44  셀피 인스타 인스타그램 인스타데일리 데일리 데일리그램 daily 일상 소통 일상그램...              1   \n",
       "46  20180831 회사원 직장인 대구 휴무 출근 동성로 회사 사무실 직딩 주말 불금 ...              1   \n",
       "47  daily 강남 데일리 패션스타그램 패션 음식 먹방 맞팔 연남동 강남 가로수길 맘스...              1   \n",
       "\n",
       "                  time  \n",
       "29 2018-08-31 03:42:49  \n",
       "33 2018-08-29 11:08:39  \n",
       "44 2018-08-31 06:49:05  \n",
       "46 2018-08-31 06:40:09  \n",
       "47 2018-08-31 06:49:25  \n",
       "\n",
       "[5 rows x 21 columns]"
      ]
     },
     "execution_count": 77,
     "metadata": {},
     "output_type": "execute_result"
    }
   ],
   "source": [
    "duplicated_train.head()"
   ]
  },
  {
   "cell_type": "code",
   "execution_count": 17,
   "metadata": {},
   "outputs": [],
   "source": [
    "# from sklearn.model_selection import train_test_split\n",
    "# X_train0, X_test0 = train_test_split(train0, test_size=0.33, random_state=42)"
   ]
  },
  {
   "cell_type": "code",
   "execution_count": 18,
   "metadata": {},
   "outputs": [],
   "source": [
    "# len(X_train), len(X_test), len(train0)"
   ]
  },
  {
   "cell_type": "code",
   "execution_count": 39,
   "metadata": {},
   "outputs": [],
   "source": [
    "from sklearn.feature_extraction.text import CountVectorizer\n",
    "\n",
    "def display_topics(model, feature_names, no_top_words):\n",
    "    for topic_idx, topic in enumerate(model.components_):\n",
    "        print(\"Topic %d:\" % (topic_idx)) \n",
    "        print(\" \".join([feature_names[i] for i in topic.argsort()[:-no_top_words - 1:-1]])) \n",
    "\n",
    "# NMF is able to use tf-idf\n",
    "tfidf_vectorizer = TfidfVectorizer()\n",
    "tfidf = tfidf_vectorizer.fit_transform(train_0)\n",
    "tfidf_feature_names = tfidf_vectorizer.get_feature_names()\n",
    "\n",
    "no_topics = 8\n",
    "\n",
    "# Run NMF\n",
    "# nmf = NMF(n_components=no_topics, random_state=1, alpha=.1, l1_ratio=.5, init='nndsvd').fit(tfidf)"
   ]
  },
  {
   "cell_type": "code",
   "execution_count": 20,
   "metadata": {},
   "outputs": [],
   "source": [
    "def list_to_str(li):\n",
    "    result = \"\"\n",
    "    for tmp in li:\n",
    "        result += tmp + \" \"\n",
    "    return result"
   ]
  },
  {
   "cell_type": "code",
   "execution_count": 21,
   "metadata": {},
   "outputs": [],
   "source": [
    "train[\"tags_str\"] = train.tags.apply(list_to_str)"
   ]
  },
  {
   "cell_type": "code",
   "execution_count": 24,
   "metadata": {},
   "outputs": [],
   "source": [
    "from sklearn.model_selection import GridSearchCV"
   ]
  },
  {
   "cell_type": "code",
   "execution_count": 52,
   "metadata": {},
   "outputs": [
    {
     "name": "stdout",
     "output_type": "stream",
     "text": [
      "CPU times: user 30min 16s, sys: 2min 52s, total: 33min 8s\n",
      "Wall time: 33min 19s\n"
     ]
    },
    {
     "data": {
      "text/plain": [
       "array([[0.027461  , 0.02792705, 0.0279347 , ..., 0.02794116, 0.02817389,\n",
       "        0.02793195],\n",
       "       [0.02812787, 0.02737537, 0.02754929, ..., 0.58799014, 0.03456429,\n",
       "        0.02738018],\n",
       "       [0.05002464, 0.05211749, 0.05214528, ..., 0.05713624, 0.05109015,\n",
       "        0.05213635],\n",
       "       ...,\n",
       "       [0.04081089, 0.04231758, 0.04151243, ..., 0.04052689, 0.04115761,\n",
       "        0.04148665],\n",
       "       [0.07692308, 0.07692308, 0.07692308, ..., 0.07692308, 0.07692308,\n",
       "        0.07692308],\n",
       "       [0.0641535 , 0.06583137, 0.06585193, ..., 0.06278073, 0.22994573,\n",
       "        0.06584609]])"
      ]
     },
     "execution_count": 52,
     "metadata": {},
     "output_type": "execute_result"
    }
   ],
   "source": [
    "n_topic = 13\n",
    "alpha = 1\n",
    "beta = 1\n",
    "max_iter = 100\n",
    "lda3 = LatentDirichletAllocation(n_components=n_topic, doc_topic_prior=alpha,\\\n",
    "                                topic_word_prior=beta, learning_method='online', max_iter=max_iter)\n",
    "%time lda3.fit_transform(X_train)"
   ]
  },
  {
   "cell_type": "code",
   "execution_count": 53,
   "metadata": {
    "collapsed": true
   },
   "outputs": [
    {
     "name": "stdout",
     "output_type": "stream",
     "text": [
      "Topic 0:\n",
      "서울맛집 핫플레이스 강남맛집 JMT 맛스타그램 맛집투어 서울여행 강남 강남역 곱창 용산맛집 숙대맛집 남영동맛집 seoullife 맛집골목 후암동맛집 seoultravel youngsan 삼각지맛집 seouleats\n",
      "Topic 1:\n",
      "아침식사 장미 먹기 tumblr Korean 노랑 해물 라이프스타일 ASMR 가기 80s 돼지고기 Mukbang vaporwave pixelart FoodPorn 공식만찬 담홍색 KoreanFood KoreanAsmr\n",
      "Topic 2:\n",
      "asmr 피부관리 유튜브 mukbang 유튜버 eatingshow asmreating 피부고민 youtube asmrfood 병원 eatingsounds 베이킹클래스 보톡스 비건베이킹클래스 온새미로 veganbaking satisfying 쌀베이킹 자기관리\n",
      "Topic 3:\n",
      "먹스타그램 먹방 맛스타그램 맥주스타그램 맛집 술스타그램 food 점심 맥주 먹스타 foodstagram instafood 존맛 먹방스타그램 먹부림 맛스타 푸드스타그램 맛있다 음식 디저트\n",
      "Topic 4:\n",
      "MustafaCeceli nefesimceceli antalyamcfc MCVeMelekleri MCveMelekleri dilandeniz dilançiçekdeniz 햄스터 햄스타그램 골든햄스터 시리안햄스터 hamstagram syrianhamster goldenhamster 햄스타 hamsta hamster 기구필라테스 스피닝 핸드드립\n",
      "Topic 5:\n",
      "제주도 제주맛집 제주도맛집 f4follow 이벤트 서귀포맛집 제주여행 맥주스타그램 소통해요 선팔맞팔 제주 소통하자 제주맛집추천 제주도그램 제주서귀포맛집 제주도흑돼지맛집 제주도여행 아시안게임 로또 제주흑돼지\n",
      "Topic 6:\n",
      "일상 소통 맞팔 데일리 좋아요 선팔 셀스타그램 셀카 셀피 daily 일상스타그램 팔로우 먹스타그램 얼스타그램 선팔하면맞팔 럽스타그램 좋아요반사 selfie ootd 인친\n",
      "Topic 7:\n",
      "직장인 용인 사랑 취미 글스타그램 art 그림 성남 공감 글귀 일러스트 생각 직장 독서 감성 폭우 책스타그램 핸드메이드 drawing 음악\n",
      "Topic 8:\n",
      "남친이랑 데이트 서울맛집 부산맛집 대구맛집 커플 카드깡 대전맛집 신촌맛집 모바일문화상품권 연애중 상품권현금화 굿핀 해피머니 컬쳐랜드 신용카드대출 일수대출 신용카드현금화 모바 영화\n",
      "Topic 9:\n",
      "여행에미치다 여행 여행스타그램 travel korea 휴가 photography 일본 seoul trip 한국 풍경 바다 웨딩 스냅 하늘 photo 감성사진 bts 예신\n",
      "Topic 10:\n",
      "럽스타그램 육아 육아소통 육아스타그램 육아맘 맘스타그램 도치맘 사랑해 일상 젊줌마 딸스타그램 인스타베이비 애스타그램 아들스타그램 아들맘 직장인 세젤귀 워킹맘 줌마그램 딸맘\n",
      "Topic 11:\n",
      "반려견 멍스타그램 강아지 개스타그램 댕댕이 dog 고양이 냥스타그램 펫스타그램 견스타그램 dogstagram puppy cat 독스타그램 pet 말티즈 아이폰케이스 산책 캣스타그램 푸들\n",
      "Topic 12:\n",
      "네이버 청라 전주한옥마을 배틀그라운드 효자동맛집 몸매스타그램 펜션 삼척맛집 우승 가볼만한곳 잠실나루 재송동 전주신시가지맛집 베그 밤공기 전주한옥마을맛집 전주객사 동해맛집 삼척여행 한우맛집\n"
     ]
    }
   ],
   "source": [
    "no_top_words = 20\n",
    "display_topics(lda3, tf_feature_names, no_top_words)"
   ]
  },
  {
   "cell_type": "code",
   "execution_count": 49,
   "metadata": {},
   "outputs": [
    {
     "name": "stdout",
     "output_type": "stream",
     "text": [
      "CPU times: user 33min 54s, sys: 3min 17s, total: 37min 11s\n",
      "Wall time: 37min 21s\n"
     ]
    },
    {
     "data": {
      "text/plain": [
       "array([[0.02624605, 0.02656986, 0.02655833, ..., 0.0293362 , 0.62659504,\n",
       "        0.02656295],\n",
       "       [0.02575063, 0.02605611, 0.0262146 , ..., 0.04627494, 0.06042683,\n",
       "        0.02604773],\n",
       "       [0.04933022, 0.05114366, 0.05105691, ..., 0.27039573, 0.0642345 ,\n",
       "        0.05111056],\n",
       "       ...,\n",
       "       [0.03746286, 0.03772663, 0.03771456, ..., 0.03718444, 0.23320336,\n",
       "        0.03772271],\n",
       "       [0.06666667, 0.06666667, 0.06666667, ..., 0.06666667, 0.06666667,\n",
       "        0.06666667],\n",
       "       [0.05810899, 0.05903016, 0.05898609, ..., 0.0566412 , 0.05383643,\n",
       "        0.05901384]])"
      ]
     },
     "execution_count": 49,
     "metadata": {},
     "output_type": "execute_result"
    }
   ],
   "source": [
    "n_topic = 15\n",
    "alpha = 1\n",
    "beta = 1\n",
    "max_iter = 100\n",
    "lda2 = LatentDirichletAllocation(n_components=n_topic, doc_topic_prior=alpha,\\\n",
    "                                topic_word_prior=beta, learning_method='online', max_iter=max_iter)\n",
    "%time lda2.fit_transform(X_train)"
   ]
  },
  {
   "cell_type": "code",
   "execution_count": 51,
   "metadata": {
    "collapsed": true
   },
   "outputs": [
    {
     "name": "stdout",
     "output_type": "stream",
     "text": [
      "Topic 0:\n",
      "서울맛집 강남맛집 강남역 곱창 강남 강남역맛집 역삼맛집 카드깡 역삼동맛집 신논현맛집 대치동맛집 곱창맛집 역삼동 서초맛집 서초동맛집 양재맛집 역삼역맛집 역삼역 양재역맛집 서초동곱창\n",
      "Topic 1:\n",
      "클래식 classic 슈트 awesome 꼼데 아크네 롱패딩 남자코트 겨울신상 시스템 구스다운 슬렉스 구로디지탈단지 하운드투스크체크 더블슈트 커팅진 핸드메이드코트 셋업 솔리드 터틀넥\n",
      "Topic 2:\n",
      "삼척맛집 인천카페 분당타투 시흥호빠 전북출장샵 잠실롯데 남자시계 의정부카페 영덕 동해맛집 부천호빠 삼척여행 대치동카페 길동마사지 부평술집 청라맛집 삼척데이트 철산호빠 인천호빠 부평호빠\n",
      "Topic 3:\n",
      "MustafaCeceli nefesimceceli antalyamcfc MCVeMelekleri MCveMelekleri 햄스터 햄스타그램 골든햄스터 시리안햄스터 syrianhamster hamster hamstagram hamsta 햄스타 goldenhamster 분당미술학원 아동미술 창의미술 분당맘 정자동창의미술\n",
      "Topic 4:\n",
      "제주도 제주맛집 제주도맛집 f4follow 서귀포맛집 제주여행 제주 소통해요 선팔맞팔 소통하자 제주맛집추천 제주도그램 제주서귀포맛집 맥주스타그램 제주도흑돼지맛집 제주도여행 제주흑돼지 제주도흑돼지 서귀포흑돼지맛집 서귀포흑돼지\n",
      "Topic 5:\n",
      "맥주스타그램 맥주 술스타그램 반려견 멍스타그램 beer 강아지 개스타그램 댕댕이 dog 고양이 냥스타그램 펫스타그램 beerstagram 수제맥주 cat 안주스타그램 견스타그램 dogstagram puppy\n",
      "Topic 6:\n",
      "럽스타그램 육아 육아소통 육아스타그램 육아맘 맘스타그램 도치맘 사랑해 젊줌마 딸스타그램 인스타베이비 애스타그램 직장인 아들스타그램 일상 아들맘 세젤귀 워킹맘 줌마그램 딸맘\n",
      "Topic 7:\n",
      "치느님 지름신 그램 못생김 카이 nini kimjongin 치킨 Lay Xiumin Chanyeol Chen EXO Baekhyun Kai Kyungsoo 김종인 Suho Sehun 거울샷\n",
      "Topic 8:\n",
      "먹스타그램 맛스타그램 먹방 남친이랑 맛집 서울맛집 food 점심 데이트 먹스타 foodstagram instafood 디저트 먹방스타그램 JMT 존맛 맛스타 먹부림 핫플레이스 부산맛집\n",
      "Topic 9:\n",
      "이벤트 아시안게임 축구 로또 주말 호텔 골프 selpic 토토사이트 공항 안전공원 야구 토토사이트추천 스포츠가족방 사다리가족방 사설사이트추천 픽스터가족방 사설사이트 프로토가족방 파워볼가족방\n",
      "Topic 10:\n",
      "아침식사 장미 tumblr 먹기 Korean 해물 노랑 돼지고기 ASMR 라이프스타일 80s 가기 EatingSounds 담홍색 SocialEating japaneseaesthetic Mukbang 공식만찬 KoreanFood KoreanAsmr\n",
      "Topic 11:\n",
      "아이폰케이스 폰케이스 커플케이스 발렌티노 아이폰7케이스 팔찌 발렌시아가 나이키오프화이트 몽블랑 아이폰x케이스 불가리 막스마라 겐조 아이폰8케이스 갤럭시케이스 오프화이트 보태가베네타 남여 노트8케이스 구찌로퍼\n",
      "Topic 12:\n",
      "여행에미치다 여행 여행스타그램 travel 휴가 korea photography 일본 seoul 사랑 여름휴가 바다 trip 한국 풍경 감성 감성사진 여름 커플 웨딩\n",
      "Topic 13:\n",
      "일상 소통 데일리 맞팔 좋아요 선팔 셀스타그램 셀카 셀피 daily 일상스타그램 팔로우 먹스타그램 얼스타그램 선팔하면맞팔 럽스타그램 좋아요반사 selfie ootd 인친\n",
      "Topic 14:\n",
      "음주스타그램 숙취해소 오징어 알쓰 술먹고 grn안티이불킥 생선구이 지금부터안티이불킥 숙취해소제 편의점 숙취그램 grn숙취해소제 애플망고 GRN 숙취해소약 두통 편의점신상 술자리 집밥요리 숙취해소제추천\n"
     ]
    }
   ],
   "source": [
    "no_top_words = 20\n",
    "display_topics(lda2, tf_feature_names, no_top_words)"
   ]
  },
  {
   "cell_type": "code",
   "execution_count": 44,
   "metadata": {},
   "outputs": [
    {
     "name": "stdout",
     "output_type": "stream",
     "text": [
      "CPU times: user 28min 23s, sys: 2min 29s, total: 30min 52s\n",
      "Wall time: 30min 58s\n"
     ]
    },
    {
     "data": {
      "text/plain": [
       "array([[0.02846244, 0.0286302 , 0.0284547 , ..., 0.02905464, 0.03246129,\n",
       "        0.02871719],\n",
       "       [0.03777424, 0.05374912, 0.02800077, ..., 0.60388787, 0.02775478,\n",
       "        0.0282349 ],\n",
       "       [0.05388883, 0.37355609, 0.05378705, ..., 0.06878303, 0.05252348,\n",
       "        0.05307958],\n",
       "       ...,\n",
       "       [0.04232602, 0.04230973, 0.04249317, ..., 0.04161423, 0.04190817,\n",
       "        0.04216267],\n",
       "       [0.08333333, 0.08333333, 0.08333333, ..., 0.08333333, 0.08333333,\n",
       "        0.08333333],\n",
       "       [0.25329192, 0.06911207, 0.06908809, ..., 0.0665963 , 0.06731142,\n",
       "        0.06856965]])"
      ]
     },
     "execution_count": 44,
     "metadata": {},
     "output_type": "execute_result"
    }
   ],
   "source": [
    "n_topic = 12\n",
    "alpha = 1\n",
    "beta = 1\n",
    "max_iter = 100\n",
    "lda1 = LatentDirichletAllocation(n_components=n_topic, doc_topic_prior=alpha,\\\n",
    "                                topic_word_prior=beta, learning_method='online', max_iter=max_iter)\n",
    "%time lda1.fit_transform(X_train)"
   ]
  },
  {
   "cell_type": "code",
   "execution_count": 50,
   "metadata": {},
   "outputs": [
    {
     "data": {
      "text/plain": [
       "7687.474173442467"
      ]
     },
     "execution_count": 50,
     "metadata": {},
     "output_type": "execute_result"
    }
   ],
   "source": [
    "lda2.perplexity(X_train)"
   ]
  },
  {
   "cell_type": "code",
   "execution_count": 46,
   "metadata": {},
   "outputs": [
    {
     "data": {
      "text/plain": [
       "6820.714936895478"
      ]
     },
     "execution_count": 46,
     "metadata": {},
     "output_type": "execute_result"
    }
   ],
   "source": [
    "lda1.perplexity(X_train)"
   ]
  },
  {
   "cell_type": "code",
   "execution_count": 48,
   "metadata": {},
   "outputs": [
    {
     "data": {
      "text/plain": [
       "(5625.178948218268, 6259.854023980742)"
      ]
     },
     "execution_count": 48,
     "metadata": {},
     "output_type": "execute_result"
    }
   ],
   "source": [
    "lda.perplexity(X_train), lda0.perplexity(X_train)"
   ]
  },
  {
   "cell_type": "code",
   "execution_count": 55,
   "metadata": {},
   "outputs": [],
   "source": [
    "from sklearn.externals import joblib\n",
    "def saveModelObjectAsPickle(model, fileName):\n",
    "    joblib.dump(model, fileName)"
   ]
  },
  {
   "cell_type": "code",
   "execution_count": 56,
   "metadata": {},
   "outputs": [],
   "source": [
    "saveModelObjectAsPickle(lda, \"lda_topic_8.pkl\")\n",
    "saveModelObjectAsPickle(lda0, \"lda_topic_10.pkl\")\n",
    "saveModelObjectAsPickle(lda1, \"lda_topic_12.pkl\")\n",
    "saveModelObjectAsPickle(lda2, \"lda_topic_15.pkl\")\n",
    "saveModelObjectAsPickle(lda3, \"lda_topic_13.pkl\")"
   ]
  },
  {
   "cell_type": "code",
   "execution_count": 66,
   "metadata": {},
   "outputs": [],
   "source": [
    "y_pred = lda1.transform(X_train)"
   ]
  },
  {
   "cell_type": "code",
   "execution_count": 68,
   "metadata": {},
   "outputs": [],
   "source": [
    "y_pred = y_pred.argmax(axis=1)"
   ]
  },
  {
   "cell_type": "code",
   "execution_count": null,
   "metadata": {},
   "outputs": [],
   "source": []
  },
  {
   "cell_type": "code",
   "execution_count": 72,
   "metadata": {},
   "outputs": [
    {
     "data": {
      "text/plain": [
       "41240"
      ]
     },
     "execution_count": 72,
     "metadata": {},
     "output_type": "execute_result"
    }
   ],
   "source": [
    "len(train)"
   ]
  },
  {
   "cell_type": "code",
   "execution_count": 70,
   "metadata": {},
   "outputs": [
    {
     "data": {
      "text/plain": [
       "34275"
      ]
     },
     "execution_count": 70,
     "metadata": {},
     "output_type": "execute_result"
    }
   ],
   "source": [
    "len(y_pred)"
   ]
  },
  {
   "cell_type": "code",
   "execution_count": 45,
   "metadata": {
    "scrolled": true
   },
   "outputs": [
    {
     "name": "stdout",
     "output_type": "stream",
     "text": [
      "Topic 0:\n",
      "반려견 멍스타그램 강아지 개스타그램 댕댕이 dog 펫스타그램 견스타그램 dogstagram puppy 독스타그램 pet 말티즈 산책 푸들 instadog 포메 멍멍이 포메라니안 인스타독\n",
      "Topic 1:\n",
      "사랑 art 글스타그램 그림 공감 글귀 일러스트 생각 성남 직장 독서 책스타그램 직장인 감성 drawing 음악 작가 design 예술 끄적끄적\n",
      "Topic 2:\n",
      "용인 선물 취미 꽃스타그램 핸드메이드 꽃다발 생일선물 원데이클래스 귀걸이 인테리어소품 악세사리 flower 플로리스트 flowers 차스타그램 플라워레슨 답례품 선물추천 집들이선물 꽃바구니\n",
      "Topic 3:\n",
      "제주도 제주맛집 제주도맛집 f4follow 서귀포맛집 제주여행 제주 선팔맞팔 소통해요 소통하자 제주맛집추천 제주도그램 제주서귀포맛집 맥주스타그램 제주도흑돼지맛집 제주도여행 제주흑돼지 제주도흑돼지 서귀포흑돼지맛집 서귀포흑돼지\n",
      "Topic 4:\n",
      "남친이랑 서울맛집 데이트 강남맛집 부산맛집 대구맛집 강남역 곱창 강남역맛집 강남 역삼맛집 카드깡 역삼동맛집 신논현맛집 대치동맛집 곱창맛집 역삼동 서초맛집 서초동맛집 양재맛집\n",
      "Topic 5:\n",
      "일상 소통 데일리 맞팔 좋아요 선팔 셀스타그램 셀카 셀피 daily 일상스타그램 팔로우 먹스타그램 럽스타그램 얼스타그램 선팔하면맞팔 좋아요반사 selfie ootd 인친\n",
      "Topic 6:\n",
      "발렌티노 발렌시아가 팔찌 나이키오프화이트 몽블랑 막스마라 불가리 오프화이트 겐조 보태가베네타 남여 구찌로퍼 슈프림 구찌블로퍼 강남카페 발렌시아가트리플s 루이비통스니커즈 구찌스니커즈 베트멍 발렌시아가스피드러너\n",
      "Topic 7:\n",
      "아이폰케이스 폰케이스 커플케이스 아이폰7케이스 아이폰x케이스 아이폰8케이스 갤럭시케이스 노트8케이스 핸드폰케이스 케이스 asmr 노트9케이스 갤럭시s9케이스 갤럭시s9플러스케이스 아이폰6케이스 갤럭시s8케이스 피부관리 아이폰8 아이폰6s케이스 아이폰7플러스케이스\n",
      "Topic 8:\n",
      "먹스타그램 맛스타그램 먹방 맥주스타그램 맛집 술스타그램 food 점심 맥주 먹스타 foodstagram instafood 먹방스타그램 존맛 맛스타 먹부림 음식 디저트 푸드스타그램 맛있다\n",
      "Topic 9:\n",
      "럽스타그램 육아 육아소통 육아스타그램 육아맘 맘스타그램 도치맘 사랑해 젊줌마 딸스타그램 인스타베이비 직장인 애스타그램 아들스타그램 일상 아들맘 세젤귀 워킹맘 줌마그램 딸맘\n",
      "Topic 10:\n",
      "여행에미치다 여행 여행스타그램 travel 휴가 korea photography 일본 seoul 여름휴가 trip 한국 풍경 바다 여름 스냅 웨딩 하늘 감성사진 럽스타그램\n",
      "Topic 11:\n",
      "서울맛집 핫플레이스 JMT 맛집투어 서울여행 용산맛집 숙대맛집 남영동맛집 seoullife 맛집골목 후암동맛집 youngsan 삼각지맛집 seoultravel seouleats 냥스타그램 고양이 마카롱 행복하자 cat\n"
     ]
    }
   ],
   "source": [
    "no_top_words = 20\n",
    "display_topics(lda1, tf_feature_names, no_top_words)"
   ]
  },
  {
   "cell_type": "code",
   "execution_count": 42,
   "metadata": {},
   "outputs": [
    {
     "name": "stdout",
     "output_type": "stream",
     "text": [
      "CPU times: user 24min 43s, sys: 2min 4s, total: 26min 48s\n",
      "Wall time: 26min 51s\n"
     ]
    },
    {
     "data": {
      "text/plain": [
       "array([[0.03034193, 0.03009292, 0.72674743, ..., 0.03009416, 0.02990435,\n",
       "        0.02995341],\n",
       "       [0.02898188, 0.02928155, 0.05213581, ..., 0.03110121, 0.02927703,\n",
       "        0.05513075],\n",
       "       [0.05782456, 0.06067132, 0.09648807, ..., 0.06066269, 0.06028198,\n",
       "        0.40280782],\n",
       "       ...,\n",
       "       [0.0450813 , 0.04566523, 0.27892614, ..., 0.04570353, 0.04561407,\n",
       "        0.045772  ],\n",
       "       [0.1       , 0.1       , 0.1       , ..., 0.1       , 0.1       ,\n",
       "        0.1       ],\n",
       "       [0.07771726, 0.08053127, 0.07323953, ..., 0.08048504, 0.08015895,\n",
       "        0.0797431 ]])"
      ]
     },
     "execution_count": 42,
     "metadata": {},
     "output_type": "execute_result"
    }
   ],
   "source": [
    "n_topic = 10\n",
    "alpha = 1\n",
    "beta = 1\n",
    "max_iter = 100\n",
    "lda0 = LatentDirichletAllocation(n_components=n_topic, doc_topic_prior=alpha,\\\n",
    "                                topic_word_prior=beta, learning_method='online', max_iter=max_iter)\n",
    "%time lda0.fit_transform(X_train)"
   ]
  },
  {
   "cell_type": "code",
   "execution_count": 43,
   "metadata": {
    "scrolled": true
   },
   "outputs": [
    {
     "name": "stdout",
     "output_type": "stream",
     "text": [
      "Topic 0:\n",
      "맥주스타그램 여행에미치다 여행 여행스타그램 남친이랑 travel 맥주 휴가 korea 술스타그램 beer photography seoul 여름 일본 여름휴가 trip 바다 한국 풍경\n",
      "Topic 1:\n",
      "bts kpop 방탄소년단 jungkook jimin jhope jin suga army taehyung bangtanboys rm BTS jeonjungkook kimtaehyung bangtansonyeondan parkjimin yoongi exo namjoon\n",
      "Topic 2:\n",
      "일상 소통 데일리 맞팔 좋아요 선팔 셀스타그램 셀카 셀피 daily 일상스타그램 팔로우 먹스타그램 얼스타그램 선팔하면맞팔 럽스타그램 좋아요반사 selfie ootd 인친\n",
      "Topic 3:\n",
      "먹스타그램 맛스타그램 먹방 맛집 서울맛집 남친이랑 food 점심 먹스타 데이트 술스타그램 foodstagram instafood 일상 디저트 먹방스타그램 JMT 맛스타 존맛 먹부림\n",
      "Topic 4:\n",
      "럽스타그램 육아 육아소통 육아스타그램 육아맘 맘스타그램 도치맘 사랑해 일상 젊줌마 딸스타그램 직장인 인스타베이비 애스타그램 아들스타그램 아들맘 세젤귀 워킹맘 줌마그램 딸맘\n",
      "Topic 5:\n",
      "카드깡 서울맛집 남친이랑 모바일문화상품권 상품권현금화 신용카드현금화 굿핀 해피머니 컬쳐랜드 일수대출 신용카드대출 모바 용인 신촌맛집 art 그림 초현당 성남 일러스트 팔로잉\n",
      "Topic 6:\n",
      "반려견 멍스타그램 강아지 개스타그램 댕댕이 dog 고양이 웨딩 냥스타그램 펫스타그램 결혼 예신 샤넬 결혼준비 구찌 웨딩촬영 견스타그램 dogstagram 루이비통 럽스타그램\n",
      "Topic 7:\n",
      "아이폰케이스 폰케이스 커플케이스 아이폰7케이스 아이폰x케이스 아이폰8케이스 갤럭시케이스 노트8케이스 피부관리 MustafaCeceli nefesimceceli 핸드폰케이스 케이스 노트9케이스 antalyamcfc 갤럭시s9케이스 아이폰8 갤럭시s9플러스케이스 아이폰6케이스 갤럭시s8케이스\n",
      "Topic 8:\n",
      "대전맛집 서울맛집 부산맛집 대구맛집 종로맛집 부산여행 행복하자 대전 네일아트 둔산동 세종 남자옷 이태원맛집 성남네일 명동맛집 서면맛집 유성 맛집탐방 젤네일 속눈썹펌\n",
      "Topic 9:\n",
      "제주도 제주맛집 제주도맛집 f4follow 소통해요 선팔맞팔 소통하자 서귀포맛집 제주여행 맥주스타그램 제주 제주맛집추천 제주도그램 제주서귀포맛집 영화 사랑 제주도흑돼지맛집 제주도여행 글스타그램 제주흑돼지\n"
     ]
    }
   ],
   "source": [
    "no_top_words = 20\n",
    "display_topics(lda0, tf_feature_names, no_top_words)"
   ]
  },
  {
   "cell_type": "code",
   "execution_count": 73,
   "metadata": {},
   "outputs": [
    {
     "data": {
      "text/plain": [
       "34275"
      ]
     },
     "execution_count": 73,
     "metadata": {},
     "output_type": "execute_result"
    }
   ],
   "source": [
    "len(train_0)"
   ]
  },
  {
   "cell_type": "code",
   "execution_count": 29,
   "metadata": {
    "scrolled": true
   },
   "outputs": [
    {
     "name": "stdout",
     "output_type": "stream",
     "text": [
      "CPU times: user 21min 3s, sys: 1min 10s, total: 22min 13s\n",
      "Wall time: 22min 17s\n"
     ]
    },
    {
     "data": {
      "text/plain": [
       "array([[0.03143017, 0.76632969, 0.03146694, ..., 0.03142455, 0.03112262,\n",
       "        0.03149344],\n",
       "       [0.03258212, 0.07030531, 0.03083171, ..., 0.03069922, 0.03174339,\n",
       "        0.04768798],\n",
       "       [0.06747264, 0.07432164, 0.0678736 , ..., 0.06663124, 0.06528969,\n",
       "        0.06574688],\n",
       "       ...,\n",
       "       [0.04989778, 0.30130412, 0.05004762, ..., 0.07608055, 0.06239624,\n",
       "        0.08685205],\n",
       "       [0.125     , 0.125     , 0.125     , ..., 0.125     , 0.125     ,\n",
       "        0.125     ],\n",
       "       [0.09928389, 0.08667791, 0.10025087, ..., 0.0982733 , 0.09624484,\n",
       "        0.32967683]])"
      ]
     },
     "execution_count": 29,
     "metadata": {},
     "output_type": "execute_result"
    }
   ],
   "source": [
    "# vectorizer the features\n",
    "# no_features = 1000\n",
    "\n",
    "cnt_vectorizer = CountVectorizer(lowercase=False)\n",
    "X_train = cnt_vectorizer.fit_transform(train_0)\n",
    "\n",
    "# hyper parameter\n",
    "n_topic = 8\n",
    "alpha = 1\n",
    "beta = 1\n",
    "max_iter = 100\n",
    "\n",
    "# train the model\n",
    "\n",
    "lda = LatentDirichletAllocation(n_components=n_topic, doc_topic_prior=alpha,\\\n",
    "                                topic_word_prior=beta, learning_method='online', max_iter=max_iter)\n",
    "\n",
    "# lda = LatentDirichletAllocation(doc_topic_prior=alpha, topic_word_prior=beta, learning_method='online',\\)\n",
    "%time lda.fit_transform(X_train)\n",
    "# param_range = np.arange(5, 16)\n",
    "# max_iter = [10, 100]\n",
    "# param_grid = {'n_components': param_range, 'max_iter': max_iter }\n",
    "\n",
    "# gs = GridSearchCV(estimator=lda, param_grid=param_grid, cv=10, n_jobs=4)\n",
    "# %time gs = gs.fit(X_train)"
   ]
  },
  {
   "cell_type": "code",
   "execution_count": 30,
   "metadata": {},
   "outputs": [],
   "source": [
    "tf_feature_names = cnt_vectorizer.get_feature_names()"
   ]
  },
  {
   "cell_type": "code",
   "execution_count": 31,
   "metadata": {},
   "outputs": [],
   "source": [
    "test = [\n",
    "    \"와 힘드네..\",\n",
    "    \"세절맛..\",\n",
    "    \"죽겠당\"\n",
    "]"
   ]
  },
  {
   "cell_type": "code",
   "execution_count": 32,
   "metadata": {},
   "outputs": [],
   "source": [
    "test_ = cnt_vectorizer.transform(test)"
   ]
  },
  {
   "cell_type": "code",
   "execution_count": 40,
   "metadata": {},
   "outputs": [],
   "source": [
    "doc_topic_dist_unnormalized = np.matrix(lda.transform(test_))\n",
    "\n",
    "# normalize the distribution (only needed if you want to work with the probabilities)\n",
    "doc_topic_dist = doc_topic_dist_unnormalized/doc_topic_dist_unnormalized.sum(axis=1)"
   ]
  },
  {
   "cell_type": "code",
   "execution_count": 36,
   "metadata": {},
   "outputs": [
    {
     "data": {
      "text/plain": [
       "matrix([[6],\n",
       "        [0],\n",
       "        [0],\n",
       "        [0]])"
      ]
     },
     "execution_count": 36,
     "metadata": {},
     "output_type": "execute_result"
    }
   ],
   "source": [
    "doc_topic_dist.argmax(axis=1)"
   ]
  },
  {
   "cell_type": "code",
   "execution_count": 41,
   "metadata": {
    "scrolled": false
   },
   "outputs": [
    {
     "name": "stdout",
     "output_type": "stream",
     "text": [
      "Topic 0:\n",
      "선물 취미 bts 그림 kpop art 방탄소년단 꽃스타그램 핸드메이드 일러스트 성남 꽃다발 행복하자 jungkook jimin 원데이클래스 drawing jhope 생일선물 세종\n",
      "Topic 1:\n",
      "일상 소통 데일리 맞팔 좋아요 선팔 셀스타그램 셀카 셀피 daily 일상스타그램 팔로우 먹스타그램 얼스타그램 선팔하면맞팔 럽스타그램 좋아요반사 selfie ootd 인친\n",
      "Topic 2:\n",
      "서울맛집 강남맛집 강남역 곱창 강남 강남역맛집 역삼맛집 카드깡 역삼동맛집 신논현맛집 대치동맛집 맛스타그램 곱창맛집 역삼동 서초맛집 서초동맛집 양재맛집 역삼역맛집 역삼역 양재역맛집\n",
      "Topic 3:\n",
      "여행에미치다 여행 여행스타그램 travel 휴가 다이어트 korea photography 커플 사랑 여름 직장인 seoul 일본 운동하는여자 여름휴가 럽스타그램 바다 trip 다이어터\n",
      "Topic 4:\n",
      "럽스타그램 육아 육아소통 육아스타그램 육아맘 맘스타그램 도치맘 사랑해 젊줌마 딸스타그램 인스타베이비 일상 애스타그램 아들스타그램 직장인 아들맘 세젤귀 워킹맘 줌마그램 딸맘\n",
      "Topic 5:\n",
      "제주도 선팔맞팔 제주맛집 제주도맛집 부산맛집 소통해요 f4follow 소통하자 서울맛집 대구맛집 서귀포맛집 제주여행 제주맛집추천 제주도그램 맥주스타그램 제주 제주서귀포맛집 대전맛집 맛집탐방 서면맛집\n",
      "Topic 6:\n",
      "남친이랑 맥주스타그램 술스타그램 맥주 데이트 beer 수제맥주 주말 소주 치맥 치킨 혼술 이벤트 맥주한잔 영화 소맥 아시안게임 beerstagram 술안주 남친\n",
      "Topic 7:\n",
      "먹스타그램 먹방 맛스타그램 맛집 food 서울맛집 점심 먹스타 일상 instafood foodstagram 디저트 JMT 핫플레이스 먹부림 반려견 음식 먹방스타그램 맛스타 푸드스타그램\n"
     ]
    }
   ],
   "source": [
    "no_top_words = 20\n",
    "display_topics(lda, tf_feature_names, no_top_words)"
   ]
  },
  {
   "cell_type": "code",
   "execution_count": null,
   "metadata": {},
   "outputs": [],
   "source": [
    "# predict topics for test data\n",
    "X_test = tf_vectorizer.transform(test)\n",
    "doc_topic_dist_unnormalized = np.matrix(lda.transform(X_test))\n",
    "\n",
    "# normalize the distribution (only needed if you want to work with the probabilities)\n",
    "doc_topic_dist = doc_topic_dist_unnormalized/doc_topic_dist_unnormalized.sum(axis=1)"
   ]
  }
 ],
 "metadata": {
  "kernelspec": {
   "display_name": "Python 3",
   "language": "python",
   "name": "python3"
  },
  "language_info": {
   "codemirror_mode": {
    "name": "ipython",
    "version": 3
   },
   "file_extension": ".py",
   "mimetype": "text/x-python",
   "name": "python",
   "nbconvert_exporter": "python",
   "pygments_lexer": "ipython3",
   "version": "3.6.5"
  }
 },
 "nbformat": 4,
 "nbformat_minor": 2
}
