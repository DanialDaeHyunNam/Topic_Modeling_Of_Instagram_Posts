{
 "cells": [
  {
   "cell_type": "markdown",
   "metadata": {},
   "source": [
    "# Project : Instagram Data Clustering"
   ]
  },
  {
   "cell_type": "markdown",
   "metadata": {},
   "source": [
    "# 1. Data Introduce\n",
    "### 1.1 Purpose : To find out popular hashtags are being used and analyze topic using Latent Dirichlet Allocation.\n",
    "\n",
    "### 1.2 Data set:\n",
    "   > - Train Data : 43264 rows, 20 columns"
   ]
  },
  {
   "cell_type": "code",
   "execution_count": 1,
   "metadata": {},
   "outputs": [],
   "source": [
    "from IPython.display import display, Markdown\n",
    "import private_function as pf\n",
    "from sklearn.feature_extraction.text import TfidfVectorizer, CountVectorizer\n",
    "from sklearn.decomposition import LatentDirichletAllocation\n",
    "import pickle as pkl\n",
    "from sklearn.externals import joblib\n",
    "from sklearn.model_selection import train_test_split\n",
    "from sklearn.naive_bayes import MultinomialNB\n",
    "from sklearn.pipeline import Pipeline\n",
    "from sklearn.metrics import confusion_matrix\n",
    "from sklearn.metrics import classification_report\n",
    "from sklearn.metrics import accuracy_score\n",
    "\n",
    "# Pretty display for notebooks\n",
    "%matplotlib inline\n",
    "\n",
    "# Ignore the warnings\n",
    "import warnings\n",
    "warnings.filterwarnings('ignore')\n",
    "\n",
    "def get_x_train_and_features_name(df):\n",
    "    cnt_vectorizer = CountVectorizer(lowercase=False)\n",
    "    X_train = cnt_vectorizer.fit_transform(df)\n",
    "#     cnt_feature_names = cnt_vectorizer.get_feature_names()\n",
    "    return X_train\n",
    "\n",
    "def run_lda(df, n_topic, max_iter = 100):\n",
    "    cnt_vectorizer = CountVectorizer(lowercase=False)\n",
    "    X_train = cnt_vectorizer.fit_transform(df)\n",
    "    cnt_feature_names = cnt_vectorizer.get_feature_names()\n",
    "\n",
    "    # hyper parameter\n",
    "    alpha = 1\n",
    "    beta = 1\n",
    "\n",
    "    # train the model\n",
    "    lda = LatentDirichletAllocation(n_components=n_topic, doc_topic_prior=alpha,\\\n",
    "                                    topic_word_prior=beta, learning_method='online', max_iter=max_iter)\n",
    "\n",
    "    %time lda.fit_transform(X_train)\n",
    "    \n",
    "    return lda, cnt_vectorizer, cnt_feature_names\n",
    "\n",
    "def model_test(test_list, lda_model, cnt_vectorizer):\n",
    "    test_ = cnt_vectorizer.transform(test_list)\n",
    "    doc_topic_dist_unnormalized = np.matrix(lda_model.transform(test_))\n",
    "    doc_topic_dist = doc_topic_dist_unnormalized/doc_topic_dist_unnormalized.sum(axis=1)\n",
    "    print(doc_topic_dist.argmax(axis=1))\n",
    "    return doc_topic_dist.argmax(axis=1)\n",
    "\n",
    "def get_topic_using_lda(lda_model, x_train):\n",
    "    doc_topic_dist_unnormalized = np.matrix(lda_model.transform(x_train))\n",
    "    # normalize the distribution (only needed if you want to work with the probabilities)\n",
    "    doc_topic_dist = doc_topic_dist_unnormalized/doc_topic_dist_unnormalized.sum(axis=1)\n",
    "    return doc_topic_dist.argmax(axis=1)\n",
    "\n",
    "df_train = pkl.load(open(\"asset/df_train.pkl\", \"rb\"))"
   ]
  },
  {
   "cell_type": "code",
   "execution_count": 327,
   "metadata": {
    "collapsed": true
   },
   "outputs": [
    {
     "data": {
      "text/markdown": [
       "['직장인', '럽스타그램', '서울맛집', '먹스타그램', '친스타그램', '여행', '일상', '셀스타그램']"
      ],
      "text/plain": [
       "<IPython.core.display.Markdown object>"
      ]
     },
     "metadata": {},
     "output_type": "display_data"
    },
    {
     "data": {
      "text/markdown": [
       "['seoul']"
      ],
      "text/plain": [
       "<IPython.core.display.Markdown object>"
      ]
     },
     "metadata": {},
     "output_type": "display_data"
    },
    {
     "data": {
      "text/markdown": [
       "job.csv : 2213"
      ],
      "text/plain": [
       "<IPython.core.display.Markdown object>"
      ]
     },
     "metadata": {},
     "output_type": "display_data"
    },
    {
     "data": {
      "text/markdown": [
       "insta_new_5.csv : 2136"
      ],
      "text/plain": [
       "<IPython.core.display.Markdown object>"
      ]
     },
     "metadata": {},
     "output_type": "display_data"
    },
    {
     "data": {
      "text/markdown": [
       "insta_new_4.csv : 2148"
      ],
      "text/plain": [
       "<IPython.core.display.Markdown object>"
      ]
     },
     "metadata": {},
     "output_type": "display_data"
    },
    {
     "data": {
      "text/markdown": [
       "insta_new_3.csv : 2172"
      ],
      "text/plain": [
       "<IPython.core.display.Markdown object>"
      ]
     },
     "metadata": {},
     "output_type": "display_data"
    },
    {
     "data": {
      "text/markdown": [
       "insta_new_2.csv : 465"
      ],
      "text/plain": [
       "<IPython.core.display.Markdown object>"
      ]
     },
     "metadata": {},
     "output_type": "display_data"
    },
    {
     "data": {
      "text/markdown": [
       "insta_new_1.csv : 2029"
      ],
      "text/plain": [
       "<IPython.core.display.Markdown object>"
      ]
     },
     "metadata": {},
     "output_type": "display_data"
    },
    {
     "data": {
      "text/markdown": [
       "insta_new.csv : 2203"
      ],
      "text/plain": [
       "<IPython.core.display.Markdown object>"
      ]
     },
     "metadata": {},
     "output_type": "display_data"
    },
    {
     "data": {
      "text/markdown": [
       "insta_train.csv : 5"
      ],
      "text/plain": [
       "<IPython.core.display.Markdown object>"
      ]
     },
     "metadata": {},
     "output_type": "display_data"
    },
    {
     "data": {
      "text/markdown": [
       "insta_food_1.csv : 2217"
      ],
      "text/plain": [
       "<IPython.core.display.Markdown object>"
      ]
     },
     "metadata": {},
     "output_type": "display_data"
    },
    {
     "data": {
      "text/markdown": [
       "insta_food.csv : 1911"
      ],
      "text/plain": [
       "<IPython.core.display.Markdown object>"
      ]
     },
     "metadata": {},
     "output_type": "display_data"
    },
    {
     "data": {
      "text/markdown": [
       "food.csv : 1986"
      ],
      "text/plain": [
       "<IPython.core.display.Markdown object>"
      ]
     },
     "metadata": {},
     "output_type": "display_data"
    },
    {
     "data": {
      "text/markdown": [
       "beer.csv : 1970"
      ],
      "text/plain": [
       "<IPython.core.display.Markdown object>"
      ]
     },
     "metadata": {},
     "output_type": "display_data"
    },
    {
     "data": {
      "text/markdown": [
       "food_1.csv : 2068"
      ],
      "text/plain": [
       "<IPython.core.display.Markdown object>"
      ]
     },
     "metadata": {},
     "output_type": "display_data"
    },
    {
     "data": {
      "text/markdown": [
       "food_2.csv : 2089"
      ],
      "text/plain": [
       "<IPython.core.display.Markdown object>"
      ]
     },
     "metadata": {},
     "output_type": "display_data"
    },
    {
     "data": {
      "text/markdown": [
       "food_3.csv : 2046"
      ],
      "text/plain": [
       "<IPython.core.display.Markdown object>"
      ]
     },
     "metadata": {},
     "output_type": "display_data"
    },
    {
     "data": {
      "text/markdown": [
       "friend.csv : 1888"
      ],
      "text/plain": [
       "<IPython.core.display.Markdown object>"
      ]
     },
     "metadata": {},
     "output_type": "display_data"
    },
    {
     "data": {
      "text/markdown": [
       "trip_1.csv : 1145"
      ],
      "text/plain": [
       "<IPython.core.display.Markdown object>"
      ]
     },
     "metadata": {},
     "output_type": "display_data"
    },
    {
     "data": {
      "text/markdown": [
       "trip.csv : 2533"
      ],
      "text/plain": [
       "<IPython.core.display.Markdown object>"
      ]
     },
     "metadata": {},
     "output_type": "display_data"
    },
    {
     "data": {
      "text/markdown": [
       "daily.csv : 2195"
      ],
      "text/plain": [
       "<IPython.core.display.Markdown object>"
      ]
     },
     "metadata": {},
     "output_type": "display_data"
    },
    {
     "data": {
      "text/markdown": [
       "daily_2.csv : 785"
      ],
      "text/plain": [
       "<IPython.core.display.Markdown object>"
      ]
     },
     "metadata": {},
     "output_type": "display_data"
    },
    {
     "data": {
      "text/markdown": [
       "daily_1.csv : 2312"
      ],
      "text/plain": [
       "<IPython.core.display.Markdown object>"
      ]
     },
     "metadata": {},
     "output_type": "display_data"
    },
    {
     "data": {
      "text/markdown": [
       "selfie.csv : 2156"
      ],
      "text/plain": [
       "<IPython.core.display.Markdown object>"
      ]
     },
     "metadata": {},
     "output_type": "display_data"
    },
    {
     "data": {
      "text/markdown": [
       "seongnam.csv : 960"
      ],
      "text/plain": [
       "<IPython.core.display.Markdown object>"
      ]
     },
     "metadata": {},
     "output_type": "display_data"
    },
    {
     "data": {
      "text/markdown": [
       "seoul_2.csv : 19"
      ],
      "text/plain": [
       "<IPython.core.display.Markdown object>"
      ]
     },
     "metadata": {},
     "output_type": "display_data"
    },
    {
     "data": {
      "text/markdown": [
       "seoul_1.csv : 960"
      ],
      "text/plain": [
       "<IPython.core.display.Markdown object>"
      ]
     },
     "metadata": {},
     "output_type": "display_data"
    },
    {
     "data": {
      "text/markdown": [
       "incheon.csv : 960"
      ],
      "text/plain": [
       "<IPython.core.display.Markdown object>"
      ]
     },
     "metadata": {},
     "output_type": "display_data"
    },
    {
     "data": {
      "text/markdown": [
       "seoul.csv : 880"
      ],
      "text/plain": [
       "<IPython.core.display.Markdown object>"
      ]
     },
     "metadata": {},
     "output_type": "display_data"
    },
    {
     "data": {
      "text/markdown": [
       "yongin.csv : 960"
      ],
      "text/plain": [
       "<IPython.core.display.Markdown object>"
      ]
     },
     "metadata": {},
     "output_type": "display_data"
    },
    {
     "data": {
      "text/markdown": [
       "gyeonggido.csv : 960"
      ],
      "text/plain": [
       "<IPython.core.display.Markdown object>"
      ]
     },
     "metadata": {},
     "output_type": "display_data"
    },
    {
     "name": "stdout",
     "output_type": "stream",
     "text": [
      "29\n",
      "Df list length : 29\n",
      "Df length changes after concat (if 0 means all datas are unique) : 0\n",
      "Df length changes after concat (if 0 means all datas are unique) : 0\n",
      "Df length changes after concat (if 0 means all datas are unique) : 1095\n",
      "Df length changes after concat (if 0 means all datas are unique) : 411\n",
      "Df length changes after concat (if 0 means all datas are unique) : 54\n",
      "Df length changes after concat (if 0 means all datas are unique) : 131\n",
      "Df length changes after concat (if 0 means all datas are unique) : 0\n",
      "Df length changes after concat (if 0 means all datas are unique) : 35\n",
      "Df length changes after concat (if 0 means all datas are unique) : 16\n",
      "Df length changes after concat (if 0 means all datas are unique) : 75\n",
      "Df length changes after concat (if 0 means all datas are unique) : 11\n",
      "Df length changes after concat (if 0 means all datas are unique) : 42\n",
      "Df length changes after concat (if 0 means all datas are unique) : 358\n",
      "Df length changes after concat (if 0 means all datas are unique) : 19\n",
      "Df length changes after concat (if 0 means all datas are unique) : 176\n",
      "Df length changes after concat (if 0 means all datas are unique) : 15\n",
      "Df length changes after concat (if 0 means all datas are unique) : 0\n",
      "Df length changes after concat (if 0 means all datas are unique) : 55\n",
      "Df length changes after concat (if 0 means all datas are unique) : 20\n",
      "Df length changes after concat (if 0 means all datas are unique) : 304\n",
      "Df length changes after concat (if 0 means all datas are unique) : 286\n",
      "Df length changes after concat (if 0 means all datas are unique) : 0\n",
      "Df length changes after concat (if 0 means all datas are unique) : 0\n",
      "Df length changes after concat (if 0 means all datas are unique) : 1\n",
      "Df length changes after concat (if 0 means all datas are unique) : 1\n",
      "Df length changes after concat (if 0 means all datas are unique) : 1\n",
      "Df length changes after concat (if 0 means all datas are unique) : 0\n",
      "Df length changes after concat (if 0 means all datas are unique) : 1\n",
      "df_train shape : (43264, 15)\n"
     ]
    },
    {
     "data": {
      "text/plain": [
       "(46899, 14241)"
      ]
     },
     "execution_count": 327,
     "metadata": {},
     "output_type": "execute_result"
    }
   ],
   "source": [
    "df_li = pf.getAllDataFrame()\n",
    "train = pf.makeOneTrainDf(df_li)\n",
    "train = pf.make_df_i_want(train)\n",
    "counter = pf.get_counter(train)\n",
    "counter.most_common()\n",
    "tag_count = 0\n",
    "for tup in counter.most_common():\n",
    "    tag_count += tup[1]\n",
    "tag_count, len(counter)"
   ]
  },
  {
   "cell_type": "code",
   "execution_count": 328,
   "metadata": {},
   "outputs": [
    {
     "data": {
      "text/plain": [
       "(38791, 2076)"
      ]
     },
     "execution_count": 328,
     "metadata": {},
     "output_type": "execute_result"
    }
   ],
   "source": [
    "X_test0 = train[train[\"tags_str\"] == \"\"][\"tags_str\"].values\n",
    "X_train = train[train[\"tags_str\"] != \"\"][\"tags_str\"].values\n",
    "len(X_train), len(X_test)"
   ]
  },
  {
   "cell_type": "code",
   "execution_count": 8,
   "metadata": {},
   "outputs": [],
   "source": [
    "lda_model12 = joblib.load(\"lda_model12.pkl\")\n",
    "feature_names_12 = joblib.load(\"lda_model12_feature_name.pkl\")\n",
    "lda_model13 = joblib.load(\"lda_model13.pkl\")\n",
    "feature_names_13 = joblib.load(\"lda_model13_feature_name.pkl\")\n",
    "lda_model14 = joblib.load(\"lda_model14.pkl\")\n",
    "feature_names_14 = joblib.load(\"lda_model14_feature_name.pkl\")"
   ]
  },
  {
   "cell_type": "markdown",
   "metadata": {},
   "source": [
    "## Topic별 Top 20 키워드\n",
    "\n",
    "### Topic 0: 여행스타그램\n",
    "여행에미치다 여행스타그램 여행 travel 휴가 korea photography 일본 photo seoul 바다 감성사진 한국 trip 풍경 웨딩 럽스타그램 스냅 예신 결혼\n",
    "\n",
    "### Topic 1: 대출 광고\n",
    "신용카드현금화 카드깡 상품권현금화 소액결제 소액결제현금화 모바일문화상품권 굿핀 해피머니 컬쳐랜드 신용카드대출 일수대출 모바 홍대맛집 휴대폰소액결제 차스타그램 핸드폰소액결제 빈티지 골프 상품권 비트코인\n",
    "\n",
    "### Topic 2: 운동스타그램\n",
    "다이어트 운동하는여자 다이어터 다이어트식단 용인 diet 다이어트그램 꽃다발 꽃스타그램 식단 헬스 flower 운동 운스타그램 fitness 플로리스트 유지어터 workout 운동하는남자 식단일기\n",
    "\n",
    "### Topic 3: 신발 광고\n",
    "축구 헬스 커플신발 푸마 레플 해외직구 아웃도어 커플운동화 나이키에어맥스 신발쇼핑몰 신상신발 등산화 신발도매 명품등산화 유행신발 아디다스신발 GGDB 아식스 아디다스울트라부스트 NEWBALANCE\n",
    "\n",
    "### Topic 4: Kpop\n",
    "kpop bts exo 귀여운 blackpink 여자 korea kawaii 아름다운 自撮り boy asmr korean 속초맛집 Asia jisoo kpopl4l tomboy селфи 自分撮り\n",
    "\n",
    "### Topic 5: 서울 맛집\n",
    "서울맛집 부산맛집 강남맛집 대구맛집 곱창 홍대맛집 강남역 강남역맛집 대전맛집 강남 맛스타그램 역삼맛집 이태원맛집 역삼동맛집 신논현맛집 대치동맛집 서면맛집 곱창맛집 역삼동 서초맛집\n",
    "\n",
    "### Topic 6: 럽스타그램\n",
    "남친이랑 데이트 커플 사랑해 럽스타 커플스타그램 남자친구 영화 연애중 연애 행복 남친 고마워 사랑꾼 ㅋㅋㅋ 행복해 데이트그램 사랑 여자친구 화이팅\n",
    "\n",
    "### Topic 7: 육아스타그램\n",
    "럽스타그램 육아 육아스타그램 육아소통 육아맘 맘스타그램 도치맘 일상 젊줌마 딸스타그램 인스타베이비 애스타그램 직장인 아들스타그램 사랑해 아들맘 세젤귀 반려견 워킹맘 멍스타그램\n",
    "\n",
    "### Topic 8: 토토 등 사이트 및 명품 광고\n",
    "토토사이트추천 겐조 샤넬 서울맛집 운동하는남자 럽스타 핫플레이스 커플 구찌 에르메스 술스타그램 토토사이트 발렌티노 팔찌 스포츠가족방 사설사이트추천 파워볼가족방 프로토가족방 픽스터가족방 사설사이트\n",
    "\n",
    "### Topic 9: 폰케이스 광고\n",
    "선물 직장인 아이폰케이스 냥스타그램 마카롱 취미 고양이 폰케이스 아이폰8 커플케이스 공감 그림 글스타그램 기념일 디저트 일러스트 아이폰7케이스 아이폰x케이스 글귀 귀걸이\n",
    "\n",
    "### Topic 10: 먹스타그램\n",
    "먹스타그램 먹방 맛스타그램 맛집 맥주스타그램 food 술스타그램 점심 먹스타 맥주 instafood foodstagram 먹방스타그램 음식 존맛 맛스타 먹부림 푸드스타그램 맛있다 디저트\n",
    "\n",
    "### Topic 11: 일상적인 해시태그\n",
    "일상 맞팔 데일리 소통 선팔 셀스타그램 좋아요 셀카 셀피 팔로우 먹스타그램 daily 얼스타그램 일상스타그램 선팔하면맞팔 오오티디 럽스타그램 인친 좋아요반사 ootd\n",
    "\n",
    "### Topic 12: 제주도 맛집 광고\n",
    "제주도 제주도맛집 제주맛집 제주 서귀포맛집 제주여행 f4follow 선팔맞팔 제주맛집추천 소통해요 소통하자 제주도그램 제주서귀포맛집 맥주스타그램 제주도여행 제주도흑돼지맛집 제주흑돼지 제주도흑돼지 서귀포흑돼지맛집 서귀포흑돼지\n",
    "\n",
    "### Topic 13: 거제도 맛집?\n",
    "거제도맛집 거제맛집 포천여행 짖어야개다 평일 포천카페 햄스터 포천이동갈비 삼척맛집 성남애견미용 근무시간 스킨케어 포천맛집 거제대명리조트맛집 성남애견호텔 골든햄스터 살롱순라 햄스타그램 2018년 삼척여행\n",
    "\n",
    "### Topic 14: 반려견스타그램 (lda topic number = 12를 통해서 찾음, 해당 모델에선 topic 8)\n",
    "반려견 멍스타그램 강아지 개스타그램 냥스타그램 아이폰케이스 dog 댕댕이 고양이 펫스타그램 폰케이스 견스타그램 아이폰8 커플케이스 cat dogstagram 아이폰7케이스 아이폰x케이스 puppy 독스타그램\n",
    "\n",
    "### Topic 15: 맥주스타그램 및 치맥 (lda topic number = 13을 통해서 찾음, 해당 모델에선 topic 6)\n",
    "맥주스타그램 술스타그램 맥주 beer 혼술 치맥 수제맥주 소주 소맥 치킨 맥주한잔 술집 beerstagram 크래프트비어 맥주그램 존맛탱 낮술 생맥주 술스타 craftbeer"
   ]
  },
  {
   "cell_type": "markdown",
   "metadata": {},
   "source": [
    "### 1, 3, 8, 9, 12는 다 광고성 글이다"
   ]
  },
  {
   "cell_type": "code",
   "execution_count": 22,
   "metadata": {},
   "outputs": [
    {
     "name": "stdout",
     "output_type": "stream",
     "text": [
      "1 570\n",
      "3 847\n",
      "8 1451\n",
      "9 1114\n",
      "12 529\n"
     ]
    },
    {
     "data": {
      "text/plain": [
       "4511"
      ]
     },
     "execution_count": 22,
     "metadata": {},
     "output_type": "execute_result"
    }
   ],
   "source": [
    "tmp_li = [1, 3, 8, 9, 12]\n",
    "count = 0\n",
    "for topic in tmp_li:\n",
    "    length = len(df_train[df_train.target == topic])\n",
    "    count += length\n",
    "    print(topic, length)\n",
    "count"
   ]
  },
  {
   "cell_type": "code",
   "execution_count": 26,
   "metadata": {},
   "outputs": [
    {
     "data": {
      "text/plain": [
       "Index(['caption', 'comment_cnt', 'first_comment', 'id', 'is_video', 'likes',\n",
       "       'loc_id', 'loc_lat', 'loc_lon', 'loc_name', 'owner_id', 'owner_name',\n",
       "       'shortcode', 'taken_at_timestamp', 'video_view_count', 'tags',\n",
       "       'tags_cnt', 'caption_only', 'tags_str', 'duplicated_tag', 'topic_type',\n",
       "       'topic_type_13', 'topic_type_12', 'target'],\n",
       "      dtype='object')"
      ]
     },
     "execution_count": 26,
     "metadata": {},
     "output_type": "execute_result"
    }
   ],
   "source": [
    "df_train.columns"
   ]
  },
  {
   "cell_type": "code",
   "execution_count": 27,
   "metadata": {},
   "outputs": [],
   "source": [
    "columns = ['caption_only', 'tags_str', 'duplicated_tag', 'topic_type', 'topic_type_13', 'topic_type_12', 'target']"
   ]
  },
  {
   "cell_type": "code",
   "execution_count": 367,
   "metadata": {},
   "outputs": [],
   "source": [
    "train = df_train[columns]"
   ]
  },
  {
   "cell_type": "code",
   "execution_count": 368,
   "metadata": {},
   "outputs": [],
   "source": [
    "train[\"caption_only\"] = train[\"caption_only\"].apply(lambda a: \"\" if type(a) == float else a)"
   ]
  },
  {
   "cell_type": "code",
   "execution_count": 369,
   "metadata": {},
   "outputs": [],
   "source": [
    "train[\"caption_only\"] = train[\"caption_only\"].apply(lambda a: a.strip())"
   ]
  },
  {
   "cell_type": "code",
   "execution_count": 371,
   "metadata": {},
   "outputs": [],
   "source": [
    "train = train[train[\"caption_only\"] != \"\"]"
   ]
  },
  {
   "cell_type": "code",
   "execution_count": 357,
   "metadata": {},
   "outputs": [],
   "source": [
    "X_test0 = train[train[\"tags_str\"] == \"\"]"
   ]
  },
  {
   "cell_type": "code",
   "execution_count": 347,
   "metadata": {},
   "outputs": [],
   "source": [
    "test = X_test0.caption"
   ]
  },
  {
   "cell_type": "code",
   "execution_count": 226,
   "metadata": {},
   "outputs": [],
   "source": [
    "train_ = train[train.target != 11]"
   ]
  },
  {
   "cell_type": "code",
   "execution_count": 377,
   "metadata": {},
   "outputs": [],
   "source": [
    "clf = Pipeline([ \n",
    "    ('vect', TfidfVectorizer(min_df=2)), \n",
    "    ('clf', MultinomialNB(alpha=0.01)) \n",
    "])"
   ]
  },
  {
   "cell_type": "code",
   "execution_count": 378,
   "metadata": {},
   "outputs": [
    {
     "data": {
      "text/plain": [
       "(32796, 3645, 32796, 3645)"
      ]
     },
     "execution_count": 378,
     "metadata": {},
     "output_type": "execute_result"
    }
   ],
   "source": [
    "X_train, X_test, y_train, y_test = train_test_split(train.caption_only, train.topic_type, test_size=0.1, random_state=1)\n",
    "len(X_train), len(X_test), len(y_train), len(y_test)"
   ]
  },
  {
   "cell_type": "code",
   "execution_count": 379,
   "metadata": {},
   "outputs": [
    {
     "name": "stdout",
     "output_type": "stream",
     "text": [
      "CPU times: user 1.22 s, sys: 173 ms, total: 1.4 s\n",
      "Wall time: 1.49 s\n"
     ]
    }
   ],
   "source": [
    "%%time\n",
    "model = clf.fit(X_train, y_train)"
   ]
  },
  {
   "cell_type": "code",
   "execution_count": 348,
   "metadata": {},
   "outputs": [],
   "source": [
    "test = test.dropna()"
   ]
  },
  {
   "cell_type": "code",
   "execution_count": 374,
   "metadata": {},
   "outputs": [],
   "source": [
    "y_pred_test = model.predict(test)"
   ]
  },
  {
   "cell_type": "code",
   "execution_count": 355,
   "metadata": {},
   "outputs": [],
   "source": [
    "X_test0 = X_test0[X_test0.caption != \"\"]"
   ]
  },
  {
   "cell_type": "code",
   "execution_count": 353,
   "metadata": {},
   "outputs": [
    {
     "data": {
      "text/plain": [
       "3861"
      ]
     },
     "execution_count": 353,
     "metadata": {},
     "output_type": "execute_result"
    }
   ],
   "source": [
    "len(y_pred_test)"
   ]
  },
  {
   "cell_type": "code",
   "execution_count": 362,
   "metadata": {},
   "outputs": [],
   "source": [
    "X_test0 = X_test0[~X_test0.caption.isnull()]"
   ]
  },
  {
   "cell_type": "code",
   "execution_count": 375,
   "metadata": {},
   "outputs": [],
   "source": [
    "X_test0[\"target\"] = y_pred_test"
   ]
  },
  {
   "cell_type": "code",
   "execution_count": 376,
   "metadata": {},
   "outputs": [
    {
     "data": {
      "text/html": [
       "<div>\n",
       "<style scoped>\n",
       "    .dataframe tbody tr th:only-of-type {\n",
       "        vertical-align: middle;\n",
       "    }\n",
       "\n",
       "    .dataframe tbody tr th {\n",
       "        vertical-align: top;\n",
       "    }\n",
       "\n",
       "    .dataframe thead th {\n",
       "        text-align: right;\n",
       "    }\n",
       "</style>\n",
       "<table border=\"1\" class=\"dataframe\">\n",
       "  <thead>\n",
       "    <tr style=\"text-align: right;\">\n",
       "      <th></th>\n",
       "      <th>caption</th>\n",
       "      <th>target</th>\n",
       "    </tr>\n",
       "  </thead>\n",
       "  <tbody>\n",
       "    <tr>\n",
       "      <th>6</th>\n",
       "      <td>안늉?</td>\n",
       "      <td>11</td>\n",
       "    </tr>\n",
       "    <tr>\n",
       "      <th>10</th>\n",
       "      <td>금요일 ㅠ ㅠ !</td>\n",
       "      <td>11</td>\n",
       "    </tr>\n",
       "    <tr>\n",
       "      <th>31</th>\n",
       "      <td>♡ B͞͞l͞͞u͞͞e͞͞ O͞͞c͞͞e͞͞a͞͞n͞͞ ♡\\n.\\n여름이라 그런지 ...</td>\n",
       "      <td>9</td>\n",
       "    </tr>\n",
       "    <tr>\n",
       "      <th>34</th>\n",
       "      <td>👉🏻옆으로 넘겨서 봐주세요!\\n.\\n✨8월 31일까지 피어싱,주얼리 10% 할인\\n...</td>\n",
       "      <td>11</td>\n",
       "    </tr>\n",
       "    <tr>\n",
       "      <th>74</th>\n",
       "      <td>♡ S͞͞a͞͞t͞͞e͞͞l͞͞l͞͞i͞͞t͞͞e͞͞ ♡ ❤️ 신상 ❤️\\n.\\n미...</td>\n",
       "      <td>11</td>\n",
       "    </tr>\n",
       "    <tr>\n",
       "      <th>76</th>\n",
       "      <td>♡ K͞͞e͞͞y͞͞ o͞͞f͞͞ H͞͞e͞͞a͞͞r͞͞t͞͞ ♡\\n.\\n키 오브 ...</td>\n",
       "      <td>9</td>\n",
       "    </tr>\n",
       "    <tr>\n",
       "      <th>77</th>\n",
       "      <td>♡ M͞͞e͞͞l͞͞o͞͞d͞͞y͞͞ ♡ 💕 신상 💕\\n.\\n사랑스러운 자개하트와 ...</td>\n",
       "      <td>11</td>\n",
       "    </tr>\n",
       "    <tr>\n",
       "      <th>79</th>\n",
       "      <td>내새꾸💚</td>\n",
       "      <td>7</td>\n",
       "    </tr>\n",
       "    <tr>\n",
       "      <th>81</th>\n",
       "      <td>즐퇴~</td>\n",
       "      <td>5</td>\n",
       "    </tr>\n",
       "    <tr>\n",
       "      <th>87</th>\n",
       "      <td>휴무전날이라 기분이가 쌍코매💗</td>\n",
       "      <td>10</td>\n",
       "    </tr>\n",
       "    <tr>\n",
       "      <th>112</th>\n",
       "      <td>쿄쿄v</td>\n",
       "      <td>11</td>\n",
       "    </tr>\n",
       "    <tr>\n",
       "      <th>115</th>\n",
       "      <td>ㅇㅅㅇ</td>\n",
       "      <td>11</td>\n",
       "    </tr>\n",
       "    <tr>\n",
       "      <th>117</th>\n",
       "      <td>비오닌까 우우래</td>\n",
       "      <td>11</td>\n",
       "    </tr>\n",
       "    <tr>\n",
       "      <th>119</th>\n",
       "      <td>8월31일!</td>\n",
       "      <td>11</td>\n",
       "    </tr>\n",
       "    <tr>\n",
       "      <th>141</th>\n",
       "      <td>이구진을 프로혼밥러에서 탈출 시켜줬다❣️역시 같이먹는 밥이 꿀맛</td>\n",
       "      <td>10</td>\n",
       "    </tr>\n",
       "    <tr>\n",
       "      <th>143</th>\n",
       "      <td>ᑕEᗷᑌ❤︎\\n안녕하세요 인친님들! 제 피드가 많이 뜸했죠ㅠ?\\n세부에서 와이파이도...</td>\n",
       "      <td>11</td>\n",
       "    </tr>\n",
       "    <tr>\n",
       "      <th>145</th>\n",
       "      <td>♡ L͞͞i͞͞g͞͞h͞͞t͞͞ B͞͞ ♡\\n.\\n비트윈어스 귀걸이 중 가장 인기 ...</td>\n",
       "      <td>9</td>\n",
       "    </tr>\n",
       "    <tr>\n",
       "      <th>147</th>\n",
       "      <td>넌 나의 에너지💪</td>\n",
       "      <td>11</td>\n",
       "    </tr>\n",
       "    <tr>\n",
       "      <th>167</th>\n",
       "      <td>-</td>\n",
       "      <td>11</td>\n",
       "    </tr>\n",
       "    <tr>\n",
       "      <th>182</th>\n",
       "      <td>뿌에엥🌪</td>\n",
       "      <td>11</td>\n",
       "    </tr>\n",
       "    <tr>\n",
       "      <th>184</th>\n",
       "      <td>밀크티☕️</td>\n",
       "      <td>11</td>\n",
       "    </tr>\n",
       "    <tr>\n",
       "      <th>190</th>\n",
       "      <td>올해 운 다 쓴 어제, 그리고 소듕한 선물♥️</td>\n",
       "      <td>11</td>\n",
       "    </tr>\n",
       "    <tr>\n",
       "      <th>203</th>\n",
       "      <td>승무원 머리 하고싶엇눙데.. 차마 옆머리없이는 내달떵이를 감당 할 수가 없었다 또르...</td>\n",
       "      <td>11</td>\n",
       "    </tr>\n",
       "    <tr>\n",
       "      <th>221</th>\n",
       "      <td>뿌잉뽀잉~_~</td>\n",
       "      <td>11</td>\n",
       "    </tr>\n",
       "    <tr>\n",
       "      <th>222</th>\n",
       "      <td>s2➰</td>\n",
       "      <td>2</td>\n",
       "    </tr>\n",
       "    <tr>\n",
       "      <th>295</th>\n",
       "      <td>카메라 반대발은 접기</td>\n",
       "      <td>7</td>\n",
       "    </tr>\n",
       "    <tr>\n",
       "      <th>337</th>\n",
       "      <td>-\\n지금 필요한건-\\n감성과 결단력\\n그리고 중요한 실천력</td>\n",
       "      <td>10</td>\n",
       "    </tr>\n",
       "    <tr>\n",
       "      <th>366</th>\n",
       "      <td>우뭇가사리펌을 이은 파래펌</td>\n",
       "      <td>10</td>\n",
       "    </tr>\n",
       "    <tr>\n",
       "      <th>400</th>\n",
       "      <td>제 잃어버린 포토존을 찾아주세요🧐</td>\n",
       "      <td>11</td>\n",
       "    </tr>\n",
       "    <tr>\n",
       "      <th>412</th>\n",
       "      <td>15000원 제품들 보다 훨씬 블링블링하고 \\n길이감 있는 16000원대 두가지 제...</td>\n",
       "      <td>9</td>\n",
       "    </tr>\n",
       "    <tr>\n",
       "      <th>...</th>\n",
       "      <td>...</td>\n",
       "      <td>...</td>\n",
       "    </tr>\n",
       "    <tr>\n",
       "      <th>43063</th>\n",
       "      <td>Today was an amazing day! I’ve met with @ta_k1...</td>\n",
       "      <td>0</td>\n",
       "    </tr>\n",
       "    <tr>\n",
       "      <th>43064</th>\n",
       "      <td>어제 비는 폭우 였고 물속을 달리는듯 했당</td>\n",
       "      <td>11</td>\n",
       "    </tr>\n",
       "    <tr>\n",
       "      <th>43066</th>\n",
       "      <td>교실이 추웠던 나는 이러고 논다</td>\n",
       "      <td>7</td>\n",
       "    </tr>\n",
       "    <tr>\n",
       "      <th>43068</th>\n",
       "      <td>180829\\n좀 만 기다리자.</td>\n",
       "      <td>11</td>\n",
       "    </tr>\n",
       "    <tr>\n",
       "      <th>43070</th>\n",
       "      <td>화성시 양노리 토지매매 ◎평당 30만원대\\n＃화성시_비봉면_양노리\\n\\n화성시는 2...</td>\n",
       "      <td>1</td>\n",
       "    </tr>\n",
       "    <tr>\n",
       "      <th>43074</th>\n",
       "      <td>영회가 기대되는군....\\n베놈 개봉일 10월달\\n캡틴마블 개봉 아마도 2019년3월9일</td>\n",
       "      <td>11</td>\n",
       "    </tr>\n",
       "    <tr>\n",
       "      <th>43076</th>\n",
       "      <td>창문을 열고 전화를 걸었다. 지금 당신이 좋아하는 비가 온다고, 그 핑계로 목소리도...</td>\n",
       "      <td>11</td>\n",
       "    </tr>\n",
       "    <tr>\n",
       "      <th>43081</th>\n",
       "      <td>보셨나요 ㅠㅠ 우리 승우 골 !!💗💗</td>\n",
       "      <td>11</td>\n",
       "    </tr>\n",
       "    <tr>\n",
       "      <th>43089</th>\n",
       "      <td>내일 날씨 좋음 예상해봅니다</td>\n",
       "      <td>11</td>\n",
       "    </tr>\n",
       "    <tr>\n",
       "      <th>43096</th>\n",
       "      <td>떠나요오</td>\n",
       "      <td>11</td>\n",
       "    </tr>\n",
       "    <tr>\n",
       "      <th>43102</th>\n",
       "      <td>🎵 Polina boldy goi endi kait dim 😂\\n@gagara1987</td>\n",
       "      <td>11</td>\n",
       "    </tr>\n",
       "    <tr>\n",
       "      <th>43105</th>\n",
       "      <td>에어컨 틀긴 틀었는데 밖에는 초가을~</td>\n",
       "      <td>7</td>\n",
       "    </tr>\n",
       "    <tr>\n",
       "      <th>43131</th>\n",
       "      <td>비가 또 내리네요.</td>\n",
       "      <td>11</td>\n",
       "    </tr>\n",
       "    <tr>\n",
       "      <th>43164</th>\n",
       "      <td>The beginning of autumn!</td>\n",
       "      <td>11</td>\n",
       "    </tr>\n",
       "    <tr>\n",
       "      <th>43167</th>\n",
       "      <td>귀한노므쉐키~~</td>\n",
       "      <td>11</td>\n",
       "    </tr>\n",
       "    <tr>\n",
       "      <th>43172</th>\n",
       "      <td>아웃백은 맛있지 🤭</td>\n",
       "      <td>10</td>\n",
       "    </tr>\n",
       "    <tr>\n",
       "      <th>43185</th>\n",
       "      <td>나의 홈런^^</td>\n",
       "      <td>10</td>\n",
       "    </tr>\n",
       "    <tr>\n",
       "      <th>43188</th>\n",
       "      <td>나의홈런2</td>\n",
       "      <td>11</td>\n",
       "    </tr>\n",
       "    <tr>\n",
       "      <th>43196</th>\n",
       "      <td>행복해지는 연습을 해요.</td>\n",
       "      <td>11</td>\n",
       "    </tr>\n",
       "    <tr>\n",
       "      <th>43199</th>\n",
       "      <td>맛난 점심드세요</td>\n",
       "      <td>10</td>\n",
       "    </tr>\n",
       "    <tr>\n",
       "      <th>43200</th>\n",
       "      <td>with baby primo</td>\n",
       "      <td>11</td>\n",
       "    </tr>\n",
       "    <tr>\n",
       "      <th>43203</th>\n",
       "      <td>오랫만의 혼밥\\n배고파서 맘 급함~~</td>\n",
       "      <td>10</td>\n",
       "    </tr>\n",
       "    <tr>\n",
       "      <th>43217</th>\n",
       "      <td>물 좋다.....\\n황제라이딩각....\\n믹스커피색인거 빼고 부유물 몇개 있는거 뺌...</td>\n",
       "      <td>10</td>\n",
       "    </tr>\n",
       "    <tr>\n",
       "      <th>43224</th>\n",
       "      <td>บรรยากาศแบบนี้คือสัณญาณเตือนว่าความเหน็บหนาวเร...</td>\n",
       "      <td>11</td>\n",
       "    </tr>\n",
       "    <tr>\n",
       "      <th>43226</th>\n",
       "      <td>USRSA\\n2018 STRINGER’S DIGEST</td>\n",
       "      <td>11</td>\n",
       "    </tr>\n",
       "    <tr>\n",
       "      <th>43231</th>\n",
       "      <td>😎</td>\n",
       "      <td>11</td>\n",
       "    </tr>\n",
       "    <tr>\n",
       "      <th>43238</th>\n",
       "      <td>이번 오버액션 스티커 완전 졸귀!\\n\\n찍히기 싫다고 도망가는 🐿 뒷모습이랑ㅋㅋㅋ🐾</td>\n",
       "      <td>7</td>\n",
       "    </tr>\n",
       "    <tr>\n",
       "      <th>43242</th>\n",
       "      <td>운전연습해야하나 멀미심하네ㅜ</td>\n",
       "      <td>11</td>\n",
       "    </tr>\n",
       "    <tr>\n",
       "      <th>43247</th>\n",
       "      <td>밥 잘먹네 🙊🙊🙊🙊</td>\n",
       "      <td>7</td>\n",
       "    </tr>\n",
       "    <tr>\n",
       "      <th>43262</th>\n",
       "      <td>하남에사 찍힌번개 영상으로 담은 첫 번개영상 ㅎㅎ</td>\n",
       "      <td>0</td>\n",
       "    </tr>\n",
       "  </tbody>\n",
       "</table>\n",
       "<p>3861 rows × 2 columns</p>\n",
       "</div>"
      ],
      "text/plain": [
       "                                                 caption  target\n",
       "6                                                    안늉?      11\n",
       "10                                             금요일 ㅠ ㅠ !      11\n",
       "31     ♡ B͞͞l͞͞u͞͞e͞͞ O͞͞c͞͞e͞͞a͞͞n͞͞ ♡\\n.\\n여름이라 그런지 ...       9\n",
       "34     👉🏻옆으로 넘겨서 봐주세요!\\n.\\n✨8월 31일까지 피어싱,주얼리 10% 할인\\n...      11\n",
       "74     ♡ S͞͞a͞͞t͞͞e͞͞l͞͞l͞͞i͞͞t͞͞e͞͞ ♡ ❤️ 신상 ❤️\\n.\\n미...      11\n",
       "76     ♡ K͞͞e͞͞y͞͞ o͞͞f͞͞ H͞͞e͞͞a͞͞r͞͞t͞͞ ♡\\n.\\n키 오브 ...       9\n",
       "77     ♡ M͞͞e͞͞l͞͞o͞͞d͞͞y͞͞ ♡ 💕 신상 💕\\n.\\n사랑스러운 자개하트와 ...      11\n",
       "79                                                  내새꾸💚       7\n",
       "81                                                   즐퇴~       5\n",
       "87                                      휴무전날이라 기분이가 쌍코매💗      10\n",
       "112                                                  쿄쿄v      11\n",
       "115                                                  ㅇㅅㅇ      11\n",
       "117                                             비오닌까 우우래      11\n",
       "119                                               8월31일!      11\n",
       "141                  이구진을 프로혼밥러에서 탈출 시켜줬다❣️역시 같이먹는 밥이 꿀맛      10\n",
       "143    ᑕEᗷᑌ❤︎\\n안녕하세요 인친님들! 제 피드가 많이 뜸했죠ㅠ?\\n세부에서 와이파이도...      11\n",
       "145    ♡ L͞͞i͞͞g͞͞h͞͞t͞͞ B͞͞ ♡\\n.\\n비트윈어스 귀걸이 중 가장 인기 ...       9\n",
       "147                                            넌 나의 에너지💪      11\n",
       "167                                                    -      11\n",
       "182                                                 뿌에엥🌪      11\n",
       "184                                                밀크티☕️      11\n",
       "190                            올해 운 다 쓴 어제, 그리고 소듕한 선물♥️      11\n",
       "203    승무원 머리 하고싶엇눙데.. 차마 옆머리없이는 내달떵이를 감당 할 수가 없었다 또르...      11\n",
       "221                                              뿌잉뽀잉~_~      11\n",
       "222                                                  s2➰       2\n",
       "295                                          카메라 반대발은 접기       7\n",
       "337                    -\\n지금 필요한건-\\n감성과 결단력\\n그리고 중요한 실천력      10\n",
       "366                                       우뭇가사리펌을 이은 파래펌      10\n",
       "400                                   제 잃어버린 포토존을 찾아주세요🧐      11\n",
       "412    15000원 제품들 보다 훨씬 블링블링하고 \\n길이감 있는 16000원대 두가지 제...       9\n",
       "...                                                  ...     ...\n",
       "43063  Today was an amazing day! I’ve met with @ta_k1...       0\n",
       "43064                            어제 비는 폭우 였고 물속을 달리는듯 했당      11\n",
       "43066                                  교실이 추웠던 나는 이러고 논다       7\n",
       "43068                                  180829\\n좀 만 기다리자.      11\n",
       "43070  화성시 양노리 토지매매 ◎평당 30만원대\\n＃화성시_비봉면_양노리\\n\\n화성시는 2...       1\n",
       "43074  영회가 기대되는군....\\n베놈 개봉일 10월달\\n캡틴마블 개봉 아마도 2019년3월9일      11\n",
       "43076  창문을 열고 전화를 걸었다. 지금 당신이 좋아하는 비가 온다고, 그 핑계로 목소리도...      11\n",
       "43081                               보셨나요 ㅠㅠ 우리 승우 골 !!💗💗      11\n",
       "43089                                    내일 날씨 좋음 예상해봅니다      11\n",
       "43096                                               떠나요오      11\n",
       "43102    🎵 Polina boldy goi endi kait dim 😂\\n@gagara1987      11\n",
       "43105                               에어컨 틀긴 틀었는데 밖에는 초가을~       7\n",
       "43131                                         비가 또 내리네요.      11\n",
       "43164                           The beginning of autumn!      11\n",
       "43167                                           귀한노므쉐키~~      11\n",
       "43172                                         아웃백은 맛있지 🤭      10\n",
       "43185                                            나의 홈런^^      10\n",
       "43188                                              나의홈런2      11\n",
       "43196                                      행복해지는 연습을 해요.      11\n",
       "43199                                           맛난 점심드세요      10\n",
       "43200                                    with baby primo      11\n",
       "43203                               오랫만의 혼밥\\n배고파서 맘 급함~~      10\n",
       "43217  물 좋다.....\\n황제라이딩각....\\n믹스커피색인거 빼고 부유물 몇개 있는거 뺌...      10\n",
       "43224  บรรยากาศแบบนี้คือสัณญาณเตือนว่าความเหน็บหนาวเร...      11\n",
       "43226                      USRSA\\n2018 STRINGER’S DIGEST      11\n",
       "43231                                                  😎      11\n",
       "43238     이번 오버액션 스티커 완전 졸귀!\\n\\n찍히기 싫다고 도망가는 🐿 뒷모습이랑ㅋㅋㅋ🐾       7\n",
       "43242                                    운전연습해야하나 멀미심하네ㅜ      11\n",
       "43247                                         밥 잘먹네 🙊🙊🙊🙊       7\n",
       "43262                        하남에사 찍힌번개 영상으로 담은 첫 번개영상 ㅎㅎ       0\n",
       "\n",
       "[3861 rows x 2 columns]"
      ]
     },
     "execution_count": 376,
     "metadata": {},
     "output_type": "execute_result"
    }
   ],
   "source": [
    "X_test0[[\"caption\", \"target\"]]"
   ]
  },
  {
   "cell_type": "code",
   "execution_count": 267,
   "metadata": {},
   "outputs": [
    {
     "name": "stdout",
     "output_type": "stream",
     "text": [
      "             precision    recall  f1-score   support\n",
      "\n",
      "          0       0.53      0.38      0.44       198\n",
      "          1       0.92      0.72      0.81        67\n",
      "          2       0.67      0.22      0.33        55\n",
      "          3       0.26      0.08      0.12        75\n",
      "          4       0.62      0.36      0.45        28\n",
      "          5       0.77      0.62      0.68       143\n",
      "          6       0.29      0.16      0.21       174\n",
      "          7       0.51      0.48      0.49       343\n",
      "          8       0.92      0.93      0.92       131\n",
      "          9       0.68      0.42      0.52       153\n",
      "         10       0.49      0.57      0.52       573\n",
      "         11       0.66      0.78      0.71      1632\n",
      "         12       0.90      0.60      0.72        58\n",
      "         13       0.88      0.47      0.61        15\n",
      "\n",
      "avg / total       0.61      0.62      0.60      3645\n",
      "\n"
     ]
    }
   ],
   "source": [
    "print(classification_report(y_test, y_pred))"
   ]
  },
  {
   "cell_type": "code",
   "execution_count": 268,
   "metadata": {},
   "outputs": [
    {
     "data": {
      "text/plain": [
       "0.6170096021947874"
      ]
     },
     "execution_count": 268,
     "metadata": {},
     "output_type": "execute_result"
    }
   ],
   "source": [
    "accuracy_score(y_test, y_pred) "
   ]
  },
  {
   "cell_type": "code",
   "execution_count": 128,
   "metadata": {},
   "outputs": [],
   "source": [
    "def get_lgbm_dataset(X_train, X_test, y_train, y_test, is_predict = False, is_countvec = False):\n",
    "    if is_countvec:\n",
    "        vectorizer = CountVectorizer(lowercase=False)            \n",
    "    else:\n",
    "        vectorizer = TfidfVectorizer(lowercase=False)\n",
    "    X_train = vectorizer.fit_transform(X_train)\n",
    "    X_test = vectorizer.transform(X_test)\n",
    "    X_train = X_train.astype(float)\n",
    "    X_test = X_test.astype(float)\n",
    "    if is_predict:\n",
    "        return X_train, X_test\n",
    "    dtrain = lightgbm.Dataset(X_train, label=y_train)\n",
    "    dtest = lightgbm.Dataset(X_test, label=y_test)\n",
    "    return dtrain, dtest"
   ]
  },
  {
   "cell_type": "code",
   "execution_count": 129,
   "metadata": {},
   "outputs": [],
   "source": [
    "def run_light_gbm(X_train, X_test, y_train, y_test, is_countvec=False):\n",
    "    dtrain, dtest = get_lgbm_dataset(X_train, X_test, y_train, y_test, is_predict=False, is_countvec=is_countvec)\n",
    "    num_boost_round = 4000\n",
    "    learning_rate=0.02\n",
    "\n",
    "    params = {'objective':'multiclass',\n",
    "              'boosting_type': 'gbdt',\n",
    "              'max_depth' : -1,\n",
    "              'nthread': 4,\n",
    "              'metric': 'multi_logloss',\n",
    "              'num_class':16,\n",
    "              'learning_rate':learning_rate,\n",
    "              }\n",
    "    \n",
    "    lightgbm_model = lightgbm.train(params = params,\n",
    "                                    train_set = dtrain, \n",
    "                                    valid_sets = [dtrain, dtest],\n",
    "                                    num_boost_round = num_boost_round,\n",
    "                                    early_stopping_rounds=10)\n",
    "    \n",
    "    return lightgbm_model"
   ]
  },
  {
   "cell_type": "code",
   "execution_count": 130,
   "metadata": {
    "collapsed": true
   },
   "outputs": [
    {
     "name": "stdout",
     "output_type": "stream",
     "text": [
      "[1]\ttraining's multi_logloss: 2.71779\tvalid_1's multi_logloss: 2.71701\n",
      "Training until validation scores don't improve for 10 rounds.\n",
      "[2]\ttraining's multi_logloss: 2.66859\tvalid_1's multi_logloss: 2.66723\n",
      "[3]\ttraining's multi_logloss: 2.62377\tvalid_1's multi_logloss: 2.62193\n",
      "[4]\ttraining's multi_logloss: 2.58234\tvalid_1's multi_logloss: 2.58007\n",
      "[5]\ttraining's multi_logloss: 2.54408\tvalid_1's multi_logloss: 2.54155\n",
      "[6]\ttraining's multi_logloss: 2.50833\tvalid_1's multi_logloss: 2.50574\n",
      "[7]\ttraining's multi_logloss: 2.4748\tvalid_1's multi_logloss: 2.47221\n",
      "[8]\ttraining's multi_logloss: 2.44325\tvalid_1's multi_logloss: 2.44047\n"
     ]
    },
    {
     "ename": "KeyboardInterrupt",
     "evalue": "",
     "output_type": "error",
     "traceback": [
      "\u001b[0;31m---------------------------------------------------------------------------\u001b[0m",
      "\u001b[0;31mKeyboardInterrupt\u001b[0m                         Traceback (most recent call last)",
      "\u001b[0;32m<ipython-input-130-7562e9ce17ce>\u001b[0m in \u001b[0;36m<module>\u001b[0;34m()\u001b[0m\n\u001b[0;32m----> 1\u001b[0;31m \u001b[0mlgbm\u001b[0m \u001b[0;34m=\u001b[0m \u001b[0mrun_light_gbm\u001b[0m\u001b[0;34m(\u001b[0m\u001b[0mX_train\u001b[0m\u001b[0;34m,\u001b[0m \u001b[0mX_test\u001b[0m\u001b[0;34m,\u001b[0m \u001b[0my_train\u001b[0m\u001b[0;34m,\u001b[0m \u001b[0my_test\u001b[0m\u001b[0;34m)\u001b[0m\u001b[0;34m\u001b[0m\u001b[0m\n\u001b[0m",
      "\u001b[0;32m<ipython-input-129-15985877166d>\u001b[0m in \u001b[0;36mrun_light_gbm\u001b[0;34m(X_train, X_test, y_train, y_test, is_countvec)\u001b[0m\n\u001b[1;32m     17\u001b[0m                                     \u001b[0mvalid_sets\u001b[0m \u001b[0;34m=\u001b[0m \u001b[0;34m[\u001b[0m\u001b[0mdtrain\u001b[0m\u001b[0;34m,\u001b[0m \u001b[0mdtest\u001b[0m\u001b[0;34m]\u001b[0m\u001b[0;34m,\u001b[0m\u001b[0;34m\u001b[0m\u001b[0m\n\u001b[1;32m     18\u001b[0m                                     \u001b[0mnum_boost_round\u001b[0m \u001b[0;34m=\u001b[0m \u001b[0mnum_boost_round\u001b[0m\u001b[0;34m,\u001b[0m\u001b[0;34m\u001b[0m\u001b[0m\n\u001b[0;32m---> 19\u001b[0;31m                                     early_stopping_rounds=10)\n\u001b[0m\u001b[1;32m     20\u001b[0m \u001b[0;34m\u001b[0m\u001b[0m\n\u001b[1;32m     21\u001b[0m     \u001b[0;32mreturn\u001b[0m \u001b[0mlightgbm_model\u001b[0m\u001b[0;34m\u001b[0m\u001b[0m\n",
      "\u001b[0;32m/usr/local/lib/python3.6/site-packages/lightgbm/engine.py\u001b[0m in \u001b[0;36mtrain\u001b[0;34m(params, train_set, num_boost_round, valid_sets, valid_names, fobj, feval, init_model, feature_name, categorical_feature, early_stopping_rounds, evals_result, verbose_eval, learning_rates, keep_training_booster, callbacks)\u001b[0m\n\u001b[1;32m    202\u001b[0m                                     evaluation_result_list=None))\n\u001b[1;32m    203\u001b[0m \u001b[0;34m\u001b[0m\u001b[0m\n\u001b[0;32m--> 204\u001b[0;31m         \u001b[0mbooster\u001b[0m\u001b[0;34m.\u001b[0m\u001b[0mupdate\u001b[0m\u001b[0;34m(\u001b[0m\u001b[0mfobj\u001b[0m\u001b[0;34m=\u001b[0m\u001b[0mfobj\u001b[0m\u001b[0;34m)\u001b[0m\u001b[0;34m\u001b[0m\u001b[0m\n\u001b[0m\u001b[1;32m    205\u001b[0m \u001b[0;34m\u001b[0m\u001b[0m\n\u001b[1;32m    206\u001b[0m         \u001b[0mevaluation_result_list\u001b[0m \u001b[0;34m=\u001b[0m \u001b[0;34m[\u001b[0m\u001b[0;34m]\u001b[0m\u001b[0;34m\u001b[0m\u001b[0m\n",
      "\u001b[0;32m/usr/local/lib/python3.6/site-packages/lightgbm/basic.py\u001b[0m in \u001b[0;36mupdate\u001b[0;34m(self, train_set, fobj)\u001b[0m\n\u001b[1;32m   1526\u001b[0m             _safe_call(_LIB.LGBM_BoosterUpdateOneIter(\n\u001b[1;32m   1527\u001b[0m                 \u001b[0mself\u001b[0m\u001b[0;34m.\u001b[0m\u001b[0mhandle\u001b[0m\u001b[0;34m,\u001b[0m\u001b[0;34m\u001b[0m\u001b[0m\n\u001b[0;32m-> 1528\u001b[0;31m                 ctypes.byref(is_finished)))\n\u001b[0m\u001b[1;32m   1529\u001b[0m             \u001b[0mself\u001b[0m\u001b[0;34m.\u001b[0m\u001b[0m__is_predicted_cur_iter\u001b[0m \u001b[0;34m=\u001b[0m \u001b[0;34m[\u001b[0m\u001b[0;32mFalse\u001b[0m \u001b[0;32mfor\u001b[0m \u001b[0m_\u001b[0m \u001b[0;32min\u001b[0m \u001b[0mrange_\u001b[0m\u001b[0;34m(\u001b[0m\u001b[0mself\u001b[0m\u001b[0;34m.\u001b[0m\u001b[0m__num_dataset\u001b[0m\u001b[0;34m)\u001b[0m\u001b[0;34m]\u001b[0m\u001b[0;34m\u001b[0m\u001b[0m\n\u001b[1;32m   1530\u001b[0m             \u001b[0;32mreturn\u001b[0m \u001b[0mis_finished\u001b[0m\u001b[0;34m.\u001b[0m\u001b[0mvalue\u001b[0m \u001b[0;34m==\u001b[0m \u001b[0;36m1\u001b[0m\u001b[0;34m\u001b[0m\u001b[0m\n",
      "\u001b[0;31mKeyboardInterrupt\u001b[0m: "
     ]
    }
   ],
   "source": [
    "lgbm = run_light_gbm(X_train, X_test, y_train, y_test)"
   ]
  },
  {
   "cell_type": "code",
   "execution_count": 131,
   "metadata": {
    "scrolled": true
   },
   "outputs": [
    {
     "name": "stdout",
     "output_type": "stream",
     "text": [
      "[1]\ttraining's multi_logloss: 2.71932\tvalid_1's multi_logloss: 2.71802\n",
      "Training until validation scores don't improve for 10 rounds.\n",
      "[2]\ttraining's multi_logloss: 2.67141\tvalid_1's multi_logloss: 2.66908\n",
      "[3]\ttraining's multi_logloss: 2.62776\tvalid_1's multi_logloss: 2.62461\n",
      "[4]\ttraining's multi_logloss: 2.58755\tvalid_1's multi_logloss: 2.5838\n",
      "[5]\ttraining's multi_logloss: 2.5502\tvalid_1's multi_logloss: 2.54609\n",
      "[6]\ttraining's multi_logloss: 2.51536\tvalid_1's multi_logloss: 2.51091\n",
      "[7]\ttraining's multi_logloss: 2.48262\tvalid_1's multi_logloss: 2.47771\n",
      "[8]\ttraining's multi_logloss: 2.45185\tvalid_1's multi_logloss: 2.44656\n",
      "[9]\ttraining's multi_logloss: 2.42275\tvalid_1's multi_logloss: 2.41704\n",
      "[10]\ttraining's multi_logloss: 2.3951\tvalid_1's multi_logloss: 2.38913\n",
      "[11]\ttraining's multi_logloss: 2.3689\tvalid_1's multi_logloss: 2.36308\n",
      "[12]\ttraining's multi_logloss: 2.344\tvalid_1's multi_logloss: 2.33812\n",
      "[13]\ttraining's multi_logloss: 2.32014\tvalid_1's multi_logloss: 2.31394\n",
      "[14]\ttraining's multi_logloss: 2.29733\tvalid_1's multi_logloss: 2.29096\n",
      "[15]\ttraining's multi_logloss: 2.27557\tvalid_1's multi_logloss: 2.269\n",
      "[16]\ttraining's multi_logloss: 2.25463\tvalid_1's multi_logloss: 2.24788\n",
      "[17]\ttraining's multi_logloss: 2.23449\tvalid_1's multi_logloss: 2.22768\n",
      "[18]\ttraining's multi_logloss: 2.21519\tvalid_1's multi_logloss: 2.20836\n",
      "[19]\ttraining's multi_logloss: 2.19661\tvalid_1's multi_logloss: 2.18959\n",
      "[20]\ttraining's multi_logloss: 2.17872\tvalid_1's multi_logloss: 2.17179\n",
      "[21]\ttraining's multi_logloss: 2.16145\tvalid_1's multi_logloss: 2.15448\n",
      "[22]\ttraining's multi_logloss: 2.14477\tvalid_1's multi_logloss: 2.13802\n",
      "[23]\ttraining's multi_logloss: 2.12864\tvalid_1's multi_logloss: 2.12186\n",
      "[24]\ttraining's multi_logloss: 2.11305\tvalid_1's multi_logloss: 2.10625\n",
      "[25]\ttraining's multi_logloss: 2.09791\tvalid_1's multi_logloss: 2.09112\n",
      "[26]\ttraining's multi_logloss: 2.08319\tvalid_1's multi_logloss: 2.07636\n",
      "[27]\ttraining's multi_logloss: 2.06888\tvalid_1's multi_logloss: 2.06213\n",
      "[28]\ttraining's multi_logloss: 2.0551\tvalid_1's multi_logloss: 2.04844\n",
      "[29]\ttraining's multi_logloss: 2.0417\tvalid_1's multi_logloss: 2.03512\n",
      "[30]\ttraining's multi_logloss: 2.02863\tvalid_1's multi_logloss: 2.02215\n",
      "[31]\ttraining's multi_logloss: 2.01598\tvalid_1's multi_logloss: 2.00968\n",
      "[32]\ttraining's multi_logloss: 2.00364\tvalid_1's multi_logloss: 1.99745\n",
      "[33]\ttraining's multi_logloss: 1.99161\tvalid_1's multi_logloss: 1.98558\n",
      "[34]\ttraining's multi_logloss: 1.97997\tvalid_1's multi_logloss: 1.9741\n",
      "[35]\ttraining's multi_logloss: 1.96859\tvalid_1's multi_logloss: 1.96283\n",
      "[36]\ttraining's multi_logloss: 1.95756\tvalid_1's multi_logloss: 1.95198\n",
      "[37]\ttraining's multi_logloss: 1.94677\tvalid_1's multi_logloss: 1.94146\n",
      "[38]\ttraining's multi_logloss: 1.93626\tvalid_1's multi_logloss: 1.93109\n",
      "[39]\ttraining's multi_logloss: 1.92608\tvalid_1's multi_logloss: 1.92109\n",
      "[40]\ttraining's multi_logloss: 1.91606\tvalid_1's multi_logloss: 1.91122\n",
      "[41]\ttraining's multi_logloss: 1.90635\tvalid_1's multi_logloss: 1.90171\n",
      "[42]\ttraining's multi_logloss: 1.89683\tvalid_1's multi_logloss: 1.89245\n",
      "[43]\ttraining's multi_logloss: 1.88752\tvalid_1's multi_logloss: 1.88337\n",
      "[44]\ttraining's multi_logloss: 1.87848\tvalid_1's multi_logloss: 1.87448\n",
      "[45]\ttraining's multi_logloss: 1.86958\tvalid_1's multi_logloss: 1.86581\n",
      "[46]\ttraining's multi_logloss: 1.86089\tvalid_1's multi_logloss: 1.85728\n",
      "[47]\ttraining's multi_logloss: 1.85236\tvalid_1's multi_logloss: 1.84897\n",
      "[48]\ttraining's multi_logloss: 1.84408\tvalid_1's multi_logloss: 1.84091\n",
      "[49]\ttraining's multi_logloss: 1.83597\tvalid_1's multi_logloss: 1.83292\n",
      "[50]\ttraining's multi_logloss: 1.82793\tvalid_1's multi_logloss: 1.82506\n",
      "[51]\ttraining's multi_logloss: 1.82016\tvalid_1's multi_logloss: 1.81756\n",
      "[52]\ttraining's multi_logloss: 1.81251\tvalid_1's multi_logloss: 1.81029\n",
      "[53]\ttraining's multi_logloss: 1.80507\tvalid_1's multi_logloss: 1.80307\n",
      "[54]\ttraining's multi_logloss: 1.79771\tvalid_1's multi_logloss: 1.79594\n",
      "[55]\ttraining's multi_logloss: 1.79057\tvalid_1's multi_logloss: 1.78905\n",
      "[56]\ttraining's multi_logloss: 1.78357\tvalid_1's multi_logloss: 1.78226\n",
      "[57]\ttraining's multi_logloss: 1.77666\tvalid_1's multi_logloss: 1.77559\n",
      "[58]\ttraining's multi_logloss: 1.76994\tvalid_1's multi_logloss: 1.76918\n",
      "[59]\ttraining's multi_logloss: 1.76333\tvalid_1's multi_logloss: 1.76278\n",
      "[60]\ttraining's multi_logloss: 1.75686\tvalid_1's multi_logloss: 1.75656\n",
      "[61]\ttraining's multi_logloss: 1.75052\tvalid_1's multi_logloss: 1.75051\n",
      "[62]\ttraining's multi_logloss: 1.74426\tvalid_1's multi_logloss: 1.74448\n",
      "[63]\ttraining's multi_logloss: 1.73813\tvalid_1's multi_logloss: 1.73864\n",
      "[64]\ttraining's multi_logloss: 1.73211\tvalid_1's multi_logloss: 1.7329\n",
      "[65]\ttraining's multi_logloss: 1.72623\tvalid_1's multi_logloss: 1.72726\n",
      "[66]\ttraining's multi_logloss: 1.72041\tvalid_1's multi_logloss: 1.72174\n",
      "[67]\ttraining's multi_logloss: 1.71473\tvalid_1's multi_logloss: 1.71621\n",
      "[68]\ttraining's multi_logloss: 1.70916\tvalid_1's multi_logloss: 1.71087\n",
      "[69]\ttraining's multi_logloss: 1.70363\tvalid_1's multi_logloss: 1.70565\n",
      "[70]\ttraining's multi_logloss: 1.69827\tvalid_1's multi_logloss: 1.70062\n",
      "[71]\ttraining's multi_logloss: 1.69293\tvalid_1's multi_logloss: 1.69554\n",
      "[72]\ttraining's multi_logloss: 1.68773\tvalid_1's multi_logloss: 1.69069\n",
      "[73]\ttraining's multi_logloss: 1.68268\tvalid_1's multi_logloss: 1.68585\n",
      "[74]\ttraining's multi_logloss: 1.67759\tvalid_1's multi_logloss: 1.68108\n",
      "[75]\ttraining's multi_logloss: 1.67266\tvalid_1's multi_logloss: 1.67647\n",
      "[76]\ttraining's multi_logloss: 1.6678\tvalid_1's multi_logloss: 1.67189\n",
      "[77]\ttraining's multi_logloss: 1.66302\tvalid_1's multi_logloss: 1.66743\n",
      "[78]\ttraining's multi_logloss: 1.65829\tvalid_1's multi_logloss: 1.66302\n",
      "[79]\ttraining's multi_logloss: 1.65371\tvalid_1's multi_logloss: 1.65871\n",
      "[80]\ttraining's multi_logloss: 1.64914\tvalid_1's multi_logloss: 1.65447\n",
      "[81]\ttraining's multi_logloss: 1.6447\tvalid_1's multi_logloss: 1.65027\n",
      "[82]\ttraining's multi_logloss: 1.64028\tvalid_1's multi_logloss: 1.64619\n",
      "[83]\ttraining's multi_logloss: 1.63595\tvalid_1's multi_logloss: 1.64222\n",
      "[84]\ttraining's multi_logloss: 1.63169\tvalid_1's multi_logloss: 1.63826\n",
      "[85]\ttraining's multi_logloss: 1.62751\tvalid_1's multi_logloss: 1.6344\n",
      "[86]\ttraining's multi_logloss: 1.62341\tvalid_1's multi_logloss: 1.63058\n",
      "[87]\ttraining's multi_logloss: 1.61936\tvalid_1's multi_logloss: 1.62687\n",
      "[88]\ttraining's multi_logloss: 1.61539\tvalid_1's multi_logloss: 1.62321\n",
      "[89]\ttraining's multi_logloss: 1.61143\tvalid_1's multi_logloss: 1.61965\n",
      "[90]\ttraining's multi_logloss: 1.60762\tvalid_1's multi_logloss: 1.61608\n",
      "[91]\ttraining's multi_logloss: 1.6038\tvalid_1's multi_logloss: 1.61258\n",
      "[92]\ttraining's multi_logloss: 1.60006\tvalid_1's multi_logloss: 1.60916\n",
      "[93]\ttraining's multi_logloss: 1.59633\tvalid_1's multi_logloss: 1.60577\n",
      "[94]\ttraining's multi_logloss: 1.59271\tvalid_1's multi_logloss: 1.60252\n",
      "[95]\ttraining's multi_logloss: 1.58914\tvalid_1's multi_logloss: 1.59931\n",
      "[96]\ttraining's multi_logloss: 1.58561\tvalid_1's multi_logloss: 1.59612\n",
      "[97]\ttraining's multi_logloss: 1.58212\tvalid_1's multi_logloss: 1.59297\n",
      "[98]\ttraining's multi_logloss: 1.57873\tvalid_1's multi_logloss: 1.58997\n",
      "[99]\ttraining's multi_logloss: 1.57537\tvalid_1's multi_logloss: 1.58699\n",
      "[100]\ttraining's multi_logloss: 1.57204\tvalid_1's multi_logloss: 1.58403\n",
      "[101]\ttraining's multi_logloss: 1.56881\tvalid_1's multi_logloss: 1.58107\n",
      "[102]\ttraining's multi_logloss: 1.56555\tvalid_1's multi_logloss: 1.5782\n",
      "[103]\ttraining's multi_logloss: 1.56238\tvalid_1's multi_logloss: 1.57543\n",
      "[104]\ttraining's multi_logloss: 1.55923\tvalid_1's multi_logloss: 1.57264\n",
      "[105]\ttraining's multi_logloss: 1.55615\tvalid_1's multi_logloss: 1.5699\n",
      "[106]\ttraining's multi_logloss: 1.55308\tvalid_1's multi_logloss: 1.56717\n",
      "[107]\ttraining's multi_logloss: 1.5501\tvalid_1's multi_logloss: 1.56446\n",
      "[108]\ttraining's multi_logloss: 1.54718\tvalid_1's multi_logloss: 1.5619\n",
      "[109]\ttraining's multi_logloss: 1.54425\tvalid_1's multi_logloss: 1.55936\n",
      "[110]\ttraining's multi_logloss: 1.54139\tvalid_1's multi_logloss: 1.55673\n",
      "[111]\ttraining's multi_logloss: 1.53851\tvalid_1's multi_logloss: 1.55421\n",
      "[112]\ttraining's multi_logloss: 1.53574\tvalid_1's multi_logloss: 1.55177\n",
      "[113]\ttraining's multi_logloss: 1.53296\tvalid_1's multi_logloss: 1.54934\n",
      "[114]\ttraining's multi_logloss: 1.53024\tvalid_1's multi_logloss: 1.54703\n"
     ]
    },
    {
     "name": "stdout",
     "output_type": "stream",
     "text": [
      "[115]\ttraining's multi_logloss: 1.52757\tvalid_1's multi_logloss: 1.54461\n",
      "[116]\ttraining's multi_logloss: 1.52491\tvalid_1's multi_logloss: 1.54232\n",
      "[117]\ttraining's multi_logloss: 1.5223\tvalid_1's multi_logloss: 1.54006\n",
      "[118]\ttraining's multi_logloss: 1.51973\tvalid_1's multi_logloss: 1.53784\n",
      "[119]\ttraining's multi_logloss: 1.51721\tvalid_1's multi_logloss: 1.53562\n",
      "[120]\ttraining's multi_logloss: 1.51468\tvalid_1's multi_logloss: 1.53348\n",
      "[121]\ttraining's multi_logloss: 1.51223\tvalid_1's multi_logloss: 1.53143\n",
      "[122]\ttraining's multi_logloss: 1.50981\tvalid_1's multi_logloss: 1.52935\n",
      "[123]\ttraining's multi_logloss: 1.50739\tvalid_1's multi_logloss: 1.52729\n",
      "[124]\ttraining's multi_logloss: 1.505\tvalid_1's multi_logloss: 1.52522\n",
      "[125]\ttraining's multi_logloss: 1.50265\tvalid_1's multi_logloss: 1.52329\n",
      "[126]\ttraining's multi_logloss: 1.50034\tvalid_1's multi_logloss: 1.52131\n",
      "[127]\ttraining's multi_logloss: 1.49804\tvalid_1's multi_logloss: 1.51939\n",
      "[128]\ttraining's multi_logloss: 1.49578\tvalid_1's multi_logloss: 1.51742\n",
      "[129]\ttraining's multi_logloss: 1.49352\tvalid_1's multi_logloss: 1.51554\n",
      "[130]\ttraining's multi_logloss: 1.49134\tvalid_1's multi_logloss: 1.51371\n",
      "[131]\ttraining's multi_logloss: 1.48917\tvalid_1's multi_logloss: 1.51188\n",
      "[132]\ttraining's multi_logloss: 1.48702\tvalid_1's multi_logloss: 1.50994\n",
      "[133]\ttraining's multi_logloss: 1.48491\tvalid_1's multi_logloss: 1.50819\n",
      "[134]\ttraining's multi_logloss: 1.48279\tvalid_1's multi_logloss: 1.50643\n",
      "[135]\ttraining's multi_logloss: 1.48074\tvalid_1's multi_logloss: 1.50476\n",
      "[136]\ttraining's multi_logloss: 1.47865\tvalid_1's multi_logloss: 1.503\n",
      "[137]\ttraining's multi_logloss: 1.47664\tvalid_1's multi_logloss: 1.50143\n",
      "[138]\ttraining's multi_logloss: 1.47462\tvalid_1's multi_logloss: 1.49977\n",
      "[139]\ttraining's multi_logloss: 1.47266\tvalid_1's multi_logloss: 1.49821\n",
      "[140]\ttraining's multi_logloss: 1.47072\tvalid_1's multi_logloss: 1.4967\n",
      "[141]\ttraining's multi_logloss: 1.4688\tvalid_1's multi_logloss: 1.49513\n",
      "[142]\ttraining's multi_logloss: 1.46689\tvalid_1's multi_logloss: 1.49359\n",
      "[143]\ttraining's multi_logloss: 1.46501\tvalid_1's multi_logloss: 1.49206\n",
      "[144]\ttraining's multi_logloss: 1.46312\tvalid_1's multi_logloss: 1.49056\n",
      "[145]\ttraining's multi_logloss: 1.46123\tvalid_1's multi_logloss: 1.48908\n",
      "[146]\ttraining's multi_logloss: 1.45941\tvalid_1's multi_logloss: 1.48766\n",
      "[147]\ttraining's multi_logloss: 1.4576\tvalid_1's multi_logloss: 1.48614\n",
      "[148]\ttraining's multi_logloss: 1.45583\tvalid_1's multi_logloss: 1.48476\n",
      "[149]\ttraining's multi_logloss: 1.45405\tvalid_1's multi_logloss: 1.48331\n",
      "[150]\ttraining's multi_logloss: 1.45231\tvalid_1's multi_logloss: 1.48195\n",
      "[151]\ttraining's multi_logloss: 1.45056\tvalid_1's multi_logloss: 1.48059\n",
      "[152]\ttraining's multi_logloss: 1.44886\tvalid_1's multi_logloss: 1.47931\n",
      "[153]\ttraining's multi_logloss: 1.44712\tvalid_1's multi_logloss: 1.4779\n",
      "[154]\ttraining's multi_logloss: 1.44542\tvalid_1's multi_logloss: 1.47661\n",
      "[155]\ttraining's multi_logloss: 1.44374\tvalid_1's multi_logloss: 1.47533\n",
      "[156]\ttraining's multi_logloss: 1.44206\tvalid_1's multi_logloss: 1.47397\n",
      "[157]\ttraining's multi_logloss: 1.44041\tvalid_1's multi_logloss: 1.47275\n",
      "[158]\ttraining's multi_logloss: 1.4388\tvalid_1's multi_logloss: 1.47145\n",
      "[159]\ttraining's multi_logloss: 1.43719\tvalid_1's multi_logloss: 1.47022\n",
      "[160]\ttraining's multi_logloss: 1.43557\tvalid_1's multi_logloss: 1.469\n",
      "[161]\ttraining's multi_logloss: 1.43399\tvalid_1's multi_logloss: 1.46778\n",
      "[162]\ttraining's multi_logloss: 1.43242\tvalid_1's multi_logloss: 1.46667\n",
      "[163]\ttraining's multi_logloss: 1.43087\tvalid_1's multi_logloss: 1.46551\n",
      "[164]\ttraining's multi_logloss: 1.42934\tvalid_1's multi_logloss: 1.46438\n",
      "[165]\ttraining's multi_logloss: 1.42781\tvalid_1's multi_logloss: 1.46317\n",
      "[166]\ttraining's multi_logloss: 1.4263\tvalid_1's multi_logloss: 1.46209\n",
      "[167]\ttraining's multi_logloss: 1.42481\tvalid_1's multi_logloss: 1.461\n",
      "[168]\ttraining's multi_logloss: 1.42334\tvalid_1's multi_logloss: 1.45982\n",
      "[169]\ttraining's multi_logloss: 1.42186\tvalid_1's multi_logloss: 1.45867\n",
      "[170]\ttraining's multi_logloss: 1.42045\tvalid_1's multi_logloss: 1.45773\n",
      "[171]\ttraining's multi_logloss: 1.41902\tvalid_1's multi_logloss: 1.45656\n",
      "[172]\ttraining's multi_logloss: 1.41758\tvalid_1's multi_logloss: 1.45551\n",
      "[173]\ttraining's multi_logloss: 1.4162\tvalid_1's multi_logloss: 1.45441\n",
      "[174]\ttraining's multi_logloss: 1.41481\tvalid_1's multi_logloss: 1.4534\n",
      "[175]\ttraining's multi_logloss: 1.41344\tvalid_1's multi_logloss: 1.45239\n",
      "[176]\ttraining's multi_logloss: 1.41208\tvalid_1's multi_logloss: 1.45138\n",
      "[177]\ttraining's multi_logloss: 1.41074\tvalid_1's multi_logloss: 1.45045\n",
      "[178]\ttraining's multi_logloss: 1.4094\tvalid_1's multi_logloss: 1.44944\n",
      "[179]\ttraining's multi_logloss: 1.40806\tvalid_1's multi_logloss: 1.44846\n",
      "[180]\ttraining's multi_logloss: 1.40671\tvalid_1's multi_logloss: 1.44748\n",
      "[181]\ttraining's multi_logloss: 1.40543\tvalid_1's multi_logloss: 1.44661\n",
      "[182]\ttraining's multi_logloss: 1.40414\tvalid_1's multi_logloss: 1.44565\n",
      "[183]\ttraining's multi_logloss: 1.40287\tvalid_1's multi_logloss: 1.44471\n",
      "[184]\ttraining's multi_logloss: 1.40159\tvalid_1's multi_logloss: 1.44376\n",
      "[185]\ttraining's multi_logloss: 1.40034\tvalid_1's multi_logloss: 1.44284\n",
      "[186]\ttraining's multi_logloss: 1.39909\tvalid_1's multi_logloss: 1.44196\n",
      "[187]\ttraining's multi_logloss: 1.39789\tvalid_1's multi_logloss: 1.44113\n",
      "[188]\ttraining's multi_logloss: 1.39667\tvalid_1's multi_logloss: 1.44026\n",
      "[189]\ttraining's multi_logloss: 1.39543\tvalid_1's multi_logloss: 1.43938\n",
      "[190]\ttraining's multi_logloss: 1.39424\tvalid_1's multi_logloss: 1.4385\n",
      "[191]\ttraining's multi_logloss: 1.39307\tvalid_1's multi_logloss: 1.43768\n",
      "[192]\ttraining's multi_logloss: 1.39189\tvalid_1's multi_logloss: 1.4369\n",
      "[193]\ttraining's multi_logloss: 1.39071\tvalid_1's multi_logloss: 1.43602\n",
      "[194]\ttraining's multi_logloss: 1.38953\tvalid_1's multi_logloss: 1.43519\n",
      "[195]\ttraining's multi_logloss: 1.3884\tvalid_1's multi_logloss: 1.43438\n",
      "[196]\ttraining's multi_logloss: 1.38723\tvalid_1's multi_logloss: 1.43363\n",
      "[197]\ttraining's multi_logloss: 1.38609\tvalid_1's multi_logloss: 1.43286\n",
      "[198]\ttraining's multi_logloss: 1.38496\tvalid_1's multi_logloss: 1.43211\n",
      "[199]\ttraining's multi_logloss: 1.38385\tvalid_1's multi_logloss: 1.43139\n",
      "[200]\ttraining's multi_logloss: 1.38275\tvalid_1's multi_logloss: 1.4307\n",
      "[201]\ttraining's multi_logloss: 1.38167\tvalid_1's multi_logloss: 1.43001\n",
      "[202]\ttraining's multi_logloss: 1.38056\tvalid_1's multi_logloss: 1.42924\n",
      "[203]\ttraining's multi_logloss: 1.3795\tvalid_1's multi_logloss: 1.42855\n",
      "[204]\ttraining's multi_logloss: 1.37839\tvalid_1's multi_logloss: 1.42779\n",
      "[205]\ttraining's multi_logloss: 1.37734\tvalid_1's multi_logloss: 1.4271\n",
      "[206]\ttraining's multi_logloss: 1.37628\tvalid_1's multi_logloss: 1.42637\n",
      "[207]\ttraining's multi_logloss: 1.37523\tvalid_1's multi_logloss: 1.42571\n",
      "[208]\ttraining's multi_logloss: 1.3742\tvalid_1's multi_logloss: 1.42503\n",
      "[209]\ttraining's multi_logloss: 1.37317\tvalid_1's multi_logloss: 1.42436\n",
      "[210]\ttraining's multi_logloss: 1.37216\tvalid_1's multi_logloss: 1.42375\n",
      "[211]\ttraining's multi_logloss: 1.37117\tvalid_1's multi_logloss: 1.4231\n",
      "[212]\ttraining's multi_logloss: 1.37015\tvalid_1's multi_logloss: 1.42245\n",
      "[213]\ttraining's multi_logloss: 1.36916\tvalid_1's multi_logloss: 1.42182\n",
      "[214]\ttraining's multi_logloss: 1.36817\tvalid_1's multi_logloss: 1.42117\n",
      "[215]\ttraining's multi_logloss: 1.36721\tvalid_1's multi_logloss: 1.42056\n",
      "[216]\ttraining's multi_logloss: 1.36626\tvalid_1's multi_logloss: 1.41991\n",
      "[217]\ttraining's multi_logloss: 1.36528\tvalid_1's multi_logloss: 1.41931\n",
      "[218]\ttraining's multi_logloss: 1.36432\tvalid_1's multi_logloss: 1.41877\n",
      "[219]\ttraining's multi_logloss: 1.36338\tvalid_1's multi_logloss: 1.41823\n",
      "[220]\ttraining's multi_logloss: 1.3624\tvalid_1's multi_logloss: 1.41756\n",
      "[221]\ttraining's multi_logloss: 1.36147\tvalid_1's multi_logloss: 1.41696\n",
      "[222]\ttraining's multi_logloss: 1.36053\tvalid_1's multi_logloss: 1.41638\n",
      "[223]\ttraining's multi_logloss: 1.35961\tvalid_1's multi_logloss: 1.41576\n",
      "[224]\ttraining's multi_logloss: 1.35868\tvalid_1's multi_logloss: 1.41519\n",
      "[225]\ttraining's multi_logloss: 1.35778\tvalid_1's multi_logloss: 1.41465\n",
      "[226]\ttraining's multi_logloss: 1.35688\tvalid_1's multi_logloss: 1.41413\n",
      "[227]\ttraining's multi_logloss: 1.35596\tvalid_1's multi_logloss: 1.41353\n"
     ]
    },
    {
     "name": "stdout",
     "output_type": "stream",
     "text": [
      "[228]\ttraining's multi_logloss: 1.35505\tvalid_1's multi_logloss: 1.41296\n",
      "[229]\ttraining's multi_logloss: 1.35416\tvalid_1's multi_logloss: 1.41242\n",
      "[230]\ttraining's multi_logloss: 1.35329\tvalid_1's multi_logloss: 1.41192\n",
      "[231]\ttraining's multi_logloss: 1.35238\tvalid_1's multi_logloss: 1.41128\n",
      "[232]\ttraining's multi_logloss: 1.35151\tvalid_1's multi_logloss: 1.41083\n",
      "[233]\ttraining's multi_logloss: 1.35064\tvalid_1's multi_logloss: 1.41026\n",
      "[234]\ttraining's multi_logloss: 1.34977\tvalid_1's multi_logloss: 1.40978\n",
      "[235]\ttraining's multi_logloss: 1.3489\tvalid_1's multi_logloss: 1.40927\n",
      "[236]\ttraining's multi_logloss: 1.34806\tvalid_1's multi_logloss: 1.40876\n",
      "[237]\ttraining's multi_logloss: 1.34718\tvalid_1's multi_logloss: 1.40825\n",
      "[238]\ttraining's multi_logloss: 1.34632\tvalid_1's multi_logloss: 1.40771\n",
      "[239]\ttraining's multi_logloss: 1.34549\tvalid_1's multi_logloss: 1.40726\n",
      "[240]\ttraining's multi_logloss: 1.34464\tvalid_1's multi_logloss: 1.4068\n",
      "[241]\ttraining's multi_logloss: 1.34381\tvalid_1's multi_logloss: 1.4063\n",
      "[242]\ttraining's multi_logloss: 1.34296\tvalid_1's multi_logloss: 1.40584\n",
      "[243]\ttraining's multi_logloss: 1.34215\tvalid_1's multi_logloss: 1.40542\n",
      "[244]\ttraining's multi_logloss: 1.34131\tvalid_1's multi_logloss: 1.40496\n",
      "[245]\ttraining's multi_logloss: 1.3405\tvalid_1's multi_logloss: 1.40452\n",
      "[246]\ttraining's multi_logloss: 1.33968\tvalid_1's multi_logloss: 1.40406\n",
      "[247]\ttraining's multi_logloss: 1.33887\tvalid_1's multi_logloss: 1.40366\n",
      "[248]\ttraining's multi_logloss: 1.33806\tvalid_1's multi_logloss: 1.4032\n",
      "[249]\ttraining's multi_logloss: 1.33727\tvalid_1's multi_logloss: 1.40284\n",
      "[250]\ttraining's multi_logloss: 1.33645\tvalid_1's multi_logloss: 1.40242\n",
      "[251]\ttraining's multi_logloss: 1.33566\tvalid_1's multi_logloss: 1.40201\n",
      "[252]\ttraining's multi_logloss: 1.33486\tvalid_1's multi_logloss: 1.40157\n",
      "[253]\ttraining's multi_logloss: 1.33407\tvalid_1's multi_logloss: 1.40113\n",
      "[254]\ttraining's multi_logloss: 1.33328\tvalid_1's multi_logloss: 1.40072\n",
      "[255]\ttraining's multi_logloss: 1.33251\tvalid_1's multi_logloss: 1.40029\n",
      "[256]\ttraining's multi_logloss: 1.33173\tvalid_1's multi_logloss: 1.39982\n",
      "[257]\ttraining's multi_logloss: 1.33095\tvalid_1's multi_logloss: 1.39945\n",
      "[258]\ttraining's multi_logloss: 1.33018\tvalid_1's multi_logloss: 1.39907\n",
      "[259]\ttraining's multi_logloss: 1.32945\tvalid_1's multi_logloss: 1.39868\n",
      "[260]\ttraining's multi_logloss: 1.32868\tvalid_1's multi_logloss: 1.39826\n",
      "[261]\ttraining's multi_logloss: 1.32792\tvalid_1's multi_logloss: 1.3979\n",
      "[262]\ttraining's multi_logloss: 1.32716\tvalid_1's multi_logloss: 1.39754\n",
      "[263]\ttraining's multi_logloss: 1.3264\tvalid_1's multi_logloss: 1.39711\n",
      "[264]\ttraining's multi_logloss: 1.32565\tvalid_1's multi_logloss: 1.39675\n",
      "[265]\ttraining's multi_logloss: 1.3249\tvalid_1's multi_logloss: 1.39644\n",
      "[266]\ttraining's multi_logloss: 1.32418\tvalid_1's multi_logloss: 1.39604\n",
      "[267]\ttraining's multi_logloss: 1.32345\tvalid_1's multi_logloss: 1.39564\n",
      "[268]\ttraining's multi_logloss: 1.32272\tvalid_1's multi_logloss: 1.39527\n",
      "[269]\ttraining's multi_logloss: 1.322\tvalid_1's multi_logloss: 1.39498\n",
      "[270]\ttraining's multi_logloss: 1.32126\tvalid_1's multi_logloss: 1.39456\n",
      "[271]\ttraining's multi_logloss: 1.32055\tvalid_1's multi_logloss: 1.3942\n",
      "[272]\ttraining's multi_logloss: 1.31984\tvalid_1's multi_logloss: 1.39389\n",
      "[273]\ttraining's multi_logloss: 1.31912\tvalid_1's multi_logloss: 1.39346\n",
      "[274]\ttraining's multi_logloss: 1.31841\tvalid_1's multi_logloss: 1.39317\n",
      "[275]\ttraining's multi_logloss: 1.31772\tvalid_1's multi_logloss: 1.39285\n",
      "[276]\ttraining's multi_logloss: 1.31703\tvalid_1's multi_logloss: 1.39248\n",
      "[277]\ttraining's multi_logloss: 1.31634\tvalid_1's multi_logloss: 1.39211\n",
      "[278]\ttraining's multi_logloss: 1.31564\tvalid_1's multi_logloss: 1.39177\n",
      "[279]\ttraining's multi_logloss: 1.31494\tvalid_1's multi_logloss: 1.39143\n",
      "[280]\ttraining's multi_logloss: 1.31426\tvalid_1's multi_logloss: 1.39105\n",
      "[281]\ttraining's multi_logloss: 1.31358\tvalid_1's multi_logloss: 1.39075\n",
      "[282]\ttraining's multi_logloss: 1.3129\tvalid_1's multi_logloss: 1.39048\n",
      "[283]\ttraining's multi_logloss: 1.31224\tvalid_1's multi_logloss: 1.39012\n",
      "[284]\ttraining's multi_logloss: 1.31156\tvalid_1's multi_logloss: 1.38976\n",
      "[285]\ttraining's multi_logloss: 1.31089\tvalid_1's multi_logloss: 1.38943\n",
      "[286]\ttraining's multi_logloss: 1.31024\tvalid_1's multi_logloss: 1.38912\n",
      "[287]\ttraining's multi_logloss: 1.30957\tvalid_1's multi_logloss: 1.38884\n",
      "[288]\ttraining's multi_logloss: 1.30891\tvalid_1's multi_logloss: 1.38853\n",
      "[289]\ttraining's multi_logloss: 1.30826\tvalid_1's multi_logloss: 1.38822\n",
      "[290]\ttraining's multi_logloss: 1.30761\tvalid_1's multi_logloss: 1.38792\n",
      "[291]\ttraining's multi_logloss: 1.30695\tvalid_1's multi_logloss: 1.38759\n",
      "[292]\ttraining's multi_logloss: 1.30629\tvalid_1's multi_logloss: 1.38724\n",
      "[293]\ttraining's multi_logloss: 1.30566\tvalid_1's multi_logloss: 1.38702\n",
      "[294]\ttraining's multi_logloss: 1.30503\tvalid_1's multi_logloss: 1.38676\n",
      "[295]\ttraining's multi_logloss: 1.3044\tvalid_1's multi_logloss: 1.38648\n",
      "[296]\ttraining's multi_logloss: 1.30376\tvalid_1's multi_logloss: 1.38622\n",
      "[297]\ttraining's multi_logloss: 1.30312\tvalid_1's multi_logloss: 1.38593\n",
      "[298]\ttraining's multi_logloss: 1.30251\tvalid_1's multi_logloss: 1.38571\n",
      "[299]\ttraining's multi_logloss: 1.30188\tvalid_1's multi_logloss: 1.38544\n",
      "[300]\ttraining's multi_logloss: 1.30126\tvalid_1's multi_logloss: 1.3852\n",
      "[301]\ttraining's multi_logloss: 1.30065\tvalid_1's multi_logloss: 1.38498\n",
      "[302]\ttraining's multi_logloss: 1.30004\tvalid_1's multi_logloss: 1.38469\n",
      "[303]\ttraining's multi_logloss: 1.29943\tvalid_1's multi_logloss: 1.38443\n",
      "[304]\ttraining's multi_logloss: 1.29883\tvalid_1's multi_logloss: 1.38417\n",
      "[305]\ttraining's multi_logloss: 1.29822\tvalid_1's multi_logloss: 1.38391\n",
      "[306]\ttraining's multi_logloss: 1.2976\tvalid_1's multi_logloss: 1.38368\n",
      "[307]\ttraining's multi_logloss: 1.29701\tvalid_1's multi_logloss: 1.38344\n",
      "[308]\ttraining's multi_logloss: 1.29641\tvalid_1's multi_logloss: 1.3832\n",
      "[309]\ttraining's multi_logloss: 1.29581\tvalid_1's multi_logloss: 1.38296\n",
      "[310]\ttraining's multi_logloss: 1.29523\tvalid_1's multi_logloss: 1.38279\n",
      "[311]\ttraining's multi_logloss: 1.29464\tvalid_1's multi_logloss: 1.38263\n",
      "[312]\ttraining's multi_logloss: 1.29405\tvalid_1's multi_logloss: 1.38236\n",
      "[313]\ttraining's multi_logloss: 1.29347\tvalid_1's multi_logloss: 1.38211\n",
      "[314]\ttraining's multi_logloss: 1.29287\tvalid_1's multi_logloss: 1.38184\n",
      "[315]\ttraining's multi_logloss: 1.2923\tvalid_1's multi_logloss: 1.38162\n",
      "[316]\ttraining's multi_logloss: 1.29172\tvalid_1's multi_logloss: 1.38138\n",
      "[317]\ttraining's multi_logloss: 1.29115\tvalid_1's multi_logloss: 1.38121\n",
      "[318]\ttraining's multi_logloss: 1.29058\tvalid_1's multi_logloss: 1.38095\n",
      "[319]\ttraining's multi_logloss: 1.29001\tvalid_1's multi_logloss: 1.38068\n",
      "[320]\ttraining's multi_logloss: 1.28943\tvalid_1's multi_logloss: 1.38055\n",
      "[321]\ttraining's multi_logloss: 1.28886\tvalid_1's multi_logloss: 1.38034\n",
      "[322]\ttraining's multi_logloss: 1.2883\tvalid_1's multi_logloss: 1.38013\n",
      "[323]\ttraining's multi_logloss: 1.28773\tvalid_1's multi_logloss: 1.37993\n",
      "[324]\ttraining's multi_logloss: 1.28717\tvalid_1's multi_logloss: 1.37973\n",
      "[325]\ttraining's multi_logloss: 1.28661\tvalid_1's multi_logloss: 1.37956\n",
      "[326]\ttraining's multi_logloss: 1.28606\tvalid_1's multi_logloss: 1.37939\n",
      "[327]\ttraining's multi_logloss: 1.2855\tvalid_1's multi_logloss: 1.37916\n",
      "[328]\ttraining's multi_logloss: 1.28494\tvalid_1's multi_logloss: 1.37899\n",
      "[329]\ttraining's multi_logloss: 1.28439\tvalid_1's multi_logloss: 1.37875\n",
      "[330]\ttraining's multi_logloss: 1.28383\tvalid_1's multi_logloss: 1.37855\n",
      "[331]\ttraining's multi_logloss: 1.28329\tvalid_1's multi_logloss: 1.37834\n",
      "[332]\ttraining's multi_logloss: 1.28274\tvalid_1's multi_logloss: 1.37817\n",
      "[333]\ttraining's multi_logloss: 1.2822\tvalid_1's multi_logloss: 1.37802\n",
      "[334]\ttraining's multi_logloss: 1.28166\tvalid_1's multi_logloss: 1.3778\n",
      "[335]\ttraining's multi_logloss: 1.28113\tvalid_1's multi_logloss: 1.37758\n",
      "[336]\ttraining's multi_logloss: 1.28059\tvalid_1's multi_logloss: 1.37737\n",
      "[337]\ttraining's multi_logloss: 1.28005\tvalid_1's multi_logloss: 1.37719\n",
      "[338]\ttraining's multi_logloss: 1.2795\tvalid_1's multi_logloss: 1.37696\n",
      "[339]\ttraining's multi_logloss: 1.27898\tvalid_1's multi_logloss: 1.37675\n",
      "[340]\ttraining's multi_logloss: 1.27844\tvalid_1's multi_logloss: 1.37659\n"
     ]
    },
    {
     "name": "stdout",
     "output_type": "stream",
     "text": [
      "[341]\ttraining's multi_logloss: 1.27791\tvalid_1's multi_logloss: 1.37643\n",
      "[342]\ttraining's multi_logloss: 1.27737\tvalid_1's multi_logloss: 1.3762\n",
      "[343]\ttraining's multi_logloss: 1.27686\tvalid_1's multi_logloss: 1.376\n",
      "[344]\ttraining's multi_logloss: 1.27635\tvalid_1's multi_logloss: 1.3759\n",
      "[345]\ttraining's multi_logloss: 1.27582\tvalid_1's multi_logloss: 1.37571\n",
      "[346]\ttraining's multi_logloss: 1.27532\tvalid_1's multi_logloss: 1.37551\n",
      "[347]\ttraining's multi_logloss: 1.27478\tvalid_1's multi_logloss: 1.37535\n",
      "[348]\ttraining's multi_logloss: 1.27427\tvalid_1's multi_logloss: 1.37514\n",
      "[349]\ttraining's multi_logloss: 1.27375\tvalid_1's multi_logloss: 1.37498\n",
      "[350]\ttraining's multi_logloss: 1.27323\tvalid_1's multi_logloss: 1.3748\n",
      "[351]\ttraining's multi_logloss: 1.27273\tvalid_1's multi_logloss: 1.37468\n",
      "[352]\ttraining's multi_logloss: 1.27223\tvalid_1's multi_logloss: 1.37444\n",
      "[353]\ttraining's multi_logloss: 1.27173\tvalid_1's multi_logloss: 1.37428\n",
      "[354]\ttraining's multi_logloss: 1.27121\tvalid_1's multi_logloss: 1.37409\n",
      "[355]\ttraining's multi_logloss: 1.2707\tvalid_1's multi_logloss: 1.37391\n",
      "[356]\ttraining's multi_logloss: 1.2702\tvalid_1's multi_logloss: 1.37373\n",
      "[357]\ttraining's multi_logloss: 1.26969\tvalid_1's multi_logloss: 1.37355\n",
      "[358]\ttraining's multi_logloss: 1.2692\tvalid_1's multi_logloss: 1.37342\n",
      "[359]\ttraining's multi_logloss: 1.26871\tvalid_1's multi_logloss: 1.37329\n",
      "[360]\ttraining's multi_logloss: 1.26822\tvalid_1's multi_logloss: 1.37313\n",
      "[361]\ttraining's multi_logloss: 1.26774\tvalid_1's multi_logloss: 1.37297\n",
      "[362]\ttraining's multi_logloss: 1.26725\tvalid_1's multi_logloss: 1.37282\n",
      "[363]\ttraining's multi_logloss: 1.26676\tvalid_1's multi_logloss: 1.37271\n",
      "[364]\ttraining's multi_logloss: 1.26629\tvalid_1's multi_logloss: 1.37256\n",
      "[365]\ttraining's multi_logloss: 1.26579\tvalid_1's multi_logloss: 1.37237\n",
      "[366]\ttraining's multi_logloss: 1.26532\tvalid_1's multi_logloss: 1.37222\n",
      "[367]\ttraining's multi_logloss: 1.26484\tvalid_1's multi_logloss: 1.37208\n",
      "[368]\ttraining's multi_logloss: 1.26436\tvalid_1's multi_logloss: 1.37187\n",
      "[369]\ttraining's multi_logloss: 1.26388\tvalid_1's multi_logloss: 1.37175\n",
      "[370]\ttraining's multi_logloss: 1.26341\tvalid_1's multi_logloss: 1.37158\n",
      "[371]\ttraining's multi_logloss: 1.26293\tvalid_1's multi_logloss: 1.37145\n",
      "[372]\ttraining's multi_logloss: 1.26244\tvalid_1's multi_logloss: 1.3713\n",
      "[373]\ttraining's multi_logloss: 1.26198\tvalid_1's multi_logloss: 1.37113\n",
      "[374]\ttraining's multi_logloss: 1.2615\tvalid_1's multi_logloss: 1.37097\n",
      "[375]\ttraining's multi_logloss: 1.26105\tvalid_1's multi_logloss: 1.37087\n",
      "[376]\ttraining's multi_logloss: 1.26058\tvalid_1's multi_logloss: 1.37068\n",
      "[377]\ttraining's multi_logloss: 1.26011\tvalid_1's multi_logloss: 1.37057\n",
      "[378]\ttraining's multi_logloss: 1.25965\tvalid_1's multi_logloss: 1.37039\n",
      "[379]\ttraining's multi_logloss: 1.25917\tvalid_1's multi_logloss: 1.37022\n",
      "[380]\ttraining's multi_logloss: 1.2587\tvalid_1's multi_logloss: 1.37\n",
      "[381]\ttraining's multi_logloss: 1.25822\tvalid_1's multi_logloss: 1.36984\n",
      "[382]\ttraining's multi_logloss: 1.25777\tvalid_1's multi_logloss: 1.36967\n",
      "[383]\ttraining's multi_logloss: 1.2573\tvalid_1's multi_logloss: 1.36955\n",
      "[384]\ttraining's multi_logloss: 1.25685\tvalid_1's multi_logloss: 1.36944\n",
      "[385]\ttraining's multi_logloss: 1.25639\tvalid_1's multi_logloss: 1.36932\n",
      "[386]\ttraining's multi_logloss: 1.25593\tvalid_1's multi_logloss: 1.36922\n",
      "[387]\ttraining's multi_logloss: 1.25547\tvalid_1's multi_logloss: 1.36903\n",
      "[388]\ttraining's multi_logloss: 1.25502\tvalid_1's multi_logloss: 1.36894\n",
      "[389]\ttraining's multi_logloss: 1.25456\tvalid_1's multi_logloss: 1.36875\n",
      "[390]\ttraining's multi_logloss: 1.25411\tvalid_1's multi_logloss: 1.36856\n",
      "[391]\ttraining's multi_logloss: 1.25366\tvalid_1's multi_logloss: 1.36841\n",
      "[392]\ttraining's multi_logloss: 1.25321\tvalid_1's multi_logloss: 1.36831\n",
      "[393]\ttraining's multi_logloss: 1.25276\tvalid_1's multi_logloss: 1.36824\n",
      "[394]\ttraining's multi_logloss: 1.25232\tvalid_1's multi_logloss: 1.36815\n",
      "[395]\ttraining's multi_logloss: 1.25188\tvalid_1's multi_logloss: 1.368\n",
      "[396]\ttraining's multi_logloss: 1.25144\tvalid_1's multi_logloss: 1.36792\n",
      "[397]\ttraining's multi_logloss: 1.25101\tvalid_1's multi_logloss: 1.36788\n",
      "[398]\ttraining's multi_logloss: 1.25058\tvalid_1's multi_logloss: 1.36774\n",
      "[399]\ttraining's multi_logloss: 1.25015\tvalid_1's multi_logloss: 1.36766\n",
      "[400]\ttraining's multi_logloss: 1.24971\tvalid_1's multi_logloss: 1.36753\n",
      "[401]\ttraining's multi_logloss: 1.24927\tvalid_1's multi_logloss: 1.3674\n",
      "[402]\ttraining's multi_logloss: 1.24885\tvalid_1's multi_logloss: 1.36731\n",
      "[403]\ttraining's multi_logloss: 1.2484\tvalid_1's multi_logloss: 1.36719\n",
      "[404]\ttraining's multi_logloss: 1.24797\tvalid_1's multi_logloss: 1.36704\n",
      "[405]\ttraining's multi_logloss: 1.24754\tvalid_1's multi_logloss: 1.36685\n",
      "[406]\ttraining's multi_logloss: 1.24711\tvalid_1's multi_logloss: 1.36679\n",
      "[407]\ttraining's multi_logloss: 1.24667\tvalid_1's multi_logloss: 1.36662\n",
      "[408]\ttraining's multi_logloss: 1.24624\tvalid_1's multi_logloss: 1.36651\n",
      "[409]\ttraining's multi_logloss: 1.24582\tvalid_1's multi_logloss: 1.36636\n",
      "[410]\ttraining's multi_logloss: 1.24541\tvalid_1's multi_logloss: 1.36627\n",
      "[411]\ttraining's multi_logloss: 1.24499\tvalid_1's multi_logloss: 1.36615\n",
      "[412]\ttraining's multi_logloss: 1.24458\tvalid_1's multi_logloss: 1.36604\n",
      "[413]\ttraining's multi_logloss: 1.24416\tvalid_1's multi_logloss: 1.36587\n",
      "[414]\ttraining's multi_logloss: 1.24374\tvalid_1's multi_logloss: 1.3658\n",
      "[415]\ttraining's multi_logloss: 1.24333\tvalid_1's multi_logloss: 1.36568\n",
      "[416]\ttraining's multi_logloss: 1.24291\tvalid_1's multi_logloss: 1.3656\n",
      "[417]\ttraining's multi_logloss: 1.2425\tvalid_1's multi_logloss: 1.36552\n",
      "[418]\ttraining's multi_logloss: 1.24209\tvalid_1's multi_logloss: 1.36545\n",
      "[419]\ttraining's multi_logloss: 1.24168\tvalid_1's multi_logloss: 1.3653\n",
      "[420]\ttraining's multi_logloss: 1.24127\tvalid_1's multi_logloss: 1.36518\n",
      "[421]\ttraining's multi_logloss: 1.24085\tvalid_1's multi_logloss: 1.36506\n",
      "[422]\ttraining's multi_logloss: 1.24044\tvalid_1's multi_logloss: 1.36492\n",
      "[423]\ttraining's multi_logloss: 1.24004\tvalid_1's multi_logloss: 1.36484\n",
      "[424]\ttraining's multi_logloss: 1.23963\tvalid_1's multi_logloss: 1.3647\n",
      "[425]\ttraining's multi_logloss: 1.23922\tvalid_1's multi_logloss: 1.36459\n",
      "[426]\ttraining's multi_logloss: 1.2388\tvalid_1's multi_logloss: 1.36451\n",
      "[427]\ttraining's multi_logloss: 1.23839\tvalid_1's multi_logloss: 1.36439\n",
      "[428]\ttraining's multi_logloss: 1.23799\tvalid_1's multi_logloss: 1.36429\n",
      "[429]\ttraining's multi_logloss: 1.23758\tvalid_1's multi_logloss: 1.36417\n",
      "[430]\ttraining's multi_logloss: 1.23718\tvalid_1's multi_logloss: 1.36407\n",
      "[431]\ttraining's multi_logloss: 1.23677\tvalid_1's multi_logloss: 1.364\n",
      "[432]\ttraining's multi_logloss: 1.23638\tvalid_1's multi_logloss: 1.36393\n",
      "[433]\ttraining's multi_logloss: 1.23598\tvalid_1's multi_logloss: 1.3638\n",
      "[434]\ttraining's multi_logloss: 1.23559\tvalid_1's multi_logloss: 1.3637\n",
      "[435]\ttraining's multi_logloss: 1.2352\tvalid_1's multi_logloss: 1.3636\n",
      "[436]\ttraining's multi_logloss: 1.23481\tvalid_1's multi_logloss: 1.36349\n",
      "[437]\ttraining's multi_logloss: 1.23442\tvalid_1's multi_logloss: 1.36343\n",
      "[438]\ttraining's multi_logloss: 1.23402\tvalid_1's multi_logloss: 1.36335\n",
      "[439]\ttraining's multi_logloss: 1.23363\tvalid_1's multi_logloss: 1.36325\n",
      "[440]\ttraining's multi_logloss: 1.23324\tvalid_1's multi_logloss: 1.36317\n",
      "[441]\ttraining's multi_logloss: 1.23286\tvalid_1's multi_logloss: 1.36311\n",
      "[442]\ttraining's multi_logloss: 1.23246\tvalid_1's multi_logloss: 1.36298\n",
      "[443]\ttraining's multi_logloss: 1.23207\tvalid_1's multi_logloss: 1.36281\n",
      "[444]\ttraining's multi_logloss: 1.23169\tvalid_1's multi_logloss: 1.36268\n",
      "[445]\ttraining's multi_logloss: 1.2313\tvalid_1's multi_logloss: 1.36256\n",
      "[446]\ttraining's multi_logloss: 1.23091\tvalid_1's multi_logloss: 1.36245\n",
      "[447]\ttraining's multi_logloss: 1.23053\tvalid_1's multi_logloss: 1.36236\n",
      "[448]\ttraining's multi_logloss: 1.23015\tvalid_1's multi_logloss: 1.36227\n",
      "[449]\ttraining's multi_logloss: 1.22977\tvalid_1's multi_logloss: 1.36218\n",
      "[450]\ttraining's multi_logloss: 1.22939\tvalid_1's multi_logloss: 1.36213\n",
      "[451]\ttraining's multi_logloss: 1.22902\tvalid_1's multi_logloss: 1.36209\n",
      "[452]\ttraining's multi_logloss: 1.22864\tvalid_1's multi_logloss: 1.36202\n",
      "[453]\ttraining's multi_logloss: 1.22827\tvalid_1's multi_logloss: 1.36191\n"
     ]
    },
    {
     "name": "stdout",
     "output_type": "stream",
     "text": [
      "[454]\ttraining's multi_logloss: 1.22789\tvalid_1's multi_logloss: 1.36181\n",
      "[455]\ttraining's multi_logloss: 1.22751\tvalid_1's multi_logloss: 1.36172\n",
      "[456]\ttraining's multi_logloss: 1.22713\tvalid_1's multi_logloss: 1.36154\n",
      "[457]\ttraining's multi_logloss: 1.22677\tvalid_1's multi_logloss: 1.36146\n",
      "[458]\ttraining's multi_logloss: 1.22639\tvalid_1's multi_logloss: 1.36136\n",
      "[459]\ttraining's multi_logloss: 1.22603\tvalid_1's multi_logloss: 1.36125\n",
      "[460]\ttraining's multi_logloss: 1.22566\tvalid_1's multi_logloss: 1.36117\n",
      "[461]\ttraining's multi_logloss: 1.22529\tvalid_1's multi_logloss: 1.36106\n",
      "[462]\ttraining's multi_logloss: 1.22491\tvalid_1's multi_logloss: 1.36099\n",
      "[463]\ttraining's multi_logloss: 1.22454\tvalid_1's multi_logloss: 1.36093\n",
      "[464]\ttraining's multi_logloss: 1.22417\tvalid_1's multi_logloss: 1.36086\n",
      "[465]\ttraining's multi_logloss: 1.2238\tvalid_1's multi_logloss: 1.36074\n",
      "[466]\ttraining's multi_logloss: 1.22343\tvalid_1's multi_logloss: 1.3607\n",
      "[467]\ttraining's multi_logloss: 1.22307\tvalid_1's multi_logloss: 1.36059\n",
      "[468]\ttraining's multi_logloss: 1.22271\tvalid_1's multi_logloss: 1.36049\n",
      "[469]\ttraining's multi_logloss: 1.22235\tvalid_1's multi_logloss: 1.36036\n",
      "[470]\ttraining's multi_logloss: 1.22199\tvalid_1's multi_logloss: 1.36026\n",
      "[471]\ttraining's multi_logloss: 1.22162\tvalid_1's multi_logloss: 1.36016\n",
      "[472]\ttraining's multi_logloss: 1.22126\tvalid_1's multi_logloss: 1.36011\n",
      "[473]\ttraining's multi_logloss: 1.2209\tvalid_1's multi_logloss: 1.36001\n",
      "[474]\ttraining's multi_logloss: 1.22054\tvalid_1's multi_logloss: 1.35996\n",
      "[475]\ttraining's multi_logloss: 1.22018\tvalid_1's multi_logloss: 1.35987\n",
      "[476]\ttraining's multi_logloss: 1.21982\tvalid_1's multi_logloss: 1.35982\n",
      "[477]\ttraining's multi_logloss: 1.21946\tvalid_1's multi_logloss: 1.35974\n",
      "[478]\ttraining's multi_logloss: 1.21912\tvalid_1's multi_logloss: 1.3597\n",
      "[479]\ttraining's multi_logloss: 1.21876\tvalid_1's multi_logloss: 1.35959\n",
      "[480]\ttraining's multi_logloss: 1.21842\tvalid_1's multi_logloss: 1.35953\n",
      "[481]\ttraining's multi_logloss: 1.21807\tvalid_1's multi_logloss: 1.35944\n",
      "[482]\ttraining's multi_logloss: 1.21772\tvalid_1's multi_logloss: 1.35937\n",
      "[483]\ttraining's multi_logloss: 1.21737\tvalid_1's multi_logloss: 1.35934\n",
      "[484]\ttraining's multi_logloss: 1.21702\tvalid_1's multi_logloss: 1.35935\n",
      "[485]\ttraining's multi_logloss: 1.21668\tvalid_1's multi_logloss: 1.35924\n",
      "[486]\ttraining's multi_logloss: 1.21633\tvalid_1's multi_logloss: 1.35916\n",
      "[487]\ttraining's multi_logloss: 1.21599\tvalid_1's multi_logloss: 1.35912\n",
      "[488]\ttraining's multi_logloss: 1.21563\tvalid_1's multi_logloss: 1.35906\n",
      "[489]\ttraining's multi_logloss: 1.21529\tvalid_1's multi_logloss: 1.35895\n",
      "[490]\ttraining's multi_logloss: 1.21494\tvalid_1's multi_logloss: 1.35888\n",
      "[491]\ttraining's multi_logloss: 1.21459\tvalid_1's multi_logloss: 1.35883\n",
      "[492]\ttraining's multi_logloss: 1.21424\tvalid_1's multi_logloss: 1.35874\n",
      "[493]\ttraining's multi_logloss: 1.2139\tvalid_1's multi_logloss: 1.35866\n",
      "[494]\ttraining's multi_logloss: 1.21355\tvalid_1's multi_logloss: 1.35861\n",
      "[495]\ttraining's multi_logloss: 1.21321\tvalid_1's multi_logloss: 1.35856\n",
      "[496]\ttraining's multi_logloss: 1.21287\tvalid_1's multi_logloss: 1.35851\n",
      "[497]\ttraining's multi_logloss: 1.21253\tvalid_1's multi_logloss: 1.35843\n",
      "[498]\ttraining's multi_logloss: 1.2122\tvalid_1's multi_logloss: 1.35833\n",
      "[499]\ttraining's multi_logloss: 1.21187\tvalid_1's multi_logloss: 1.35825\n",
      "[500]\ttraining's multi_logloss: 1.21154\tvalid_1's multi_logloss: 1.35823\n",
      "[501]\ttraining's multi_logloss: 1.2112\tvalid_1's multi_logloss: 1.35819\n",
      "[502]\ttraining's multi_logloss: 1.21086\tvalid_1's multi_logloss: 1.35812\n",
      "[503]\ttraining's multi_logloss: 1.21053\tvalid_1's multi_logloss: 1.35807\n",
      "[504]\ttraining's multi_logloss: 1.21019\tvalid_1's multi_logloss: 1.35799\n",
      "[505]\ttraining's multi_logloss: 1.20987\tvalid_1's multi_logloss: 1.35792\n",
      "[506]\ttraining's multi_logloss: 1.20953\tvalid_1's multi_logloss: 1.35788\n",
      "[507]\ttraining's multi_logloss: 1.2092\tvalid_1's multi_logloss: 1.35782\n",
      "[508]\ttraining's multi_logloss: 1.20887\tvalid_1's multi_logloss: 1.35775\n",
      "[509]\ttraining's multi_logloss: 1.20854\tvalid_1's multi_logloss: 1.35767\n",
      "[510]\ttraining's multi_logloss: 1.2082\tvalid_1's multi_logloss: 1.3576\n",
      "[511]\ttraining's multi_logloss: 1.20788\tvalid_1's multi_logloss: 1.35758\n",
      "[512]\ttraining's multi_logloss: 1.20755\tvalid_1's multi_logloss: 1.35753\n",
      "[513]\ttraining's multi_logloss: 1.20722\tvalid_1's multi_logloss: 1.3575\n",
      "[514]\ttraining's multi_logloss: 1.20689\tvalid_1's multi_logloss: 1.35748\n",
      "[515]\ttraining's multi_logloss: 1.20657\tvalid_1's multi_logloss: 1.35739\n",
      "[516]\ttraining's multi_logloss: 1.20625\tvalid_1's multi_logloss: 1.35732\n",
      "[517]\ttraining's multi_logloss: 1.20592\tvalid_1's multi_logloss: 1.35732\n",
      "[518]\ttraining's multi_logloss: 1.2056\tvalid_1's multi_logloss: 1.35727\n",
      "[519]\ttraining's multi_logloss: 1.20526\tvalid_1's multi_logloss: 1.35723\n",
      "[520]\ttraining's multi_logloss: 1.20493\tvalid_1's multi_logloss: 1.35722\n",
      "[521]\ttraining's multi_logloss: 1.20462\tvalid_1's multi_logloss: 1.35709\n",
      "[522]\ttraining's multi_logloss: 1.20431\tvalid_1's multi_logloss: 1.35711\n",
      "[523]\ttraining's multi_logloss: 1.20399\tvalid_1's multi_logloss: 1.35704\n",
      "[524]\ttraining's multi_logloss: 1.20366\tvalid_1's multi_logloss: 1.35702\n",
      "[525]\ttraining's multi_logloss: 1.20335\tvalid_1's multi_logloss: 1.35693\n",
      "[526]\ttraining's multi_logloss: 1.20304\tvalid_1's multi_logloss: 1.35689\n",
      "[527]\ttraining's multi_logloss: 1.20272\tvalid_1's multi_logloss: 1.35686\n",
      "[528]\ttraining's multi_logloss: 1.2024\tvalid_1's multi_logloss: 1.35682\n",
      "[529]\ttraining's multi_logloss: 1.20208\tvalid_1's multi_logloss: 1.35675\n",
      "[530]\ttraining's multi_logloss: 1.20176\tvalid_1's multi_logloss: 1.35667\n",
      "[531]\ttraining's multi_logloss: 1.20144\tvalid_1's multi_logloss: 1.35664\n",
      "[532]\ttraining's multi_logloss: 1.20113\tvalid_1's multi_logloss: 1.3566\n",
      "[533]\ttraining's multi_logloss: 1.20081\tvalid_1's multi_logloss: 1.35657\n",
      "[534]\ttraining's multi_logloss: 1.2005\tvalid_1's multi_logloss: 1.35649\n",
      "[535]\ttraining's multi_logloss: 1.20019\tvalid_1's multi_logloss: 1.3565\n",
      "[536]\ttraining's multi_logloss: 1.19987\tvalid_1's multi_logloss: 1.35647\n",
      "[537]\ttraining's multi_logloss: 1.19956\tvalid_1's multi_logloss: 1.35638\n",
      "[538]\ttraining's multi_logloss: 1.19924\tvalid_1's multi_logloss: 1.35634\n",
      "[539]\ttraining's multi_logloss: 1.19893\tvalid_1's multi_logloss: 1.35631\n",
      "[540]\ttraining's multi_logloss: 1.19862\tvalid_1's multi_logloss: 1.35627\n",
      "[541]\ttraining's multi_logloss: 1.19832\tvalid_1's multi_logloss: 1.35622\n",
      "[542]\ttraining's multi_logloss: 1.19801\tvalid_1's multi_logloss: 1.35614\n",
      "[543]\ttraining's multi_logloss: 1.19771\tvalid_1's multi_logloss: 1.35611\n",
      "[544]\ttraining's multi_logloss: 1.1974\tvalid_1's multi_logloss: 1.35609\n",
      "[545]\ttraining's multi_logloss: 1.1971\tvalid_1's multi_logloss: 1.35601\n",
      "[546]\ttraining's multi_logloss: 1.19678\tvalid_1's multi_logloss: 1.35599\n",
      "[547]\ttraining's multi_logloss: 1.19647\tvalid_1's multi_logloss: 1.35593\n",
      "[548]\ttraining's multi_logloss: 1.19616\tvalid_1's multi_logloss: 1.35585\n",
      "[549]\ttraining's multi_logloss: 1.19586\tvalid_1's multi_logloss: 1.35579\n",
      "[550]\ttraining's multi_logloss: 1.19555\tvalid_1's multi_logloss: 1.35578\n",
      "[551]\ttraining's multi_logloss: 1.19524\tvalid_1's multi_logloss: 1.35572\n",
      "[552]\ttraining's multi_logloss: 1.19493\tvalid_1's multi_logloss: 1.35568\n",
      "[553]\ttraining's multi_logloss: 1.19463\tvalid_1's multi_logloss: 1.35562\n",
      "[554]\ttraining's multi_logloss: 1.19433\tvalid_1's multi_logloss: 1.35555\n",
      "[555]\ttraining's multi_logloss: 1.19402\tvalid_1's multi_logloss: 1.3555\n",
      "[556]\ttraining's multi_logloss: 1.19373\tvalid_1's multi_logloss: 1.35545\n",
      "[557]\ttraining's multi_logloss: 1.19342\tvalid_1's multi_logloss: 1.35543\n",
      "[558]\ttraining's multi_logloss: 1.19313\tvalid_1's multi_logloss: 1.35544\n",
      "[559]\ttraining's multi_logloss: 1.19283\tvalid_1's multi_logloss: 1.35538\n",
      "[560]\ttraining's multi_logloss: 1.19253\tvalid_1's multi_logloss: 1.35531\n",
      "[561]\ttraining's multi_logloss: 1.19223\tvalid_1's multi_logloss: 1.35534\n",
      "[562]\ttraining's multi_logloss: 1.19194\tvalid_1's multi_logloss: 1.35528\n",
      "[563]\ttraining's multi_logloss: 1.19165\tvalid_1's multi_logloss: 1.35523\n",
      "[564]\ttraining's multi_logloss: 1.19136\tvalid_1's multi_logloss: 1.3552\n",
      "[565]\ttraining's multi_logloss: 1.19105\tvalid_1's multi_logloss: 1.35516\n",
      "[566]\ttraining's multi_logloss: 1.19075\tvalid_1's multi_logloss: 1.35509\n"
     ]
    },
    {
     "name": "stdout",
     "output_type": "stream",
     "text": [
      "[567]\ttraining's multi_logloss: 1.19045\tvalid_1's multi_logloss: 1.35504\n",
      "[568]\ttraining's multi_logloss: 1.19017\tvalid_1's multi_logloss: 1.35501\n",
      "[569]\ttraining's multi_logloss: 1.18988\tvalid_1's multi_logloss: 1.35495\n",
      "[570]\ttraining's multi_logloss: 1.18959\tvalid_1's multi_logloss: 1.35492\n",
      "[571]\ttraining's multi_logloss: 1.1893\tvalid_1's multi_logloss: 1.35486\n",
      "[572]\ttraining's multi_logloss: 1.18901\tvalid_1's multi_logloss: 1.35482\n",
      "[573]\ttraining's multi_logloss: 1.18872\tvalid_1's multi_logloss: 1.35477\n",
      "[574]\ttraining's multi_logloss: 1.18842\tvalid_1's multi_logloss: 1.35471\n",
      "[575]\ttraining's multi_logloss: 1.18813\tvalid_1's multi_logloss: 1.35473\n",
      "[576]\ttraining's multi_logloss: 1.18785\tvalid_1's multi_logloss: 1.35472\n",
      "[577]\ttraining's multi_logloss: 1.18755\tvalid_1's multi_logloss: 1.35472\n",
      "[578]\ttraining's multi_logloss: 1.18726\tvalid_1's multi_logloss: 1.35473\n",
      "[579]\ttraining's multi_logloss: 1.18697\tvalid_1's multi_logloss: 1.35467\n",
      "[580]\ttraining's multi_logloss: 1.18669\tvalid_1's multi_logloss: 1.35466\n",
      "[581]\ttraining's multi_logloss: 1.18641\tvalid_1's multi_logloss: 1.35464\n",
      "[582]\ttraining's multi_logloss: 1.18613\tvalid_1's multi_logloss: 1.35457\n",
      "[583]\ttraining's multi_logloss: 1.18585\tvalid_1's multi_logloss: 1.35451\n",
      "[584]\ttraining's multi_logloss: 1.18556\tvalid_1's multi_logloss: 1.35446\n",
      "[585]\ttraining's multi_logloss: 1.18529\tvalid_1's multi_logloss: 1.35439\n",
      "[586]\ttraining's multi_logloss: 1.185\tvalid_1's multi_logloss: 1.35436\n",
      "[587]\ttraining's multi_logloss: 1.18472\tvalid_1's multi_logloss: 1.35435\n",
      "[588]\ttraining's multi_logloss: 1.18443\tvalid_1's multi_logloss: 1.35431\n",
      "[589]\ttraining's multi_logloss: 1.18415\tvalid_1's multi_logloss: 1.35431\n",
      "[590]\ttraining's multi_logloss: 1.18386\tvalid_1's multi_logloss: 1.35428\n",
      "[591]\ttraining's multi_logloss: 1.18359\tvalid_1's multi_logloss: 1.3543\n",
      "[592]\ttraining's multi_logloss: 1.18331\tvalid_1's multi_logloss: 1.35431\n",
      "[593]\ttraining's multi_logloss: 1.18301\tvalid_1's multi_logloss: 1.3543\n",
      "[594]\ttraining's multi_logloss: 1.18274\tvalid_1's multi_logloss: 1.35431\n",
      "[595]\ttraining's multi_logloss: 1.18246\tvalid_1's multi_logloss: 1.3542\n",
      "[596]\ttraining's multi_logloss: 1.18218\tvalid_1's multi_logloss: 1.35412\n",
      "[597]\ttraining's multi_logloss: 1.1819\tvalid_1's multi_logloss: 1.35405\n",
      "[598]\ttraining's multi_logloss: 1.18162\tvalid_1's multi_logloss: 1.35405\n",
      "[599]\ttraining's multi_logloss: 1.18135\tvalid_1's multi_logloss: 1.35402\n",
      "[600]\ttraining's multi_logloss: 1.18107\tvalid_1's multi_logloss: 1.35399\n",
      "[601]\ttraining's multi_logloss: 1.18081\tvalid_1's multi_logloss: 1.35399\n",
      "[602]\ttraining's multi_logloss: 1.18053\tvalid_1's multi_logloss: 1.35395\n",
      "[603]\ttraining's multi_logloss: 1.18026\tvalid_1's multi_logloss: 1.35388\n",
      "[604]\ttraining's multi_logloss: 1.17998\tvalid_1's multi_logloss: 1.35386\n",
      "[605]\ttraining's multi_logloss: 1.1797\tvalid_1's multi_logloss: 1.35383\n",
      "[606]\ttraining's multi_logloss: 1.17943\tvalid_1's multi_logloss: 1.3538\n",
      "[607]\ttraining's multi_logloss: 1.17915\tvalid_1's multi_logloss: 1.35378\n",
      "[608]\ttraining's multi_logloss: 1.17889\tvalid_1's multi_logloss: 1.35375\n",
      "[609]\ttraining's multi_logloss: 1.17861\tvalid_1's multi_logloss: 1.35369\n",
      "[610]\ttraining's multi_logloss: 1.17834\tvalid_1's multi_logloss: 1.3536\n",
      "[611]\ttraining's multi_logloss: 1.17806\tvalid_1's multi_logloss: 1.35355\n",
      "[612]\ttraining's multi_logloss: 1.1778\tvalid_1's multi_logloss: 1.35355\n",
      "[613]\ttraining's multi_logloss: 1.17754\tvalid_1's multi_logloss: 1.35352\n",
      "[614]\ttraining's multi_logloss: 1.17727\tvalid_1's multi_logloss: 1.35347\n",
      "[615]\ttraining's multi_logloss: 1.17699\tvalid_1's multi_logloss: 1.35341\n",
      "[616]\ttraining's multi_logloss: 1.17673\tvalid_1's multi_logloss: 1.3534\n",
      "[617]\ttraining's multi_logloss: 1.17647\tvalid_1's multi_logloss: 1.35342\n",
      "[618]\ttraining's multi_logloss: 1.1762\tvalid_1's multi_logloss: 1.35341\n",
      "[619]\ttraining's multi_logloss: 1.17593\tvalid_1's multi_logloss: 1.35339\n",
      "[620]\ttraining's multi_logloss: 1.17567\tvalid_1's multi_logloss: 1.35336\n",
      "[621]\ttraining's multi_logloss: 1.17541\tvalid_1's multi_logloss: 1.35333\n",
      "[622]\ttraining's multi_logloss: 1.17515\tvalid_1's multi_logloss: 1.35328\n",
      "[623]\ttraining's multi_logloss: 1.17487\tvalid_1's multi_logloss: 1.35322\n",
      "[624]\ttraining's multi_logloss: 1.17461\tvalid_1's multi_logloss: 1.35318\n",
      "[625]\ttraining's multi_logloss: 1.17434\tvalid_1's multi_logloss: 1.3531\n",
      "[626]\ttraining's multi_logloss: 1.17408\tvalid_1's multi_logloss: 1.35308\n",
      "[627]\ttraining's multi_logloss: 1.17383\tvalid_1's multi_logloss: 1.35313\n",
      "[628]\ttraining's multi_logloss: 1.17356\tvalid_1's multi_logloss: 1.35309\n",
      "[629]\ttraining's multi_logloss: 1.17329\tvalid_1's multi_logloss: 1.35306\n",
      "[630]\ttraining's multi_logloss: 1.17302\tvalid_1's multi_logloss: 1.35304\n",
      "[631]\ttraining's multi_logloss: 1.17276\tvalid_1's multi_logloss: 1.35301\n",
      "[632]\ttraining's multi_logloss: 1.17251\tvalid_1's multi_logloss: 1.35303\n",
      "[633]\ttraining's multi_logloss: 1.17225\tvalid_1's multi_logloss: 1.35302\n",
      "[634]\ttraining's multi_logloss: 1.17198\tvalid_1's multi_logloss: 1.35304\n",
      "[635]\ttraining's multi_logloss: 1.17172\tvalid_1's multi_logloss: 1.35298\n",
      "[636]\ttraining's multi_logloss: 1.17146\tvalid_1's multi_logloss: 1.35297\n",
      "[637]\ttraining's multi_logloss: 1.17121\tvalid_1's multi_logloss: 1.35296\n",
      "[638]\ttraining's multi_logloss: 1.17095\tvalid_1's multi_logloss: 1.35293\n",
      "[639]\ttraining's multi_logloss: 1.17068\tvalid_1's multi_logloss: 1.3529\n",
      "[640]\ttraining's multi_logloss: 1.17042\tvalid_1's multi_logloss: 1.35289\n",
      "[641]\ttraining's multi_logloss: 1.17016\tvalid_1's multi_logloss: 1.35288\n",
      "[642]\ttraining's multi_logloss: 1.1699\tvalid_1's multi_logloss: 1.35286\n",
      "[643]\ttraining's multi_logloss: 1.16963\tvalid_1's multi_logloss: 1.35285\n",
      "[644]\ttraining's multi_logloss: 1.16938\tvalid_1's multi_logloss: 1.35282\n",
      "[645]\ttraining's multi_logloss: 1.16912\tvalid_1's multi_logloss: 1.35281\n",
      "[646]\ttraining's multi_logloss: 1.16886\tvalid_1's multi_logloss: 1.35277\n",
      "[647]\ttraining's multi_logloss: 1.1686\tvalid_1's multi_logloss: 1.35273\n",
      "[648]\ttraining's multi_logloss: 1.16833\tvalid_1's multi_logloss: 1.35272\n",
      "[649]\ttraining's multi_logloss: 1.16808\tvalid_1's multi_logloss: 1.35264\n",
      "[650]\ttraining's multi_logloss: 1.16783\tvalid_1's multi_logloss: 1.35259\n",
      "[651]\ttraining's multi_logloss: 1.16757\tvalid_1's multi_logloss: 1.35256\n",
      "[652]\ttraining's multi_logloss: 1.16733\tvalid_1's multi_logloss: 1.35257\n",
      "[653]\ttraining's multi_logloss: 1.16707\tvalid_1's multi_logloss: 1.3525\n",
      "[654]\ttraining's multi_logloss: 1.16683\tvalid_1's multi_logloss: 1.35252\n",
      "[655]\ttraining's multi_logloss: 1.16657\tvalid_1's multi_logloss: 1.35251\n",
      "[656]\ttraining's multi_logloss: 1.16632\tvalid_1's multi_logloss: 1.35252\n",
      "[657]\ttraining's multi_logloss: 1.16606\tvalid_1's multi_logloss: 1.35248\n",
      "[658]\ttraining's multi_logloss: 1.16582\tvalid_1's multi_logloss: 1.35248\n",
      "[659]\ttraining's multi_logloss: 1.16557\tvalid_1's multi_logloss: 1.3525\n",
      "[660]\ttraining's multi_logloss: 1.16532\tvalid_1's multi_logloss: 1.3525\n",
      "[661]\ttraining's multi_logloss: 1.16507\tvalid_1's multi_logloss: 1.35252\n",
      "[662]\ttraining's multi_logloss: 1.16481\tvalid_1's multi_logloss: 1.35249\n",
      "[663]\ttraining's multi_logloss: 1.16456\tvalid_1's multi_logloss: 1.35247\n",
      "[664]\ttraining's multi_logloss: 1.16432\tvalid_1's multi_logloss: 1.35247\n",
      "[665]\ttraining's multi_logloss: 1.16407\tvalid_1's multi_logloss: 1.35246\n",
      "[666]\ttraining's multi_logloss: 1.16381\tvalid_1's multi_logloss: 1.35246\n",
      "[667]\ttraining's multi_logloss: 1.16356\tvalid_1's multi_logloss: 1.35245\n",
      "[668]\ttraining's multi_logloss: 1.16331\tvalid_1's multi_logloss: 1.35242\n",
      "[669]\ttraining's multi_logloss: 1.16306\tvalid_1's multi_logloss: 1.35239\n",
      "[670]\ttraining's multi_logloss: 1.16282\tvalid_1's multi_logloss: 1.35237\n",
      "[671]\ttraining's multi_logloss: 1.16258\tvalid_1's multi_logloss: 1.35236\n",
      "[672]\ttraining's multi_logloss: 1.16233\tvalid_1's multi_logloss: 1.3524\n",
      "[673]\ttraining's multi_logloss: 1.16208\tvalid_1's multi_logloss: 1.3524\n",
      "[674]\ttraining's multi_logloss: 1.16183\tvalid_1's multi_logloss: 1.35236\n",
      "[675]\ttraining's multi_logloss: 1.16159\tvalid_1's multi_logloss: 1.3523\n",
      "[676]\ttraining's multi_logloss: 1.16135\tvalid_1's multi_logloss: 1.35233\n",
      "[677]\ttraining's multi_logloss: 1.1611\tvalid_1's multi_logloss: 1.35235\n",
      "[678]\ttraining's multi_logloss: 1.16086\tvalid_1's multi_logloss: 1.35235\n",
      "[679]\ttraining's multi_logloss: 1.16062\tvalid_1's multi_logloss: 1.35235\n"
     ]
    },
    {
     "name": "stdout",
     "output_type": "stream",
     "text": [
      "[680]\ttraining's multi_logloss: 1.16038\tvalid_1's multi_logloss: 1.35237\n",
      "[681]\ttraining's multi_logloss: 1.16013\tvalid_1's multi_logloss: 1.35237\n",
      "[682]\ttraining's multi_logloss: 1.15989\tvalid_1's multi_logloss: 1.35233\n",
      "[683]\ttraining's multi_logloss: 1.15965\tvalid_1's multi_logloss: 1.3523\n",
      "[684]\ttraining's multi_logloss: 1.15941\tvalid_1's multi_logloss: 1.35232\n",
      "[685]\ttraining's multi_logloss: 1.15916\tvalid_1's multi_logloss: 1.35229\n",
      "[686]\ttraining's multi_logloss: 1.15893\tvalid_1's multi_logloss: 1.35228\n",
      "[687]\ttraining's multi_logloss: 1.15869\tvalid_1's multi_logloss: 1.35225\n",
      "[688]\ttraining's multi_logloss: 1.15846\tvalid_1's multi_logloss: 1.35228\n",
      "[689]\ttraining's multi_logloss: 1.15821\tvalid_1's multi_logloss: 1.35224\n",
      "[690]\ttraining's multi_logloss: 1.15798\tvalid_1's multi_logloss: 1.35222\n",
      "[691]\ttraining's multi_logloss: 1.15774\tvalid_1's multi_logloss: 1.35222\n",
      "[692]\ttraining's multi_logloss: 1.1575\tvalid_1's multi_logloss: 1.35223\n",
      "[693]\ttraining's multi_logloss: 1.15726\tvalid_1's multi_logloss: 1.35227\n",
      "[694]\ttraining's multi_logloss: 1.15702\tvalid_1's multi_logloss: 1.35225\n",
      "[695]\ttraining's multi_logloss: 1.15678\tvalid_1's multi_logloss: 1.35222\n",
      "[696]\ttraining's multi_logloss: 1.15655\tvalid_1's multi_logloss: 1.35219\n",
      "[697]\ttraining's multi_logloss: 1.15631\tvalid_1's multi_logloss: 1.35213\n",
      "[698]\ttraining's multi_logloss: 1.15608\tvalid_1's multi_logloss: 1.3521\n",
      "[699]\ttraining's multi_logloss: 1.15584\tvalid_1's multi_logloss: 1.35205\n",
      "[700]\ttraining's multi_logloss: 1.15561\tvalid_1's multi_logloss: 1.35204\n",
      "[701]\ttraining's multi_logloss: 1.15538\tvalid_1's multi_logloss: 1.35203\n",
      "[702]\ttraining's multi_logloss: 1.15514\tvalid_1's multi_logloss: 1.35201\n",
      "[703]\ttraining's multi_logloss: 1.15491\tvalid_1's multi_logloss: 1.35194\n",
      "[704]\ttraining's multi_logloss: 1.15467\tvalid_1's multi_logloss: 1.35191\n",
      "[705]\ttraining's multi_logloss: 1.15444\tvalid_1's multi_logloss: 1.35193\n",
      "[706]\ttraining's multi_logloss: 1.15421\tvalid_1's multi_logloss: 1.35189\n",
      "[707]\ttraining's multi_logloss: 1.15398\tvalid_1's multi_logloss: 1.35185\n",
      "[708]\ttraining's multi_logloss: 1.15375\tvalid_1's multi_logloss: 1.35183\n",
      "[709]\ttraining's multi_logloss: 1.15352\tvalid_1's multi_logloss: 1.35182\n",
      "[710]\ttraining's multi_logloss: 1.15329\tvalid_1's multi_logloss: 1.3518\n",
      "[711]\ttraining's multi_logloss: 1.15305\tvalid_1's multi_logloss: 1.35175\n",
      "[712]\ttraining's multi_logloss: 1.15282\tvalid_1's multi_logloss: 1.35173\n",
      "[713]\ttraining's multi_logloss: 1.1526\tvalid_1's multi_logloss: 1.35171\n",
      "[714]\ttraining's multi_logloss: 1.15237\tvalid_1's multi_logloss: 1.35168\n",
      "[715]\ttraining's multi_logloss: 1.15215\tvalid_1's multi_logloss: 1.35167\n",
      "[716]\ttraining's multi_logloss: 1.15192\tvalid_1's multi_logloss: 1.35163\n",
      "[717]\ttraining's multi_logloss: 1.15169\tvalid_1's multi_logloss: 1.35164\n",
      "[718]\ttraining's multi_logloss: 1.15146\tvalid_1's multi_logloss: 1.35162\n",
      "[719]\ttraining's multi_logloss: 1.15124\tvalid_1's multi_logloss: 1.35162\n",
      "[720]\ttraining's multi_logloss: 1.15101\tvalid_1's multi_logloss: 1.35159\n",
      "[721]\ttraining's multi_logloss: 1.15078\tvalid_1's multi_logloss: 1.35161\n",
      "[722]\ttraining's multi_logloss: 1.15055\tvalid_1's multi_logloss: 1.35156\n",
      "[723]\ttraining's multi_logloss: 1.15033\tvalid_1's multi_logloss: 1.35151\n",
      "[724]\ttraining's multi_logloss: 1.15011\tvalid_1's multi_logloss: 1.35152\n",
      "[725]\ttraining's multi_logloss: 1.14988\tvalid_1's multi_logloss: 1.35152\n",
      "[726]\ttraining's multi_logloss: 1.14966\tvalid_1's multi_logloss: 1.35155\n",
      "[727]\ttraining's multi_logloss: 1.14942\tvalid_1's multi_logloss: 1.35158\n",
      "[728]\ttraining's multi_logloss: 1.1492\tvalid_1's multi_logloss: 1.35158\n",
      "[729]\ttraining's multi_logloss: 1.14897\tvalid_1's multi_logloss: 1.35156\n",
      "[730]\ttraining's multi_logloss: 1.14875\tvalid_1's multi_logloss: 1.35154\n",
      "[731]\ttraining's multi_logloss: 1.14853\tvalid_1's multi_logloss: 1.35156\n",
      "[732]\ttraining's multi_logloss: 1.1483\tvalid_1's multi_logloss: 1.35154\n",
      "[733]\ttraining's multi_logloss: 1.14807\tvalid_1's multi_logloss: 1.35151\n",
      "[734]\ttraining's multi_logloss: 1.14784\tvalid_1's multi_logloss: 1.35145\n",
      "[735]\ttraining's multi_logloss: 1.14761\tvalid_1's multi_logloss: 1.35141\n",
      "[736]\ttraining's multi_logloss: 1.14739\tvalid_1's multi_logloss: 1.35139\n",
      "[737]\ttraining's multi_logloss: 1.14717\tvalid_1's multi_logloss: 1.35139\n",
      "[738]\ttraining's multi_logloss: 1.14695\tvalid_1's multi_logloss: 1.3514\n",
      "[739]\ttraining's multi_logloss: 1.14671\tvalid_1's multi_logloss: 1.35137\n",
      "[740]\ttraining's multi_logloss: 1.1465\tvalid_1's multi_logloss: 1.3513\n",
      "[741]\ttraining's multi_logloss: 1.14628\tvalid_1's multi_logloss: 1.35128\n",
      "[742]\ttraining's multi_logloss: 1.14605\tvalid_1's multi_logloss: 1.35133\n",
      "[743]\ttraining's multi_logloss: 1.14583\tvalid_1's multi_logloss: 1.3513\n",
      "[744]\ttraining's multi_logloss: 1.1456\tvalid_1's multi_logloss: 1.3513\n",
      "[745]\ttraining's multi_logloss: 1.14538\tvalid_1's multi_logloss: 1.3513\n",
      "[746]\ttraining's multi_logloss: 1.14516\tvalid_1's multi_logloss: 1.35127\n",
      "[747]\ttraining's multi_logloss: 1.14494\tvalid_1's multi_logloss: 1.35125\n",
      "[748]\ttraining's multi_logloss: 1.14472\tvalid_1's multi_logloss: 1.35119\n",
      "[749]\ttraining's multi_logloss: 1.14449\tvalid_1's multi_logloss: 1.35118\n",
      "[750]\ttraining's multi_logloss: 1.14427\tvalid_1's multi_logloss: 1.35122\n",
      "[751]\ttraining's multi_logloss: 1.14406\tvalid_1's multi_logloss: 1.35124\n",
      "[752]\ttraining's multi_logloss: 1.14384\tvalid_1's multi_logloss: 1.35119\n",
      "[753]\ttraining's multi_logloss: 1.14363\tvalid_1's multi_logloss: 1.35119\n",
      "[754]\ttraining's multi_logloss: 1.14342\tvalid_1's multi_logloss: 1.35117\n",
      "[755]\ttraining's multi_logloss: 1.14319\tvalid_1's multi_logloss: 1.35115\n",
      "[756]\ttraining's multi_logloss: 1.14297\tvalid_1's multi_logloss: 1.35112\n",
      "[757]\ttraining's multi_logloss: 1.14275\tvalid_1's multi_logloss: 1.35109\n",
      "[758]\ttraining's multi_logloss: 1.14253\tvalid_1's multi_logloss: 1.35112\n",
      "[759]\ttraining's multi_logloss: 1.14231\tvalid_1's multi_logloss: 1.35112\n",
      "[760]\ttraining's multi_logloss: 1.1421\tvalid_1's multi_logloss: 1.3511\n",
      "[761]\ttraining's multi_logloss: 1.14189\tvalid_1's multi_logloss: 1.3511\n",
      "[762]\ttraining's multi_logloss: 1.14168\tvalid_1's multi_logloss: 1.35108\n",
      "[763]\ttraining's multi_logloss: 1.14146\tvalid_1's multi_logloss: 1.35105\n",
      "[764]\ttraining's multi_logloss: 1.14125\tvalid_1's multi_logloss: 1.351\n",
      "[765]\ttraining's multi_logloss: 1.14103\tvalid_1's multi_logloss: 1.35103\n",
      "[766]\ttraining's multi_logloss: 1.14081\tvalid_1's multi_logloss: 1.35106\n",
      "[767]\ttraining's multi_logloss: 1.14059\tvalid_1's multi_logloss: 1.35102\n",
      "[768]\ttraining's multi_logloss: 1.14038\tvalid_1's multi_logloss: 1.35104\n",
      "[769]\ttraining's multi_logloss: 1.14017\tvalid_1's multi_logloss: 1.351\n",
      "[770]\ttraining's multi_logloss: 1.13995\tvalid_1's multi_logloss: 1.35095\n",
      "[771]\ttraining's multi_logloss: 1.13974\tvalid_1's multi_logloss: 1.35094\n",
      "[772]\ttraining's multi_logloss: 1.13952\tvalid_1's multi_logloss: 1.35091\n",
      "[773]\ttraining's multi_logloss: 1.13931\tvalid_1's multi_logloss: 1.3509\n",
      "[774]\ttraining's multi_logloss: 1.1391\tvalid_1's multi_logloss: 1.35092\n",
      "[775]\ttraining's multi_logloss: 1.13889\tvalid_1's multi_logloss: 1.35095\n",
      "[776]\ttraining's multi_logloss: 1.13867\tvalid_1's multi_logloss: 1.35101\n",
      "[777]\ttraining's multi_logloss: 1.13845\tvalid_1's multi_logloss: 1.35099\n",
      "[778]\ttraining's multi_logloss: 1.13824\tvalid_1's multi_logloss: 1.35096\n",
      "[779]\ttraining's multi_logloss: 1.13804\tvalid_1's multi_logloss: 1.35095\n",
      "[780]\ttraining's multi_logloss: 1.13783\tvalid_1's multi_logloss: 1.35096\n",
      "[781]\ttraining's multi_logloss: 1.13762\tvalid_1's multi_logloss: 1.35093\n",
      "[782]\ttraining's multi_logloss: 1.1374\tvalid_1's multi_logloss: 1.35091\n",
      "[783]\ttraining's multi_logloss: 1.13719\tvalid_1's multi_logloss: 1.35089\n",
      "[784]\ttraining's multi_logloss: 1.13698\tvalid_1's multi_logloss: 1.35091\n",
      "[785]\ttraining's multi_logloss: 1.13677\tvalid_1's multi_logloss: 1.35093\n",
      "[786]\ttraining's multi_logloss: 1.13655\tvalid_1's multi_logloss: 1.35092\n",
      "[787]\ttraining's multi_logloss: 1.13633\tvalid_1's multi_logloss: 1.35091\n",
      "[788]\ttraining's multi_logloss: 1.13612\tvalid_1's multi_logloss: 1.35092\n",
      "[789]\ttraining's multi_logloss: 1.13591\tvalid_1's multi_logloss: 1.35092\n",
      "[790]\ttraining's multi_logloss: 1.13572\tvalid_1's multi_logloss: 1.35096\n",
      "[791]\ttraining's multi_logloss: 1.13551\tvalid_1's multi_logloss: 1.35096\n",
      "[792]\ttraining's multi_logloss: 1.1353\tvalid_1's multi_logloss: 1.35096\n"
     ]
    },
    {
     "name": "stdout",
     "output_type": "stream",
     "text": [
      "[793]\ttraining's multi_logloss: 1.13509\tvalid_1's multi_logloss: 1.35096\n",
      "Early stopping, best iteration is:\n",
      "[783]\ttraining's multi_logloss: 1.13719\tvalid_1's multi_logloss: 1.35089\n"
     ]
    }
   ],
   "source": [
    "lgbm_cnt = run_light_gbm(X_train, X_test, y_train, y_test, is_countvec=True)"
   ]
  },
  {
   "cell_type": "code",
   "execution_count": 115,
   "metadata": {},
   "outputs": [],
   "source": [
    "dtrain, dtest = get_lgbm_dataset(X_train, X_test, y_train, y_test, True)"
   ]
  },
  {
   "cell_type": "code",
   "execution_count": 203,
   "metadata": {},
   "outputs": [],
   "source": [
    "y_pred_lgbm =lgbm.predict(dtest)"
   ]
  },
  {
   "cell_type": "code",
   "execution_count": 204,
   "metadata": {},
   "outputs": [],
   "source": [
    "y_pred_lgbm = y_pred_lgbm.argmax(axis=1)"
   ]
  },
  {
   "cell_type": "code",
   "execution_count": 205,
   "metadata": {},
   "outputs": [
    {
     "data": {
      "text/plain": [
       "0.6131687242798354"
      ]
     },
     "execution_count": 205,
     "metadata": {},
     "output_type": "execute_result"
    }
   ],
   "source": [
    "accuracy_score(y_test, y_pred_lgbm)"
   ]
  },
  {
   "cell_type": "code",
   "execution_count": 206,
   "metadata": {},
   "outputs": [
    {
     "name": "stdout",
     "output_type": "stream",
     "text": [
      "             precision    recall  f1-score   support\n",
      "\n",
      "          0       0.65      0.33      0.44       198\n",
      "          1       0.88      0.65      0.75        66\n",
      "          2       0.48      0.18      0.26        55\n",
      "          3       0.50      0.07      0.12        74\n",
      "          4       1.00      0.12      0.21        26\n",
      "          5       0.81      0.61      0.69       143\n",
      "          6       0.50      0.12      0.20       163\n",
      "          7       0.61      0.32      0.42       291\n",
      "          8       0.96      0.93      0.95       131\n",
      "          9       0.68      0.38      0.49       118\n",
      "         10       0.52      0.31      0.39       449\n",
      "         11       0.58      0.92      0.71      1630\n",
      "         12       0.89      0.59      0.71        58\n",
      "         13       1.00      0.50      0.67        10\n",
      "         14       0.80      0.25      0.38        96\n",
      "         15       0.63      0.31      0.42       137\n",
      "\n",
      "avg / total       0.62      0.61      0.57      3645\n",
      "\n"
     ]
    }
   ],
   "source": [
    "print(classification_report(y_test, y_pred_lgbm))"
   ]
  },
  {
   "cell_type": "code",
   "execution_count": 132,
   "metadata": {},
   "outputs": [],
   "source": [
    "y_pred_lgbm_cnt =lgbm_cnt.predict(dtest)"
   ]
  },
  {
   "cell_type": "code",
   "execution_count": 133,
   "metadata": {},
   "outputs": [],
   "source": [
    "y_pred_lgbm_cnt = y_pred_lgbm_cnt.argmax(axis=1)"
   ]
  },
  {
   "cell_type": "code",
   "execution_count": 134,
   "metadata": {},
   "outputs": [
    {
     "data": {
      "text/plain": [
       "0.6008230452674898"
      ]
     },
     "execution_count": 134,
     "metadata": {},
     "output_type": "execute_result"
    }
   ],
   "source": [
    "accuracy_score(y_test, y_pred_lgbm_cnt)"
   ]
  },
  {
   "cell_type": "code",
   "execution_count": 135,
   "metadata": {},
   "outputs": [
    {
     "name": "stdout",
     "output_type": "stream",
     "text": [
      "             precision    recall  f1-score   support\n",
      "\n",
      "          0       0.62      0.32      0.42       198\n",
      "          1       0.86      0.65      0.74        66\n",
      "          2       0.50      0.18      0.27        55\n",
      "          3       0.56      0.07      0.12        74\n",
      "          4       0.75      0.12      0.20        26\n",
      "          5       0.84      0.55      0.67       143\n",
      "          6       0.53      0.12      0.19       163\n",
      "          7       0.58      0.32      0.41       291\n",
      "          8       0.85      0.93      0.89       131\n",
      "          9       0.69      0.31      0.42       118\n",
      "         10       0.52      0.30      0.38       449\n",
      "         11       0.58      0.92      0.71      1630\n",
      "         12       0.97      0.57      0.72        58\n",
      "         13       1.00      0.50      0.67        10\n",
      "         14       0.65      0.18      0.28        96\n",
      "         15       0.56      0.26      0.36       137\n",
      "\n",
      "avg / total       0.61      0.60      0.55      3645\n",
      "\n"
     ]
    }
   ],
   "source": [
    "print(classification_report(y_test, y_pred_lgbm_cnt))"
   ]
  },
  {
   "cell_type": "code",
   "execution_count": 183,
   "metadata": {},
   "outputs": [],
   "source": [
    "from sklearn.ensemble import ExtraTreesClassifier\n",
    "n_estimators = 100\n",
    "random_tree_model = ExtraTreesClassifier(max_depth=5, n_estimators=n_estimators)"
   ]
  },
  {
   "cell_type": "code",
   "execution_count": 184,
   "metadata": {},
   "outputs": [
    {
     "data": {
      "text/plain": [
       "ExtraTreesClassifier(bootstrap=False, class_weight=None, criterion='gini',\n",
       "           max_depth=5, max_features='auto', max_leaf_nodes=None,\n",
       "           min_impurity_decrease=0.0, min_impurity_split=None,\n",
       "           min_samples_leaf=1, min_samples_split=2,\n",
       "           min_weight_fraction_leaf=0.0, n_estimators=100, n_jobs=1,\n",
       "           oob_score=False, random_state=None, verbose=0, warm_start=False)"
      ]
     },
     "execution_count": 184,
     "metadata": {},
     "output_type": "execute_result"
    }
   ],
   "source": [
    "random_tree_model.fit(dtrain, y_train)"
   ]
  },
  {
   "cell_type": "code",
   "execution_count": 185,
   "metadata": {},
   "outputs": [],
   "source": [
    "y_pred = random_tree_model.predict(dtest)"
   ]
  },
  {
   "cell_type": "code",
   "execution_count": 186,
   "metadata": {},
   "outputs": [
    {
     "data": {
      "text/plain": [
       "0.4474622770919067"
      ]
     },
     "execution_count": 186,
     "metadata": {},
     "output_type": "execute_result"
    }
   ],
   "source": [
    "accuracy_score(y_test, y_pred)"
   ]
  },
  {
   "cell_type": "code",
   "execution_count": 187,
   "metadata": {},
   "outputs": [
    {
     "name": "stdout",
     "output_type": "stream",
     "text": [
      "             precision    recall  f1-score   support\n",
      "\n",
      "          0       0.00      0.00      0.00       198\n",
      "          1       0.00      0.00      0.00        66\n",
      "          2       0.00      0.00      0.00        55\n",
      "          3       0.00      0.00      0.00        74\n",
      "          4       0.00      0.00      0.00        26\n",
      "          5       1.00      0.01      0.01       143\n",
      "          6       0.00      0.00      0.00       163\n",
      "          7       0.00      0.00      0.00       291\n",
      "          8       0.00      0.00      0.00       131\n",
      "          9       0.00      0.00      0.00       118\n",
      "         10       0.00      0.00      0.00       449\n",
      "         11       0.45      1.00      0.62      1630\n",
      "         12       0.00      0.00      0.00        58\n",
      "         13       0.00      0.00      0.00        10\n",
      "         14       0.00      0.00      0.00        96\n",
      "         15       0.00      0.00      0.00       137\n",
      "\n",
      "avg / total       0.24      0.45      0.28      3645\n",
      "\n"
     ]
    }
   ],
   "source": [
    "print(classification_report(y_test, y_pred))"
   ]
  },
  {
   "cell_type": "code",
   "execution_count": null,
   "metadata": {},
   "outputs": [],
   "source": [
    "pd.read_excel()"
   ]
  }
 ],
 "metadata": {
  "kernelspec": {
   "display_name": "Python 3",
   "language": "python",
   "name": "python3"
  },
  "language_info": {
   "codemirror_mode": {
    "name": "ipython",
    "version": 3
   },
   "file_extension": ".py",
   "mimetype": "text/x-python",
   "name": "python",
   "nbconvert_exporter": "python",
   "pygments_lexer": "ipython3",
   "version": "3.6.5"
  }
 },
 "nbformat": 4,
 "nbformat_minor": 2
}
