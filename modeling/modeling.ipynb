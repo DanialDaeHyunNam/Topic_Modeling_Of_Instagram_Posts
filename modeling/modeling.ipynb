{
 "cells": [
  {
   "cell_type": "markdown",
   "metadata": {},
   "source": [
    "# Project : Instagram Data Clustering"
   ]
  },
  {
   "cell_type": "markdown",
   "metadata": {},
   "source": [
    "# 1. Data Introduce\n",
    "### 1.1 Purpose : To find out popular hashtags are being used and analyze topic using Latent Dirichlet Allocation.\n",
    "\n",
    "### 1.2 Data set:\n",
    "   > - Train Data : 43264 rows, 20 columns"
   ]
  },
  {
   "cell_type": "code",
   "execution_count": 1,
   "metadata": {},
   "outputs": [],
   "source": [
    "from IPython.display import display, Markdown\n",
    "import private_function as pf\n",
    "from sklearn.feature_extraction.text import TfidfVectorizer, CountVectorizer\n",
    "from sklearn.decomposition import LatentDirichletAllocation\n",
    "import pickle as pkl\n",
    "from sklearn.externals import joblib\n",
    "from sklearn.model_selection import train_test_split\n",
    "from sklearn.naive_bayes import MultinomialNB\n",
    "from sklearn.pipeline import Pipeline\n",
    "from sklearn.metrics import confusion_matrix\n",
    "from sklearn.metrics import classification_report\n",
    "from sklearn.metrics import accuracy_score\n",
    "\n",
    "from sklearn.model_selection import GridSearchCV\n",
    "\n",
    "# Pretty display for notebooks\n",
    "%matplotlib inline\n",
    "\n",
    "# Ignore the warnings\n",
    "import warnings\n",
    "warnings.filterwarnings('ignore')\n",
    "\n",
    "def get_x_train_and_features_name(df):\n",
    "    cnt_vectorizer = CountVectorizer(lowercase=False)\n",
    "    X_train = cnt_vectorizer.fit_transform(df)\n",
    "#     cnt_feature_names = cnt_vectorizer.get_feature_names()\n",
    "    return X_train\n",
    "\n",
    "def run_lda(df, n_topic, max_iter = 100):\n",
    "    cnt_vectorizer = CountVectorizer(lowercase=False)\n",
    "    X_train = cnt_vectorizer.fit_transform(df)\n",
    "    cnt_feature_names = cnt_vectorizer.get_feature_names()\n",
    "\n",
    "    # hyper parameter\n",
    "    alpha = 1\n",
    "    beta = 1\n",
    "\n",
    "    # train the model\n",
    "    lda = LatentDirichletAllocation(n_components=n_topic, doc_topic_prior=alpha,\\\n",
    "                                    topic_word_prior=beta, learning_method='online', max_iter=max_iter)\n",
    "\n",
    "    %time lda.fit_transform(X_train)\n",
    "    \n",
    "    return lda, cnt_vectorizer, cnt_feature_names\n",
    "\n",
    "def model_test(test_list, lda_model, cnt_vectorizer):\n",
    "    test_ = cnt_vectorizer.transform(test_list)\n",
    "    doc_topic_dist_unnormalized = np.matrix(lda_model.transform(test_))\n",
    "    doc_topic_dist = doc_topic_dist_unnormalized/doc_topic_dist_unnormalized.sum(axis=1)\n",
    "    print(doc_topic_dist.argmax(axis=1))\n",
    "    return doc_topic_dist.argmax(axis=1)\n",
    "\n",
    "def get_topic_using_lda(lda_model, x_train):\n",
    "    doc_topic_dist_unnormalized = np.matrix(lda_model.transform(x_train))\n",
    "    # normalize the distribution (only needed if you want to work with the probabilities)\n",
    "    doc_topic_dist = doc_topic_dist_unnormalized/doc_topic_dist_unnormalized.sum(axis=1)\n",
    "    return doc_topic_dist.argmax(axis=1)\n",
    "\n",
    "df_train = pkl.load(open(\"asset/df_train.pkl\", \"rb\"))"
   ]
  },
  {
   "cell_type": "code",
   "execution_count": 26,
   "metadata": {
    "scrolled": true
   },
   "outputs": [
    {
     "data": {
      "text/markdown": [
       "['직장인', '럽스타그램', '서울맛집', '먹스타그램', '친스타그램', '여행', '일상', '셀스타그램']"
      ],
      "text/plain": [
       "<IPython.core.display.Markdown object>"
      ]
     },
     "metadata": {},
     "output_type": "display_data"
    },
    {
     "data": {
      "text/markdown": [
       "['seoul']"
      ],
      "text/plain": [
       "<IPython.core.display.Markdown object>"
      ]
     },
     "metadata": {},
     "output_type": "display_data"
    },
    {
     "data": {
      "text/markdown": [
       "job.csv : 2213"
      ],
      "text/plain": [
       "<IPython.core.display.Markdown object>"
      ]
     },
     "metadata": {},
     "output_type": "display_data"
    },
    {
     "data": {
      "text/markdown": [
       "insta_new_5.csv : 2136"
      ],
      "text/plain": [
       "<IPython.core.display.Markdown object>"
      ]
     },
     "metadata": {},
     "output_type": "display_data"
    },
    {
     "data": {
      "text/markdown": [
       "insta_new_4.csv : 2148"
      ],
      "text/plain": [
       "<IPython.core.display.Markdown object>"
      ]
     },
     "metadata": {},
     "output_type": "display_data"
    },
    {
     "data": {
      "text/markdown": [
       "insta_new_3.csv : 2172"
      ],
      "text/plain": [
       "<IPython.core.display.Markdown object>"
      ]
     },
     "metadata": {},
     "output_type": "display_data"
    },
    {
     "data": {
      "text/markdown": [
       "insta_new_2.csv : 465"
      ],
      "text/plain": [
       "<IPython.core.display.Markdown object>"
      ]
     },
     "metadata": {},
     "output_type": "display_data"
    },
    {
     "data": {
      "text/markdown": [
       "insta_new_1.csv : 2029"
      ],
      "text/plain": [
       "<IPython.core.display.Markdown object>"
      ]
     },
     "metadata": {},
     "output_type": "display_data"
    },
    {
     "data": {
      "text/markdown": [
       "insta_new.csv : 2203"
      ],
      "text/plain": [
       "<IPython.core.display.Markdown object>"
      ]
     },
     "metadata": {},
     "output_type": "display_data"
    },
    {
     "data": {
      "text/markdown": [
       "insta_train.csv : 5"
      ],
      "text/plain": [
       "<IPython.core.display.Markdown object>"
      ]
     },
     "metadata": {},
     "output_type": "display_data"
    },
    {
     "data": {
      "text/markdown": [
       "insta_food_1.csv : 2217"
      ],
      "text/plain": [
       "<IPython.core.display.Markdown object>"
      ]
     },
     "metadata": {},
     "output_type": "display_data"
    },
    {
     "data": {
      "text/markdown": [
       "insta_food.csv : 1911"
      ],
      "text/plain": [
       "<IPython.core.display.Markdown object>"
      ]
     },
     "metadata": {},
     "output_type": "display_data"
    },
    {
     "data": {
      "text/markdown": [
       "food.csv : 1986"
      ],
      "text/plain": [
       "<IPython.core.display.Markdown object>"
      ]
     },
     "metadata": {},
     "output_type": "display_data"
    },
    {
     "data": {
      "text/markdown": [
       "beer.csv : 1970"
      ],
      "text/plain": [
       "<IPython.core.display.Markdown object>"
      ]
     },
     "metadata": {},
     "output_type": "display_data"
    },
    {
     "data": {
      "text/markdown": [
       "food_1.csv : 2068"
      ],
      "text/plain": [
       "<IPython.core.display.Markdown object>"
      ]
     },
     "metadata": {},
     "output_type": "display_data"
    },
    {
     "data": {
      "text/markdown": [
       "food_2.csv : 2089"
      ],
      "text/plain": [
       "<IPython.core.display.Markdown object>"
      ]
     },
     "metadata": {},
     "output_type": "display_data"
    },
    {
     "data": {
      "text/markdown": [
       "food_3.csv : 2046"
      ],
      "text/plain": [
       "<IPython.core.display.Markdown object>"
      ]
     },
     "metadata": {},
     "output_type": "display_data"
    },
    {
     "data": {
      "text/markdown": [
       "friend.csv : 1888"
      ],
      "text/plain": [
       "<IPython.core.display.Markdown object>"
      ]
     },
     "metadata": {},
     "output_type": "display_data"
    },
    {
     "data": {
      "text/markdown": [
       "trip_1.csv : 1145"
      ],
      "text/plain": [
       "<IPython.core.display.Markdown object>"
      ]
     },
     "metadata": {},
     "output_type": "display_data"
    },
    {
     "data": {
      "text/markdown": [
       "trip.csv : 2533"
      ],
      "text/plain": [
       "<IPython.core.display.Markdown object>"
      ]
     },
     "metadata": {},
     "output_type": "display_data"
    },
    {
     "data": {
      "text/markdown": [
       "daily.csv : 2195"
      ],
      "text/plain": [
       "<IPython.core.display.Markdown object>"
      ]
     },
     "metadata": {},
     "output_type": "display_data"
    },
    {
     "data": {
      "text/markdown": [
       "daily_2.csv : 785"
      ],
      "text/plain": [
       "<IPython.core.display.Markdown object>"
      ]
     },
     "metadata": {},
     "output_type": "display_data"
    },
    {
     "data": {
      "text/markdown": [
       "daily_1.csv : 2312"
      ],
      "text/plain": [
       "<IPython.core.display.Markdown object>"
      ]
     },
     "metadata": {},
     "output_type": "display_data"
    },
    {
     "data": {
      "text/markdown": [
       "selfie.csv : 2156"
      ],
      "text/plain": [
       "<IPython.core.display.Markdown object>"
      ]
     },
     "metadata": {},
     "output_type": "display_data"
    },
    {
     "data": {
      "text/markdown": [
       "seongnam.csv : 960"
      ],
      "text/plain": [
       "<IPython.core.display.Markdown object>"
      ]
     },
     "metadata": {},
     "output_type": "display_data"
    },
    {
     "data": {
      "text/markdown": [
       "seoul_2.csv : 19"
      ],
      "text/plain": [
       "<IPython.core.display.Markdown object>"
      ]
     },
     "metadata": {},
     "output_type": "display_data"
    },
    {
     "data": {
      "text/markdown": [
       "seoul_1.csv : 960"
      ],
      "text/plain": [
       "<IPython.core.display.Markdown object>"
      ]
     },
     "metadata": {},
     "output_type": "display_data"
    },
    {
     "data": {
      "text/markdown": [
       "incheon.csv : 960"
      ],
      "text/plain": [
       "<IPython.core.display.Markdown object>"
      ]
     },
     "metadata": {},
     "output_type": "display_data"
    },
    {
     "data": {
      "text/markdown": [
       "seoul.csv : 880"
      ],
      "text/plain": [
       "<IPython.core.display.Markdown object>"
      ]
     },
     "metadata": {},
     "output_type": "display_data"
    },
    {
     "data": {
      "text/markdown": [
       "yongin.csv : 960"
      ],
      "text/plain": [
       "<IPython.core.display.Markdown object>"
      ]
     },
     "metadata": {},
     "output_type": "display_data"
    },
    {
     "data": {
      "text/markdown": [
       "gyeonggido.csv : 960"
      ],
      "text/plain": [
       "<IPython.core.display.Markdown object>"
      ]
     },
     "metadata": {},
     "output_type": "display_data"
    },
    {
     "name": "stdout",
     "output_type": "stream",
     "text": [
      "29\n",
      "Df list length : 29\n",
      "Df length changes after concat (if 0 means all datas are unique) : 0\n",
      "Df length changes after concat (if 0 means all datas are unique) : 0\n",
      "Df length changes after concat (if 0 means all datas are unique) : 1095\n",
      "Df length changes after concat (if 0 means all datas are unique) : 411\n",
      "Df length changes after concat (if 0 means all datas are unique) : 54\n",
      "Df length changes after concat (if 0 means all datas are unique) : 131\n",
      "Df length changes after concat (if 0 means all datas are unique) : 0\n",
      "Df length changes after concat (if 0 means all datas are unique) : 35\n",
      "Df length changes after concat (if 0 means all datas are unique) : 16\n",
      "Df length changes after concat (if 0 means all datas are unique) : 75\n",
      "Df length changes after concat (if 0 means all datas are unique) : 11\n",
      "Df length changes after concat (if 0 means all datas are unique) : 42\n",
      "Df length changes after concat (if 0 means all datas are unique) : 358\n",
      "Df length changes after concat (if 0 means all datas are unique) : 19\n",
      "Df length changes after concat (if 0 means all datas are unique) : 176\n",
      "Df length changes after concat (if 0 means all datas are unique) : 15\n",
      "Df length changes after concat (if 0 means all datas are unique) : 0\n",
      "Df length changes after concat (if 0 means all datas are unique) : 55\n",
      "Df length changes after concat (if 0 means all datas are unique) : 20\n",
      "Df length changes after concat (if 0 means all datas are unique) : 304\n",
      "Df length changes after concat (if 0 means all datas are unique) : 286\n",
      "Df length changes after concat (if 0 means all datas are unique) : 0\n",
      "Df length changes after concat (if 0 means all datas are unique) : 0\n",
      "Df length changes after concat (if 0 means all datas are unique) : 1\n",
      "Df length changes after concat (if 0 means all datas are unique) : 1\n",
      "Df length changes after concat (if 0 means all datas are unique) : 1\n",
      "Df length changes after concat (if 0 means all datas are unique) : 0\n",
      "Df length changes after concat (if 0 means all datas are unique) : 1\n",
      "df_train shape : (43264, 15)\n"
     ]
    },
    {
     "data": {
      "text/plain": [
       "(46899, 14241)"
      ]
     },
     "execution_count": 26,
     "metadata": {},
     "output_type": "execute_result"
    }
   ],
   "source": [
    "df_li = pf.getAllDataFrame()\n",
    "train = pf.makeOneTrainDf(df_li)\n",
    "train = pf.make_df_i_want(train)\n",
    "counter = pf.get_counter(train)\n",
    "counter.most_common()\n",
    "tag_count = 0\n",
    "for tup in counter.most_common():\n",
    "    tag_count += tup[1]\n",
    "tag_count, len(counter)"
   ]
  },
  {
   "cell_type": "markdown",
   "metadata": {},
   "source": [
    "## Topic별 Top 20 키워드\n",
    "\n",
    "### Topic 0: 여행스타그램\n",
    "여행에미치다 여행스타그램 여행 travel 휴가 korea photography 일본 photo seoul 바다 감성사진 한국 trip 풍경 웨딩 럽스타그램 스냅 예신 결혼\n",
    "\n",
    "### Topic 1: 대출 광고\n",
    "신용카드현금화 카드깡 상품권현금화 소액결제 소액결제현금화 모바일문화상품권 굿핀 해피머니 컬쳐랜드 신용카드대출 일수대출 모바 홍대맛집 휴대폰소액결제 차스타그램 핸드폰소액결제 빈티지 골프 상품권 비트코인\n",
    "\n",
    "### Topic 2: 운동스타그램\n",
    "다이어트 운동하는여자 다이어터 다이어트식단 용인 diet 다이어트그램 꽃다발 꽃스타그램 식단 헬스 flower 운동 운스타그램 fitness 플로리스트 유지어터 workout 운동하는남자 식단일기\n",
    "\n",
    "### Topic 3: 신발 광고\n",
    "축구 헬스 커플신발 푸마 레플 해외직구 아웃도어 커플운동화 나이키에어맥스 신발쇼핑몰 신상신발 등산화 신발도매 명품등산화 유행신발 아디다스신발 GGDB 아식스 아디다스울트라부스트 NEWBALANCE\n",
    "\n",
    "### Topic 4: Kpop\n",
    "kpop bts exo 귀여운 blackpink 여자 korea kawaii 아름다운 自撮り boy asmr korean 속초맛집 Asia jisoo kpopl4l tomboy селфи 自分撮り\n",
    "\n",
    "### Topic 5: 서울 맛집\n",
    "서울맛집 부산맛집 강남맛집 대구맛집 곱창 홍대맛집 강남역 강남역맛집 대전맛집 강남 맛스타그램 역삼맛집 이태원맛집 역삼동맛집 신논현맛집 대치동맛집 서면맛집 곱창맛집 역삼동 서초맛집\n",
    "\n",
    "### Topic 6: 럽스타그램\n",
    "남친이랑 데이트 커플 사랑해 럽스타 커플스타그램 남자친구 영화 연애중 연애 행복 남친 고마워 사랑꾼 ㅋㅋㅋ 행복해 데이트그램 사랑 여자친구 화이팅\n",
    "\n",
    "### Topic 7: 육아스타그램\n",
    "럽스타그램 육아 육아스타그램 육아소통 육아맘 맘스타그램 도치맘 일상 젊줌마 딸스타그램 인스타베이비 애스타그램 직장인 아들스타그램 사랑해 아들맘 세젤귀 반려견 워킹맘 멍스타그램\n",
    "\n",
    "### Topic 8: 토토 등 사이트 및 명품 광고\n",
    "토토사이트추천 겐조 샤넬 서울맛집 운동하는남자 럽스타 핫플레이스 커플 구찌 에르메스 술스타그램 토토사이트 발렌티노 팔찌 스포츠가족방 사설사이트추천 파워볼가족방 프로토가족방 픽스터가족방 사설사이트\n",
    "\n",
    "### Topic 9: 폰케이스 광고\n",
    "선물 직장인 아이폰케이스 냥스타그램 마카롱 취미 고양이 폰케이스 아이폰8 커플케이스 공감 그림 글스타그램 기념일 디저트 일러스트 아이폰7케이스 아이폰x케이스 글귀 귀걸이\n",
    "\n",
    "### Topic 10: 먹스타그램\n",
    "먹스타그램 먹방 맛스타그램 맛집 맥주스타그램 food 술스타그램 점심 먹스타 맥주 instafood foodstagram 먹방스타그램 음식 존맛 맛스타 먹부림 푸드스타그램 맛있다 디저트\n",
    "\n",
    "### Topic 11: 일상적인 해시태그\n",
    "일상 맞팔 데일리 소통 선팔 셀스타그램 좋아요 셀카 셀피 팔로우 먹스타그램 daily 얼스타그램 일상스타그램 선팔하면맞팔 오오티디 럽스타그램 인친 좋아요반사 ootd\n",
    "\n",
    "### Topic 12: 제주도 맛집 광고\n",
    "제주도 제주도맛집 제주맛집 제주 서귀포맛집 제주여행 f4follow 선팔맞팔 제주맛집추천 소통해요 소통하자 제주도그램 제주서귀포맛집 맥주스타그램 제주도여행 제주도흑돼지맛집 제주흑돼지 제주도흑돼지 서귀포흑돼지맛집 서귀포흑돼지\n",
    "\n",
    "### Topic 13: 거제도 맛집?\n",
    "거제도맛집 거제맛집 포천여행 짖어야개다 평일 포천카페 햄스터 포천이동갈비 삼척맛집 성남애견미용 근무시간 스킨케어 포천맛집 거제대명리조트맛집 성남애견호텔 골든햄스터 살롱순라 햄스타그램 2018년 삼척여행\n",
    "\n",
    "### Topic 14: 반려견스타그램 (lda topic number = 12를 통해서 찾음, 해당 모델에선 topic 8)\n",
    "반려견 멍스타그램 강아지 개스타그램 냥스타그램 아이폰케이스 dog 댕댕이 고양이 펫스타그램 폰케이스 견스타그램 아이폰8 커플케이스 cat dogstagram 아이폰7케이스 아이폰x케이스 puppy 독스타그램\n",
    "\n",
    "### Topic 15: 맥주스타그램 및 치맥 (lda topic number = 13을 통해서 찾음, 해당 모델에선 topic 6)\n",
    "맥주스타그램 술스타그램 맥주 beer 혼술 치맥 수제맥주 소주 소맥 치킨 맥주한잔 술집 beerstagram 크래프트비어 맥주그램 존맛탱 낮술 생맥주 술스타 craftbeer"
   ]
  },
  {
   "cell_type": "markdown",
   "metadata": {},
   "source": [
    "### 1, 3, 8, 9, 12는 다 광고성 글이다"
   ]
  },
  {
   "cell_type": "code",
   "execution_count": 3,
   "metadata": {},
   "outputs": [
    {
     "name": "stdout",
     "output_type": "stream",
     "text": [
      "1 570\n",
      "3 847\n",
      "8 1451\n",
      "9 1114\n",
      "12 529\n"
     ]
    },
    {
     "data": {
      "text/plain": [
       "4511"
      ]
     },
     "execution_count": 3,
     "metadata": {},
     "output_type": "execute_result"
    }
   ],
   "source": [
    "tmp_li = [1, 3, 8, 9, 12]\n",
    "count = 0\n",
    "for topic in tmp_li:\n",
    "    length = len(df_train[df_train.target == topic])\n",
    "    count += length\n",
    "    print(topic, length)\n",
    "count"
   ]
  },
  {
   "cell_type": "code",
   "execution_count": 4,
   "metadata": {},
   "outputs": [
    {
     "data": {
      "text/plain": [
       "Index(['caption', 'comment_cnt', 'first_comment', 'id', 'is_video', 'likes',\n",
       "       'loc_id', 'loc_lat', 'loc_lon', 'loc_name', 'owner_id', 'owner_name',\n",
       "       'shortcode', 'taken_at_timestamp', 'video_view_count', 'tags',\n",
       "       'tags_cnt', 'caption_only', 'tags_str', 'duplicated_tag', 'topic_type',\n",
       "       'topic_type_13', 'topic_type_12', 'target'],\n",
       "      dtype='object')"
      ]
     },
     "execution_count": 4,
     "metadata": {},
     "output_type": "execute_result"
    }
   ],
   "source": [
    "df_train.columns"
   ]
  },
  {
   "cell_type": "code",
   "execution_count": 5,
   "metadata": {},
   "outputs": [],
   "source": [
    "columns = ['caption_only', 'tags_str', 'duplicated_tag', 'topic_type', 'topic_type_13', 'topic_type_12', 'target']"
   ]
  },
  {
   "cell_type": "code",
   "execution_count": 29,
   "metadata": {},
   "outputs": [],
   "source": [
    "test = train[train.tags_cnt == 0]\n",
    "df_test = test.caption"
   ]
  },
  {
   "cell_type": "code",
   "execution_count": 30,
   "metadata": {},
   "outputs": [],
   "source": [
    "train = df_train[columns]"
   ]
  },
  {
   "cell_type": "code",
   "execution_count": 31,
   "metadata": {},
   "outputs": [],
   "source": [
    "train[\"caption_only\"] = train[\"caption_only\"].apply(lambda a: \"\" if type(a) == float else a)"
   ]
  },
  {
   "cell_type": "code",
   "execution_count": 32,
   "metadata": {},
   "outputs": [],
   "source": [
    "train[\"caption_only\"] = train[\"caption_only\"].apply(lambda a: a.strip())"
   ]
  },
  {
   "cell_type": "code",
   "execution_count": 33,
   "metadata": {},
   "outputs": [],
   "source": [
    "train = train[train[\"caption_only\"] != \"\"]"
   ]
  },
  {
   "cell_type": "code",
   "execution_count": 69,
   "metadata": {},
   "outputs": [
    {
     "data": {
      "text/plain": [
       "array([0.8 , 0.85, 0.9 , 0.95])"
      ]
     },
     "execution_count": 69,
     "metadata": {},
     "output_type": "execute_result"
    }
   ],
   "source": [
    "tfidf_max_df_params = np.arange(0.8, 1, 0.05)\n",
    "# tfidf_min_df_params = np.arange(0, 0.3, 0.05)\n",
    "tfidf_max_df_params"
   ]
  },
  {
   "cell_type": "code",
   "execution_count": 70,
   "metadata": {
    "scrolled": true
   },
   "outputs": [
    {
     "name": "stdout",
     "output_type": "stream",
     "text": [
      "Fitting 10 folds for each of 12 candidates, totalling 120 fits\n",
      "[CV] tfidf__max_df=0.8, tfidf__ngram_range=(1, 1) ....................\n",
      "[CV] tfidf__max_df=0.8, tfidf__ngram_range=(1, 1) ....................\n",
      "[CV] tfidf__max_df=0.8, tfidf__ngram_range=(1, 1) ....................\n",
      "[CV]  tfidf__max_df=0.8, tfidf__ngram_range=(1, 1), score=0.604261796042618, total=   1.2s\n",
      "[CV]  tfidf__max_df=0.8, tfidf__ngram_range=(1, 1), score=0.5921413341455986, total=   1.2s\n",
      "[CV] tfidf__max_df=0.8, tfidf__ngram_range=(1, 1) ....................\n",
      "[CV]  tfidf__max_df=0.8, tfidf__ngram_range=(1, 1), score=0.6093845216331505, total=   1.2s\n",
      "[CV] tfidf__max_df=0.8, tfidf__ngram_range=(1, 1) ....................\n",
      "[CV] tfidf__max_df=0.8, tfidf__ngram_range=(1, 1) ....................\n",
      "[CV]  tfidf__max_df=0.8, tfidf__ngram_range=(1, 1), score=0.5973788479122218, total=   1.2s\n",
      "[CV]  tfidf__max_df=0.8, tfidf__ngram_range=(1, 1), score=0.6022554099359951, total=   1.2s\n",
      "[CV] tfidf__max_df=0.8, tfidf__ngram_range=(1, 1) ....................\n",
      "[CV]  tfidf__max_df=0.8, tfidf__ngram_range=(1, 1), score=0.5948170731707317, total=   1.1s\n",
      "[CV] tfidf__max_df=0.8, tfidf__ngram_range=(1, 1) ....................\n",
      "[CV] tfidf__max_df=0.8, tfidf__ngram_range=(1, 1) ....................\n",
      "[CV]  tfidf__max_df=0.8, tfidf__ngram_range=(1, 1), score=0.6053674900884416, total=   1.2s\n",
      "[CV]  tfidf__max_df=0.8, tfidf__ngram_range=(1, 1), score=0.5936546674801708, total=   1.1s\n",
      "[CV] tfidf__max_df=0.8, tfidf__ngram_range=(1, 1) ....................\n",
      "[CV]  tfidf__max_df=0.8, tfidf__ngram_range=(1, 1), score=0.5963358778625955, total=   1.1s\n",
      "[CV] tfidf__max_df=0.8, tfidf__ngram_range=(1, 2) ....................\n",
      "[CV] tfidf__max_df=0.8, tfidf__ngram_range=(1, 2) ....................\n",
      "[CV]  tfidf__max_df=0.8, tfidf__ngram_range=(1, 1), score=0.6036063569682152, total=   1.3s\n",
      "[CV] tfidf__max_df=0.8, tfidf__ngram_range=(1, 2) ....................\n",
      "[CV]  tfidf__max_df=0.8, tfidf__ngram_range=(1, 2), score=0.6146118721461187, total=   3.2s\n",
      "[CV] tfidf__max_df=0.8, tfidf__ngram_range=(1, 2) ....................\n",
      "[CV]  tfidf__max_df=0.8, tfidf__ngram_range=(1, 2), score=0.605239110569601, total=   3.2s\n",
      "[CV] tfidf__max_df=0.8, tfidf__ngram_range=(1, 2) ....................\n",
      "[CV]  tfidf__max_df=0.8, tfidf__ngram_range=(1, 2), score=0.621267519804997, total=   3.1s\n",
      "[CV] tfidf__max_df=0.8, tfidf__ngram_range=(1, 2) ....................\n",
      "[CV]  tfidf__max_df=0.8, tfidf__ngram_range=(1, 2), score=0.6080463273392258, total=   3.5s\n",
      "[CV] tfidf__max_df=0.8, tfidf__ngram_range=(1, 2) ....................\n",
      "[CV]  tfidf__max_df=0.8, tfidf__ngram_range=(1, 2), score=0.6083511124657117, total=   3.5s\n",
      "[CV] tfidf__max_df=0.8, tfidf__ngram_range=(1, 2) ....................\n",
      "[CV]  tfidf__max_df=0.8, tfidf__ngram_range=(1, 2), score=0.6048780487804878, total=   3.6s\n",
      "[CV] tfidf__max_df=0.8, tfidf__ngram_range=(1, 2) ....................\n",
      "[CV]  tfidf__max_df=0.8, tfidf__ngram_range=(1, 2), score=0.6181762732540409, total=   3.5s\n",
      "[CV] tfidf__max_df=0.8, tfidf__ngram_range=(1, 2) ....................\n",
      "[CV]  tfidf__max_df=0.8, tfidf__ngram_range=(1, 2), score=0.5933496034167175, total=   3.5s\n",
      "[CV] tfidf__max_df=0.8, tfidf__ngram_range=(1, 3) ....................\n",
      "[CV]  tfidf__max_df=0.8, tfidf__ngram_range=(1, 2), score=0.6070229007633587, total=   3.1s\n",
      "[CV] tfidf__max_df=0.8, tfidf__ngram_range=(1, 3) ....................\n",
      "[CV]  tfidf__max_df=0.8, tfidf__ngram_range=(1, 2), score=0.6204156479217604, total=   3.1s\n",
      "[CV] tfidf__max_df=0.8, tfidf__ngram_range=(1, 3) ....................\n",
      "[CV]  tfidf__max_df=0.8, tfidf__ngram_range=(1, 3), score=0.6155251141552511, total=   4.9s\n",
      "[CV] tfidf__max_df=0.8, tfidf__ngram_range=(1, 3) ....................\n",
      "[CV]  tfidf__max_df=0.8, tfidf__ngram_range=(1, 3), score=0.6082851050868109, total=   5.2s\n",
      "[CV] tfidf__max_df=0.8, tfidf__ngram_range=(1, 3) ....................\n",
      "[CV]  tfidf__max_df=0.8, tfidf__ngram_range=(1, 3), score=0.6230956733698964, total=   5.3s\n",
      "[CV] tfidf__max_df=0.8, tfidf__ngram_range=(1, 3) ....................\n",
      "[CV]  tfidf__max_df=0.8, tfidf__ngram_range=(1, 3), score=0.6144468149954282, total=   5.1s\n",
      "[CV] tfidf__max_df=0.8, tfidf__ngram_range=(1, 3) ....................\n",
      "[CV]  tfidf__max_df=0.8, tfidf__ngram_range=(1, 3), score=0.6113989637305699, total=   5.2s\n",
      "[CV] tfidf__max_df=0.8, tfidf__ngram_range=(1, 3) ....................\n",
      "[CV]  tfidf__max_df=0.8, tfidf__ngram_range=(1, 3), score=0.6012195121951219, total=   5.5s\n",
      "[CV] tfidf__max_df=0.8, tfidf__ngram_range=(1, 3) ....................\n"
     ]
    },
    {
     "name": "stderr",
     "output_type": "stream",
     "text": [
      "[Parallel(n_jobs=3)]: Done  26 tasks      | elapsed:   39.4s\n"
     ]
    },
    {
     "name": "stdout",
     "output_type": "stream",
     "text": [
      "[CV]  tfidf__max_df=0.8, tfidf__ngram_range=(1, 3), score=0.6187862153095456, total=   5.4s\n",
      "[CV] tfidf__max_df=0.8, tfidf__ngram_range=(1, 3) ....................\n",
      "[CV]  tfidf__max_df=0.8, tfidf__ngram_range=(1, 3), score=0.5979255643685174, total=   5.3s\n",
      "[CV] tfidf__max_df=0.8500000000000001, tfidf__ngram_range=(1, 1) .....\n",
      "[CV]  tfidf__max_df=0.8500000000000001, tfidf__ngram_range=(1, 1), score=0.604261796042618, total=   1.3s\n",
      "[CV] tfidf__max_df=0.8500000000000001, tfidf__ngram_range=(1, 1) .....\n",
      "[CV]  tfidf__max_df=0.8, tfidf__ngram_range=(1, 3), score=0.6058015267175573, total=   5.3s\n",
      "[CV] tfidf__max_df=0.8500000000000001, tfidf__ngram_range=(1, 1) .....\n",
      "[CV]  tfidf__max_df=0.8500000000000001, tfidf__ngram_range=(1, 1), score=0.5921413341455986, total=   1.3s\n",
      "[CV] tfidf__max_df=0.8500000000000001, tfidf__ngram_range=(1, 1) .....\n",
      "[CV]  tfidf__max_df=0.8500000000000001, tfidf__ngram_range=(1, 1), score=0.6093845216331505, total=   1.3s\n",
      "[CV] tfidf__max_df=0.8500000000000001, tfidf__ngram_range=(1, 1) .....\n",
      "[CV]  tfidf__max_df=0.8, tfidf__ngram_range=(1, 3), score=0.6219437652811736, total=   5.3s\n",
      "[CV] tfidf__max_df=0.8500000000000001, tfidf__ngram_range=(1, 1) .....\n",
      "[CV]  tfidf__max_df=0.8500000000000001, tfidf__ngram_range=(1, 1), score=0.5973788479122218, total=   1.3s\n",
      "[CV] tfidf__max_df=0.8500000000000001, tfidf__ngram_range=(1, 1) .....\n",
      "[CV]  tfidf__max_df=0.8500000000000001, tfidf__ngram_range=(1, 1), score=0.6022554099359951, total=   1.3s\n",
      "[CV] tfidf__max_df=0.8500000000000001, tfidf__ngram_range=(1, 1) .....\n",
      "[CV]  tfidf__max_df=0.8500000000000001, tfidf__ngram_range=(1, 1), score=0.5948170731707317, total=   1.3s\n",
      "[CV] tfidf__max_df=0.8500000000000001, tfidf__ngram_range=(1, 1) .....\n",
      "[CV]  tfidf__max_df=0.8500000000000001, tfidf__ngram_range=(1, 1), score=0.6053674900884416, total=   1.3s\n",
      "[CV] tfidf__max_df=0.8500000000000001, tfidf__ngram_range=(1, 1) .....\n",
      "[CV]  tfidf__max_df=0.8500000000000001, tfidf__ngram_range=(1, 1), score=0.5936546674801708, total=   1.3s\n",
      "[CV] tfidf__max_df=0.8500000000000001, tfidf__ngram_range=(1, 2) .....\n",
      "[CV]  tfidf__max_df=0.8500000000000001, tfidf__ngram_range=(1, 1), score=0.5963358778625955, total=   1.3s\n",
      "[CV] tfidf__max_df=0.8500000000000001, tfidf__ngram_range=(1, 2) .....\n",
      "[CV]  tfidf__max_df=0.8500000000000001, tfidf__ngram_range=(1, 1), score=0.6036063569682152, total=   1.3s\n",
      "[CV] tfidf__max_df=0.8500000000000001, tfidf__ngram_range=(1, 2) .....\n",
      "[CV]  tfidf__max_df=0.8500000000000001, tfidf__ngram_range=(1, 2), score=0.6146118721461187, total=   3.6s\n",
      "[CV] tfidf__max_df=0.8500000000000001, tfidf__ngram_range=(1, 2) .....\n",
      "[CV]  tfidf__max_df=0.8500000000000001, tfidf__ngram_range=(1, 2), score=0.605239110569601, total=   3.6s\n",
      "[CV] tfidf__max_df=0.8500000000000001, tfidf__ngram_range=(1, 2) .....\n",
      "[CV]  tfidf__max_df=0.8500000000000001, tfidf__ngram_range=(1, 2), score=0.621267519804997, total=   3.6s\n",
      "[CV] tfidf__max_df=0.8500000000000001, tfidf__ngram_range=(1, 2) .....\n",
      "[CV]  tfidf__max_df=0.8500000000000001, tfidf__ngram_range=(1, 2), score=0.6080463273392258, total=   3.0s\n",
      "[CV] tfidf__max_df=0.8500000000000001, tfidf__ngram_range=(1, 2) .....\n",
      "[CV]  tfidf__max_df=0.8500000000000001, tfidf__ngram_range=(1, 2), score=0.6083511124657117, total=   3.0s\n",
      "[CV] tfidf__max_df=0.8500000000000001, tfidf__ngram_range=(1, 2) .....\n",
      "[CV]  tfidf__max_df=0.8500000000000001, tfidf__ngram_range=(1, 2), score=0.6048780487804878, total=   2.9s\n",
      "[CV] tfidf__max_df=0.8500000000000001, tfidf__ngram_range=(1, 2) .....\n",
      "[CV]  tfidf__max_df=0.8500000000000001, tfidf__ngram_range=(1, 2), score=0.6181762732540409, total=   3.0s\n",
      "[CV] tfidf__max_df=0.8500000000000001, tfidf__ngram_range=(1, 2) .....\n",
      "[CV]  tfidf__max_df=0.8500000000000001, tfidf__ngram_range=(1, 2), score=0.5933496034167175, total=   3.0s\n",
      "[CV] tfidf__max_df=0.8500000000000001, tfidf__ngram_range=(1, 3) .....\n",
      "[CV]  tfidf__max_df=0.8500000000000001, tfidf__ngram_range=(1, 2), score=0.6070229007633587, total=   3.0s\n",
      "[CV] tfidf__max_df=0.8500000000000001, tfidf__ngram_range=(1, 3) .....\n",
      "[CV]  tfidf__max_df=0.8500000000000001, tfidf__ngram_range=(1, 2), score=0.6204156479217604, total=   3.1s\n",
      "[CV] tfidf__max_df=0.8500000000000001, tfidf__ngram_range=(1, 3) .....\n",
      "[CV]  tfidf__max_df=0.8500000000000001, tfidf__ngram_range=(1, 3), score=0.6155251141552511, total=   4.8s\n",
      "[CV] tfidf__max_df=0.8500000000000001, tfidf__ngram_range=(1, 3) .....\n",
      "[CV]  tfidf__max_df=0.8500000000000001, tfidf__ngram_range=(1, 3), score=0.6082851050868109, total=   4.7s\n",
      "[CV] tfidf__max_df=0.8500000000000001, tfidf__ngram_range=(1, 3) .....\n",
      "[CV]  tfidf__max_df=0.8500000000000001, tfidf__ngram_range=(1, 3), score=0.6230956733698964, total=   4.8s\n",
      "[CV] tfidf__max_df=0.8500000000000001, tfidf__ngram_range=(1, 3) .....\n",
      "[CV]  tfidf__max_df=0.8500000000000001, tfidf__ngram_range=(1, 3), score=0.6144468149954282, total=   4.8s\n",
      "[CV] tfidf__max_df=0.8500000000000001, tfidf__ngram_range=(1, 3) .....\n",
      "[CV]  tfidf__max_df=0.8500000000000001, tfidf__ngram_range=(1, 3), score=0.6113989637305699, total=   4.7s\n",
      "[CV] tfidf__max_df=0.8500000000000001, tfidf__ngram_range=(1, 3) .....\n",
      "[CV]  tfidf__max_df=0.8500000000000001, tfidf__ngram_range=(1, 3), score=0.6012195121951219, total=   4.8s\n",
      "[CV] tfidf__max_df=0.8500000000000001, tfidf__ngram_range=(1, 3) .....\n",
      "[CV]  tfidf__max_df=0.8500000000000001, tfidf__ngram_range=(1, 3), score=0.6187862153095456, total=   4.8s\n",
      "[CV] tfidf__max_df=0.8500000000000001, tfidf__ngram_range=(1, 3) .....\n",
      "[CV]  tfidf__max_df=0.8500000000000001, tfidf__ngram_range=(1, 3), score=0.5979255643685174, total=   4.8s\n",
      "[CV] tfidf__max_df=0.9000000000000001, tfidf__ngram_range=(1, 1) .....\n",
      "[CV]  tfidf__max_df=0.9000000000000001, tfidf__ngram_range=(1, 1), score=0.604261796042618, total=   1.3s\n",
      "[CV] tfidf__max_df=0.9000000000000001, tfidf__ngram_range=(1, 1) .....\n",
      "[CV]  tfidf__max_df=0.8500000000000001, tfidf__ngram_range=(1, 3), score=0.6058015267175573, total=   5.0s\n",
      "[CV] tfidf__max_df=0.9000000000000001, tfidf__ngram_range=(1, 1) .....\n",
      "[CV]  tfidf__max_df=0.9000000000000001, tfidf__ngram_range=(1, 1), score=0.5921413341455986, total=   1.3s\n",
      "[CV] tfidf__max_df=0.9000000000000001, tfidf__ngram_range=(1, 1) .....\n",
      "[CV]  tfidf__max_df=0.9000000000000001, tfidf__ngram_range=(1, 1), score=0.6093845216331505, total=   1.3s\n",
      "[CV] tfidf__max_df=0.9000000000000001, tfidf__ngram_range=(1, 1) .....\n",
      "[CV]  tfidf__max_df=0.9000000000000001, tfidf__ngram_range=(1, 1), score=0.5973788479122218, total=   1.3s\n",
      "[CV] tfidf__max_df=0.9000000000000001, tfidf__ngram_range=(1, 1) .....\n",
      "[CV]  tfidf__max_df=0.8500000000000001, tfidf__ngram_range=(1, 3), score=0.6219437652811736, total=   5.3s\n",
      "[CV] tfidf__max_df=0.9000000000000001, tfidf__ngram_range=(1, 1) .....\n",
      "[CV]  tfidf__max_df=0.9000000000000001, tfidf__ngram_range=(1, 1), score=0.6022554099359951, total=   1.4s\n",
      "[CV] tfidf__max_df=0.9000000000000001, tfidf__ngram_range=(1, 1) .....\n",
      "[CV]  tfidf__max_df=0.9000000000000001, tfidf__ngram_range=(1, 1), score=0.5948170731707317, total=   1.4s\n",
      "[CV] tfidf__max_df=0.9000000000000001, tfidf__ngram_range=(1, 1) .....\n",
      "[CV]  tfidf__max_df=0.9000000000000001, tfidf__ngram_range=(1, 1), score=0.6053674900884416, total=   1.3s\n",
      "[CV] tfidf__max_df=0.9000000000000001, tfidf__ngram_range=(1, 1) .....\n",
      "[CV]  tfidf__max_df=0.9000000000000001, tfidf__ngram_range=(1, 1), score=0.5936546674801708, total=   1.4s\n",
      "[CV] tfidf__max_df=0.9000000000000001, tfidf__ngram_range=(1, 2) .....\n",
      "[CV]  tfidf__max_df=0.9000000000000001, tfidf__ngram_range=(1, 1), score=0.5963358778625955, total=   1.3s\n",
      "[CV] tfidf__max_df=0.9000000000000001, tfidf__ngram_range=(1, 2) .....\n",
      "[CV]  tfidf__max_df=0.9000000000000001, tfidf__ngram_range=(1, 1), score=0.6036063569682152, total=   1.3s\n",
      "[CV] tfidf__max_df=0.9000000000000001, tfidf__ngram_range=(1, 2) .....\n",
      "[CV]  tfidf__max_df=0.9000000000000001, tfidf__ngram_range=(1, 2), score=0.6146118721461187, total=   3.4s\n",
      "[CV] tfidf__max_df=0.9000000000000001, tfidf__ngram_range=(1, 2) .....\n",
      "[CV]  tfidf__max_df=0.9000000000000001, tfidf__ngram_range=(1, 2), score=0.605239110569601, total=   3.4s\n",
      "[CV] tfidf__max_df=0.9000000000000001, tfidf__ngram_range=(1, 2) .....\n",
      "[CV]  tfidf__max_df=0.9000000000000001, tfidf__ngram_range=(1, 2), score=0.621267519804997, total=   3.3s\n"
     ]
    },
    {
     "name": "stdout",
     "output_type": "stream",
     "text": [
      "[CV] tfidf__max_df=0.9000000000000001, tfidf__ngram_range=(1, 2) .....\n",
      "[CV]  tfidf__max_df=0.9000000000000001, tfidf__ngram_range=(1, 2), score=0.6080463273392258, total=   3.3s\n",
      "[CV] tfidf__max_df=0.9000000000000001, tfidf__ngram_range=(1, 2) .....\n",
      "[CV]  tfidf__max_df=0.9000000000000001, tfidf__ngram_range=(1, 2), score=0.6083511124657117, total=   3.3s\n",
      "[CV] tfidf__max_df=0.9000000000000001, tfidf__ngram_range=(1, 2) .....\n",
      "[CV]  tfidf__max_df=0.9000000000000001, tfidf__ngram_range=(1, 2), score=0.6048780487804878, total=   3.2s\n",
      "[CV] tfidf__max_df=0.9000000000000001, tfidf__ngram_range=(1, 2) .....\n",
      "[CV]  tfidf__max_df=0.9000000000000001, tfidf__ngram_range=(1, 2), score=0.6181762732540409, total=   3.1s\n",
      "[CV] tfidf__max_df=0.9000000000000001, tfidf__ngram_range=(1, 2) .....\n",
      "[CV]  tfidf__max_df=0.9000000000000001, tfidf__ngram_range=(1, 2), score=0.5933496034167175, total=   3.0s\n",
      "[CV] tfidf__max_df=0.9000000000000001, tfidf__ngram_range=(1, 3) .....\n",
      "[CV]  tfidf__max_df=0.9000000000000001, tfidf__ngram_range=(1, 2), score=0.6070229007633587, total=   3.0s\n",
      "[CV] tfidf__max_df=0.9000000000000001, tfidf__ngram_range=(1, 3) .....\n",
      "[CV]  tfidf__max_df=0.9000000000000001, tfidf__ngram_range=(1, 2), score=0.6204156479217604, total=   3.2s\n",
      "[CV] tfidf__max_df=0.9000000000000001, tfidf__ngram_range=(1, 3) .....\n",
      "[CV]  tfidf__max_df=0.9000000000000001, tfidf__ngram_range=(1, 3), score=0.6155251141552511, total=   5.0s\n",
      "[CV] tfidf__max_df=0.9000000000000001, tfidf__ngram_range=(1, 3) .....\n",
      "[CV]  tfidf__max_df=0.9000000000000001, tfidf__ngram_range=(1, 3), score=0.6082851050868109, total=   5.0s\n",
      "[CV] tfidf__max_df=0.9000000000000001, tfidf__ngram_range=(1, 3) .....\n",
      "[CV]  tfidf__max_df=0.9000000000000001, tfidf__ngram_range=(1, 3), score=0.6230956733698964, total=   5.2s\n",
      "[CV] tfidf__max_df=0.9000000000000001, tfidf__ngram_range=(1, 3) .....\n",
      "[CV]  tfidf__max_df=0.9000000000000001, tfidf__ngram_range=(1, 3), score=0.6144468149954282, total=   5.1s\n",
      "[CV] tfidf__max_df=0.9000000000000001, tfidf__ngram_range=(1, 3) .....\n",
      "[CV]  tfidf__max_df=0.9000000000000001, tfidf__ngram_range=(1, 3), score=0.6113989637305699, total=   5.1s\n",
      "[CV] tfidf__max_df=0.9000000000000001, tfidf__ngram_range=(1, 3) .....\n",
      "[CV]  tfidf__max_df=0.9000000000000001, tfidf__ngram_range=(1, 3), score=0.6012195121951219, total=   4.8s\n",
      "[CV] tfidf__max_df=0.9000000000000001, tfidf__ngram_range=(1, 3) .....\n",
      "[CV]  tfidf__max_df=0.9000000000000001, tfidf__ngram_range=(1, 3), score=0.6187862153095456, total=   4.9s\n",
      "[CV] tfidf__max_df=0.9000000000000001, tfidf__ngram_range=(1, 3) .....\n",
      "[CV]  tfidf__max_df=0.9000000000000001, tfidf__ngram_range=(1, 3), score=0.5979255643685174, total=   4.8s\n",
      "[CV] tfidf__max_df=0.9500000000000002, tfidf__ngram_range=(1, 1) .....\n",
      "[CV]  tfidf__max_df=0.9500000000000002, tfidf__ngram_range=(1, 1), score=0.604261796042618, total=   1.2s\n",
      "[CV] tfidf__max_df=0.9500000000000002, tfidf__ngram_range=(1, 1) .....\n",
      "[CV]  tfidf__max_df=0.9000000000000001, tfidf__ngram_range=(1, 3), score=0.6058015267175573, total=   4.9s\n",
      "[CV] tfidf__max_df=0.9500000000000002, tfidf__ngram_range=(1, 1) .....\n",
      "[CV]  tfidf__max_df=0.9500000000000002, tfidf__ngram_range=(1, 1), score=0.5921413341455986, total=   1.2s\n",
      "[CV] tfidf__max_df=0.9500000000000002, tfidf__ngram_range=(1, 1) .....\n",
      "[CV]  tfidf__max_df=0.9500000000000002, tfidf__ngram_range=(1, 1), score=0.6093845216331505, total=   1.3s\n",
      "[CV] tfidf__max_df=0.9500000000000002, tfidf__ngram_range=(1, 1) .....\n",
      "[CV]  tfidf__max_df=0.9500000000000002, tfidf__ngram_range=(1, 1), score=0.5973788479122218, total=   1.3s\n",
      "[CV] tfidf__max_df=0.9500000000000002, tfidf__ngram_range=(1, 1) .....\n",
      "[CV]  tfidf__max_df=0.9000000000000001, tfidf__ngram_range=(1, 3), score=0.6219437652811736, total=   5.0s\n",
      "[CV] tfidf__max_df=0.9500000000000002, tfidf__ngram_range=(1, 1) .....\n",
      "[CV]  tfidf__max_df=0.9500000000000002, tfidf__ngram_range=(1, 1), score=0.6022554099359951, total=   1.2s\n",
      "[CV] tfidf__max_df=0.9500000000000002, tfidf__ngram_range=(1, 1) .....\n",
      "[CV]  tfidf__max_df=0.9500000000000002, tfidf__ngram_range=(1, 1), score=0.5948170731707317, total=   1.2s\n",
      "[CV] tfidf__max_df=0.9500000000000002, tfidf__ngram_range=(1, 1) .....\n",
      "[CV]  tfidf__max_df=0.9500000000000002, tfidf__ngram_range=(1, 1), score=0.6053674900884416, total=   1.2s\n",
      "[CV] tfidf__max_df=0.9500000000000002, tfidf__ngram_range=(1, 1) .....\n",
      "[CV]  tfidf__max_df=0.9500000000000002, tfidf__ngram_range=(1, 1), score=0.5936546674801708, total=   1.2s\n",
      "[CV] tfidf__max_df=0.9500000000000002, tfidf__ngram_range=(1, 2) .....\n",
      "[CV]  tfidf__max_df=0.9500000000000002, tfidf__ngram_range=(1, 1), score=0.5963358778625955, total=   1.2s\n",
      "[CV] tfidf__max_df=0.9500000000000002, tfidf__ngram_range=(1, 2) .....\n",
      "[CV]  tfidf__max_df=0.9500000000000002, tfidf__ngram_range=(1, 1), score=0.6036063569682152, total=   1.2s\n",
      "[CV] tfidf__max_df=0.9500000000000002, tfidf__ngram_range=(1, 2) .....\n",
      "[CV]  tfidf__max_df=0.9500000000000002, tfidf__ngram_range=(1, 2), score=0.6146118721461187, total=   3.2s\n",
      "[CV] tfidf__max_df=0.9500000000000002, tfidf__ngram_range=(1, 2) .....\n",
      "[CV]  tfidf__max_df=0.9500000000000002, tfidf__ngram_range=(1, 2), score=0.605239110569601, total=   3.1s\n",
      "[CV] tfidf__max_df=0.9500000000000002, tfidf__ngram_range=(1, 2) .....\n",
      "[CV]  tfidf__max_df=0.9500000000000002, tfidf__ngram_range=(1, 2), score=0.621267519804997, total=   3.1s\n",
      "[CV] tfidf__max_df=0.9500000000000002, tfidf__ngram_range=(1, 2) .....\n",
      "[CV]  tfidf__max_df=0.9500000000000002, tfidf__ngram_range=(1, 2), score=0.6080463273392258, total=   3.1s\n",
      "[CV] tfidf__max_df=0.9500000000000002, tfidf__ngram_range=(1, 2) .....\n",
      "[CV]  tfidf__max_df=0.9500000000000002, tfidf__ngram_range=(1, 2), score=0.6083511124657117, total=   3.1s\n",
      "[CV] tfidf__max_df=0.9500000000000002, tfidf__ngram_range=(1, 2) .....\n",
      "[CV]  tfidf__max_df=0.9500000000000002, tfidf__ngram_range=(1, 2), score=0.6048780487804878, total=   3.2s\n",
      "[CV] tfidf__max_df=0.9500000000000002, tfidf__ngram_range=(1, 2) .....\n",
      "[CV]  tfidf__max_df=0.9500000000000002, tfidf__ngram_range=(1, 2), score=0.6181762732540409, total=   3.2s\n",
      "[CV] tfidf__max_df=0.9500000000000002, tfidf__ngram_range=(1, 2) .....\n",
      "[CV]  tfidf__max_df=0.9500000000000002, tfidf__ngram_range=(1, 2), score=0.5933496034167175, total=   3.3s\n",
      "[CV] tfidf__max_df=0.9500000000000002, tfidf__ngram_range=(1, 3) .....\n",
      "[CV]  tfidf__max_df=0.9500000000000002, tfidf__ngram_range=(1, 2), score=0.6070229007633587, total=   3.3s\n",
      "[CV] tfidf__max_df=0.9500000000000002, tfidf__ngram_range=(1, 3) .....\n",
      "[CV]  tfidf__max_df=0.9500000000000002, tfidf__ngram_range=(1, 2), score=0.6204156479217604, total=   3.1s\n",
      "[CV] tfidf__max_df=0.9500000000000002, tfidf__ngram_range=(1, 3) .....\n",
      "[CV]  tfidf__max_df=0.9500000000000002, tfidf__ngram_range=(1, 3), score=0.6155251141552511, total=   4.9s\n",
      "[CV] tfidf__max_df=0.9500000000000002, tfidf__ngram_range=(1, 3) .....\n",
      "[CV]  tfidf__max_df=0.9500000000000002, tfidf__ngram_range=(1, 3), score=0.6082851050868109, total=   4.8s\n",
      "[CV] tfidf__max_df=0.9500000000000002, tfidf__ngram_range=(1, 3) .....\n",
      "[CV]  tfidf__max_df=0.9500000000000002, tfidf__ngram_range=(1, 3), score=0.6230956733698964, total=   4.9s\n",
      "[CV] tfidf__max_df=0.9500000000000002, tfidf__ngram_range=(1, 3) .....\n",
      "[CV]  tfidf__max_df=0.9500000000000002, tfidf__ngram_range=(1, 3), score=0.6144468149954282, total=   4.9s\n",
      "[CV] tfidf__max_df=0.9500000000000002, tfidf__ngram_range=(1, 3) .....\n",
      "[CV]  tfidf__max_df=0.9500000000000002, tfidf__ngram_range=(1, 3), score=0.6113989637305699, total=   4.9s\n",
      "[CV] tfidf__max_df=0.9500000000000002, tfidf__ngram_range=(1, 3) .....\n",
      "[CV]  tfidf__max_df=0.9500000000000002, tfidf__ngram_range=(1, 3), score=0.6012195121951219, total=   4.9s\n",
      "[CV] tfidf__max_df=0.9500000000000002, tfidf__ngram_range=(1, 3) .....\n",
      "[CV]  tfidf__max_df=0.9500000000000002, tfidf__ngram_range=(1, 3), score=0.6187862153095456, total=   5.0s\n",
      "[CV] tfidf__max_df=0.9500000000000002, tfidf__ngram_range=(1, 3) .....\n",
      "[CV]  tfidf__max_df=0.9500000000000002, tfidf__ngram_range=(1, 3), score=0.5979255643685174, total=   5.0s\n",
      "[CV]  tfidf__max_df=0.9500000000000002, tfidf__ngram_range=(1, 3), score=0.6058015267175573, total=   5.1s\n",
      "[CV]  tfidf__max_df=0.9500000000000002, tfidf__ngram_range=(1, 3), score=0.6219437652811736, total=   5.2s\n"
     ]
    },
    {
     "name": "stderr",
     "output_type": "stream",
     "text": [
      "[Parallel(n_jobs=3)]: Done 120 out of 120 | elapsed:  3.1min finished\n"
     ]
    },
    {
     "data": {
      "text/plain": [
       "GridSearchCV(cv=10, error_score='raise',\n",
       "       estimator=Pipeline(memory=None,\n",
       "     steps=[('tfidf', TfidfVectorizer(analyzer='word', binary=False, decode_error='strict',\n",
       "        dtype=<class 'numpy.int64'>, encoding='utf-8', input='content',\n",
       "        lowercase=True, max_df=1.0, max_features=None, min_df=1,\n",
       "        ngram_range=(1, 1), norm='l2', preprocessor=None, smooth_idf=True,\n",
       " ...ue,\n",
       "        vocabulary=None)), ('clf', MultinomialNB(alpha=0.01, class_prior=None, fit_prior=True))]),\n",
       "       fit_params=None, iid=True, n_jobs=3,\n",
       "       param_grid={'tfidf__max_df': array([0.8 , 0.85, 0.9 , 0.95]), 'tfidf__ngram_range': [(1, 1), (1, 2), (1, 3)]},\n",
       "       pre_dispatch='2*n_jobs', refit=True, return_train_score='warn',\n",
       "       scoring=None, verbose=3)"
      ]
     },
     "execution_count": 70,
     "metadata": {},
     "output_type": "execute_result"
    }
   ],
   "source": [
    "pipeline = Pipeline([\n",
    "    ('tfidf', TfidfVectorizer()),\n",
    "    ('clf', MultinomialNB(alpha=0.01)) \n",
    "])\n",
    "\n",
    "parameters = {\n",
    "    'tfidf__max_df': tfidf_max_df_params,\n",
    "#     'tfidf__min_df': tfidf_min_df_params,\n",
    "    'tfidf__ngram_range': [(1, 1), (1, 2), (1, 3)]\n",
    "}\n",
    "\n",
    "grid_search_tune = GridSearchCV(pipeline, parameters, cv=10, n_jobs=3, verbose=3)\n",
    "\n",
    "# %%time\n",
    "grid_search_tune.fit(X_train, y_train)\n",
    "\n",
    "# print(\"Best parameters set:\")\n",
    "# print(grid_search_tune.best_estimator_.steps)"
   ]
  },
  {
   "cell_type": "code",
   "execution_count": 72,
   "metadata": {},
   "outputs": [
    {
     "data": {
      "text/plain": [
       "({'tfidf__max_df': 0.8, 'tfidf__ngram_range': (1, 3)}, 0.6118429076716673)"
      ]
     },
     "execution_count": 72,
     "metadata": {},
     "output_type": "execute_result"
    }
   ],
   "source": [
    "grid_search_tune.best_params_, grid_search_tune.best_score_"
   ]
  },
  {
   "cell_type": "markdown",
   "metadata": {},
   "source": [
    "> parameters = {\n",
    "    'tfidf__max_df': (0.25, 0.5, 0.75),\n",
    "    'tfidf__ngram_range': [(1, 1), (1, 2), (1, 3)],\n",
    "    'clf__estimator__alpha': (1e-2, 1e-3)\n",
    "}\n",
    "\n",
    "##### 패러미터 성적"
   ]
  },
  {
   "cell_type": "code",
   "execution_count": 50,
   "metadata": {},
   "outputs": [
    {
     "data": {
      "text/plain": [
       "{'clf__alpha': 0.01, 'tfidf__max_df': 0.25, 'tfidf__ngram_range': (1, 3)}"
      ]
     },
     "execution_count": 50,
     "metadata": {},
     "output_type": "execute_result"
    }
   ],
   "source": [
    "grid_search_tune.best_params_"
   ]
  },
  {
   "cell_type": "code",
   "execution_count": 49,
   "metadata": {},
   "outputs": [
    {
     "data": {
      "text/plain": [
       "0.6118429076716673"
      ]
     },
     "execution_count": 49,
     "metadata": {},
     "output_type": "execute_result"
    }
   ],
   "source": [
    "grid_search_tune.best_score_"
   ]
  },
  {
   "cell_type": "code",
   "execution_count": 78,
   "metadata": {},
   "outputs": [
    {
     "data": {
      "text/plain": [
       "(32796, 3645, 32796, 3645)"
      ]
     },
     "execution_count": 78,
     "metadata": {},
     "output_type": "execute_result"
    }
   ],
   "source": [
    "X_train, X_test, y_train, y_test = train_test_split(train.caption_only, train.topic_type, test_size=0.1, random_state=1)\n",
    "len(X_train), len(X_test), len(y_train), len(y_test)"
   ]
  },
  {
   "cell_type": "code",
   "execution_count": 88,
   "metadata": {},
   "outputs": [],
   "source": [
    "clf = Pipeline([ \n",
    "    ('vect', TfidfVectorizer(ngram_range=(1, 3))), \n",
    "    ('clf', MultinomialNB(alpha=0.01)) \n",
    "])"
   ]
  },
  {
   "cell_type": "code",
   "execution_count": 95,
   "metadata": {},
   "outputs": [
    {
     "name": "stdout",
     "output_type": "stream",
     "text": [
      "CPU times: user 5.34 s, sys: 328 ms, total: 5.66 s\n",
      "Wall time: 5.67 s\n"
     ]
    }
   ],
   "source": [
    "%%time\n",
    "model_all_data = clf.fit(train.caption_only, train.topic_type)"
   ]
  },
  {
   "cell_type": "code",
   "execution_count": 166,
   "metadata": {},
   "outputs": [],
   "source": [
    "test_list = [\n",
    "    \"방탄소년단 bts 최고\",\n",
    "    \"배고파.. 맥주먹고싶다\",\n",
    "    \"올만에 데이트!!!\",\n",
    "    \"사랑\",\n",
    "    \"행복한 하루!! 날씨가 너무 좋아서 여행을 떠나고 싶은 하루였어!!\",\n",
    "    \"대출은\",\n",
    "    \"어이없넹\",\n",
    "    \"밥\",\n",
    "    \"차이가 ㅇ벗너\",\n",
    "    \"폰케이스\",\n",
    "    \"어이가 없네\",\n",
    "    \"똑같너\",\n",
    "    \"성능이 너무 구리다!!!! 미치겠다\"\n",
    "]"
   ]
  },
  {
   "cell_type": "code",
   "execution_count": 128,
   "metadata": {},
   "outputs": [
    {
     "data": {
      "text/plain": [
       "array([11, 11,  6, 11, 11, 11, 11, 11, 11, 11,  7, 11,  7])"
      ]
     },
     "execution_count": 128,
     "metadata": {},
     "output_type": "execute_result"
    }
   ],
   "source": [
    "model_all_data.predict(test_list)"
   ]
  },
  {
   "cell_type": "code",
   "execution_count": 129,
   "metadata": {},
   "outputs": [
    {
     "data": {
      "text/plain": [
       "array([11, 11,  6, 11, 11, 11, 11, 11, 11, 11,  7, 11,  7])"
      ]
     },
     "execution_count": 129,
     "metadata": {},
     "output_type": "execute_result"
    }
   ],
   "source": [
    "model.predict(test_list)"
   ]
  },
  {
   "cell_type": "code",
   "execution_count": 96,
   "metadata": {},
   "outputs": [],
   "source": [
    "y_pred_used_all_data = model_all_data.predict(X_test)"
   ]
  },
  {
   "cell_type": "code",
   "execution_count": 98,
   "metadata": {},
   "outputs": [
    {
     "data": {
      "text/plain": [
       "0.9775034293552812"
      ]
     },
     "execution_count": 98,
     "metadata": {},
     "output_type": "execute_result"
    }
   ],
   "source": [
    "accuracy_score(y_test, y_pred_used_all_data) "
   ]
  },
  {
   "cell_type": "code",
   "execution_count": 89,
   "metadata": {},
   "outputs": [
    {
     "name": "stdout",
     "output_type": "stream",
     "text": [
      "CPU times: user 4.8 s, sys: 283 ms, total: 5.09 s\n",
      "Wall time: 5.12 s\n"
     ]
    }
   ],
   "source": [
    "%%time\n",
    "model = clf.fit(X_train, y_train)"
   ]
  },
  {
   "cell_type": "code",
   "execution_count": 90,
   "metadata": {},
   "outputs": [],
   "source": [
    "y_pred = model.predict(X_test)"
   ]
  },
  {
   "cell_type": "code",
   "execution_count": 93,
   "metadata": {},
   "outputs": [],
   "source": [
    "y_pred_train = model.predict(X_train)"
   ]
  },
  {
   "cell_type": "code",
   "execution_count": 94,
   "metadata": {},
   "outputs": [
    {
     "data": {
      "text/plain": [
       "0.9726186120258569"
      ]
     },
     "execution_count": 94,
     "metadata": {},
     "output_type": "execute_result"
    }
   ],
   "source": [
    "accuracy_score(y_train, y_pred_train) "
   ]
  },
  {
   "cell_type": "code",
   "execution_count": 91,
   "metadata": {},
   "outputs": [
    {
     "name": "stdout",
     "output_type": "stream",
     "text": [
      "             precision    recall  f1-score   support\n",
      "\n",
      "          0       0.55      0.36      0.44       198\n",
      "          1       0.96      0.72      0.82        67\n",
      "          2       0.67      0.22      0.33        55\n",
      "          3       0.40      0.08      0.13        75\n",
      "          4       0.85      0.39      0.54        28\n",
      "          5       0.78      0.69      0.73       143\n",
      "          6       0.33      0.12      0.18       174\n",
      "          7       0.53      0.45      0.49       343\n",
      "          8       0.92      0.94      0.93       131\n",
      "          9       0.76      0.42      0.55       153\n",
      "         10       0.50      0.58      0.54       573\n",
      "         11       0.65      0.80      0.72      1632\n",
      "         12       0.92      0.59      0.72        58\n",
      "         13       0.89      0.53      0.67        15\n",
      "\n",
      "avg / total       0.62      0.63      0.61      3645\n",
      "\n"
     ]
    }
   ],
   "source": [
    "print(classification_report(y_test, y_pred))"
   ]
  },
  {
   "cell_type": "code",
   "execution_count": 92,
   "metadata": {},
   "outputs": [
    {
     "data": {
      "text/plain": [
       "0.6279835390946502"
      ]
     },
     "execution_count": 92,
     "metadata": {},
     "output_type": "execute_result"
    }
   ],
   "source": [
    "accuracy_score(y_test, y_pred) "
   ]
  },
  {
   "cell_type": "markdown",
   "metadata": {},
   "source": [
    "### imbalance problem"
   ]
  },
  {
   "cell_type": "code",
   "execution_count": 133,
   "metadata": {},
   "outputs": [],
   "source": [
    "from imblearn.under_sampling import *\n",
    "from imblearn.over_sampling import *\n",
    "from imblearn.combine import *"
   ]
  },
  {
   "cell_type": "code",
   "execution_count": 162,
   "metadata": {},
   "outputs": [],
   "source": [
    "x_sample, y_sample = train.caption_only, train.topic_type"
   ]
  },
  {
   "cell_type": "code",
   "execution_count": 163,
   "metadata": {},
   "outputs": [],
   "source": [
    "tf_vec = TfidfVectorizer(ngram_range=(1, 3))"
   ]
  },
  {
   "cell_type": "code",
   "execution_count": 164,
   "metadata": {},
   "outputs": [],
   "source": [
    "x_sample = tf_vec.fit_transform(x_sample)"
   ]
  },
  {
   "cell_type": "code",
   "execution_count": 138,
   "metadata": {},
   "outputs": [],
   "source": [
    "x_random, y_random = RandomUnderSampler(random_state=0).fit_sample(x_sample, y_sample)"
   ]
  },
  {
   "cell_type": "code",
   "execution_count": 140,
   "metadata": {},
   "outputs": [
    {
     "data": {
      "text/plain": [
       "(36441, 761430)"
      ]
     },
     "execution_count": 140,
     "metadata": {},
     "output_type": "execute_result"
    }
   ],
   "source": [
    "x_sample.shape"
   ]
  },
  {
   "cell_type": "code",
   "execution_count": 139,
   "metadata": {},
   "outputs": [
    {
     "data": {
      "text/plain": [
       "((1988, 761430), (1988,))"
      ]
     },
     "execution_count": 139,
     "metadata": {},
     "output_type": "execute_result"
    }
   ],
   "source": [
    "x_random.shape, y_random.shape"
   ]
  },
  {
   "cell_type": "code",
   "execution_count": 141,
   "metadata": {},
   "outputs": [],
   "source": [
    "multimodel = MultinomialNB(alpha=0.01)"
   ]
  },
  {
   "cell_type": "code",
   "execution_count": 142,
   "metadata": {},
   "outputs": [
    {
     "data": {
      "text/plain": [
       "MultinomialNB(alpha=0.01, class_prior=None, fit_prior=True)"
      ]
     },
     "execution_count": 142,
     "metadata": {},
     "output_type": "execute_result"
    }
   ],
   "source": [
    "multimodel.fit(x_random, y_random)"
   ]
  },
  {
   "cell_type": "code",
   "execution_count": 171,
   "metadata": {},
   "outputs": [],
   "source": [
    "X_test = tf_vec.transform(X_test)"
   ]
  },
  {
   "cell_type": "code",
   "execution_count": 173,
   "metadata": {},
   "outputs": [],
   "source": [
    "y_pred = multimodel.predict(X_test)"
   ]
  },
  {
   "cell_type": "code",
   "execution_count": 178,
   "metadata": {},
   "outputs": [
    {
     "data": {
      "text/plain": [
       "array([11,  5,  2, ...,  6,  0, 11])"
      ]
     },
     "execution_count": 178,
     "metadata": {},
     "output_type": "execute_result"
    }
   ],
   "source": [
    "y_pred"
   ]
  },
  {
   "cell_type": "code",
   "execution_count": 174,
   "metadata": {},
   "outputs": [
    {
     "data": {
      "text/plain": [
       "0.440877914951989"
      ]
     },
     "execution_count": 174,
     "metadata": {},
     "output_type": "execute_result"
    }
   ],
   "source": [
    "accuracy_score(y_test, y_pred)"
   ]
  },
  {
   "cell_type": "code",
   "execution_count": 182,
   "metadata": {},
   "outputs": [
    {
     "data": {
      "text/plain": [
       "array([ 0,  1,  2,  3,  4,  5,  6,  7,  8,  9, 10, 11, 12, 13])"
      ]
     },
     "execution_count": 182,
     "metadata": {},
     "output_type": "execute_result"
    }
   ],
   "source": [
    "np.unique(y_pred)"
   ]
  },
  {
   "cell_type": "code",
   "execution_count": null,
   "metadata": {},
   "outputs": [],
   "source": []
  }
 ],
 "metadata": {
  "kernelspec": {
   "display_name": "Python 3",
   "language": "python",
   "name": "python3"
  },
  "language_info": {
   "codemirror_mode": {
    "name": "ipython",
    "version": 3
   },
   "file_extension": ".py",
   "mimetype": "text/x-python",
   "name": "python",
   "nbconvert_exporter": "python",
   "pygments_lexer": "ipython3",
   "version": "3.6.5"
  }
 },
 "nbformat": 4,
 "nbformat_minor": 2
}
