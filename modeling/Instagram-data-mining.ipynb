{
 "cells": [
  {
   "cell_type": "markdown",
   "metadata": {},
   "source": [
    "# Project : Instagram Data Clustering"
   ]
  },
  {
   "cell_type": "markdown",
   "metadata": {},
   "source": [
    "# 1. Data Introduce\n",
    "### 1.1 Purpose : To find out popular hashtags are being used and analyze topic using Latent Dirichlet Allocation.\n",
    "\n",
    "### 1.2 Data set:\n",
    "   > - Train Data : 43264 rows, 20 columns"
   ]
  },
  {
   "cell_type": "code",
   "execution_count": 1,
   "metadata": {},
   "outputs": [],
   "source": [
    "from IPython.display import display, Markdown\n",
    "import private_function as pf\n",
    "from sklearn.feature_extraction.text import TfidfVectorizer, CountVectorizer\n",
    "from sklearn.decomposition import LatentDirichletAllocation\n",
    "\n",
    "# Pretty display for notebooks\n",
    "%matplotlib inline\n",
    "\n",
    "# Ignore the warnings\n",
    "import warnings\n",
    "warnings.filterwarnings('ignore')\n",
    "\n",
    "def get_x_train_and_features_name(df):\n",
    "    cnt_vectorizer = CountVectorizer(lowercase=False)\n",
    "    X_train = cnt_vectorizer.fit_transform(df)\n",
    "#     cnt_feature_names = cnt_vectorizer.get_feature_names()\n",
    "    return X_train\n",
    "\n",
    "def run_lda(df, n_topic, max_iter = 100):\n",
    "    cnt_vectorizer = CountVectorizer(lowercase=False)\n",
    "    X_train = cnt_vectorizer.fit_transform(df)\n",
    "    cnt_feature_names = cnt_vectorizer.get_feature_names()\n",
    "\n",
    "    # hyper parameter\n",
    "    alpha = 1\n",
    "    beta = 1\n",
    "\n",
    "    # train the model\n",
    "    lda = LatentDirichletAllocation(n_components=n_topic, doc_topic_prior=alpha,\\\n",
    "                                    topic_word_prior=beta, learning_method='online', max_iter=max_iter)\n",
    "\n",
    "    %time lda.fit_transform(X_train)\n",
    "    \n",
    "    return lda, cnt_vectorizer, cnt_feature_names"
   ]
  },
  {
   "cell_type": "code",
   "execution_count": 2,
   "metadata": {
    "scrolled": true
   },
   "outputs": [
    {
     "data": {
      "text/markdown": [
       "['직장인', '럽스타그램', '서울맛집', '먹스타그램', '친스타그램', '여행', '일상', '셀스타그램']"
      ],
      "text/plain": [
       "<IPython.core.display.Markdown object>"
      ]
     },
     "metadata": {},
     "output_type": "display_data"
    },
    {
     "data": {
      "text/markdown": [
       "['seoul']"
      ],
      "text/plain": [
       "<IPython.core.display.Markdown object>"
      ]
     },
     "metadata": {},
     "output_type": "display_data"
    },
    {
     "data": {
      "text/markdown": [
       "job.csv : 2213"
      ],
      "text/plain": [
       "<IPython.core.display.Markdown object>"
      ]
     },
     "metadata": {},
     "output_type": "display_data"
    },
    {
     "data": {
      "text/markdown": [
       "insta_new_5.csv : 2136"
      ],
      "text/plain": [
       "<IPython.core.display.Markdown object>"
      ]
     },
     "metadata": {},
     "output_type": "display_data"
    },
    {
     "data": {
      "text/markdown": [
       "insta_new_4.csv : 2148"
      ],
      "text/plain": [
       "<IPython.core.display.Markdown object>"
      ]
     },
     "metadata": {},
     "output_type": "display_data"
    },
    {
     "data": {
      "text/markdown": [
       "insta_new_3.csv : 2172"
      ],
      "text/plain": [
       "<IPython.core.display.Markdown object>"
      ]
     },
     "metadata": {},
     "output_type": "display_data"
    },
    {
     "data": {
      "text/markdown": [
       "insta_new_2.csv : 465"
      ],
      "text/plain": [
       "<IPython.core.display.Markdown object>"
      ]
     },
     "metadata": {},
     "output_type": "display_data"
    },
    {
     "data": {
      "text/markdown": [
       "insta_new_1.csv : 2029"
      ],
      "text/plain": [
       "<IPython.core.display.Markdown object>"
      ]
     },
     "metadata": {},
     "output_type": "display_data"
    },
    {
     "data": {
      "text/markdown": [
       "insta_new.csv : 2203"
      ],
      "text/plain": [
       "<IPython.core.display.Markdown object>"
      ]
     },
     "metadata": {},
     "output_type": "display_data"
    },
    {
     "data": {
      "text/markdown": [
       "love_new.csv : 10783"
      ],
      "text/plain": [
       "<IPython.core.display.Markdown object>"
      ]
     },
     "metadata": {},
     "output_type": "display_data"
    },
    {
     "data": {
      "text/markdown": [
       "insta_train.csv : 5"
      ],
      "text/plain": [
       "<IPython.core.display.Markdown object>"
      ]
     },
     "metadata": {},
     "output_type": "display_data"
    },
    {
     "data": {
      "text/markdown": [
       "insta_food_1.csv : 2217"
      ],
      "text/plain": [
       "<IPython.core.display.Markdown object>"
      ]
     },
     "metadata": {},
     "output_type": "display_data"
    },
    {
     "data": {
      "text/markdown": [
       "insta_food.csv : 1911"
      ],
      "text/plain": [
       "<IPython.core.display.Markdown object>"
      ]
     },
     "metadata": {},
     "output_type": "display_data"
    },
    {
     "data": {
      "text/markdown": [
       "food.csv : 1986"
      ],
      "text/plain": [
       "<IPython.core.display.Markdown object>"
      ]
     },
     "metadata": {},
     "output_type": "display_data"
    },
    {
     "data": {
      "text/markdown": [
       "beer.csv : 1970"
      ],
      "text/plain": [
       "<IPython.core.display.Markdown object>"
      ]
     },
     "metadata": {},
     "output_type": "display_data"
    },
    {
     "data": {
      "text/markdown": [
       "food_1.csv : 2068"
      ],
      "text/plain": [
       "<IPython.core.display.Markdown object>"
      ]
     },
     "metadata": {},
     "output_type": "display_data"
    },
    {
     "data": {
      "text/markdown": [
       "food_2.csv : 2089"
      ],
      "text/plain": [
       "<IPython.core.display.Markdown object>"
      ]
     },
     "metadata": {},
     "output_type": "display_data"
    },
    {
     "data": {
      "text/markdown": [
       "food_3.csv : 2046"
      ],
      "text/plain": [
       "<IPython.core.display.Markdown object>"
      ]
     },
     "metadata": {},
     "output_type": "display_data"
    },
    {
     "data": {
      "text/markdown": [
       "friend.csv : 1888"
      ],
      "text/plain": [
       "<IPython.core.display.Markdown object>"
      ]
     },
     "metadata": {},
     "output_type": "display_data"
    },
    {
     "data": {
      "text/markdown": [
       "trip_1.csv : 1145"
      ],
      "text/plain": [
       "<IPython.core.display.Markdown object>"
      ]
     },
     "metadata": {},
     "output_type": "display_data"
    },
    {
     "data": {
      "text/markdown": [
       "trip.csv : 2533"
      ],
      "text/plain": [
       "<IPython.core.display.Markdown object>"
      ]
     },
     "metadata": {},
     "output_type": "display_data"
    },
    {
     "data": {
      "text/markdown": [
       "daily.csv : 2195"
      ],
      "text/plain": [
       "<IPython.core.display.Markdown object>"
      ]
     },
     "metadata": {},
     "output_type": "display_data"
    },
    {
     "data": {
      "text/markdown": [
       "daily_2.csv : 785"
      ],
      "text/plain": [
       "<IPython.core.display.Markdown object>"
      ]
     },
     "metadata": {},
     "output_type": "display_data"
    },
    {
     "data": {
      "text/markdown": [
       "daily_1.csv : 2312"
      ],
      "text/plain": [
       "<IPython.core.display.Markdown object>"
      ]
     },
     "metadata": {},
     "output_type": "display_data"
    },
    {
     "data": {
      "text/markdown": [
       "selfie.csv : 2156"
      ],
      "text/plain": [
       "<IPython.core.display.Markdown object>"
      ]
     },
     "metadata": {},
     "output_type": "display_data"
    },
    {
     "data": {
      "text/markdown": [
       "seongnam.csv : 960"
      ],
      "text/plain": [
       "<IPython.core.display.Markdown object>"
      ]
     },
     "metadata": {},
     "output_type": "display_data"
    },
    {
     "data": {
      "text/markdown": [
       "seoul_2.csv : 19"
      ],
      "text/plain": [
       "<IPython.core.display.Markdown object>"
      ]
     },
     "metadata": {},
     "output_type": "display_data"
    },
    {
     "data": {
      "text/markdown": [
       "seoul_1.csv : 960"
      ],
      "text/plain": [
       "<IPython.core.display.Markdown object>"
      ]
     },
     "metadata": {},
     "output_type": "display_data"
    },
    {
     "data": {
      "text/markdown": [
       "incheon.csv : 960"
      ],
      "text/plain": [
       "<IPython.core.display.Markdown object>"
      ]
     },
     "metadata": {},
     "output_type": "display_data"
    },
    {
     "data": {
      "text/markdown": [
       "seoul.csv : 880"
      ],
      "text/plain": [
       "<IPython.core.display.Markdown object>"
      ]
     },
     "metadata": {},
     "output_type": "display_data"
    },
    {
     "data": {
      "text/markdown": [
       "yongin.csv : 960"
      ],
      "text/plain": [
       "<IPython.core.display.Markdown object>"
      ]
     },
     "metadata": {},
     "output_type": "display_data"
    },
    {
     "data": {
      "text/markdown": [
       "gyeonggido.csv : 960"
      ],
      "text/plain": [
       "<IPython.core.display.Markdown object>"
      ]
     },
     "metadata": {},
     "output_type": "display_data"
    },
    {
     "name": "stdout",
     "output_type": "stream",
     "text": [
      "30\n",
      "Df list length : 30\n",
      "Df length changes after concat (if 0 means all datas are unique) : 0\n",
      "Df length changes after concat (if 0 means all datas are unique) : 0\n",
      "Df length changes after concat (if 0 means all datas are unique) : 1095\n",
      "Df length changes after concat (if 0 means all datas are unique) : 411\n",
      "Df length changes after concat (if 0 means all datas are unique) : 54\n",
      "Df length changes after concat (if 0 means all datas are unique) : 131\n",
      "Df length changes after concat (if 0 means all datas are unique) : 17\n",
      "Df length changes after concat (if 0 means all datas are unique) : 0\n",
      "Df length changes after concat (if 0 means all datas are unique) : 40\n",
      "Df length changes after concat (if 0 means all datas are unique) : 16\n",
      "Df length changes after concat (if 0 means all datas are unique) : 75\n",
      "Df length changes after concat (if 0 means all datas are unique) : 11\n",
      "Df length changes after concat (if 0 means all datas are unique) : 43\n",
      "Df length changes after concat (if 0 means all datas are unique) : 358\n",
      "Df length changes after concat (if 0 means all datas are unique) : 19\n",
      "Df length changes after concat (if 0 means all datas are unique) : 176\n",
      "Df length changes after concat (if 0 means all datas are unique) : 15\n",
      "Df length changes after concat (if 0 means all datas are unique) : 0\n",
      "Df length changes after concat (if 0 means all datas are unique) : 55\n",
      "Df length changes after concat (if 0 means all datas are unique) : 20\n",
      "Df length changes after concat (if 0 means all datas are unique) : 309\n",
      "Df length changes after concat (if 0 means all datas are unique) : 288\n",
      "Df length changes after concat (if 0 means all datas are unique) : 0\n",
      "Df length changes after concat (if 0 means all datas are unique) : 0\n",
      "Df length changes after concat (if 0 means all datas are unique) : 1\n",
      "Df length changes after concat (if 0 means all datas are unique) : 1\n",
      "Df length changes after concat (if 0 means all datas are unique) : 1\n",
      "Df length changes after concat (if 0 means all datas are unique) : 0\n",
      "Df length changes after concat (if 0 means all datas are unique) : 1\n",
      "df_train shape : (54017, 15)\n"
     ]
    },
    {
     "data": {
      "text/plain": [
       "(63099, 16584)"
      ]
     },
     "execution_count": 2,
     "metadata": {},
     "output_type": "execute_result"
    }
   ],
   "source": [
    "df_li = pf.getAllDataFrame()\n",
    "train = pf.makeOneTrainDf(df_li)\n",
    "train = pf.make_df_i_want(train)\n",
    "counter = pf.get_counter(train)\n",
    "counter.most_common()\n",
    "tag_count = 0\n",
    "for tup in counter.most_common():\n",
    "    tag_count += tup[1]\n",
    "tag_count, len(counter)"
   ]
  },
  {
   "cell_type": "code",
   "execution_count": 4,
   "metadata": {},
   "outputs": [],
   "source": [
    "test = train[train.tags_cnt == 0]\n",
    "df_test = test.caption"
   ]
  },
  {
   "cell_type": "code",
   "execution_count": 6,
   "metadata": {},
   "outputs": [],
   "source": [
    "train[\"caption_only\"] = train[\"caption_only\"].apply(lambda a: \"\" if type(a) == float else a)\n",
    "train[\"caption_only\"] = train[\"caption_only\"].apply(lambda a: a.strip())\n",
    "train = train[train[\"caption_only\"] != \"\"]"
   ]
  },
  {
   "cell_type": "code",
   "execution_count": 7,
   "metadata": {},
   "outputs": [
    {
     "data": {
      "text/plain": [
       "(45634, 4572)"
      ]
     },
     "execution_count": 7,
     "metadata": {},
     "output_type": "execute_result"
    }
   ],
   "source": [
    "X_test = train[train[\"tags_str\"] == \"\"][\"tags_str\"].values\n",
    "X_train = train[train[\"tags_str\"] != \"\"][\"tags_str\"].values\n",
    "len(X_train), len(X_test)"
   ]
  },
  {
   "cell_type": "code",
   "execution_count": 9,
   "metadata": {},
   "outputs": [
    {
     "name": "stdout",
     "output_type": "stream",
     "text": [
      "CPU times: user 43min 42s, sys: 3min 51s, total: 47min 33s\n",
      "Wall time: 47min 41s\n",
      "CPU times: user 43min 43s, sys: 3min 51s, total: 47min 35s\n",
      "Wall time: 47min 43s\n",
      "CPU times: user 46min 47s, sys: 4min 15s, total: 51min 2s\n",
      "Wall time: 51min 9s\n",
      "CPU times: user 46min 48s, sys: 4min 15s, total: 51min 4s\n",
      "Wall time: 51min 10s\n",
      "CPU times: user 49min 46s, sys: 4min 35s, total: 54min 21s\n",
      "Wall time: 54min 28s\n",
      "CPU times: user 49min 47s, sys: 4min 35s, total: 54min 23s\n",
      "Wall time: 54min 30s\n",
      "CPU times: user 52min 54s, sys: 6min 5s, total: 58min 59s\n",
      "Wall time: 59min 7s\n",
      "CPU times: user 52min 55s, sys: 6min 5s, total: 59min\n",
      "Wall time: 59min 8s\n"
     ]
    }
   ],
   "source": [
    "%time lda_model11, cnt_vectorizer11, cnt_feature_names11 = run_lda(X_train, 11)\n",
    "%time lda_model12, cnt_vectorizer12, cnt_feature_names = run_lda(X_train, 12)\n",
    "%time lda_model13, cnt_vectorizer13, cnt_feature_names13 = run_lda(X_train, 13)\n",
    "%time lda_model14, cnt_vectorizer14, cnt_feature_names14 = run_lda(X_train, 14)"
   ]
  },
  {
   "cell_type": "code",
   "execution_count": 10,
   "metadata": {},
   "outputs": [],
   "source": [
    "pf.saveModelObjectAsPickle(lda_model11, \"./lda/lda_model11.pkl\")\n",
    "pf.saveModelObjectAsPickle(cnt_feature_names11, \"./lda/lda_model11_feature_name.pkl\")\n",
    "pf.saveModelObjectAsPickle(lda_model12, \"./lda/lda_model12.pkl\")\n",
    "pf.saveModelObjectAsPickle(cnt_feature_names, \"./lda/lda_model12_feature_name.pkl\")\n",
    "pf.saveModelObjectAsPickle(lda_model13, \"./lda/lda_model13.pkl\")\n",
    "pf.saveModelObjectAsPickle(cnt_feature_names13, \"./lda/lda_model13_feature_name.pkl\")\n",
    "pf.saveModelObjectAsPickle(lda_model14, \"./lda/lda_model14.pkl\")\n",
    "pf.saveModelObjectAsPickle(cnt_feature_names14, \"./lda/lda_model14_feature_name.pkl\")"
   ]
  },
  {
   "cell_type": "code",
   "execution_count": 11,
   "metadata": {},
   "outputs": [
    {
     "name": "stdout",
     "output_type": "stream",
     "text": [
      "Topic 0:\n",
      "서울맛집 겐조 샤넬 핫플레이스 강남맛집 구찌 에르메스 발렌티노 커플 프라다 팔찌 강남역 까르띠에 강남 펜디 몽블랑 불가리 막스마라 보태가베네타 남여\n",
      "Topic 1:\n",
      "직장인 선물 아이폰케이스 커플룩 데이트룩 폰케이스 아이폰8 용인 마켓 신상 커플케이스 원피스 가을신상 아이폰7케이스 아이폰x케이스 귀걸이 아이폰x 아이폰8케이스 핸드메이드 기념일\n",
      "Topic 2:\n",
      "이벤트 맛집 첫줄안녕 야구 축구 상품권 소액 안전공원 스포츠 스포츠토토 홍대맛집 소액결제 소액결제현금화 카드깡 안전놀이터 메이저놀이터 검증놀이터 상품권현금화 조건만남 love\n",
      "Topic 3:\n",
      "먹스타그램 먹방 맛스타그램 맛집 맥주스타그램 술스타그램 food 점심 맥주 먹스타 남친이랑 instafood foodstagram 토토사이트추천 먹방스타그램 먹부림 음식 푸드스타그램 존맛 맛있다\n",
      "Topic 4:\n",
      "일상 맞팔 소통 데일리 선팔 셀스타그램 좋아요 셀카 셀피 럽스타그램 팔로우 먹스타그램 daily 얼스타그램 일상스타그램 인친 선팔하면맞팔 오오티디 ootd selfie\n",
      "Topic 5:\n",
      "다이어트 운동하는여자 직장인 운동 운동하는남자 다이어터 영화 다이어트식단 헬스 diet 화이팅 필라테스 헬스타그램 식단 다이어트그램 건강 fitness 몸스타그램 운스타그램 꿀잼\n",
      "Topic 6:\n",
      "여행에미치다 여행스타그램 여행 남친이랑 travel 휴가 럽스타그램 korea 감성사진 photography 일본 바다 힐링 감성 추억 예신 결혼준비 웨딩 사랑 웨딩촬영\n",
      "Topic 7:\n",
      "서울맛집 부산맛집 대구맛집 대전맛집 서면맛집 부산여행 신촌맛집 대전 네일아트 행복하자 해운대맛집 남친이랑 둔산동 광주맛집 종로맛집 울산맛집 경기도 이태원맛집 인천맛집 f4follow\n",
      "Topic 8:\n",
      "제주도 제주도맛집 제주맛집 선팔맞팔 제주여행 서귀포맛집 소통해요 f4follow 제주 제주맛집추천 소통하자 맥주스타그램 제주도그램 제주서귀포맛집 제주도여행 좋아 평일 휴일 제주도흑돼지맛집 제주흑돼지\n",
      "Topic 9:\n",
      "멍스타그램 반려견 강아지 개스타그램 냥스타그램 dog 댕댕이 고양이 펫스타그램 bts kpop 견스타그램 독스타그램 puppy dogstagram pet 마카롱 꽃스타그램 いいね返し cat\n",
      "Topic 10:\n",
      "럽스타그램 육아소통 육아스타그램 맘스타그램 육아 육아맘 딸스타그램 젊줌마 인스타베이비 애스타그램 도치맘 커플 사랑해 커플스타그램 부부스타그램 줌마그램 아들스타그램 신혼부부 신혼 가족\n"
     ]
    }
   ],
   "source": [
    "pf.display_topics(lda_model11, cnt_feature_names11, 20)"
   ]
  },
  {
   "cell_type": "code",
   "execution_count": 15,
   "metadata": {},
   "outputs": [
    {
     "name": "stdout",
     "output_type": "stream",
     "text": [
      "Topic 0:\n",
      "멍스타그램 반려견 강아지 개스타그램 냥스타그램 dog 댕댕이 고양이 펫스타그램 bts いいね返し kpop 견스타그램 독스타그램 puppy dogstagram pet korea cat お洒落さんと繋がりたい\n",
      "Topic 1:\n",
      "여행에미치다 여행스타그램 여행 travel 휴가 럽스타그램 photography 일본 바다 korea 추억 예신 아이폰케이스 결혼준비 웨딩 웨딩촬영 trip seoul 결혼 photo\n",
      "Topic 2:\n",
      "일상 맞팔 소통 데일리 선팔 셀스타그램 좋아요 셀카 셀피 럽스타그램 팔로우 먹스타그램 daily 얼스타그램 일상스타그램 인친 선팔하면맞팔 오오티디 ootd selfie\n",
      "Topic 3:\n",
      "골프 차스타그램 직장인 타투 카지노 주식 로또 자동차 토토 카지노추천 온라인카지노 등산 낚시 마카오 뉴스킨 반영구 피부관리 벤츠 모바일카지노 눈썹문신\n",
      "Topic 4:\n",
      "맥주스타그램 맥주 술스타그램 beer 수제맥주 beerstagram 혼술 크래프트비어 craftbeer 화이팅 생맥주 맥덕 하이트 맥스타그램 혼맥 야구 하이트엑스트라콜드 야구스타그램 엑스트라콜드 한정판\n",
      "Topic 5:\n",
      "꽃스타그램 꽃다발 flower flowers 플로리스트 플라워레슨 원데이클래스 florist 꽃바구니 꽃집 플라워클래스 꽃선물 장미 아침식사 드라이플라워 flowerlesson 플라워 춘천 라이프스타일 flowershop\n",
      "Topic 6:\n",
      "홍대맛집 강남맛집 상품권 소액 카드깡 서울맛집 소액결제 소액결제현금화 상품권현금화 신용카드현금화 정보이용료현금화 곱창 강남 강남역 급전 정보이용료 소액대출 비트코인 당일대출 구글정보이용료\n",
      "Topic 7:\n",
      "먹스타그램 먹방 맛스타그램 맛집 남친이랑 food 점심 서울맛집 먹스타 데이트 instafood foodstagram 먹방스타그램 먹부림 디저트 푸드스타그램 존맛 음식 맛있다 맛스타\n",
      "Topic 8:\n",
      "토토사이트추천 겐조 샤넬 핫플레이스 럽스타 구찌 에르메스 서울맛집 발렌티노 프라다 커플 운동하는남자 술스타그램 토토사이트 팔찌 스포츠가족방 픽스터가족방 파워볼가족방 사설사이트추천 사다리가족방\n",
      "Topic 9:\n",
      "제주도 운동하는여자 부산맛집 제주도맛집 다이어트 제주맛집 f4follow 선팔맞팔 소통해요 대구맛집 소통하자 대전맛집 맥주스타그램 다이어터 제주여행 서귀포맛집 서울맛집 다이어트식단 운동하는남자 운동\n",
      "Topic 10:\n",
      "럽스타그램 육아소통 육아스타그램 맘스타그램 육아 육아맘 딸스타그램 젊줌마 인스타베이비 애스타그램 커플 도치맘 사랑해 커플스타그램 부부스타그램 줌마그램 아들스타그램 신혼부부 신혼 일상\n",
      "Topic 11:\n",
      "직장인 선물 글귀 취미 글스타그램 감성 사랑 용인 공감 기념일 귀걸이 인천 핸드메이드 성남 일러스트 그림 생일선물 악세사리 art 독서\n"
     ]
    }
   ],
   "source": [
    "pf.display_topics(lda_model12, cnt_feature_names, 20)"
   ]
  },
  {
   "cell_type": "code",
   "execution_count": 13,
   "metadata": {},
   "outputs": [
    {
     "name": "stdout",
     "output_type": "stream",
     "text": [
      "Topic 0:\n",
      "korea 일본 한국 bts kpop seoul 韓国 방탄소년단 japan 일본여행 korean jungkook exo jimin 오사카 귀여운 jhope jin suga army\n",
      "Topic 1:\n",
      "속초 전주 대만여행 대만 전주한옥마을 미용실 친구해요 3박4일 힐링여행 염색 여수여행 hiphop 타이페이여행 pop instamusic rap musica nickiminaj beyoncé childishgambino\n",
      "Topic 2:\n",
      "이벤트 맛집 첫줄안녕 축구 야구 상품권 소액 안전공원 스포츠 스포츠토토 카드깡 소액결제 소액결제현금화 안전놀이터 메이저놀이터 홍대맛집 검증놀이터 상품권현금화 조건만남 love\n",
      "Topic 3:\n",
      "일상 맞팔 소통 데일리 선팔 셀스타그램 좋아요 셀카 셀피 럽스타그램 팔로우 먹스타그램 daily 얼스타그램 일상스타그램 인친 선팔하면맞팔 오오티디 ootd selfie\n",
      "Topic 4:\n",
      "술스타그램 토토사이트추천 럽스타 술안주 운동하는남자 토토사이트 스포츠가족방 사다리가족방 다리다리가족방 픽스터가족방 파워볼가족방 프로토가족방 사설사이트추천 사설사이트 일상스냅 육아템 selfcam 당첨 가족방 숙소\n",
      "Topic 5:\n",
      "귀걸이 악세사리 커플링 목걸이 쥬얼리 반지 뉴스킨 피부관리 브랜드 이어링 여친선물 드롭귀걸이 귀걸이추천 주얼리 핸드메이드 귀찌 갈바닉 생활 루미스파 다이아몬드\n",
      "Topic 6:\n",
      "맥주스타그램 맥주 제주도 제주도맛집 제주맛집 f4follow beer 선팔맞팔 소통해요 소통하자 제주여행 서귀포맛집 제주 술스타그램 제주맛집추천 제주도그램 제주서귀포맛집 수제맥주 제주도여행 좋아\n",
      "Topic 7:\n",
      "직장인 남친이랑 데이트 행복 사랑 다이어트 운동하는여자 럽스타 커플 럽스타그램 사랑해 남자친구 직장인스타그램 냥스타그램 연애중 운동 공감 연애 고양이 영화\n",
      "Topic 8:\n",
      "선물 아이폰케이스 생일 폰케이스 꽃스타그램 기념일 용인 커플케이스 아이폰8 아이폰7케이스 아이폰x케이스 아이폰x 생일선물 꽃다발 아이폰8케이스 핸드폰케이스 flower 원데이클래스 갤럭시케이스 성남\n",
      "Topic 9:\n",
      "서울맛집 겐조 샤넬 핫플레이스 구찌 에르메스 발렌티노 커플 프라다 팔찌 강남역 강남맛집 까르띠에 펜디 강남 몽블랑 불가리 막스마라 남여 보태가베네타\n",
      "Topic 10:\n",
      "여행에미치다 여행스타그램 travel 멍스타그램 여행 반려견 럽스타그램 강아지 개스타그램 photography dog 댕댕이 예신 결혼준비 웨딩 웨딩촬영 trip 펫스타그램 결혼 photo\n",
      "Topic 11:\n",
      "먹스타그램 먹방 맛스타그램 맛집 food 서울맛집 점심 먹스타 instafood foodstagram 먹방스타그램 먹부림 음식 푸드스타그램 부산맛집 디저트 맛스타 맛있다 존맛 맛있다그램\n",
      "Topic 12:\n",
      "럽스타그램 육아소통 육아스타그램 맘스타그램 육아 육아맘 딸스타그램 젊줌마 인스타베이비 애스타그램 도치맘 부부스타그램 줌마그램 커플 커플스타그램 아들스타그램 신혼부부 사랑해 신혼 가족\n"
     ]
    }
   ],
   "source": [
    "pf.display_topics(lda_model13, cnt_feature_names13, 20)"
   ]
  },
  {
   "cell_type": "code",
   "execution_count": 14,
   "metadata": {},
   "outputs": [
    {
     "name": "stdout",
     "output_type": "stream",
     "text": [
      "Topic 0:\n",
      "제주도 부산맛집 제주도맛집 제주맛집 f4follow 선팔맞팔 소통해요 소통하자 아이폰케이스 대전맛집 맥주스타그램 제주여행 대구맛집 서귀포맛집 서울맛집 서면맛집 제주맛집추천 폰케이스 제주도그램 제주서귀포맛집\n",
      "Topic 1:\n",
      "MustafaCeceli nefesimceceli antalyamcfc 영덕 MCVeMelekleri MCveMelekleri 동해맛집 삼척맛집 대게맛집 beautystagram 대게스타그램 강구항 삼척데이트 banilaco 삼척여행 영덕대게맛집 강구항맛집 강구항대게 뜰인더그릴 삼척맛집뜰인더야외포차짱\n",
      "Topic 2:\n",
      "토토사이트추천 겐조 샤넬 핫플레이스 럽스타 서울맛집 운동하는남자 구찌 에르메스 발렌티노 커플 프라다 팔찌 토토사이트 술안주 스포츠가족방 파워볼가족방 사다리가족방 사설사이트추천 프로토가족방\n",
      "Topic 3:\n",
      "일상 맞팔 소통 데일리 선팔 셀스타그램 좋아요 셀카 셀피 럽스타그램 팔로우 먹스타그램 daily 얼스타그램 일상스타그램 인친 선팔하면맞팔 오오티디 ootd selfie\n",
      "Topic 4:\n",
      "햄스터 비숑프리제분양 hamster 햄스타그램 골든햄스터 hamsta goldenhamster 햄스타 hamstagram 시리안햄스터 syrianhamster 별내 공릉 소원 석계역 석계 별내맛집 애견분양 나는야 석계역애견미용\n",
      "Topic 5:\n",
      "맥주스타그램 술스타그램 맥주 beer 수제맥주 혼술 영화 소주 글귀 글스타그램 치맥 공감 맥주한잔 사랑 소맥 화이팅 술집 beerstagram 일러스트 크래프트비어\n",
      "Topic 6:\n",
      "멍스타그램 반려견 강아지 개스타그램 냥스타그램 선물 dog 댕댕이 고양이 펫스타그램 견스타그램 독스타그램 puppy dogstagram pet 꽃스타그램 kpop 화장품 cat 말티즈\n",
      "Topic 7:\n",
      "남친이랑 여행에미치다 여행스타그램 여행 럽스타그램 데이트 travel 휴가 korea photography 일본 바다 추억 감성사진 예신 힐링 결혼준비 웨딩 웨딩촬영 trip\n",
      "Topic 8:\n",
      "먹스타그램 먹방 맛스타그램 맛집 food 점심 서울맛집 먹스타 직장인 instafood foodstagram 먹방스타그램 먹부림 음식 디저트 푸드스타그램 다이어트 맛있다 맛스타 존맛\n",
      "Topic 9:\n",
      "이벤트 첫줄안녕 강남맛집 축구 맛집 홍대맛집 상품권 야구 소액 안전공원 카드깡 스포츠 스포츠토토 서울맛집 소액결제 소액결제현금화 안전놀이터 메이저놀이터 검증놀이터 상품권현금화\n",
      "Topic 10:\n",
      "용인 반영구 뉴스킨 피부관리 눈썹문신 자연눈썹 승무원 미용실 취준생 네일 갈바닉 염색 루미스파 반영구수강 부천 hair 눈썹반영구 속눈썹 왁싱 남자눈썹\n",
      "Topic 11:\n",
      "전주 전주한옥마을 장거리 여보 한일커플 대화 日韓カップル hiphop pop instamusic rap nickiminaj musica childishgambino beyoncé popart reggaeton musically cardib rhianna\n",
      "Topic 12:\n",
      "대부도 송탄 성남애견미용 짖어야개다 하하 대부도맛집 수능 평택 대부도칼국수 대부도칼국수맛집 성남애견호텔 성남애견유치원 대부도여행 guitar 랍스터 music musician buray 해물칼국수 yaz\n",
      "Topic 13:\n",
      "럽스타그램 육아소통 육아스타그램 맘스타그램 육아 육아맘 딸스타그램 젊줌마 인스타베이비 애스타그램 도치맘 커플 사랑해 커플스타그램 부부스타그램 줌마그램 아들스타그램 신혼부부 신혼 가족\n"
     ]
    }
   ],
   "source": [
    "pf.display_topics(lda_model14, cnt_feature_names14, 20)"
   ]
  },
  {
   "cell_type": "code",
   "execution_count": 32,
   "metadata": {},
   "outputs": [],
   "source": [
    "lda_model12 = lda_model"
   ]
  },
  {
   "cell_type": "code",
   "execution_count": 38,
   "metadata": {},
   "outputs": [],
   "source": [
    "x_train = get_x_train_and_features_name(X_train)"
   ]
  },
  {
   "cell_type": "code",
   "execution_count": 35,
   "metadata": {
    "scrolled": true
   },
   "outputs": [
    {
     "name": "stdout",
     "output_type": "stream",
     "text": [
      "Topic 0:\n",
      "여행에미치다 여행스타그램 여행 travel korea photography photo 일본 seoul 냥스타그램 감성사진 감성 trip 한국 취미 풍경 고양이 스냅 사랑 여행그램\n",
      "Topic 1:\n",
      "일상 맞팔 데일리 소통 선팔 셀스타그램 좋아요 셀카 셀피 팔로우 daily 먹스타그램 얼스타그램 일상스타그램 선팔하면맞팔 오오티디 인친 좋아요반사 럽스타그램 ootd\n",
      "Topic 2:\n",
      "제주도 제주도맛집 제주맛집 선팔맞팔 제주 소통해요 서귀포맛집 f4follow 제주여행 소통하자 제주맛집추천 제주도그램 제주서귀포맛집 좋아 제주도여행 평일 맥주스타그램 휴일 인스타감성 제주도흑돼지맛집\n",
      "Topic 3:\n",
      "맥주스타그램 술스타그램 맥주 토토사이트추천 술안주 럽스타 토토사이트 스포츠가족방 다리다리가족방 파워볼가족방 사다리가족방 프로토가족방 사설사이트추천 픽스터가족방 사설사이트 운동하는남자 일상스냅 beer selfcam 육아템\n",
      "Topic 4:\n",
      "남친이랑 데이트 럽스타그램 럽스타 휴가 커플 사랑해 커플스타그램 행복 남자친구 여름휴가 영화 연애중 연애 남친 고마워 사랑꾼 힐링 ㅋㅋㅋ 화이팅\n",
      "Topic 5:\n",
      "bts kpop 방탄소년단 jungkook jimin exo jhope korea jin 귀여운 suga army bangtanboys taehyung blackpink 여자 kimtaehyung BTS jeonjungkook rm\n",
      "Topic 6:\n",
      "서울맛집 강남맛집 강남 강남역 신용카드현금화 곱창 카드깡 강남역맛집 역삼맛집 역삼동맛집 신논현맛집 대치동맛집 곱창맛집 상품권현금화 역삼동 서초맛집 양재맛집 서초동맛집 역삼역맛집 역삼역\n",
      "Topic 7:\n",
      "다이어트 운동하는여자 운동 헬스 다이어터 다이어트식단 운동하는남자 용인 diet 성남 이벤트 헬스타그램 다이어트그램 식단 Repost 필라테스 건강 fitness 몸스타그램 운스타그램\n",
      "Topic 8:\n",
      "반려견 멍스타그램 강아지 개스타그램 dog 댕댕이 펫스타그램 견스타그램 dogstagram 네일아트 puppy 독스타그램 pet 꽃스타그램 산책 포메 꽃다발 말티즈 푸들 젤네일\n",
      "Topic 9:\n",
      "먹스타그램 먹방 맛스타그램 맛집 서울맛집 food 점심 먹스타 instafood foodstagram 디저트 음식 먹방스타그램 먹부림 푸드스타그램 부산맛집 맛스타 맛있다 JMT 존맛\n",
      "Topic 10:\n",
      "럽스타그램 육아스타그램 육아 육아소통 육아맘 맘스타그램 도치맘 젊줌마 딸스타그램 인스타베이비 애스타그램 일상 아들스타그램 아들맘 사랑해 직장인 겐조 커플 세젤귀 워킹맘\n"
     ]
    }
   ],
   "source": [
    "pf.display_topics(lda_model11, cnt_feature_names11, 20)"
   ]
  },
  {
   "cell_type": "code",
   "execution_count": 34,
   "metadata": {
    "scrolled": true
   },
   "outputs": [
    {
     "name": "stdout",
     "output_type": "stream",
     "text": [
      "Topic 0:\n",
      "일상 맞팔 소통 데일리 선팔 셀스타그램 좋아요 셀카 셀피 팔로우 먹스타그램 daily 얼스타그램 일상스타그램 선팔하면맞팔 오오티디 인친 럽스타그램 좋아요반사 ootd\n",
      "Topic 1:\n",
      "여행에미치다 여행스타그램 여행 travel 휴가 바다 photography 여름휴가 감성사진 일본 trip 풍경 웨딩 럽스타그램 힐링 photo 스냅 예신 웨딩촬영 결혼\n",
      "Topic 2:\n",
      "럽스타그램 육아스타그램 육아 육아소통 육아맘 맘스타그램 사랑해 도치맘 젊줌마 딸스타그램 직장인 인스타베이비 애스타그램 아들스타그램 일상 아들맘 세젤귀 워킹맘 줌마그램 딸맘\n",
      "Topic 3:\n",
      "제주도 제주도맛집 제주맛집 f4follow 선팔맞팔 소통해요 제주 소통하자 서귀포맛집 제주여행 맥주스타그램 제주맛집추천 제주도그램 제주서귀포맛집 좋아 제주도여행 평일 휴일 인스타감성 제주도흑돼지맛집\n",
      "Topic 4:\n",
      "서울맛집 겐조 커플 샤넬 핫플레이스 구찌 에르메스 팔찌 발렌티노 대구맛집 프라다 부산맛집 까르띠에 펜디 골든구스 몽블랑 불가리 막스마라 서울여행 보태가베네타\n",
      "Topic 5:\n",
      "신용카드현금화 카드깡 상품권현금화 소액결제 소액결제현금화 모바일문화상품권 타투 굿핀 해피머니 컬쳐랜드 일수대출 신용카드대출 홍대맛집 모바 휴대폰소액결제 남친이랑 차스타그램 성남 핸드폰소액결제 빈티지\n",
      "Topic 6:\n",
      "강남맛집 곱창 강남역 서울맛집 강남 강남역맛집 역삼맛집 역삼동맛집 신논현맛집 대치동맛집 곱창맛집 역삼동 서초맛집 양재맛집 서초동맛집 역삼역맛집 역삼역 강남역맛집베스트10 양재역맛집 서초동곱창\n",
      "Topic 7:\n",
      "korea seoul 한국 kpop 韓国 사랑 art 그림 글스타그램 일러스트 bts 공감 글귀 beautiful korean いいね返し 생각 독서 exo 감성\n",
      "Topic 8:\n",
      "반려견 멍스타그램 강아지 개스타그램 냥스타그램 아이폰케이스 dog 댕댕이 고양이 펫스타그램 폰케이스 견스타그램 아이폰8 커플케이스 cat dogstagram 아이폰7케이스 아이폰x케이스 puppy 독스타그램\n",
      "Topic 9:\n",
      "토토사이트추천 다이어트 운동하는남자 럽스타 운동하는여자 술스타그램 토토사이트 스포츠가족방 사다리가족방 파워볼가족방 사설사이트추천 사설사이트 픽스터가족방 프로토가족방 다리다리가족방 술안주 일상스냅 selfcam 육아템 당첨\n",
      "Topic 10:\n",
      "먹스타그램 먹방 맛스타그램 맛집 남친이랑 맥주스타그램 food 점심 술스타그램 먹스타 맥주 instafood foodstagram 음식 데이트 먹방스타그램 존맛 먹부림 푸드스타그램 디저트\n",
      "Topic 11:\n",
      "선물 마카롱 취미 용인 기념일 생일 핸드메이드 귀걸이 생일선물 꽃스타그램 꽃다발 디저트 악세사리 원데이클래스 케이크 flower 커플링 여친선물 cake 마카롱맛집\n"
     ]
    }
   ],
   "source": [
    "pf.display_topics(lda_model12, cnt_feature_names, 20)"
   ]
  },
  {
   "cell_type": "code",
   "execution_count": 74,
   "metadata": {
    "scrolled": true
   },
   "outputs": [
    {
     "name": "stdout",
     "output_type": "stream",
     "text": [
      "Topic 0:\n",
      "먹스타그램 먹방 맛스타그램 일상 럽스타그램 맛집 직장인 육아스타그램 육아 육아소통 육아맘 food 맘스타그램 점심 도치맘 사랑해 젊줌마 딸스타그램 먹스타 인스타베이비\n",
      "Topic 1:\n",
      "축구 커플신발 푸마 해외직구 레플 아웃도어 헬스 커플운동화 나이키에어맥스 신발쇼핑몰 운동화할인 아식스 연예인골든구스 등산화 신발도매 신상신발 명품등산화 유행신발 GGDB 운동화도매\n",
      "Topic 2:\n",
      "속초 워터파크 속초맛집 그래도 속초여행 거제도맛집 거제맛집 꾸욱 속초중앙시장맛집 2018 당일치기여행 인친대환영 안산맛집 삼척맛집 캐리비안베이 클래식 속초대게맛집 원피스 속초중앙시장 대부도맛집\n",
      "Topic 3:\n",
      "제주도 제주도맛집 제주맛집 제주 서귀포맛집 제주여행 f4follow 선팔맞팔 제주맛집추천 소통해요 소통하자 제주도그램 제주서귀포맛집 맥주스타그램 제주도여행 제주도흑돼지맛집 제주흑돼지 제주도흑돼지 서귀포흑돼지맛집 서귀포흑돼지\n",
      "Topic 4:\n",
      "일상 맞팔 소통 데일리 선팔 셀스타그램 좋아요 셀카 셀피 팔로우 먹스타그램 얼스타그램 일상스타그램 daily 선팔하면맞팔 오오티디 인친 좋아요반사 럽스타그램 ootd\n",
      "Topic 5:\n",
      "강남맛집 곱창 강남역 강남 서울맛집 맛스타그램 강남역맛집 역삼맛집 역삼동맛집 신논현맛집 대치동맛집 곱창맛집 역삼동 서초맛집 양재맛집 서초동맛집 역삼역맛집 역삼역 강남역맛집베스트10 양재역맛집\n",
      "Topic 6:\n",
      "맥주스타그램 술스타그램 맥주 beer 혼술 치맥 수제맥주 소주 소맥 치킨 맥주한잔 술집 beerstagram 크래프트비어 맥주그램 존맛탱 낮술 생맥주 술스타 craftbeer\n",
      "Topic 7:\n",
      "뉴스킨 피부관리 갈바닉 루미스파 스킨케어 포천여행 전주한옥마을 홈케어 짖어야개다 포천카페 효자동맛집 햄스터 피부고민 포천이동갈비 성남애견미용 뉴스킨하세요 평일 180도 물광피부 2018년\n",
      "Topic 8:\n",
      "여행에미치다 여행 여행스타그램 travel 휴가 korea photography 럽스타그램 일본 photo seoul 바다 여름휴가 한국 trip 감성사진 풍경 웨딩 스냅 예신\n",
      "Topic 9:\n",
      "남친이랑 서울맛집 데이트 부산맛집 핫플레이스 맛집투어 JMT 서울여행 대구맛집 럽스타그램 대전맛집 홍대맛집 선물 용산맛집 숙대맛집 남영동맛집 seoullife 카드깡 맛집골목 후암동맛집\n",
      "Topic 10:\n",
      "아이폰케이스 용인 폰케이스 아이폰8 성남 커플케이스 아이폰7케이스 아이폰x케이스 아이폰x 아이폰8케이스 이벤트 핸드폰케이스 갤럭시케이스 아이폰6케이스 아이폰7플러스케이스 아이폰8플러스케이스 아이폰7 판교 분당 케이스\n",
      "Topic 11:\n",
      "bts kpop 방탄소년단 jungkook jimin exo jhope jin 귀여운 suga army bangtanboys taehyung korea blackpink 여자 kimtaehyung BTS jeonjungkook rm\n",
      "Topic 12:\n",
      "토토사이트추천 겐조 운동하는남자 럽스타 샤넬 커플 구찌 팔찌 에르메스 토토사이트 발렌티노 술스타그램 스포츠가족방 사설사이트 사설사이트추천 파워볼가족방 프로토가족방 사다리가족방 픽스터가족방 다리다리가족방\n"
     ]
    }
   ],
   "source": [
    "pf.display_topics(lda_model13, cnt_feature_names13, 20)"
   ]
  },
  {
   "cell_type": "code",
   "execution_count": 72,
   "metadata": {
    "scrolled": true
   },
   "outputs": [
    {
     "name": "stdout",
     "output_type": "stream",
     "text": [
      "Topic 0:\n",
      "여행에미치다 여행스타그램 여행 travel 휴가 korea photography 일본 photo seoul 바다 감성사진 한국 trip 풍경 웨딩 럽스타그램 스냅 예신 결혼\n",
      "Topic 1:\n",
      "신용카드현금화 카드깡 상품권현금화 소액결제 소액결제현금화 모바일문화상품권 굿핀 해피머니 컬쳐랜드 신용카드대출 일수대출 모바 홍대맛집 휴대폰소액결제 차스타그램 핸드폰소액결제 빈티지 골프 상품권 비트코인\n",
      "Topic 2:\n",
      "다이어트 운동하는여자 다이어터 다이어트식단 용인 diet 다이어트그램 꽃다발 꽃스타그램 식단 헬스 flower 운동 운스타그램 fitness 플로리스트 유지어터 workout 운동하는남자 식단일기\n",
      "Topic 3:\n",
      "축구 헬스 커플신발 푸마 레플 해외직구 아웃도어 커플운동화 나이키에어맥스 신발쇼핑몰 신상신발 등산화 신발도매 명품등산화 유행신발 아디다스신발 GGDB 아식스 아디다스울트라부스트 NEWBALANCE\n",
      "Topic 4:\n",
      "kpop bts exo 귀여운 blackpink 여자 korea kawaii 아름다운 自撮り boy asmr korean 속초맛집 Asia jisoo kpopl4l tomboy селфи 自分撮り\n",
      "Topic 5:\n",
      "서울맛집 부산맛집 강남맛집 대구맛집 곱창 홍대맛집 강남역 강남역맛집 대전맛집 강남 맛스타그램 역삼맛집 이태원맛집 역삼동맛집 신논현맛집 대치동맛집 서면맛집 곱창맛집 역삼동 서초맛집\n",
      "Topic 6:\n",
      "남친이랑 데이트 커플 사랑해 럽스타 커플스타그램 남자친구 영화 연애중 연애 행복 남친 고마워 사랑꾼 ㅋㅋㅋ 행복해 데이트그램 사랑 여자친구 화이팅\n",
      "Topic 7:\n",
      "럽스타그램 육아 육아스타그램 육아소통 육아맘 맘스타그램 도치맘 일상 젊줌마 딸스타그램 인스타베이비 애스타그램 직장인 아들스타그램 사랑해 아들맘 세젤귀 반려견 워킹맘 멍스타그램\n",
      "Topic 8:\n",
      "토토사이트추천 겐조 샤넬 서울맛집 운동하는남자 럽스타 핫플레이스 커플 구찌 에르메스 술스타그램 토토사이트 발렌티노 팔찌 스포츠가족방 사설사이트추천 파워볼가족방 프로토가족방 픽스터가족방 사설사이트\n",
      "Topic 9:\n",
      "선물 직장인 아이폰케이스 냥스타그램 마카롱 취미 고양이 폰케이스 아이폰8 커플케이스 공감 그림 글스타그램 기념일 디저트 일러스트 아이폰7케이스 아이폰x케이스 글귀 귀걸이\n",
      "Topic 10:\n",
      "먹스타그램 먹방 맛스타그램 맛집 맥주스타그램 food 술스타그램 점심 먹스타 맥주 instafood foodstagram 먹방스타그램 음식 존맛 맛스타 먹부림 푸드스타그램 맛있다 디저트\n",
      "Topic 11:\n",
      "일상 맞팔 데일리 소통 선팔 셀스타그램 좋아요 셀카 셀피 팔로우 먹스타그램 daily 얼스타그램 일상스타그램 선팔하면맞팔 오오티디 럽스타그램 인친 좋아요반사 ootd\n",
      "Topic 12:\n",
      "제주도 제주도맛집 제주맛집 제주 서귀포맛집 제주여행 f4follow 선팔맞팔 제주맛집추천 소통해요 소통하자 제주도그램 제주서귀포맛집 맥주스타그램 제주도여행 제주도흑돼지맛집 제주흑돼지 제주도흑돼지 서귀포흑돼지맛집 서귀포흑돼지\n",
      "Topic 13:\n",
      "거제도맛집 거제맛집 포천여행 짖어야개다 평일 포천카페 햄스터 포천이동갈비 삼척맛집 성남애견미용 근무시간 스킨케어 포천맛집 거제대명리조트맛집 성남애견호텔 골든햄스터 살롱순라 햄스타그램 2018년 삼척여행\n"
     ]
    }
   ],
   "source": [
    "pf.display_topics(lda_model14, cnt_feature_names14, 20)"
   ]
  },
  {
   "cell_type": "code",
   "execution_count": 73,
   "metadata": {
    "scrolled": true
   },
   "outputs": [
    {
     "name": "stdout",
     "output_type": "stream",
     "text": [
      "Topic 0:\n",
      "직장인 서울맛집 강남맛집 강남 곱창 강남역 신용카드현금화 강남역맛집 카드깡 역삼맛집 역삼동맛집 아지트샵 신논현맛집 대치동맛집 곱창맛집 상품권현금화 역삼동 서초맛집 양재맛집 서초동맛집\n",
      "Topic 1:\n",
      "먹스타그램 먹방 맛스타그램 맛집 맥주스타그램 food 술스타그램 점심 먹스타 맥주 instafood foodstagram 먹방스타그램 음식 디저트 존맛 맛스타 먹부림 푸드스타그램 맛있다\n",
      "Topic 2:\n",
      "케이크토퍼 토퍼 짖어야개다 토퍼제작 생일토퍼 성남애견미용 여행토퍼 케이크번팅 성남애견호텔 생신토퍼 생신선물 hbd 성남애견유치원 백일토퍼 기념일토퍼 beautystagram banilaco 여행선물 결혼기념일토퍼 울산토퍼\n",
      "Topic 3:\n",
      "서울맛집 핫플레이스 부산맛집 맛집투어 대구맛집 JMT 서울여행 대전맛집 용산맛집 숙대맛집 남영동맛집 seoullife 맛집골목 후암동맛집 seoultravel youngsan 삼각지맛집 seouleats 서면맛집 신촌맛집\n",
      "Topic 4:\n",
      "asmr 아침식사 라이프스타일 mukbang 꾸욱 eatingshow 유튜브 첫줄안녕 tumblr 장미 eatingsounds 비지니스 스텔라코치 asmrfood asmreating 영양 먹기 Korean satisfying 열정\n",
      "Topic 5:\n",
      "우기 chomiyeon 소통해 InstaSize G_I_DLE GIDLE TFLers minnie yuqi likes4likes kpoplfl 여자아이들 TagsForLikes 영덕 miyeon cube CUBE 소연 MINNIE likesforlikesalways\n",
      "Topic 6:\n",
      "MustafaCeceli nefesimceceli antalyamcfc 햄스터 MCVeMelekleri MCveMelekleri 햄스타그램 골든햄스터 hamster music 시리안햄스터 햄스타 hamstagram hamsta syrianhamster goldenhamster 부천호빠 musician guitar 시흥호빠\n",
      "Topic 7:\n",
      "일상 맞팔 소통 데일리 선팔 셀스타그램 좋아요 셀카 셀피 팔로우 daily 먹스타그램 얼스타그램 일상스타그램 럽스타그램 선팔하면맞팔 오오티디 인친 좋아요반사 ootd\n",
      "Topic 8:\n",
      "선물 아이폰케이스 취미 마카롱 폰케이스 용인 생일 아이폰8 커플케이스 서울맛집 기념일 아이폰7케이스 아이폰x케이스 핸드메이드 귀걸이 생일선물 아이폰x 아이폰8케이스 꽃다발 악세사리\n",
      "Topic 9:\n",
      "다이어트 운동하는여자 운동 다이어터 다이어트식단 운동하는남자 헬스 diet 성남 Repost 헬스타그램 다이어트그램 식단 fitness 건강 필라테스 몸스타그램 이벤트 운스타그램 운동스타그램\n",
      "Topic 10:\n",
      "토토사이트추천 겐조 샤넬 럽스타 육아템 커플 술스타그램 구찌 에르메스 토토사이트 발렌티노 운동하는남자 팔찌 스포츠가족방 다리다리가족방 사설사이트 사다리가족방 파워볼가족방 프로토가족방 픽스터가족방\n",
      "Topic 11:\n",
      "글귀 공감 글스타그램 생각 사랑 독서 직장 감성 책스타그램 작가 음악 북스타그램 시스타그램 끄적끄적 예술 스트레스 수필 감정 자작시 직장인\n",
      "Topic 12:\n",
      "염색 헤어스타일 미용실 헤어디자이너 hair 컬러 두피케어 여자머리 두피 초대 현대아울렛가산점 독산동미용실 구로미용실 시흥사거리미용실 광명미용실 w몰 두피마사지 가산동미용실 탈모관리 곱슬교정\n",
      "Topic 13:\n",
      "축구 커플신발 아웃도어 해외직구 푸마 레플 커플운동화 쇼핑 나이키에어맥스 신발쇼핑몰 헬스 아식스 NEWBALANCE 연예인골든구스 아디다스울트라부스트 유행신발 신상신발 신발도매 GGDB 운동화도매\n",
      "Topic 14:\n",
      "럽스타그램 남친이랑 여행에미치다 여행 여행스타그램 커플 데이트 travel 제주도 korea 반려견 휴가 커플스타그램 멍스타그램 힐링 사랑해 럽스타 제주맛집 제주도맛집 강아지\n"
     ]
    }
   ],
   "source": [
    "pf.display_topics(lda_model15, cnt_feature_names15, 20)"
   ]
  },
  {
   "cell_type": "markdown",
   "metadata": {},
   "source": [
    "## Topic별 Top 20 키워드\n",
    "\n",
    "### Topic 0: 여행스타그램\n",
    "여행에미치다 여행스타그램 여행 travel 휴가 korea photography 일본 photo seoul 바다 감성사진 한국 trip 풍경 웨딩 럽스타그램 스냅 예신 결혼\n",
    "\n",
    "### Topic 1: 대출 광고\n",
    "신용카드현금화 카드깡 상품권현금화 소액결제 소액결제현금화 모바일문화상품권 굿핀 해피머니 컬쳐랜드 신용카드대출 일수대출 모바 홍대맛집 휴대폰소액결제 차스타그램 핸드폰소액결제 빈티지 골프 상품권 비트코인\n",
    "\n",
    "### Topic 2: 운동스타그램\n",
    "다이어트 운동하는여자 다이어터 다이어트식단 용인 diet 다이어트그램 꽃다발 꽃스타그램 식단 헬스 flower 운동 운스타그램 fitness 플로리스트 유지어터 workout 운동하는남자 식단일기\n",
    "\n",
    "### Topic 3: 신발 광고\n",
    "축구 헬스 커플신발 푸마 레플 해외직구 아웃도어 커플운동화 나이키에어맥스 신발쇼핑몰 신상신발 등산화 신발도매 명품등산화 유행신발 아디다스신발 GGDB 아식스 아디다스울트라부스트 NEWBALANCE\n",
    "\n",
    "### Topic 4: Kpop\n",
    "kpop bts exo 귀여운 blackpink 여자 korea kawaii 아름다운 自撮り boy asmr korean 속초맛집 Asia jisoo kpopl4l tomboy селфи 自分撮り\n",
    "\n",
    "### Topic 5: 서울 맛집\n",
    "서울맛집 부산맛집 강남맛집 대구맛집 곱창 홍대맛집 강남역 강남역맛집 대전맛집 강남 맛스타그램 역삼맛집 이태원맛집 역삼동맛집 신논현맛집 대치동맛집 서면맛집 곱창맛집 역삼동 서초맛집\n",
    "\n",
    "### Topic 6: 럽스타그램\n",
    "남친이랑 데이트 커플 사랑해 럽스타 커플스타그램 남자친구 영화 연애중 연애 행복 남친 고마워 사랑꾼 ㅋㅋㅋ 행복해 데이트그램 사랑 여자친구 화이팅\n",
    "\n",
    "### Topic 7: 육아스타그램\n",
    "럽스타그램 육아 육아스타그램 육아소통 육아맘 맘스타그램 도치맘 일상 젊줌마 딸스타그램 인스타베이비 애스타그램 직장인 아들스타그램 사랑해 아들맘 세젤귀 반려견 워킹맘 멍스타그램\n",
    "\n",
    "### Topic 8: 토토 등 사이트 및 명품 광고\n",
    "토토사이트추천 겐조 샤넬 서울맛집 운동하는남자 럽스타 핫플레이스 커플 구찌 에르메스 술스타그램 토토사이트 발렌티노 팔찌 스포츠가족방 사설사이트추천 파워볼가족방 프로토가족방 픽스터가족방 사설사이트\n",
    "\n",
    "### Topic 9: 폰케이스 광고\n",
    "선물 직장인 아이폰케이스 냥스타그램 마카롱 취미 고양이 폰케이스 아이폰8 커플케이스 공감 그림 글스타그램 기념일 디저트 일러스트 아이폰7케이스 아이폰x케이스 글귀 귀걸이\n",
    "\n",
    "### Topic 10: 먹스타그램\n",
    "먹스타그램 먹방 맛스타그램 맛집 맥주스타그램 food 술스타그램 점심 먹스타 맥주 instafood foodstagram 먹방스타그램 음식 존맛 맛스타 먹부림 푸드스타그램 맛있다 디저트\n",
    "\n",
    "### Topic 11: 일상적인 해시태그\n",
    "일상 맞팔 데일리 소통 선팔 셀스타그램 좋아요 셀카 셀피 팔로우 먹스타그램 daily 얼스타그램 일상스타그램 선팔하면맞팔 오오티디 럽스타그램 인친 좋아요반사 ootd\n",
    "\n",
    "### Topic 12: 제주도 맛집 광고\n",
    "제주도 제주도맛집 제주맛집 제주 서귀포맛집 제주여행 f4follow 선팔맞팔 제주맛집추천 소통해요 소통하자 제주도그램 제주서귀포맛집 맥주스타그램 제주도여행 제주도흑돼지맛집 제주흑돼지 제주도흑돼지 서귀포흑돼지맛집 서귀포흑돼지\n",
    "\n",
    "### Topic 13: 거제도 맛집?\n",
    "거제도맛집 거제맛집 포천여행 짖어야개다 평일 포천카페 햄스터 포천이동갈비 삼척맛집 성남애견미용 근무시간 스킨케어 포천맛집 거제대명리조트맛집 성남애견호텔 골든햄스터 살롱순라 햄스타그램 2018년 삼척여행\n",
    "\n",
    "### Topic 14: 반려견스타그램 (lda topic number = 12를 통해서 찾음, 해당 모델에선 topic 8)\n",
    "반려견 멍스타그램 강아지 개스타그램 냥스타그램 아이폰케이스 dog 댕댕이 고양이 펫스타그램 폰케이스 견스타그램 아이폰8 커플케이스 cat dogstagram 아이폰7케이스 아이폰x케이스 puppy 독스타그램\n",
    "\n",
    "### Topic 15: 맥주스타그램 및 치맥 (lda topic number = 13을 통해서 찾음, 해당 모델에선 topic 6)\n",
    "맥주스타그램 술스타그램 맥주 beer 혼술 치맥 수제맥주 소주 소맥 치킨 맥주한잔 술집 beerstagram 크래프트비어 맥주그램 존맛탱 낮술 생맥주 술스타 craftbeer"
   ]
  },
  {
   "cell_type": "code",
   "execution_count": 94,
   "metadata": {},
   "outputs": [],
   "source": [
    "def get_topic_using_lda(lda_model, x_train):\n",
    "    doc_topic_dist_unnormalized = np.matrix(lda_model.transform(x_train))\n",
    "    # normalize the distribution (only needed if you want to work with the probabilities)\n",
    "    doc_topic_dist = doc_topic_dist_unnormalized/doc_topic_dist_unnormalized.sum(axis=1)\n",
    "    return doc_topic_dist.argmax(axis=1)"
   ]
  },
  {
   "cell_type": "code",
   "execution_count": 95,
   "metadata": {},
   "outputs": [
    {
     "data": {
      "text/plain": [
       "<38791x100222 sparse matrix of type '<class 'numpy.int64'>'\n",
       "\twith 800194 stored elements in Compressed Sparse Row format>"
      ]
     },
     "execution_count": 95,
     "metadata": {},
     "output_type": "execute_result"
    }
   ],
   "source": [
    "x_train"
   ]
  },
  {
   "cell_type": "code",
   "execution_count": 96,
   "metadata": {},
   "outputs": [],
   "source": [
    "y_pred = get_topic_using_lda(lda_model13, x_train)"
   ]
  },
  {
   "cell_type": "code",
   "execution_count": 88,
   "metadata": {},
   "outputs": [],
   "source": [
    "df_train_ = df_train[df_train[\"tags_str\"] != \"\"]"
   ]
  },
  {
   "cell_type": "code",
   "execution_count": 98,
   "metadata": {},
   "outputs": [],
   "source": [
    "df_train_[\"topic_type_13\"] = y_pred"
   ]
  },
  {
   "cell_type": "code",
   "execution_count": 99,
   "metadata": {},
   "outputs": [],
   "source": [
    "y_pred = get_topic_using_lda(lda_model12, x_train)"
   ]
  },
  {
   "cell_type": "code",
   "execution_count": 100,
   "metadata": {},
   "outputs": [],
   "source": [
    "df_train_[\"topic_type_12\"] = y_pred"
   ]
  },
  {
   "cell_type": "code",
   "execution_count": 101,
   "metadata": {},
   "outputs": [],
   "source": [
    "df_train_ = df_train_.reset_index(drop=True)"
   ]
  },
  {
   "cell_type": "code",
   "execution_count": 57,
   "metadata": {},
   "outputs": [],
   "source": [
    "def model_test(test_list, lda_model):\n",
    "    test_ = cnt_vectorizer14.transform(test_list)\n",
    "    doc_topic_dist_unnormalized = np.matrix(lda_model.transform(test_))\n",
    "    doc_topic_dist = doc_topic_dist_unnormalized/doc_topic_dist_unnormalized.sum(axis=1)\n",
    "    print(doc_topic_dist.argmax(axis=1))\n",
    "    return doc_topic_dist.argmax(axis=1)"
   ]
  },
  {
   "cell_type": "code",
   "execution_count": 124,
   "metadata": {},
   "outputs": [
    {
     "data": {
      "text/plain": [
       "((1432, 24), (951, 24))"
      ]
     },
     "execution_count": 124,
     "metadata": {},
     "output_type": "execute_result"
    }
   ],
   "source": [
    "df_train_[df_train_.topic_type_13 == 6].shape, df_train_[df_train_.topic_type_12 == 8].shape"
   ]
  },
  {
   "cell_type": "code",
   "execution_count": 109,
   "metadata": {},
   "outputs": [],
   "source": [
    "df_train_[\"target\"] = df_train_[\"topic_type\"]"
   ]
  },
  {
   "cell_type": "code",
   "execution_count": 116,
   "metadata": {},
   "outputs": [],
   "source": [
    "index_8 = df_train_[df_train_.topic_type_12 == 8].index\n",
    "index_6 = df_train_[df_train_.topic_type_13 == 6].index"
   ]
  },
  {
   "cell_type": "code",
   "execution_count": 125,
   "metadata": {},
   "outputs": [
    {
     "data": {
      "text/plain": [
       "(951,)"
      ]
     },
     "execution_count": 125,
     "metadata": {},
     "output_type": "execute_result"
    }
   ],
   "source": [
    "index_8.shape"
   ]
  },
  {
   "cell_type": "code",
   "execution_count": 126,
   "metadata": {},
   "outputs": [],
   "source": [
    "df_train_.at[index_8, \"target\"] = 14"
   ]
  },
  {
   "cell_type": "code",
   "execution_count": 117,
   "metadata": {},
   "outputs": [],
   "source": [
    "df_train_.at[index_8, \"target\"] = 14\n",
    "df_train_.at[index_6, \"target\"] = 15"
   ]
  },
  {
   "cell_type": "code",
   "execution_count": 128,
   "metadata": {},
   "outputs": [
    {
     "data": {
      "text/plain": [
       "(1421, 24)"
      ]
     },
     "execution_count": 128,
     "metadata": {},
     "output_type": "execute_result"
    }
   ],
   "source": [
    "df_train_[df_train_[\"target\"] == 15].shape"
   ]
  },
  {
   "cell_type": "code",
   "execution_count": 118,
   "metadata": {},
   "outputs": [
    {
     "data": {
      "text/plain": [
       "[0, 1, 2, 3, 4, 5, 6, 7, 8, 9, 10, 11, 12, 13, 14, 15]"
      ]
     },
     "execution_count": 118,
     "metadata": {},
     "output_type": "execute_result"
    }
   ],
   "source": [
    "sorted(df_train_[\"target\"].unique())"
   ]
  },
  {
   "cell_type": "code",
   "execution_count": 119,
   "metadata": {},
   "outputs": [
    {
     "data": {
      "text/html": [
       "<div>\n",
       "<style scoped>\n",
       "    .dataframe tbody tr th:only-of-type {\n",
       "        vertical-align: middle;\n",
       "    }\n",
       "\n",
       "    .dataframe tbody tr th {\n",
       "        vertical-align: top;\n",
       "    }\n",
       "\n",
       "    .dataframe thead th {\n",
       "        text-align: right;\n",
       "    }\n",
       "</style>\n",
       "<table border=\"1\" class=\"dataframe\">\n",
       "  <thead>\n",
       "    <tr style=\"text-align: right;\">\n",
       "      <th></th>\n",
       "      <th>caption</th>\n",
       "      <th>comment_cnt</th>\n",
       "      <th>first_comment</th>\n",
       "      <th>id</th>\n",
       "      <th>is_video</th>\n",
       "      <th>likes</th>\n",
       "      <th>loc_id</th>\n",
       "      <th>loc_lat</th>\n",
       "      <th>loc_lon</th>\n",
       "      <th>loc_name</th>\n",
       "      <th>...</th>\n",
       "      <th>video_view_count</th>\n",
       "      <th>tags</th>\n",
       "      <th>tags_cnt</th>\n",
       "      <th>caption_only</th>\n",
       "      <th>tags_str</th>\n",
       "      <th>duplicated_tag</th>\n",
       "      <th>topic_type</th>\n",
       "      <th>topic_type_13</th>\n",
       "      <th>topic_type_12</th>\n",
       "      <th>target</th>\n",
       "    </tr>\n",
       "  </thead>\n",
       "  <tbody>\n",
       "    <tr>\n",
       "      <th>0</th>\n",
       "      <td>기다리고 기다리던 clique 18FW 가을 슬링백, 4차까지 수정을 하느라 커밍쑨...</td>\n",
       "      <td>1.0</td>\n",
       "      <td>#데일리#일상#소통#맞팔#패션#슈스타그램#구두#운동하는여자#셀카#직장인#직딩#데일리...</td>\n",
       "      <td>1857900177048070682</td>\n",
       "      <td>False</td>\n",
       "      <td>7.0</td>\n",
       "      <td>0</td>\n",
       "      <td>0.0</td>\n",
       "      <td>0.0</td>\n",
       "      <td>NaN</td>\n",
       "      <td>...</td>\n",
       "      <td>0.0</td>\n",
       "      <td>[데일리, 일상, 소통, 맞팔, 패션, 슈스타그램, 구두, 운동하는여자, 셀카, 직...</td>\n",
       "      <td>26</td>\n",
       "      <td>기다리고 기다리던 clique 18FW 가을 슬링백, 4차까지 수정을 하느라 커밍쑨...</td>\n",
       "      <td>데일리 일상 소통 맞팔 패션 슈스타그램 구두 운동하는여자 셀카 직장인 직딩 데일리룩...</td>\n",
       "      <td>0</td>\n",
       "      <td>11</td>\n",
       "      <td>4</td>\n",
       "      <td>0</td>\n",
       "      <td>11</td>\n",
       "    </tr>\n",
       "    <tr>\n",
       "      <th>1</th>\n",
       "      <td>돈 아껴씁시다!!!!!</td>\n",
       "      <td>1.0</td>\n",
       "      <td>#산책#산책냥#산책중#산책길#산책로#줌마스타그램#젊줌마#퇴근하고싶다#준비#일#일스타...</td>\n",
       "      <td>1857900725409995033</td>\n",
       "      <td>False</td>\n",
       "      <td>4.0</td>\n",
       "      <td>0</td>\n",
       "      <td>0.0</td>\n",
       "      <td>0.0</td>\n",
       "      <td>NaN</td>\n",
       "      <td>...</td>\n",
       "      <td>0.0</td>\n",
       "      <td>[산책, 산책냥, 산책중, 산책길, 산책로, 줌마스타그램, 젊줌마, 퇴근하고싶다, ...</td>\n",
       "      <td>29</td>\n",
       "      <td>돈 아껴씁시다!!!!!</td>\n",
       "      <td>산책 산책냥 산책중 산책길 산책로 줌마스타그램 젊줌마 퇴근하고싶다 준비 일 일스타그...</td>\n",
       "      <td>0</td>\n",
       "      <td>7</td>\n",
       "      <td>0</td>\n",
       "      <td>2</td>\n",
       "      <td>7</td>\n",
       "    </tr>\n",
       "    <tr>\n",
       "      <th>2</th>\n",
       "      <td>#끄적끄적#내생각#짧은글#짧은시#공감#감성#직장인#그지같은상사#무책임#꺼져주라</td>\n",
       "      <td>0.0</td>\n",
       "      <td>NaN</td>\n",
       "      <td>1857900316684967123</td>\n",
       "      <td>False</td>\n",
       "      <td>6.0</td>\n",
       "      <td>0</td>\n",
       "      <td>0.0</td>\n",
       "      <td>0.0</td>\n",
       "      <td>NaN</td>\n",
       "      <td>...</td>\n",
       "      <td>0.0</td>\n",
       "      <td>[끄적끄적, 내생각, 짧은글, 짧은시, 공감, 감성, 직장인, 그지같은상사, 무책임...</td>\n",
       "      <td>10</td>\n",
       "      <td></td>\n",
       "      <td>끄적끄적 내생각 짧은글 짧은시 공감 감성 직장인 그지같은상사 무책임 꺼져주라</td>\n",
       "      <td>0</td>\n",
       "      <td>9</td>\n",
       "      <td>9</td>\n",
       "      <td>7</td>\n",
       "      <td>9</td>\n",
       "    </tr>\n",
       "    <tr>\n",
       "      <th>3</th>\n",
       "      <td>재가입멘토1위의 주인공\\n오직 인스타 하나로\\n-\\n돈 잘버는 유명한 언니보다\\n돈...</td>\n",
       "      <td>0.0</td>\n",
       "      <td>NaN</td>\n",
       "      <td>1857900683954862254</td>\n",
       "      <td>False</td>\n",
       "      <td>1.0</td>\n",
       "      <td>0</td>\n",
       "      <td>0.0</td>\n",
       "      <td>0.0</td>\n",
       "      <td>NaN</td>\n",
       "      <td>...</td>\n",
       "      <td>0.0</td>\n",
       "      <td>[아지트샵문근주1등, 육아소통, 남매, 남매스타그램, 남매맘, 신혼, 신혼남매, 신...</td>\n",
       "      <td>30</td>\n",
       "      <td>재가입멘토1위의 주인공 오직 인스타 하나로 - 돈 잘버는 유명한 언니보다 돈 잘벌게...</td>\n",
       "      <td>아지트샵문근주1등 육아소통 남매 남매스타그램 남매맘 신혼 신혼남매 신혼일상 아지트샵...</td>\n",
       "      <td>0</td>\n",
       "      <td>7</td>\n",
       "      <td>0</td>\n",
       "      <td>2</td>\n",
       "      <td>7</td>\n",
       "    </tr>\n",
       "    <tr>\n",
       "      <th>4</th>\n",
       "      <td>마취가 5시간째 안풀린다 .......................🤦🏻‍♀️</td>\n",
       "      <td>1.0</td>\n",
       "      <td>#소통 #소통해요 #데일리 #선팔 #선팔하면맞팔 #선팔맞팔 #팔로우미 #셀스타그램 ...</td>\n",
       "      <td>1857900270328085783</td>\n",
       "      <td>False</td>\n",
       "      <td>21.0</td>\n",
       "      <td>0</td>\n",
       "      <td>0.0</td>\n",
       "      <td>0.0</td>\n",
       "      <td>NaN</td>\n",
       "      <td>...</td>\n",
       "      <td>0.0</td>\n",
       "      <td>[소통, 소통해요, 데일리, 선팔, 선팔하면맞팔, 선팔맞팔, 팔로우미, 셀스타그램,...</td>\n",
       "      <td>28</td>\n",
       "      <td>마취가 5시간째 안풀린다 .......................🤦‍♀️</td>\n",
       "      <td>소통 소통해요 데일리 선팔 선팔하면맞팔 선팔맞팔 팔로우미 셀스타그램 얼스타그램 좋아...</td>\n",
       "      <td>0</td>\n",
       "      <td>11</td>\n",
       "      <td>4</td>\n",
       "      <td>0</td>\n",
       "      <td>11</td>\n",
       "    </tr>\n",
       "  </tbody>\n",
       "</table>\n",
       "<p>5 rows × 24 columns</p>\n",
       "</div>"
      ],
      "text/plain": [
       "                                             caption  comment_cnt  \\\n",
       "0  기다리고 기다리던 clique 18FW 가을 슬링백, 4차까지 수정을 하느라 커밍쑨...          1.0   \n",
       "1                                       돈 아껴씁시다!!!!!          1.0   \n",
       "2        #끄적끄적#내생각#짧은글#짧은시#공감#감성#직장인#그지같은상사#무책임#꺼져주라          0.0   \n",
       "3  재가입멘토1위의 주인공\\n오직 인스타 하나로\\n-\\n돈 잘버는 유명한 언니보다\\n돈...          0.0   \n",
       "4         마취가 5시간째 안풀린다 .......................🤦🏻‍♀️          1.0   \n",
       "\n",
       "                                       first_comment                   id  \\\n",
       "0  #데일리#일상#소통#맞팔#패션#슈스타그램#구두#운동하는여자#셀카#직장인#직딩#데일리...  1857900177048070682   \n",
       "1  #산책#산책냥#산책중#산책길#산책로#줌마스타그램#젊줌마#퇴근하고싶다#준비#일#일스타...  1857900725409995033   \n",
       "2                                                NaN  1857900316684967123   \n",
       "3                                                NaN  1857900683954862254   \n",
       "4  #소통 #소통해요 #데일리 #선팔 #선팔하면맞팔 #선팔맞팔 #팔로우미 #셀스타그램 ...  1857900270328085783   \n",
       "\n",
       "  is_video  likes  loc_id  loc_lat  loc_lon loc_name   ...    \\\n",
       "0    False    7.0       0      0.0      0.0      NaN   ...     \n",
       "1    False    4.0       0      0.0      0.0      NaN   ...     \n",
       "2    False    6.0       0      0.0      0.0      NaN   ...     \n",
       "3    False    1.0       0      0.0      0.0      NaN   ...     \n",
       "4    False   21.0       0      0.0      0.0      NaN   ...     \n",
       "\n",
       "   video_view_count                                               tags  \\\n",
       "0               0.0  [데일리, 일상, 소통, 맞팔, 패션, 슈스타그램, 구두, 운동하는여자, 셀카, 직...   \n",
       "1               0.0  [산책, 산책냥, 산책중, 산책길, 산책로, 줌마스타그램, 젊줌마, 퇴근하고싶다, ...   \n",
       "2               0.0  [끄적끄적, 내생각, 짧은글, 짧은시, 공감, 감성, 직장인, 그지같은상사, 무책임...   \n",
       "3               0.0  [아지트샵문근주1등, 육아소통, 남매, 남매스타그램, 남매맘, 신혼, 신혼남매, 신...   \n",
       "4               0.0  [소통, 소통해요, 데일리, 선팔, 선팔하면맞팔, 선팔맞팔, 팔로우미, 셀스타그램,...   \n",
       "\n",
       "  tags_cnt                                       caption_only  \\\n",
       "0       26  기다리고 기다리던 clique 18FW 가을 슬링백, 4차까지 수정을 하느라 커밍쑨...   \n",
       "1       29                                       돈 아껴씁시다!!!!!   \n",
       "2       10                                                      \n",
       "3       30  재가입멘토1위의 주인공 오직 인스타 하나로 - 돈 잘버는 유명한 언니보다 돈 잘벌게...   \n",
       "4       28          마취가 5시간째 안풀린다 .......................🤦‍♀️   \n",
       "\n",
       "                                            tags_str duplicated_tag  \\\n",
       "0  데일리 일상 소통 맞팔 패션 슈스타그램 구두 운동하는여자 셀카 직장인 직딩 데일리룩...              0   \n",
       "1  산책 산책냥 산책중 산책길 산책로 줌마스타그램 젊줌마 퇴근하고싶다 준비 일 일스타그...              0   \n",
       "2        끄적끄적 내생각 짧은글 짧은시 공감 감성 직장인 그지같은상사 무책임 꺼져주라               0   \n",
       "3  아지트샵문근주1등 육아소통 남매 남매스타그램 남매맘 신혼 신혼남매 신혼일상 아지트샵...              0   \n",
       "4  소통 소통해요 데일리 선팔 선팔하면맞팔 선팔맞팔 팔로우미 셀스타그램 얼스타그램 좋아...              0   \n",
       "\n",
       "   topic_type topic_type_13 topic_type_12  target  \n",
       "0          11             4             0      11  \n",
       "1           7             0             2       7  \n",
       "2           9             9             7       9  \n",
       "3           7             0             2       7  \n",
       "4          11             4             0      11  \n",
       "\n",
       "[5 rows x 24 columns]"
      ]
     },
     "execution_count": 119,
     "metadata": {},
     "output_type": "execute_result"
    }
   ],
   "source": [
    "df_train_.head()"
   ]
  },
  {
   "cell_type": "code",
   "execution_count": 130,
   "metadata": {},
   "outputs": [],
   "source": [
    "pf.saveDf(df_train_, \"df_train\")"
   ]
  },
  {
   "cell_type": "code",
   "execution_count": 134,
   "metadata": {},
   "outputs": [],
   "source": [
    "df_train_.to_pickle(\"asset/df_train.pkl\")"
   ]
  },
  {
   "cell_type": "code",
   "execution_count": null,
   "metadata": {},
   "outputs": [],
   "source": []
  }
 ],
 "metadata": {
  "kernelspec": {
   "display_name": "Python 3",
   "language": "python",
   "name": "python3"
  },
  "language_info": {
   "codemirror_mode": {
    "name": "ipython",
    "version": 3
   },
   "file_extension": ".py",
   "mimetype": "text/x-python",
   "name": "python",
   "nbconvert_exporter": "python",
   "pygments_lexer": "ipython3",
   "version": "3.6.5"
  }
 },
 "nbformat": 4,
 "nbformat_minor": 2
}
